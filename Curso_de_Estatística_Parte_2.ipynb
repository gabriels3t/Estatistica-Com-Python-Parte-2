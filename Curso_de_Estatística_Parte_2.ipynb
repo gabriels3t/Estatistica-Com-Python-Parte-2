{
 "cells": [
  {
   "cell_type": "markdown",
   "metadata": {
    "colab_type": "text",
    "id": "WvMflodMjQKe"
   },
   "source": [
    "***\n",
    "# <font color=green size=10>CURSO DE ESTATÍSTICA - PARTE 2</font>\n",
    "***"
   ]
  },
  {
   "cell_type": "markdown",
   "metadata": {
    "colab_type": "text",
    "id": "cVgsZ_E3jQKg"
   },
   "source": [
    "# <font color=green>1 CONHECENDO OS DADOS</font>\n",
    "***"
   ]
  },
  {
   "cell_type": "markdown",
   "metadata": {
    "colab_type": "text",
    "id": "TDjqYYNojQKh"
   },
   "source": [
    "## <font color=green>1.1 Dataset do projeto</font>\n",
    "***"
   ]
  },
  {
   "cell_type": "markdown",
   "metadata": {
    "colab_type": "text",
    "id": "iN1gIbaKjQKh"
   },
   "source": [
    "### Pesquisa Nacional por Amostra de Domicílios - 2015\n",
    "\n",
    "A **Pesquisa Nacional por Amostra de Domicílios - PNAD** investiga anualmente, de forma permanente, características gerais da população, de educação, trabalho, rendimento e habitação e outras, com periodicidade variável, de acordo com as necessidades de informação para o país, como as características sobre migração, fecundidade, nupcialidade, saúde, segurança alimentar, entre outros temas. O levantamento dessas estatísticas constitui, ao longo dos 49 anos de realização da pesquisa, um importante instrumento para formulação, validação e avaliação de políticas orientadas para o desenvolvimento socioeconômico e a melhoria das condições de vida no Brasil."
   ]
  },
  {
   "cell_type": "markdown",
   "metadata": {
    "colab_type": "text",
    "id": "U6V7br1RjQKi"
   },
   "source": [
    "### Fonte dos Dados\n",
    "\n",
    "https://ww2.ibge.gov.br/home/estatistica/populacao/trabalhoerendimento/pnad2015/microdados.shtm"
   ]
  },
  {
   "cell_type": "markdown",
   "metadata": {
    "colab_type": "text",
    "id": "r0Fe_qnzjQKj"
   },
   "source": [
    "### Variáveis utilizadas\n",
    "\n",
    "> ### Renda\n",
    "> ***\n",
    "\n",
    "Rendimento mensal do trabalho principal para pessoas de 10 anos ou mais de idade.\n",
    "\n",
    "> ### Idade\n",
    "> ***\n",
    "\n",
    "Idade do morador na data de referência em anos.\n",
    "\n",
    "> ### Altura (elaboração própria)\n",
    "> ***\n",
    "\n",
    "Altura do morador em metros.\n",
    "\n",
    "> ### UF\n",
    "> ***\n",
    "\n",
    "|Código|Descrição|\n",
    "|---|---|\n",
    "|11|Rondônia|\n",
    "|12|Acre|\n",
    "|13|Amazonas|\n",
    "|14|Roraima|\n",
    "|15|Pará|\n",
    "|16|Amapá|\n",
    "|17|Tocantins|\n",
    "|21|Maranhão|\n",
    "|22|Piauí|\n",
    "|23|Ceará|\n",
    "|24|Rio Grande do Norte|\n",
    "|25|Paraíba|\n",
    "|26|Pernambuco|\n",
    "|27|Alagoas|\n",
    "|28|Sergipe|\n",
    "|29|Bahia|\n",
    "|31|Minas Gerais|\n",
    "|32|Espírito Santo|\n",
    "|33|Rio de Janeiro|\n",
    "|35|São Paulo|\n",
    "|41|Paraná|\n",
    "|42|Santa Catarina|\n",
    "|43|Rio Grande do Sul|\n",
    "|50|Mato Grosso do Sul|\n",
    "|51|Mato Grosso|\n",
    "|52|Goiás|\n",
    "|53|Distrito Federal|\n",
    "\n",
    "> ### Sexo\t\n",
    "> ***\n",
    "\n",
    "|Código|Descrição|\n",
    "|---|---|\n",
    "|0|Masculino|\n",
    "|1|Feminino|\n",
    "\n",
    "> ### Anos de Estudo\n",
    "> ***\n",
    "\n",
    "|Código|Descrição|\n",
    "|---|---|\n",
    "|1|Sem instrução e menos de 1 ano|\n",
    "|2|1 ano|\n",
    "|3|2 anos|\n",
    "|4|3 anos|\n",
    "|5|4 anos|\n",
    "|6|5 anos|\n",
    "|7|6 anos|\n",
    "|8|7 anos|\n",
    "|9|8 anos|\n",
    "|10|9 anos|\n",
    "|11|10 anos|\n",
    "|12|11 anos|\n",
    "|13|12 anos|\n",
    "|14|13 anos|\n",
    "|15|14 anos|\n",
    "|16|15 anos ou mais|\n",
    "|17|Não determinados| \n",
    "||Não aplicável|\n",
    "\n",
    "> ### Cor\n",
    "> ***\n",
    "\n",
    "|Código|Descrição|\n",
    "|---|---|\n",
    "|0|Indígena|\n",
    "|2|Branca|\n",
    "|4|Preta|\n",
    "|6|Amarela|\n",
    "|8|Parda|\n",
    "|9|Sem declaração|"
   ]
  },
  {
   "cell_type": "markdown",
   "metadata": {
    "colab_type": "text",
    "id": "OK1IQH5cX7Gb"
   },
   "source": [
    "#### <font color='red'>Observação</font>\n",
    "***\n",
    "> Os seguintes tratamentos foram realizados nos dados originais:\n",
    "> 1. Foram eliminados os registros onde a **Renda** era inválida (999 999 999 999);\n",
    "> 2. Foram eliminados os registros onde a **Renda** era missing;\n",
    "> 3. Foram considerados somente os registros das **Pessoas de Referência** de cada domicílio (responsável pelo domicílio)."
   ]
  },
  {
   "cell_type": "markdown",
   "metadata": {
    "colab_type": "text",
    "id": "8Rw70V6ojQKk"
   },
   "source": [
    "### Importando pandas e lendo o dataset do projeto\n",
    "\n",
    "https://pandas.pydata.org/"
   ]
  },
  {
   "cell_type": "code",
   "execution_count": 83,
   "metadata": {
    "colab": {},
    "colab_type": "code",
    "id": "8QgOpE-wjQKl"
   },
   "outputs": [],
   "source": [
    "import pandas as pd \n",
    "import numpy as np \n"
   ]
  },
  {
   "cell_type": "code",
   "execution_count": 84,
   "metadata": {
    "colab": {},
    "colab_type": "code",
    "id": "ufRZ7TLwjQKo"
   },
   "outputs": [],
   "source": [
    "dados = pd.read_csv('dados.csv')\n"
   ]
  },
  {
   "cell_type": "code",
   "execution_count": 85,
   "metadata": {
    "colab": {
     "base_uri": "https://localhost:8080/",
     "height": 204
    },
    "colab_type": "code",
    "id": "GsC_WhLFjQKq",
    "outputId": "36b6565f-bb67-47b7-ea64-8d2695c60e6b",
    "scrolled": true
   },
   "outputs": [
    {
     "output_type": "execute_result",
     "data": {
      "text/plain": [
       "   UF  Sexo  Idade  Cor  Anos de Estudo  Renda    Altura\n",
       "0  11     0     23    8              12    800  1.603808\n",
       "1  11     1     23    2              12   1150  1.739790\n",
       "2  11     1     35    8              15    880  1.760444\n",
       "3  11     0     46    2               6   3500  1.783158\n",
       "4  11     1     47    8               9    150  1.690631"
      ],
      "text/html": "<div>\n<style scoped>\n    .dataframe tbody tr th:only-of-type {\n        vertical-align: middle;\n    }\n\n    .dataframe tbody tr th {\n        vertical-align: top;\n    }\n\n    .dataframe thead th {\n        text-align: right;\n    }\n</style>\n<table border=\"1\" class=\"dataframe\">\n  <thead>\n    <tr style=\"text-align: right;\">\n      <th></th>\n      <th>UF</th>\n      <th>Sexo</th>\n      <th>Idade</th>\n      <th>Cor</th>\n      <th>Anos de Estudo</th>\n      <th>Renda</th>\n      <th>Altura</th>\n    </tr>\n  </thead>\n  <tbody>\n    <tr>\n      <th>0</th>\n      <td>11</td>\n      <td>0</td>\n      <td>23</td>\n      <td>8</td>\n      <td>12</td>\n      <td>800</td>\n      <td>1.603808</td>\n    </tr>\n    <tr>\n      <th>1</th>\n      <td>11</td>\n      <td>1</td>\n      <td>23</td>\n      <td>2</td>\n      <td>12</td>\n      <td>1150</td>\n      <td>1.739790</td>\n    </tr>\n    <tr>\n      <th>2</th>\n      <td>11</td>\n      <td>1</td>\n      <td>35</td>\n      <td>8</td>\n      <td>15</td>\n      <td>880</td>\n      <td>1.760444</td>\n    </tr>\n    <tr>\n      <th>3</th>\n      <td>11</td>\n      <td>0</td>\n      <td>46</td>\n      <td>2</td>\n      <td>6</td>\n      <td>3500</td>\n      <td>1.783158</td>\n    </tr>\n    <tr>\n      <th>4</th>\n      <td>11</td>\n      <td>1</td>\n      <td>47</td>\n      <td>8</td>\n      <td>9</td>\n      <td>150</td>\n      <td>1.690631</td>\n    </tr>\n  </tbody>\n</table>\n</div>"
     },
     "metadata": {},
     "execution_count": 85
    }
   ],
   "source": [
    "dados.head(5)"
   ]
  },
  {
   "cell_type": "markdown",
   "metadata": {
    "colab_type": "text",
    "id": "-z3bLQIUG3Hv"
   },
   "source": [
    "---\n",
    "---"
   ]
  },
  {
   "cell_type": "markdown",
   "metadata": {
    "colab_type": "text",
    "id": "tL9xVLwTX07g"
   },
   "source": [
    "# <font color=green>2 DISTRIBUIÇÕES DE PROBABILIDADE</font>\n",
    "***"
   ]
  },
  {
   "cell_type": "markdown",
   "metadata": {
    "colab_type": "text",
    "id": "3nlvC-5qG3Bj"
   },
   "source": [
    "## <font color=red>Problema</font>\n",
    "***"
   ]
  },
  {
   "cell_type": "markdown",
   "metadata": {
    "colab_type": "text",
    "id": "8CclIz9oG3Bk"
   },
   "source": [
    "Em um concurso para preencher uma vaga de cientista de dados temos um total de **10 questões** de múltipla escolha com **3 alternativas possíveis** em cada questão. **Cada questão tem o mesmo valor.** Suponha que um candidato resolva se aventurar sem ter estudado absolutamente nada. Ele resolve fazer a prova de olhos vendados e chutar todas as resposta. Assumindo que a prova **vale 10 pontos e a nota de corte seja 5**, obtenha a probabilidade deste candidato **acertar 5 questões** e também a probabilidade deste candidato **passar para a próxima etapa do processo seletivo**."
   ]
  },
  {
   "cell_type": "markdown",
   "metadata": {
    "colab_type": "text",
    "id": "KJxd2KFSYLML"
   },
   "source": [
    "## <font color=green>2.1 Distribuição Binomial</font>\n",
    "***"
   ]
  },
  {
   "cell_type": "markdown",
   "metadata": {
    "colab_type": "text",
    "id": "mcbl3KbnG3Bq"
   },
   "source": [
    "Um evento **binomial** é caracterizado pela possibilidade de ocorrência de apenas duas categorias. Estas categorias somadas representam todo o espaço amostral, sendo também mutuamente excludentes, ou seja, a ocorrência de uma implica na não ocorrência da outra.\n",
    "\n",
    "Em análises estatísticas o uso mais comum da distribuição binomial é na solução de problemas que envolvem situações de **sucesso** e **fracasso**."
   ]
  },
  {
   "cell_type": "markdown",
   "metadata": {
    "colab_type": "text",
    "id": "iLoYAuJ9G3Bs"
   },
   "source": [
    "# $$P(k)=\\binom{n}{k} p^k q^{n-k}$$\n",
    "\n",
    "Onde:\n",
    "\n",
    "$p$ = probabilidade de sucesso\n",
    "\n",
    "$q = (1 - p)$ = probabilidade de fracasso\n",
    "\n",
    "$n$ = número de eventos estudados\n",
    "\n",
    "$k$ = número de eventos desejados que tenham sucesso"
   ]
  },
  {
   "cell_type": "markdown",
   "metadata": {
    "colab_type": "text",
    "id": "PxEgWbFdG3Bt"
   },
   "source": [
    "### Experimento Binomial"
   ]
  },
  {
   "cell_type": "markdown",
   "metadata": {
    "colab_type": "text",
    "id": "eqQK3Ny-G3Bv"
   },
   "source": [
    "1. Realização de $n$ ensaios idênticos.\n",
    "\n",
    "2. Os ensaios são independentes.\n",
    "\n",
    "3. Somente dois resultados são possíveis, exemplo: Verdadeiro ou falso; Cara ou coroa; Sucesso ou fracasso.\n",
    "\n",
    "4. A probabilidade de sucesso é representada por $p$ e a de fracasso por $1-p=q$. Estas probabilidades não se modificam de ensaio para ensaio."
   ]
  },
  {
   "cell_type": "markdown",
   "metadata": {
    "colab_type": "text",
    "id": "mT77udQ0G3Bx"
   },
   "source": [
    "### Média da distribuição binomial"
   ]
  },
  {
   "cell_type": "markdown",
   "metadata": {
    "colab_type": "text",
    "id": "EGiuemgqG3By"
   },
   "source": [
    "O valor esperado ou a média da distribuição binomial é igual ao número de experimentos realizados multiplicado pela chance de ocorrência do evento.\n",
    "\n",
    "# $$\\mu = n \\times p$$"
   ]
  },
  {
   "cell_type": "markdown",
   "metadata": {
    "colab_type": "text",
    "id": "1fDLi96OG3Bz"
   },
   "source": [
    "### Desvio padrão da distribuição binomial"
   ]
  },
  {
   "cell_type": "markdown",
   "metadata": {
    "colab_type": "text",
    "id": "EZojizotG3B1"
   },
   "source": [
    "O desvio padrão é o produto entre o número de experimentos, a probabilidade de sucesso e a probabilidade de fracasso.\n",
    "\n",
    "# $$\\sigma = \\sqrt{n \\times p \\times q}$$"
   ]
  },
  {
   "cell_type": "markdown",
   "metadata": {
    "colab_type": "text",
    "id": "udqnjFnsG3B2"
   },
   "source": [
    "### Importando bibliotecas\n",
    "https://docs.scipy.org/doc/scipy/reference/generated/scipy.special.comb.html"
   ]
  },
  {
   "cell_type": "code",
   "execution_count": 86,
   "metadata": {
    "colab": {},
    "colab_type": "code",
    "id": "-U2sGssNG3B4"
   },
   "outputs": [],
   "source": [
    "from scipy.special import comb"
   ]
  },
  {
   "cell_type": "markdown",
   "metadata": {
    "colab_type": "text",
    "id": "MxxuJNSwG3B7"
   },
   "source": [
    "### Combinações\n",
    "\n",
    "Número de combinações de $n$ objetos, tomados $k$ a cada vez, é:\n",
    "\n",
    "# $$C_{k}^{n} = \\binom{n}{k} = \\frac{n!}{k!(n - k)!}$$\n",
    "\n",
    "Onde\n",
    "\n",
    "## $$n! = n\\times(n-1)\\times(n-2)\\times...\\times(2)\\times(1)$$\n",
    "## $$k! = k\\times(k-1)\\times(k-2)\\times...\\times(2)\\times(1)$$\n",
    "\n",
    "Por definição\n",
    "\n",
    "## $$0! = 1$$"
   ]
  },
  {
   "cell_type": "markdown",
   "metadata": {
    "colab_type": "text",
    "id": "Udz87Pq3G3B8"
   },
   "source": [
    "## <font color='blue'>Exemplo: Mega Sena</font>"
   ]
  },
  {
   "cell_type": "markdown",
   "metadata": {
    "colab_type": "text",
    "id": "h1Mo9AxyG3B8"
   },
   "source": [
    "Em um volante de loteria da Mega Sena temos um total de **60 números** para escolher onde a aposta mínima é de **seis números**. Você que é curiosa(o) resolve calcular a probabilidade de se acertar na Mega Sena com apenas **um jogo**. Para isso precisamos saber quantas **combinações de seis números podem ser formadas com os 60 números disponíveis**.\n",
    "\n",
    "### $$C_{6}^{60} = \\binom{60}{6} = \\frac{60!}{6!(60 - 6)!}$$"
   ]
  },
  {
   "cell_type": "code",
   "execution_count": 87,
   "metadata": {
    "colab": {
     "base_uri": "https://localhost:8080/",
     "height": 34
    },
    "colab_type": "code",
    "id": "c2t7yHl7G3B9",
    "outputId": "6d1e9337-9d68-4866-9e48-3dbb3f81d07d"
   },
   "outputs": [
    {
     "output_type": "execute_result",
     "data": {
      "text/plain": [
       "50063860.0"
      ]
     },
     "metadata": {},
     "execution_count": 87
    }
   ],
   "source": [
    "combinacoes = comb(60,6)\n",
    "combinacoes"
   ]
  },
  {
   "cell_type": "code",
   "execution_count": 88,
   "metadata": {
    "colab": {
     "base_uri": "https://localhost:8080/",
     "height": 34
    },
    "colab_type": "code",
    "id": "LpioeTSXG3CB",
    "outputId": "d1e0ab82-be84-423c-e206-a9f8e1437df4"
   },
   "outputs": [
    {
     "output_type": "stream",
     "name": "stdout",
     "text": [
      "0.000000019974489\n"
     ]
    }
   ],
   "source": [
    "probabilidade = 1 / combinacoes\n",
    "print('%0.15f' % probabilidade)"
   ]
  },
  {
   "cell_type": "markdown",
   "metadata": {
    "colab_type": "text",
    "id": "t1rA1yJpG3CF"
   },
   "source": [
    "## <font color='blue'>Exemplo: Concurso para cientista de dados</font>"
   ]
  },
  {
   "cell_type": "markdown",
   "metadata": {
    "colab_type": "text",
    "id": "K0DPDD37G3CG"
   },
   "source": [
    "Em um concurso para preencher uma vaga de cientista de dados temos um total de **10 questões** de múltipla escolha com **3 alternativas possíveis** em cada questão. **Cada questão tem o mesmo valor.** Suponha que um candidato resolva se aventurar sem ter estudado absolutamente nada. Ele resolve fazer a prova de olhos vendados e chutar todas as resposta. Assumindo que a prova **vale 10 pontos e a nota de corte seja 5**, obtenha a probabilidade deste candidato **acertar 5 questões** e também a probabilidade deste candidato **passar para a próxima etapa do processo seletivo**."
   ]
  },
  {
   "cell_type": "markdown",
   "metadata": {
    "colab_type": "text",
    "id": "sf-NMPfxG3CH"
   },
   "source": [
    "### Qual o número de ensaios ($n$)?"
   ]
  },
  {
   "cell_type": "code",
   "execution_count": 89,
   "metadata": {
    "colab": {
     "base_uri": "https://localhost:8080/",
     "height": 34
    },
    "colab_type": "code",
    "id": "WmnjMTnYG3CH",
    "outputId": "859f37e5-992a-4ccf-fbfb-4e2cf52c4373"
   },
   "outputs": [
    {
     "output_type": "execute_result",
     "data": {
      "text/plain": [
       "10"
      ]
     },
     "metadata": {},
     "execution_count": 89
    }
   ],
   "source": [
    "n = 10\n",
    "n"
   ]
  },
  {
   "cell_type": "markdown",
   "metadata": {
    "colab_type": "text",
    "id": "1USf9Ro8G3CK"
   },
   "source": [
    "### Os ensaios são independentes?"
   ]
  },
  {
   "cell_type": "markdown",
   "metadata": {
    "colab_type": "text",
    "id": "82xf2XIkG3CM"
   },
   "source": [
    "Sim. A opção escolhida em uma questão não influencia em nada a opção escolhida em outra questão."
   ]
  },
  {
   "cell_type": "markdown",
   "metadata": {
    "colab_type": "text",
    "id": "7jN0H5e7G3CN"
   },
   "source": [
    "### Somente dois resultados são possíveis em cada ensaio?"
   ]
  },
  {
   "cell_type": "markdown",
   "metadata": {
    "colab_type": "text",
    "id": "gGxcY7K8G3CO"
   },
   "source": [
    "Sim. O candidato tem duas possibilidades, ACERTA ou ERRAR uma questão. "
   ]
  },
  {
   "cell_type": "markdown",
   "metadata": {
    "colab_type": "text",
    "id": "MZw2LDQjG3CR"
   },
   "source": [
    "### Qual a probabilidade de sucesso ($p$)?"
   ]
  },
  {
   "cell_type": "code",
   "execution_count": 90,
   "metadata": {
    "colab": {
     "base_uri": "https://localhost:8080/",
     "height": 34
    },
    "colab_type": "code",
    "id": "AazGDtt0G3CS",
    "outputId": "ccb9e561-0413-43c8-c462-ebea4b6c1097"
   },
   "outputs": [
    {
     "output_type": "execute_result",
     "data": {
      "text/plain": [
       "0.3333333333333333"
      ]
     },
     "metadata": {},
     "execution_count": 90
    }
   ],
   "source": [
    "numero_de_alternativas_por_questao = 3\n",
    "p = 1 / numero_de_alternativas_por_questao\n",
    "p"
   ]
  },
  {
   "cell_type": "markdown",
   "metadata": {
    "colab_type": "text",
    "id": "KPCw41OlG3CX"
   },
   "source": [
    "### Qual a probabilidade de fracasso ($q$)?"
   ]
  },
  {
   "cell_type": "code",
   "execution_count": 91,
   "metadata": {
    "colab": {
     "base_uri": "https://localhost:8080/",
     "height": 34
    },
    "colab_type": "code",
    "id": "FRhmjCnpG3CZ",
    "outputId": "f521f041-ecf4-4c4c-b696-da7b949d657a"
   },
   "outputs": [
    {
     "output_type": "execute_result",
     "data": {
      "text/plain": [
       "0.6666666666666667"
      ]
     },
     "metadata": {},
     "execution_count": 91
    }
   ],
   "source": [
    "q = 1 - p\n",
    "q"
   ]
  },
  {
   "cell_type": "markdown",
   "metadata": {
    "colab_type": "text",
    "id": "W2htpmzaG3Ce"
   },
   "source": [
    "### Qual o total de eventos que se deseja obter sucesso ($k$)?"
   ]
  },
  {
   "cell_type": "code",
   "execution_count": 92,
   "metadata": {
    "colab": {
     "base_uri": "https://localhost:8080/",
     "height": 34
    },
    "colab_type": "code",
    "id": "MmHpiIIuG3Cj",
    "outputId": "6975cb4f-5cd3-4234-f7b0-b5d01ceb0430"
   },
   "outputs": [
    {
     "output_type": "execute_result",
     "data": {
      "text/plain": [
       "5"
      ]
     },
     "metadata": {},
     "execution_count": 92
    }
   ],
   "source": [
    "k = 5\n",
    "k"
   ]
  },
  {
   "cell_type": "markdown",
   "metadata": {
    "colab_type": "text",
    "id": "r8TZ6DSuG3Cm"
   },
   "source": [
    "### Solução 1"
   ]
  },
  {
   "cell_type": "code",
   "execution_count": 93,
   "metadata": {
    "colab": {
     "base_uri": "https://localhost:8080/",
     "height": 34
    },
    "colab_type": "code",
    "id": "tZBbMIzKG3Cn",
    "outputId": "cb9ddc72-bd3a-40e6-f432-ad02048a3047"
   },
   "outputs": [
    {
     "output_type": "stream",
     "name": "stdout",
     "text": [
      "0.13656455\n"
     ]
    }
   ],
   "source": [
    "probabilidade = (comb(n,k)*(p**k)*(q**(n-k)))\n",
    "print('%0.8f' % probabilidade)"
   ]
  },
  {
   "cell_type": "markdown",
   "metadata": {
    "colab_type": "text",
    "id": "rDwUvW5UG3Cq"
   },
   "source": [
    "### Importando bibliotecas\n",
    "https://docs.scipy.org/doc/scipy/reference/generated/scipy.stats.binom.html"
   ]
  },
  {
   "cell_type": "code",
   "execution_count": 94,
   "metadata": {
    "colab": {},
    "colab_type": "code",
    "id": "rhlsI3iLG3Cr"
   },
   "outputs": [],
   "source": [
    "from scipy.stats import binom"
   ]
  },
  {
   "cell_type": "markdown",
   "metadata": {
    "colab_type": "text",
    "id": "hvj2sYaSG3Ct"
   },
   "source": [
    "### Solução 2"
   ]
  },
  {
   "cell_type": "code",
   "execution_count": 95,
   "metadata": {
    "colab": {
     "base_uri": "https://localhost:8080/",
     "height": 34
    },
    "colab_type": "code",
    "id": "OjS1xsz5G3Cu",
    "outputId": "e5406623-9e3e-4d41-d1de-c774dc96bc17"
   },
   "outputs": [
    {
     "output_type": "stream",
     "name": "stdout",
     "text": [
      "0.13656455\n"
     ]
    }
   ],
   "source": [
    "probabilidade =  binom.pmf(k,n,p)\n",
    "print('%0.8f' % probabilidade)"
   ]
  },
  {
   "cell_type": "markdown",
   "metadata": {},
   "source": [
    "### Obter a probabilidade do candidato passar"
   ]
  },
  {
   "cell_type": "markdown",
   "metadata": {},
   "source": [
    "### $$P(acertar \\geq 5) = P(5) + P(6) + P(7) + P(8) + P(9) + P10)$$"
   ]
  },
  {
   "cell_type": "code",
   "execution_count": 96,
   "metadata": {},
   "outputs": [
    {
     "output_type": "execute_result",
     "data": {
      "text/plain": [
       "0.21312808006909525"
      ]
     },
     "metadata": {},
     "execution_count": 96
    }
   ],
   "source": [
    "binom.pmf(5, n, p) + binom.pmf(6, n, p) + binom.pmf(7, n, p) + binom.pmf(8, n, p) + binom.pmf(9, n, p) + binom.pmf(10, n, p)"
   ]
  },
  {
   "cell_type": "code",
   "execution_count": 97,
   "metadata": {},
   "outputs": [
    {
     "output_type": "execute_result",
     "data": {
      "text/plain": [
       "0.21312808006909525"
      ]
     },
     "metadata": {},
     "execution_count": 97
    }
   ],
   "source": [
    "binom.pmf([5,6,7,8,9,10],n,p).sum()"
   ]
  },
  {
   "cell_type": "code",
   "execution_count": 98,
   "metadata": {},
   "outputs": [
    {
     "output_type": "execute_result",
     "data": {
      "text/plain": [
       "0.21312808006909512"
      ]
     },
     "metadata": {},
     "execution_count": 98
    }
   ],
   "source": [
    "1- binom.cdf(4,n,p)"
   ]
  },
  {
   "cell_type": "code",
   "execution_count": 99,
   "metadata": {},
   "outputs": [
    {
     "output_type": "execute_result",
     "data": {
      "text/plain": [
       "0.21312808006909517"
      ]
     },
     "metadata": {},
     "execution_count": 99
    }
   ],
   "source": [
    "binom.sf(4,n,p)"
   ]
  },
  {
   "cell_type": "code",
   "execution_count": 100,
   "metadata": {},
   "outputs": [
    {
     "output_type": "execute_result",
     "data": {
      "text/plain": [
       "0.3750000000000001"
      ]
     },
     "metadata": {},
     "execution_count": 100
    }
   ],
   "source": [
    "# Uma moeda, perfeitamente equilibrada, é lançada para o alto quatro vezes. Utilizando a distribuição binomial, obtenha a probabilidade de a moeda cair com a face coroa voltada para cima duas vezes.\n",
    "\n",
    "p = 1 / 2  # Probabilidade de sair COROA\n",
    "n = 4      # Total de lançamentos\n",
    "k = 2      # Total de sucessos (faces COROA voltada para cima)\n",
    "\n",
    "binom.pmf(k, n, p)"
   ]
  },
  {
   "cell_type": "code",
   "execution_count": 101,
   "metadata": {},
   "outputs": [
    {
     "output_type": "stream",
     "name": "stdout",
     "text": [
      "22.48%\n"
     ]
    }
   ],
   "source": [
    "#Um dado, perfeitamente equilibrado, é lançado para o alto dez vezes. Utilizando a distribuição binomial, obtenha a probabilidade de o dado cair com o número cinco voltado para cima pelo menos três vezes.\n",
    "\n",
    "p = 1 / 6   # Probabilidade de sair o número CINCO\n",
    "n = 10      # Total de lançamentos\n",
    "\n",
    "print(\"{0:.2%}\".format(binom.sf(2, n, p)))\n"
   ]
  },
  {
   "cell_type": "markdown",
   "metadata": {
    "colab_type": "text",
    "id": "7hAZ4XkMG3Cx"
   },
   "source": [
    "## <font color='blue'>Exemplo: Gincana</font>"
   ]
  },
  {
   "cell_type": "markdown",
   "metadata": {
    "colab_type": "text",
    "id": "l42alRhOG3Cy"
   },
   "source": [
    "Uma cidade do interior realiza todos os anos uma gincana para arrecadar fundos para o hospital da cidade. Na última gincana se sabe que a **proporção de participantes do sexo feminino foi de 60%**. **O total de equipes, com 12 integrantes, inscritas na gincana deste ano é de 30**. Com as informações acima responda: Quantas equipes deverão ser formadas por **8 mulheres**?"
   ]
  },
  {
   "cell_type": "markdown",
   "metadata": {
    "colab_type": "text",
    "id": "dqBGf6d7G3C0"
   },
   "source": [
    "### Solução"
   ]
  },
  {
   "cell_type": "code",
   "execution_count": 102,
   "metadata": {
    "colab": {
     "base_uri": "https://localhost:8080/",
     "height": 34
    },
    "colab_type": "code",
    "id": "Xw9b6ch3G3C1",
    "outputId": "b4bb8b11-5113-4cc9-bac1-59e9acaf67e6"
   },
   "outputs": [
    {
     "output_type": "execute_result",
     "data": {
      "text/plain": [
       "0.6"
      ]
     },
     "metadata": {},
     "execution_count": 102
    }
   ],
   "source": [
    "p = 0.6\n",
    "p"
   ]
  },
  {
   "cell_type": "code",
   "execution_count": 103,
   "metadata": {
    "colab": {
     "base_uri": "https://localhost:8080/",
     "height": 34
    },
    "colab_type": "code",
    "id": "R3-RaxP5G3C3",
    "outputId": "180b09ba-666e-47c9-b476-224c71fdd5c0"
   },
   "outputs": [
    {
     "output_type": "execute_result",
     "data": {
      "text/plain": [
       "12"
      ]
     },
     "metadata": {},
     "execution_count": 103
    }
   ],
   "source": [
    "n = 12 \n",
    "n"
   ]
  },
  {
   "cell_type": "code",
   "execution_count": 104,
   "metadata": {
    "colab": {
     "base_uri": "https://localhost:8080/",
     "height": 34
    },
    "colab_type": "code",
    "id": "otBHHyD0G3C6",
    "outputId": "c3bdd1ab-763a-43db-ec2e-fb890aa78e3f"
   },
   "outputs": [
    {
     "output_type": "execute_result",
     "data": {
      "text/plain": [
       "8"
      ]
     },
     "metadata": {},
     "execution_count": 104
    }
   ],
   "source": [
    "k = 8\n",
    "k"
   ]
  },
  {
   "cell_type": "code",
   "execution_count": 105,
   "metadata": {
    "colab": {
     "base_uri": "https://localhost:8080/",
     "height": 34
    },
    "colab_type": "code",
    "id": "ZAoBvbQqG3C9",
    "outputId": "62d68ce0-f87f-4879-cc48-4358a7f23a68"
   },
   "outputs": [
    {
     "output_type": "stream",
     "name": "stdout",
     "text": [
      "0.21284094\n"
     ]
    }
   ],
   "source": [
    "probabilidade =  binom.pmf(k,n,p)\n",
    "print('%0.8f' % probabilidade)"
   ]
  },
  {
   "cell_type": "code",
   "execution_count": 106,
   "metadata": {
    "colab": {
     "base_uri": "https://localhost:8080/",
     "height": 34
    },
    "colab_type": "code",
    "id": "Tg53uGL4G3DA",
    "outputId": "cf68634d-68fd-41c5-a9a1-98c5ead8b548"
   },
   "outputs": [
    {
     "output_type": "execute_result",
     "data": {
      "text/plain": [
       "6.385228185599988"
      ]
     },
     "metadata": {},
     "execution_count": 106
    }
   ],
   "source": [
    "equipes = 30 * probabilidade \n",
    "equipes"
   ]
  },
  {
   "cell_type": "code",
   "execution_count": 107,
   "metadata": {},
   "outputs": [
    {
     "output_type": "execute_result",
     "data": {
      "text/plain": [
       "5.662799999999999"
      ]
     },
     "metadata": {},
     "execution_count": 107
    }
   ],
   "source": [
    "#Suponha que a probabilidade de um casal ter filhos com olhos azuis seja de 22%. Em 50 famílias, com 3 crianças cada uma, quantas podemos esperar que tenham dois filhos com olhos azuis?\n",
    "\n",
    "p = 0.22\n",
    "n = 3\n",
    "k = 2\n",
    "N = 50\n",
    "\n",
    "probabilidade = binom.pmf(k, n, p)\n",
    "\n",
    "media = probabilidade * N\n",
    "media "
   ]
  },
  {
   "cell_type": "markdown",
   "metadata": {
    "colab_type": "text",
    "id": "49TiCQRvG3DC"
   },
   "source": [
    "---\n",
    "---"
   ]
  },
  {
   "cell_type": "markdown",
   "metadata": {
    "colab_type": "text",
    "id": "X6bYonAZG3DE"
   },
   "source": [
    "## <font color=red>Problema</font>\n",
    "***"
   ]
  },
  {
   "cell_type": "markdown",
   "metadata": {
    "colab_type": "text",
    "id": "Ccx-Bc9oG3DH"
   },
   "source": [
    "Um restaurante recebe em média **20 pedidos por hora**. Qual a chance de que, em determinada hora escolhida ao acaso, o restaurante receba **15 pedidos**?"
   ]
  },
  {
   "cell_type": "markdown",
   "metadata": {
    "colab_type": "text",
    "id": "k-uV7bgsmand"
   },
   "source": [
    "## <font color=green>2.2 Distribuição Poisson</font>\n",
    "***"
   ]
  },
  {
   "cell_type": "markdown",
   "metadata": {
    "colab_type": "text",
    "id": "H0jPtJICG3DM"
   },
   "source": [
    "É empregada para descrever o número de ocorrências em um intervalo de tempo ou espaço específico. Os eventos são caracterizados pela possibilidade de contagem dos sucessos, mas a não possibilidade de contagem dos fracassos.\n",
    "\n",
    "Como exemplos de processos onde podemos aplicar a distribuição de Poisson temos a determinação do número de clientes que entram em uma loja em determinada hora, o número de carros que chegam em um drive-thru de uma lanchonete na hora do almoço, a determinação do número de acidentes registrados em um trecho de estrada etc."
   ]
  },
  {
   "cell_type": "markdown",
   "metadata": {
    "colab_type": "text",
    "id": "O_XqwANJG3DN"
   },
   "source": [
    "# $$P(k) = \\frac{e^{-\\mu}(\\mu)^k}{k!}$$\n",
    "\n",
    "Onde:\n",
    "\n",
    "$e$ = constante cujo valor aproximado é 2,718281828459045\n",
    "\n",
    "$\\mu$ = representa o número médio de ocorrências em um determinado intervalo de tempo ou espaço\n",
    "\n",
    "$k$ = número de sucessos no intervalo desejado"
   ]
  },
  {
   "cell_type": "markdown",
   "metadata": {
    "colab_type": "text",
    "id": "FqquU8wOG3DO"
   },
   "source": [
    "### Experimento Poisson"
   ]
  },
  {
   "cell_type": "markdown",
   "metadata": {
    "colab_type": "text",
    "id": "ir2odEW3G3DO"
   },
   "source": [
    "1. A probabilidade de uma ocorrência é a mesma em todo o intervalo observado.\n",
    "\n",
    "2. O número de ocorrências em determinado intervalo é independente do número de ocorrências em outros intervalos.\n",
    "\n",
    "3. A probabilidade de uma ocorrência é a mesma em intervalos de igual comprimento."
   ]
  },
  {
   "cell_type": "markdown",
   "metadata": {
    "colab_type": "text",
    "id": "2INlWMa0G3DP"
   },
   "source": [
    "### Média da distribuição Poisson"
   ]
  },
  {
   "cell_type": "markdown",
   "metadata": {
    "colab_type": "text",
    "id": "xywTsniCG3DP"
   },
   "source": [
    "# $$\\mu$$"
   ]
  },
  {
   "cell_type": "markdown",
   "metadata": {
    "colab_type": "text",
    "id": "7-Lh-LpfG3DQ"
   },
   "source": [
    "### Desvio padrão da distribuição Poisson"
   ]
  },
  {
   "cell_type": "markdown",
   "metadata": {
    "colab_type": "text",
    "id": "61uStWUsG3DQ"
   },
   "source": [
    "# $$\\sigma = \\sqrt{\\mu}$$"
   ]
  },
  {
   "cell_type": "markdown",
   "metadata": {
    "colab_type": "text",
    "id": "vniBmzIMG3DR"
   },
   "source": [
    "### Importando bibliotecas\n",
    "\n",
    "http://www.numpy.org/"
   ]
  },
  {
   "cell_type": "code",
   "execution_count": 108,
   "metadata": {
    "colab": {},
    "colab_type": "code",
    "id": "w23fjVT-G3DS"
   },
   "outputs": [],
   "source": [
    "import numpy as np "
   ]
  },
  {
   "cell_type": "code",
   "execution_count": 109,
   "metadata": {
    "colab": {
     "base_uri": "https://localhost:8080/",
     "height": 34
    },
    "colab_type": "code",
    "id": "rdNqMuFNG3DU",
    "outputId": "fad8f9cf-efe3-44e4-8bd3-7495c4161845"
   },
   "outputs": [
    {
     "output_type": "execute_result",
     "data": {
      "text/plain": [
       "2.718281828459045"
      ]
     },
     "metadata": {},
     "execution_count": 109
    }
   ],
   "source": [
    "np.e "
   ]
  },
  {
   "cell_type": "markdown",
   "metadata": {
    "colab_type": "text",
    "id": "RKQWuVgMG3DW"
   },
   "source": [
    "## <font color='blue'>Exemplo: Delivery</font>"
   ]
  },
  {
   "cell_type": "markdown",
   "metadata": {
    "colab_type": "text",
    "id": "ZKc__49bG3DX"
   },
   "source": [
    "Um restaurante recebe em média **20 pedidos por hora**. Qual a chance de que, em determinada hora escolhida ao acaso, o restaurante receba **15 pedidos**?"
   ]
  },
  {
   "cell_type": "markdown",
   "metadata": {
    "colab_type": "text",
    "id": "W-MJ4XBkG3DX"
   },
   "source": [
    "### Qual o número médio de ocorrências por hora ($\\mu$)?"
   ]
  },
  {
   "cell_type": "code",
   "execution_count": 110,
   "metadata": {
    "colab": {
     "base_uri": "https://localhost:8080/",
     "height": 34
    },
    "colab_type": "code",
    "id": "2fVfJxdSG3DY",
    "outputId": "5f93f4cb-eef7-459d-836c-eb825cf3f1d5"
   },
   "outputs": [
    {
     "output_type": "execute_result",
     "data": {
      "text/plain": [
       "20"
      ]
     },
     "metadata": {},
     "execution_count": 110
    }
   ],
   "source": [
    "media = 20\n",
    "media"
   ]
  },
  {
   "cell_type": "markdown",
   "metadata": {
    "colab_type": "text",
    "id": "3SagRtPvG3Da"
   },
   "source": [
    "### Qual o número de ocorrências que queremos obter no período ($k$)?"
   ]
  },
  {
   "cell_type": "code",
   "execution_count": 111,
   "metadata": {
    "colab": {
     "base_uri": "https://localhost:8080/",
     "height": 34
    },
    "colab_type": "code",
    "id": "yXB3QhWyG3Da",
    "outputId": "70e860fe-353f-43ba-98e9-0976282de023"
   },
   "outputs": [
    {
     "output_type": "execute_result",
     "data": {
      "text/plain": [
       "15"
      ]
     },
     "metadata": {},
     "execution_count": 111
    }
   ],
   "source": [
    "k = 15\n",
    "k"
   ]
  },
  {
   "cell_type": "markdown",
   "metadata": {
    "colab_type": "text",
    "id": "3wFh3lFCG3De"
   },
   "source": [
    "### Solução 1"
   ]
  },
  {
   "cell_type": "code",
   "execution_count": 112,
   "metadata": {
    "colab": {
     "base_uri": "https://localhost:8080/",
     "height": 34
    },
    "colab_type": "code",
    "id": "IEGO31WCG3Df",
    "outputId": "3ededd4d-1b97-428a-ad3f-1b8facfc3e38"
   },
   "outputs": [
    {
     "output_type": "stream",
     "name": "stdout",
     "text": [
      "0.05164885\n"
     ]
    }
   ],
   "source": [
    "probabilidade = ((np.e **(-media))*(media**k))/(np.math.factorial(k))\n",
    "print('%0.8f' % probabilidade)"
   ]
  },
  {
   "cell_type": "markdown",
   "metadata": {
    "colab_type": "text",
    "id": "GoIBvH62G3Di"
   },
   "source": [
    "### Importando bibliotecas"
   ]
  },
  {
   "cell_type": "markdown",
   "metadata": {
    "colab_type": "text",
    "id": "iFSF_9Y4G3Dj"
   },
   "source": [
    "https://docs.scipy.org/doc/scipy/reference/generated/scipy.stats.poisson.html"
   ]
  },
  {
   "cell_type": "markdown",
   "metadata": {
    "colab_type": "text",
    "id": "yAyXh0euG3Dk"
   },
   "source": [
    "### Solução 2"
   ]
  },
  {
   "cell_type": "code",
   "execution_count": 113,
   "metadata": {
    "colab": {
     "base_uri": "https://localhost:8080/",
     "height": 34
    },
    "colab_type": "code",
    "id": "sNw4oCAyG3Dk",
    "outputId": "21ded08e-1fc3-4315-c608-9c016af07e86"
   },
   "outputs": [
    {
     "output_type": "stream",
     "name": "stdout",
     "text": [
      "0.05164885\n"
     ]
    }
   ],
   "source": [
    "from scipy.stats import poisson\n",
    "probabilidade = poisson.pmf(k,media)\n",
    "print('%0.8f' % probabilidade)"
   ]
  },
  {
   "cell_type": "code",
   "execution_count": 114,
   "metadata": {},
   "outputs": [
    {
     "output_type": "stream",
     "name": "stdout",
     "text": [
      "4.46%\n"
     ]
    }
   ],
   "source": [
    "#O número médio de clientes que entram em uma padaria por hora é igual a 20. Obtenha a probabilidade de, na próxima hora, entrarem exatamente 25 clientes.\n",
    "media = 20\n",
    "k = 25\n",
    "\n",
    "probabilidade = poisson.pmf(k, media)\n",
    "print(\"{0:.2%}\".format(probabilidade))\n"
   ]
  },
  {
   "cell_type": "markdown",
   "metadata": {
    "colab_type": "text",
    "id": "g3ng8tQFG3Do"
   },
   "source": [
    "---\n",
    "---"
   ]
  },
  {
   "cell_type": "markdown",
   "metadata": {
    "colab_type": "text",
    "id": "tVPUT9kEG3Dp"
   },
   "source": [
    "## <font color=red>Problema</font>\n",
    "***"
   ]
  },
  {
   "cell_type": "markdown",
   "metadata": {
    "colab_type": "text",
    "id": "j7zVDN0kG3Dq"
   },
   "source": [
    "Em um estudo sobre as alturas dos moradores de uma cidade verificou-se que o conjunto de dados segue uma **distribuição aproximadamente normal**, com **média 1,70** e **desvio padrão de 0,1**. Com estas informações obtenha o seguinte conjunto de probabilidades:\n",
    "\n",
    "> **A.** probabilidade de uma pessoa, selecionada ao acaso, ter menos de 1,80 metros.\n",
    "\n",
    "> **B.** probabilidade de uma pessoa, selecionada ao acaso, ter entre 1,60 metros e 1,80 metros.    \n",
    "\n",
    "> **C.** probabilidade de uma pessoa, selecionada ao acaso, ter mais de 1,90 metros."
   ]
  },
  {
   "cell_type": "markdown",
   "metadata": {
    "colab_type": "text",
    "id": "AowcVaKqpvf2"
   },
   "source": [
    "## <font color=green>2.3 Distribuição Normal</font>\n",
    "***"
   ]
  },
  {
   "cell_type": "markdown",
   "metadata": {
    "colab_type": "text",
    "id": "YOBD21hGG3Dw"
   },
   "source": [
    "A distribuição normal é uma das mais utilizadas em estatística. É uma distribuição contínua, onde a distribuição de frequências de uma variável quantitativa apresenta a forma de sino e é simétrica em relação a sua média."
   ]
  },
  {
   "cell_type": "markdown",
   "metadata": {
    "colab_type": "text",
    "id": "kbPy2ORqqKJA"
   },
   "source": [
    "![Normal](https://caelum-online-public.s3.amazonaws.com/1178-estatistica-parte2/01/img001.png)"
   ]
  },
  {
   "cell_type": "markdown",
   "metadata": {
    "colab_type": "text",
    "id": "J3eKESHTG3Dx"
   },
   "source": [
    "### Características importantes"
   ]
  },
  {
   "cell_type": "markdown",
   "metadata": {
    "colab_type": "text",
    "id": "z8GxAzWZG3Dx"
   },
   "source": [
    "1. É simétrica em torno da média;\n",
    "\n",
    "2. A área sob a curva corresponde à proporção 1 ou 100%;\n",
    "\n",
    "3. As medidas de tendência central (média, mediana e moda) apresentam o mesmo valor;\n",
    "\n",
    "4. Os extremos da curva tendem ao infinito em ambas as direções e, teoricamente, jamais tocam o eixo $x$;\n",
    "\n",
    "5. O desvio padrão define o achatamento e largura da distribuição. Curvas mais largas e mais achatadas apresentam valores maiores de desvio padrão;\n",
    "\n",
    "6. A distribuição é definida por sua média e desvio padrão;\n",
    "\n",
    "7. A probabilidade sempre será igual à área sob a curva, delimitada pelos limites inferior e superior."
   ]
  },
  {
   "cell_type": "markdown",
   "metadata": {
    "colab_type": "text",
    "id": "hoWLlOiwG3Dy"
   },
   "source": [
    "# $$f(x) = \\frac{1}{\\sqrt{2\\pi\\sigma}}e^{-\\frac{1}{2}\\left(\\frac{x-\\mu}{\\sigma}\\right)^2}$$\n",
    "\n",
    "Onde:\n",
    "\n",
    "$x$ = variável normal\n",
    "\n",
    "$\\sigma$ = desvio padrão\n",
    "\n",
    "$\\mu$ = média"
   ]
  },
  {
   "cell_type": "markdown",
   "metadata": {
    "colab_type": "text",
    "id": "8n03Z0VlG3Dz"
   },
   "source": [
    "A probabilidade é obtida a partir da área sob a curva, delimitada pelos limites inferior e superior especificados. Um exemplo pode ser visto na figura abaixo."
   ]
  },
  {
   "cell_type": "markdown",
   "metadata": {
    "colab_type": "text",
    "id": "X1UgmFoxG3Dz"
   },
   "source": [
    "![alt text](https://caelum-online-public.s3.amazonaws.com/1178-estatistica-parte2/01/img002.png)\n"
   ]
  },
  {
   "cell_type": "markdown",
   "metadata": {
    "colab_type": "text",
    "id": "rtKiApHLG3D0"
   },
   "source": [
    "Para obter a área acima basta calcular a integral da função para os intervalos determinados. Conforme equação abaixo:"
   ]
  },
  {
   "cell_type": "markdown",
   "metadata": {
    "colab_type": "text",
    "id": "0r_9CbSOG3D0"
   },
   "source": [
    "# $$P(L_i<x<L_s) = \\int_{L_i}^{L_s}\\frac{1}{\\sqrt{2\\pi\\sigma}}e^{-\\frac{1}{2}\\left(\\frac{x-\\mu}{\\sigma}\\right)^2}$$\n",
    "\n",
    "Onde:\n",
    "\n",
    "$x$ = variável normal\n",
    "\n",
    "$\\sigma$ = desvio padrão\n",
    "\n",
    "$\\mu$ = média\n",
    "\n",
    "$L_i$ = limite inferior\n",
    "\n",
    "$L_s$ = limite superior"
   ]
  },
  {
   "cell_type": "markdown",
   "metadata": {
    "colab_type": "text",
    "id": "qP-Ye-leG3D1"
   },
   "source": [
    "### Tabelas padronizadas"
   ]
  },
  {
   "cell_type": "markdown",
   "metadata": {
    "colab_type": "text",
    "id": "Z1VnLK11G3D1"
   },
   "source": [
    "As tabelas padronizadas foram criadas para facilitar a obtenção dos valores das áreas sob a curva normal e eliminar a necessidade de solucionar integrais definidas.\n",
    "\n",
    "Para consultarmos os valores em uma tabela padronizada basta transformarmos nossa variável em uma variável padronizada $Z$.\n",
    "\n",
    "Esta variável $Z$ representa o afastamento em desvios padrões de um valor da variável original em relação à média."
   ]
  },
  {
   "cell_type": "markdown",
   "metadata": {
    "colab_type": "text",
    "id": "HJcdgdsgG3D2"
   },
   "source": [
    "# $$Z = \\frac{x-\\mu}{\\sigma}$$\n",
    "\n",
    "Onde:\n",
    "\n",
    "$x$ = variável normal com média $\\mu$ e desvio padrão $\\sigma$\n",
    "\n",
    "$\\sigma$ = desvio padrão\n",
    "\n",
    "$\\mu$ = média"
   ]
  },
  {
   "cell_type": "markdown",
   "metadata": {
    "colab_type": "text",
    "id": "hUrVKJH3G3D2"
   },
   "source": [
    "### Construindo tabela normal padronizada\n",
    "https://docs.scipy.org/doc/scipy/reference/generated/scipy.stats.norm.html"
   ]
  },
  {
   "cell_type": "code",
   "execution_count": 115,
   "metadata": {
    "colab": {
     "base_uri": "https://localhost:8080/",
     "height": 1289
    },
    "colab_type": "code",
    "id": "7SudUNlcG3D4",
    "outputId": "963d1484-7b91-4af0-905f-4cbb49a73277"
   },
   "outputs": [
    {
     "output_type": "execute_result",
     "data": {
      "text/plain": [
       "Z       0.00    0.01    0.02    0.03    0.04    0.05    0.06    0.07    0.08  \\\n",
       "0.00  0.5000  0.5040  0.5080  0.5120  0.5160  0.5199  0.5239  0.5279  0.5319   \n",
       "0.10  0.5398  0.5438  0.5478  0.5517  0.5557  0.5596  0.5636  0.5675  0.5714   \n",
       "0.20  0.5793  0.5832  0.5871  0.5910  0.5948  0.5987  0.6026  0.6064  0.6103   \n",
       "0.30  0.6179  0.6217  0.6255  0.6293  0.6331  0.6368  0.6406  0.6443  0.6480   \n",
       "0.40  0.6554  0.6591  0.6628  0.6664  0.6700  0.6736  0.6772  0.6808  0.6844   \n",
       "0.50  0.6915  0.6950  0.6985  0.7019  0.7054  0.7088  0.7123  0.7157  0.7190   \n",
       "0.60  0.7257  0.7291  0.7324  0.7357  0.7389  0.7422  0.7454  0.7486  0.7517   \n",
       "0.70  0.7580  0.7611  0.7642  0.7673  0.7704  0.7734  0.7764  0.7794  0.7823   \n",
       "0.80  0.7881  0.7910  0.7939  0.7967  0.7995  0.8023  0.8051  0.8078  0.8106   \n",
       "0.90  0.8159  0.8186  0.8212  0.8238  0.8264  0.8289  0.8315  0.8340  0.8365   \n",
       "1.00  0.8413  0.8438  0.8461  0.8485  0.8508  0.8531  0.8554  0.8577  0.8599   \n",
       "1.10  0.8643  0.8665  0.8686  0.8708  0.8729  0.8749  0.8770  0.8790  0.8810   \n",
       "1.20  0.8849  0.8869  0.8888  0.8907  0.8925  0.8944  0.8962  0.8980  0.8997   \n",
       "1.30  0.9032  0.9049  0.9066  0.9082  0.9099  0.9115  0.9131  0.9147  0.9162   \n",
       "1.40  0.9192  0.9207  0.9222  0.9236  0.9251  0.9265  0.9279  0.9292  0.9306   \n",
       "1.50  0.9332  0.9345  0.9357  0.9370  0.9382  0.9394  0.9406  0.9418  0.9429   \n",
       "1.60  0.9452  0.9463  0.9474  0.9484  0.9495  0.9505  0.9515  0.9525  0.9535   \n",
       "1.70  0.9554  0.9564  0.9573  0.9582  0.9591  0.9599  0.9608  0.9616  0.9625   \n",
       "1.80  0.9641  0.9649  0.9656  0.9664  0.9671  0.9678  0.9686  0.9693  0.9699   \n",
       "1.90  0.9713  0.9719  0.9726  0.9732  0.9738  0.9744  0.9750  0.9756  0.9761   \n",
       "2.00  0.9772  0.9778  0.9783  0.9788  0.9793  0.9798  0.9803  0.9808  0.9812   \n",
       "2.10  0.9821  0.9826  0.9830  0.9834  0.9838  0.9842  0.9846  0.9850  0.9854   \n",
       "2.20  0.9861  0.9864  0.9868  0.9871  0.9875  0.9878  0.9881  0.9884  0.9887   \n",
       "2.30  0.9893  0.9896  0.9898  0.9901  0.9904  0.9906  0.9909  0.9911  0.9913   \n",
       "2.40  0.9918  0.9920  0.9922  0.9925  0.9927  0.9929  0.9931  0.9932  0.9934   \n",
       "2.50  0.9938  0.9940  0.9941  0.9943  0.9945  0.9946  0.9948  0.9949  0.9951   \n",
       "2.60  0.9953  0.9955  0.9956  0.9957  0.9959  0.9960  0.9961  0.9962  0.9963   \n",
       "2.70  0.9965  0.9966  0.9967  0.9968  0.9969  0.9970  0.9971  0.9972  0.9973   \n",
       "2.80  0.9974  0.9975  0.9976  0.9977  0.9977  0.9978  0.9979  0.9979  0.9980   \n",
       "2.90  0.9981  0.9982  0.9982  0.9983  0.9984  0.9984  0.9985  0.9985  0.9986   \n",
       "3.00  0.9987  0.9987  0.9987  0.9988  0.9988  0.9989  0.9989  0.9989  0.9990   \n",
       "3.10  0.9990  0.9991  0.9991  0.9991  0.9992  0.9992  0.9992  0.9992  0.9993   \n",
       "3.20  0.9993  0.9993  0.9994  0.9994  0.9994  0.9994  0.9994  0.9995  0.9995   \n",
       "3.30  0.9995  0.9995  0.9995  0.9996  0.9996  0.9996  0.9996  0.9996  0.9996   \n",
       "3.40  0.9997  0.9997  0.9997  0.9997  0.9997  0.9997  0.9997  0.9997  0.9997   \n",
       "3.50  0.9998  0.9998  0.9998  0.9998  0.9998  0.9998  0.9998  0.9998  0.9998   \n",
       "3.60  0.9998  0.9998  0.9999  0.9999  0.9999  0.9999  0.9999  0.9999  0.9999   \n",
       "3.70  0.9999  0.9999  0.9999  0.9999  0.9999  0.9999  0.9999  0.9999  0.9999   \n",
       "3.80  0.9999  0.9999  0.9999  0.9999  0.9999  0.9999  0.9999  0.9999  0.9999   \n",
       "3.90  1.0000  1.0000  1.0000  1.0000  1.0000  1.0000  1.0000  1.0000  1.0000   \n",
       "\n",
       "Z       0.09  \n",
       "0.00  0.5359  \n",
       "0.10  0.5753  \n",
       "0.20  0.6141  \n",
       "0.30  0.6517  \n",
       "0.40  0.6879  \n",
       "0.50  0.7224  \n",
       "0.60  0.7549  \n",
       "0.70  0.7852  \n",
       "0.80  0.8133  \n",
       "0.90  0.8389  \n",
       "1.00  0.8621  \n",
       "1.10  0.8830  \n",
       "1.20  0.9015  \n",
       "1.30  0.9177  \n",
       "1.40  0.9319  \n",
       "1.50  0.9441  \n",
       "1.60  0.9545  \n",
       "1.70  0.9633  \n",
       "1.80  0.9706  \n",
       "1.90  0.9767  \n",
       "2.00  0.9817  \n",
       "2.10  0.9857  \n",
       "2.20  0.9890  \n",
       "2.30  0.9916  \n",
       "2.40  0.9936  \n",
       "2.50  0.9952  \n",
       "2.60  0.9964  \n",
       "2.70  0.9974  \n",
       "2.80  0.9981  \n",
       "2.90  0.9986  \n",
       "3.00  0.9990  \n",
       "3.10  0.9993  \n",
       "3.20  0.9995  \n",
       "3.30  0.9997  \n",
       "3.40  0.9998  \n",
       "3.50  0.9998  \n",
       "3.60  0.9999  \n",
       "3.70  0.9999  \n",
       "3.80  0.9999  \n",
       "3.90  1.0000  "
      ],
      "text/html": "<div>\n<style scoped>\n    .dataframe tbody tr th:only-of-type {\n        vertical-align: middle;\n    }\n\n    .dataframe tbody tr th {\n        vertical-align: top;\n    }\n\n    .dataframe thead th {\n        text-align: right;\n    }\n</style>\n<table border=\"1\" class=\"dataframe\">\n  <thead>\n    <tr style=\"text-align: right;\">\n      <th>Z</th>\n      <th>0.00</th>\n      <th>0.01</th>\n      <th>0.02</th>\n      <th>0.03</th>\n      <th>0.04</th>\n      <th>0.05</th>\n      <th>0.06</th>\n      <th>0.07</th>\n      <th>0.08</th>\n      <th>0.09</th>\n    </tr>\n  </thead>\n  <tbody>\n    <tr>\n      <th>0.00</th>\n      <td>0.5000</td>\n      <td>0.5040</td>\n      <td>0.5080</td>\n      <td>0.5120</td>\n      <td>0.5160</td>\n      <td>0.5199</td>\n      <td>0.5239</td>\n      <td>0.5279</td>\n      <td>0.5319</td>\n      <td>0.5359</td>\n    </tr>\n    <tr>\n      <th>0.10</th>\n      <td>0.5398</td>\n      <td>0.5438</td>\n      <td>0.5478</td>\n      <td>0.5517</td>\n      <td>0.5557</td>\n      <td>0.5596</td>\n      <td>0.5636</td>\n      <td>0.5675</td>\n      <td>0.5714</td>\n      <td>0.5753</td>\n    </tr>\n    <tr>\n      <th>0.20</th>\n      <td>0.5793</td>\n      <td>0.5832</td>\n      <td>0.5871</td>\n      <td>0.5910</td>\n      <td>0.5948</td>\n      <td>0.5987</td>\n      <td>0.6026</td>\n      <td>0.6064</td>\n      <td>0.6103</td>\n      <td>0.6141</td>\n    </tr>\n    <tr>\n      <th>0.30</th>\n      <td>0.6179</td>\n      <td>0.6217</td>\n      <td>0.6255</td>\n      <td>0.6293</td>\n      <td>0.6331</td>\n      <td>0.6368</td>\n      <td>0.6406</td>\n      <td>0.6443</td>\n      <td>0.6480</td>\n      <td>0.6517</td>\n    </tr>\n    <tr>\n      <th>0.40</th>\n      <td>0.6554</td>\n      <td>0.6591</td>\n      <td>0.6628</td>\n      <td>0.6664</td>\n      <td>0.6700</td>\n      <td>0.6736</td>\n      <td>0.6772</td>\n      <td>0.6808</td>\n      <td>0.6844</td>\n      <td>0.6879</td>\n    </tr>\n    <tr>\n      <th>0.50</th>\n      <td>0.6915</td>\n      <td>0.6950</td>\n      <td>0.6985</td>\n      <td>0.7019</td>\n      <td>0.7054</td>\n      <td>0.7088</td>\n      <td>0.7123</td>\n      <td>0.7157</td>\n      <td>0.7190</td>\n      <td>0.7224</td>\n    </tr>\n    <tr>\n      <th>0.60</th>\n      <td>0.7257</td>\n      <td>0.7291</td>\n      <td>0.7324</td>\n      <td>0.7357</td>\n      <td>0.7389</td>\n      <td>0.7422</td>\n      <td>0.7454</td>\n      <td>0.7486</td>\n      <td>0.7517</td>\n      <td>0.7549</td>\n    </tr>\n    <tr>\n      <th>0.70</th>\n      <td>0.7580</td>\n      <td>0.7611</td>\n      <td>0.7642</td>\n      <td>0.7673</td>\n      <td>0.7704</td>\n      <td>0.7734</td>\n      <td>0.7764</td>\n      <td>0.7794</td>\n      <td>0.7823</td>\n      <td>0.7852</td>\n    </tr>\n    <tr>\n      <th>0.80</th>\n      <td>0.7881</td>\n      <td>0.7910</td>\n      <td>0.7939</td>\n      <td>0.7967</td>\n      <td>0.7995</td>\n      <td>0.8023</td>\n      <td>0.8051</td>\n      <td>0.8078</td>\n      <td>0.8106</td>\n      <td>0.8133</td>\n    </tr>\n    <tr>\n      <th>0.90</th>\n      <td>0.8159</td>\n      <td>0.8186</td>\n      <td>0.8212</td>\n      <td>0.8238</td>\n      <td>0.8264</td>\n      <td>0.8289</td>\n      <td>0.8315</td>\n      <td>0.8340</td>\n      <td>0.8365</td>\n      <td>0.8389</td>\n    </tr>\n    <tr>\n      <th>1.00</th>\n      <td>0.8413</td>\n      <td>0.8438</td>\n      <td>0.8461</td>\n      <td>0.8485</td>\n      <td>0.8508</td>\n      <td>0.8531</td>\n      <td>0.8554</td>\n      <td>0.8577</td>\n      <td>0.8599</td>\n      <td>0.8621</td>\n    </tr>\n    <tr>\n      <th>1.10</th>\n      <td>0.8643</td>\n      <td>0.8665</td>\n      <td>0.8686</td>\n      <td>0.8708</td>\n      <td>0.8729</td>\n      <td>0.8749</td>\n      <td>0.8770</td>\n      <td>0.8790</td>\n      <td>0.8810</td>\n      <td>0.8830</td>\n    </tr>\n    <tr>\n      <th>1.20</th>\n      <td>0.8849</td>\n      <td>0.8869</td>\n      <td>0.8888</td>\n      <td>0.8907</td>\n      <td>0.8925</td>\n      <td>0.8944</td>\n      <td>0.8962</td>\n      <td>0.8980</td>\n      <td>0.8997</td>\n      <td>0.9015</td>\n    </tr>\n    <tr>\n      <th>1.30</th>\n      <td>0.9032</td>\n      <td>0.9049</td>\n      <td>0.9066</td>\n      <td>0.9082</td>\n      <td>0.9099</td>\n      <td>0.9115</td>\n      <td>0.9131</td>\n      <td>0.9147</td>\n      <td>0.9162</td>\n      <td>0.9177</td>\n    </tr>\n    <tr>\n      <th>1.40</th>\n      <td>0.9192</td>\n      <td>0.9207</td>\n      <td>0.9222</td>\n      <td>0.9236</td>\n      <td>0.9251</td>\n      <td>0.9265</td>\n      <td>0.9279</td>\n      <td>0.9292</td>\n      <td>0.9306</td>\n      <td>0.9319</td>\n    </tr>\n    <tr>\n      <th>1.50</th>\n      <td>0.9332</td>\n      <td>0.9345</td>\n      <td>0.9357</td>\n      <td>0.9370</td>\n      <td>0.9382</td>\n      <td>0.9394</td>\n      <td>0.9406</td>\n      <td>0.9418</td>\n      <td>0.9429</td>\n      <td>0.9441</td>\n    </tr>\n    <tr>\n      <th>1.60</th>\n      <td>0.9452</td>\n      <td>0.9463</td>\n      <td>0.9474</td>\n      <td>0.9484</td>\n      <td>0.9495</td>\n      <td>0.9505</td>\n      <td>0.9515</td>\n      <td>0.9525</td>\n      <td>0.9535</td>\n      <td>0.9545</td>\n    </tr>\n    <tr>\n      <th>1.70</th>\n      <td>0.9554</td>\n      <td>0.9564</td>\n      <td>0.9573</td>\n      <td>0.9582</td>\n      <td>0.9591</td>\n      <td>0.9599</td>\n      <td>0.9608</td>\n      <td>0.9616</td>\n      <td>0.9625</td>\n      <td>0.9633</td>\n    </tr>\n    <tr>\n      <th>1.80</th>\n      <td>0.9641</td>\n      <td>0.9649</td>\n      <td>0.9656</td>\n      <td>0.9664</td>\n      <td>0.9671</td>\n      <td>0.9678</td>\n      <td>0.9686</td>\n      <td>0.9693</td>\n      <td>0.9699</td>\n      <td>0.9706</td>\n    </tr>\n    <tr>\n      <th>1.90</th>\n      <td>0.9713</td>\n      <td>0.9719</td>\n      <td>0.9726</td>\n      <td>0.9732</td>\n      <td>0.9738</td>\n      <td>0.9744</td>\n      <td>0.9750</td>\n      <td>0.9756</td>\n      <td>0.9761</td>\n      <td>0.9767</td>\n    </tr>\n    <tr>\n      <th>2.00</th>\n      <td>0.9772</td>\n      <td>0.9778</td>\n      <td>0.9783</td>\n      <td>0.9788</td>\n      <td>0.9793</td>\n      <td>0.9798</td>\n      <td>0.9803</td>\n      <td>0.9808</td>\n      <td>0.9812</td>\n      <td>0.9817</td>\n    </tr>\n    <tr>\n      <th>2.10</th>\n      <td>0.9821</td>\n      <td>0.9826</td>\n      <td>0.9830</td>\n      <td>0.9834</td>\n      <td>0.9838</td>\n      <td>0.9842</td>\n      <td>0.9846</td>\n      <td>0.9850</td>\n      <td>0.9854</td>\n      <td>0.9857</td>\n    </tr>\n    <tr>\n      <th>2.20</th>\n      <td>0.9861</td>\n      <td>0.9864</td>\n      <td>0.9868</td>\n      <td>0.9871</td>\n      <td>0.9875</td>\n      <td>0.9878</td>\n      <td>0.9881</td>\n      <td>0.9884</td>\n      <td>0.9887</td>\n      <td>0.9890</td>\n    </tr>\n    <tr>\n      <th>2.30</th>\n      <td>0.9893</td>\n      <td>0.9896</td>\n      <td>0.9898</td>\n      <td>0.9901</td>\n      <td>0.9904</td>\n      <td>0.9906</td>\n      <td>0.9909</td>\n      <td>0.9911</td>\n      <td>0.9913</td>\n      <td>0.9916</td>\n    </tr>\n    <tr>\n      <th>2.40</th>\n      <td>0.9918</td>\n      <td>0.9920</td>\n      <td>0.9922</td>\n      <td>0.9925</td>\n      <td>0.9927</td>\n      <td>0.9929</td>\n      <td>0.9931</td>\n      <td>0.9932</td>\n      <td>0.9934</td>\n      <td>0.9936</td>\n    </tr>\n    <tr>\n      <th>2.50</th>\n      <td>0.9938</td>\n      <td>0.9940</td>\n      <td>0.9941</td>\n      <td>0.9943</td>\n      <td>0.9945</td>\n      <td>0.9946</td>\n      <td>0.9948</td>\n      <td>0.9949</td>\n      <td>0.9951</td>\n      <td>0.9952</td>\n    </tr>\n    <tr>\n      <th>2.60</th>\n      <td>0.9953</td>\n      <td>0.9955</td>\n      <td>0.9956</td>\n      <td>0.9957</td>\n      <td>0.9959</td>\n      <td>0.9960</td>\n      <td>0.9961</td>\n      <td>0.9962</td>\n      <td>0.9963</td>\n      <td>0.9964</td>\n    </tr>\n    <tr>\n      <th>2.70</th>\n      <td>0.9965</td>\n      <td>0.9966</td>\n      <td>0.9967</td>\n      <td>0.9968</td>\n      <td>0.9969</td>\n      <td>0.9970</td>\n      <td>0.9971</td>\n      <td>0.9972</td>\n      <td>0.9973</td>\n      <td>0.9974</td>\n    </tr>\n    <tr>\n      <th>2.80</th>\n      <td>0.9974</td>\n      <td>0.9975</td>\n      <td>0.9976</td>\n      <td>0.9977</td>\n      <td>0.9977</td>\n      <td>0.9978</td>\n      <td>0.9979</td>\n      <td>0.9979</td>\n      <td>0.9980</td>\n      <td>0.9981</td>\n    </tr>\n    <tr>\n      <th>2.90</th>\n      <td>0.9981</td>\n      <td>0.9982</td>\n      <td>0.9982</td>\n      <td>0.9983</td>\n      <td>0.9984</td>\n      <td>0.9984</td>\n      <td>0.9985</td>\n      <td>0.9985</td>\n      <td>0.9986</td>\n      <td>0.9986</td>\n    </tr>\n    <tr>\n      <th>3.00</th>\n      <td>0.9987</td>\n      <td>0.9987</td>\n      <td>0.9987</td>\n      <td>0.9988</td>\n      <td>0.9988</td>\n      <td>0.9989</td>\n      <td>0.9989</td>\n      <td>0.9989</td>\n      <td>0.9990</td>\n      <td>0.9990</td>\n    </tr>\n    <tr>\n      <th>3.10</th>\n      <td>0.9990</td>\n      <td>0.9991</td>\n      <td>0.9991</td>\n      <td>0.9991</td>\n      <td>0.9992</td>\n      <td>0.9992</td>\n      <td>0.9992</td>\n      <td>0.9992</td>\n      <td>0.9993</td>\n      <td>0.9993</td>\n    </tr>\n    <tr>\n      <th>3.20</th>\n      <td>0.9993</td>\n      <td>0.9993</td>\n      <td>0.9994</td>\n      <td>0.9994</td>\n      <td>0.9994</td>\n      <td>0.9994</td>\n      <td>0.9994</td>\n      <td>0.9995</td>\n      <td>0.9995</td>\n      <td>0.9995</td>\n    </tr>\n    <tr>\n      <th>3.30</th>\n      <td>0.9995</td>\n      <td>0.9995</td>\n      <td>0.9995</td>\n      <td>0.9996</td>\n      <td>0.9996</td>\n      <td>0.9996</td>\n      <td>0.9996</td>\n      <td>0.9996</td>\n      <td>0.9996</td>\n      <td>0.9997</td>\n    </tr>\n    <tr>\n      <th>3.40</th>\n      <td>0.9997</td>\n      <td>0.9997</td>\n      <td>0.9997</td>\n      <td>0.9997</td>\n      <td>0.9997</td>\n      <td>0.9997</td>\n      <td>0.9997</td>\n      <td>0.9997</td>\n      <td>0.9997</td>\n      <td>0.9998</td>\n    </tr>\n    <tr>\n      <th>3.50</th>\n      <td>0.9998</td>\n      <td>0.9998</td>\n      <td>0.9998</td>\n      <td>0.9998</td>\n      <td>0.9998</td>\n      <td>0.9998</td>\n      <td>0.9998</td>\n      <td>0.9998</td>\n      <td>0.9998</td>\n      <td>0.9998</td>\n    </tr>\n    <tr>\n      <th>3.60</th>\n      <td>0.9998</td>\n      <td>0.9998</td>\n      <td>0.9999</td>\n      <td>0.9999</td>\n      <td>0.9999</td>\n      <td>0.9999</td>\n      <td>0.9999</td>\n      <td>0.9999</td>\n      <td>0.9999</td>\n      <td>0.9999</td>\n    </tr>\n    <tr>\n      <th>3.70</th>\n      <td>0.9999</td>\n      <td>0.9999</td>\n      <td>0.9999</td>\n      <td>0.9999</td>\n      <td>0.9999</td>\n      <td>0.9999</td>\n      <td>0.9999</td>\n      <td>0.9999</td>\n      <td>0.9999</td>\n      <td>0.9999</td>\n    </tr>\n    <tr>\n      <th>3.80</th>\n      <td>0.9999</td>\n      <td>0.9999</td>\n      <td>0.9999</td>\n      <td>0.9999</td>\n      <td>0.9999</td>\n      <td>0.9999</td>\n      <td>0.9999</td>\n      <td>0.9999</td>\n      <td>0.9999</td>\n      <td>0.9999</td>\n    </tr>\n    <tr>\n      <th>3.90</th>\n      <td>1.0000</td>\n      <td>1.0000</td>\n      <td>1.0000</td>\n      <td>1.0000</td>\n      <td>1.0000</td>\n      <td>1.0000</td>\n      <td>1.0000</td>\n      <td>1.0000</td>\n      <td>1.0000</td>\n      <td>1.0000</td>\n    </tr>\n  </tbody>\n</table>\n</div>"
     },
     "metadata": {},
     "execution_count": 115
    }
   ],
   "source": [
    "import pandas as pd\n",
    "import numpy as np\n",
    "from scipy.stats import norm\n",
    "\n",
    "tabela_normal_padronizada = pd.DataFrame(\n",
    "    [], \n",
    "    index=[\"{0:0.2f}\".format(i / 100) for i in range(0, 400, 10)],\n",
    "    columns = [\"{0:0.2f}\".format(i / 100) for i in range(0, 10)])\n",
    "\n",
    "for index in tabela_normal_padronizada.index:\n",
    "    for column in tabela_normal_padronizada.columns:\n",
    "        Z = np.round(float(index) + float(column), 2)\n",
    "        tabela_normal_padronizada.loc[index, column] = \"{0:0.4f}\".format(norm.cdf(Z))\n",
    "\n",
    "tabela_normal_padronizada.rename_axis('Z', axis = 'columns', inplace = True)\n",
    "\n",
    "tabela_normal_padronizada"
   ]
  },
  {
   "cell_type": "markdown",
   "metadata": {
    "colab_type": "text",
    "id": "XHYeMaN3G3D9"
   },
   "source": [
    "<img src='https://caelum-online-public.s3.amazonaws.com/1178-estatistica-parte2/01/img003.png' width='250px'>\n",
    "\n",
    "A tabela acima fornece a área sob a curva entre $-\\infty$ e $Z$ desvios padrão acima da média. Lembrando que por se tratar de valores padronizados temos $\\mu = 0$."
   ]
  },
  {
   "cell_type": "markdown",
   "metadata": {
    "colab_type": "text",
    "id": "Bs-KyZAJG3D-"
   },
   "source": [
    "## <font color='blue'>Exemplo: Qual sua altura?</font>"
   ]
  },
  {
   "cell_type": "markdown",
   "metadata": {
    "colab_type": "text",
    "id": "8PFIjXejG3EA"
   },
   "source": [
    "Em um estudo sobre as alturas dos moradores de uma cidade verificou-se que o conjunto de dados segue uma **distribuição aproximadamente normal**, com **média 1,70** e **desvio padrão de 0,1**. Com estas informações obtenha o seguinte conjunto de probabilidades:\n",
    "\n",
    "> **A.** probabilidade de uma pessoa, selecionada ao acaso, ter menos de 1,80 metros.\n",
    "\n",
    "> **B.** probabilidade de uma pessoa, selecionada ao acaso, ter entre 1,60 metros e 1,80 metros.    \n",
    "\n",
    "> **C.** probabilidade de uma pessoa, selecionada ao acaso, ter mais de 1,90 metros."
   ]
  },
  {
   "cell_type": "markdown",
   "metadata": {
    "colab_type": "text",
    "id": "aHpZLwt1G3EC"
   },
   "source": [
    "### Problema A - Identificação da área sob a curva"
   ]
  },
  {
   "cell_type": "markdown",
   "metadata": {
    "colab_type": "text",
    "id": "V1eC7tydG3EF"
   },
   "source": [
    "<img style='float: left' src='https://caelum-online-public.s3.amazonaws.com/1178-estatistica-parte2/01/img004.png' width='350px'>"
   ]
  },
  {
   "cell_type": "markdown",
   "metadata": {
    "colab_type": "text",
    "id": "X61wEuRrG3EI"
   },
   "source": [
    "### Obter a variável padronizada $Z$"
   ]
  },
  {
   "cell_type": "code",
   "execution_count": 116,
   "metadata": {
    "colab": {
     "base_uri": "https://localhost:8080/",
     "height": 34
    },
    "colab_type": "code",
    "id": "gNSNIMvZG3EK",
    "outputId": "2d4048a7-4c0a-4f51-c964-2f063cbdf092"
   },
   "outputs": [
    {
     "output_type": "execute_result",
     "data": {
      "text/plain": [
       "1.7"
      ]
     },
     "metadata": {},
     "execution_count": 116
    }
   ],
   "source": [
    "media = 1.7\n",
    "media"
   ]
  },
  {
   "cell_type": "code",
   "execution_count": 117,
   "metadata": {
    "colab": {
     "base_uri": "https://localhost:8080/",
     "height": 34
    },
    "colab_type": "code",
    "id": "E_f2lycRG3ES",
    "outputId": "7bb0daf7-7f86-4bdd-f195-429e7b68d239"
   },
   "outputs": [
    {
     "output_type": "execute_result",
     "data": {
      "text/plain": [
       "0.1"
      ]
     },
     "metadata": {},
     "execution_count": 117
    }
   ],
   "source": [
    "desvio_padrao =0.1\n",
    "desvio_padrao"
   ]
  },
  {
   "cell_type": "code",
   "execution_count": 118,
   "metadata": {
    "colab": {
     "base_uri": "https://localhost:8080/",
     "height": 34
    },
    "colab_type": "code",
    "id": "xnsCkUb6G3EX",
    "outputId": "b3f57dbb-4c23-4b9f-e89d-d8c35383a2d2"
   },
   "outputs": [
    {
     "output_type": "execute_result",
     "data": {
      "text/plain": [
       "1.0000000000000009"
      ]
     },
     "metadata": {},
     "execution_count": 118
    }
   ],
   "source": [
    "z = (1.8-media)/desvio_padrao\n",
    "z"
   ]
  },
  {
   "cell_type": "markdown",
   "metadata": {
    "colab_type": "text",
    "id": "oj9sgHbkG3Eb"
   },
   "source": [
    "### Solução 1 - Utilizando tabela"
   ]
  },
  {
   "cell_type": "code",
   "execution_count": 119,
   "metadata": {
    "colab": {
     "base_uri": "https://localhost:8080/",
     "height": 34
    },
    "colab_type": "code",
    "id": "ReDTH3WgG3Ec",
    "outputId": "ec542c14-9cd4-405d-a899-dfa92493aa84"
   },
   "outputs": [
    {
     "output_type": "execute_result",
     "data": {
      "text/plain": [
       "84.13000000000001"
      ]
     },
     "metadata": {},
     "execution_count": 119
    }
   ],
   "source": [
    "probabilidade = 0.8413*100\n",
    "probabilidade"
   ]
  },
  {
   "cell_type": "markdown",
   "metadata": {
    "colab_type": "text",
    "id": "4ud0OnQOG3Eh"
   },
   "source": [
    "### Solução 2 - Utilizando Scipy"
   ]
  },
  {
   "cell_type": "code",
   "execution_count": 120,
   "metadata": {
    "colab": {
     "base_uri": "https://localhost:8080/",
     "height": 34
    },
    "colab_type": "code",
    "id": "sx7riZVlG3Ei",
    "outputId": "c321c9f8-a1a8-44f8-977b-492d2ec65152"
   },
   "outputs": [
    {
     "output_type": "execute_result",
     "data": {
      "text/plain": [
       "84.13447460685431"
      ]
     },
     "metadata": {},
     "execution_count": 120
    }
   ],
   "source": [
    "from scipy.stats import norm\n",
    "norm.cdf(z)*100"
   ]
  },
  {
   "cell_type": "code",
   "execution_count": 121,
   "metadata": {},
   "outputs": [
    {
     "output_type": "execute_result",
     "data": {
      "text/plain": [
       "99.86501019683699"
      ]
     },
     "metadata": {},
     "execution_count": 121
    }
   ],
   "source": [
    "#A aplicação de uma prova de estatística em um concurso apresentou um conjunto de notas normalmente distribuídas. Verificou-se que o conjunto de notas tinha média 70 e desvio padrão de 5 pontos.Qual a probabilidade de um aluno, selecionado ao acaso, ter nota menor que 85?\n",
    "\n",
    "media = 70\n",
    "desvio_padrao = 5\n",
    "Z = (85 - media) / desvio_padrao\n",
    "\n",
    "norm.cdf(Z)*100\n"
   ]
  },
  {
   "cell_type": "markdown",
   "metadata": {
    "colab_type": "text",
    "id": "ZsnMjGzJG3Ep"
   },
   "source": [
    "### Problema B - Identificação da área sob a curva"
   ]
  },
  {
   "cell_type": "markdown",
   "metadata": {
    "colab_type": "text",
    "id": "LN2HY-UCG3Ep"
   },
   "source": [
    "<img style='float: left' src='https://caelum-online-public.s3.amazonaws.com/1178-estatistica-parte2/01/img005.png' width='350px'>"
   ]
  },
  {
   "cell_type": "markdown",
   "metadata": {
    "colab_type": "text",
    "id": "FS6WNg88G3Eq"
   },
   "source": [
    "### Obter a variável padronizada $Z$"
   ]
  },
  {
   "cell_type": "code",
   "execution_count": 122,
   "metadata": {},
   "outputs": [],
   "source": [
    "desvio_padrao =0.1\n",
    "media = 1.7\n"
   ]
  },
  {
   "cell_type": "code",
   "execution_count": 123,
   "metadata": {
    "colab": {
     "base_uri": "https://localhost:8080/",
     "height": 34
    },
    "colab_type": "code",
    "id": "mxPsPIOYG3Er",
    "outputId": "d86de31f-1ca0-443c-8ed6-81edfe5d36f4"
   },
   "outputs": [
    {
     "output_type": "execute_result",
     "data": {
      "text/plain": [
       "-1.0"
      ]
     },
     "metadata": {},
     "execution_count": 123
    }
   ],
   "source": [
    "z_inferiror = (1.6-media)/desvio_padrao\n",
    "round(z_inferiror,2)"
   ]
  },
  {
   "cell_type": "code",
   "execution_count": 124,
   "metadata": {
    "colab": {
     "base_uri": "https://localhost:8080/",
     "height": 34
    },
    "colab_type": "code",
    "id": "s0Vf0GXHG3Et",
    "outputId": "5237e5e2-547b-4cbf-a5da-52bd4933f6a1"
   },
   "outputs": [
    {
     "output_type": "execute_result",
     "data": {
      "text/plain": [
       "1.0"
      ]
     },
     "metadata": {},
     "execution_count": 124
    }
   ],
   "source": [
    "z_Superior = (1.8-media)/desvio_padrao\n",
    "round(z_Superior,2)"
   ]
  },
  {
   "cell_type": "markdown",
   "metadata": {
    "colab_type": "text",
    "id": "MseXjmZ7G3E0"
   },
   "source": [
    "### Solução 1 - Utilizando tabela"
   ]
  },
  {
   "cell_type": "code",
   "execution_count": 125,
   "metadata": {
    "colab": {
     "base_uri": "https://localhost:8080/",
     "height": 34
    },
    "colab_type": "code",
    "id": "swZ6SVQGG3E0",
    "outputId": "53e30c74-5ec5-4737-f928-600388bfe570"
   },
   "outputs": [
    {
     "output_type": "execute_result",
     "data": {
      "text/plain": [
       "0.6826000000000001"
      ]
     },
     "metadata": {},
     "execution_count": 125
    }
   ],
   "source": [
    "probabilidade = (0.8413 - 0.5)*2\n",
    "probabilidade "
   ]
  },
  {
   "cell_type": "code",
   "execution_count": 126,
   "metadata": {
    "colab": {
     "base_uri": "https://localhost:8080/",
     "height": 34
    },
    "colab_type": "code",
    "id": "oNfZZRBdGy2G",
    "outputId": "408ee333-2e8e-4058-fe74-a75b715eedf8"
   },
   "outputs": [
    {
     "output_type": "execute_result",
     "data": {
      "text/plain": [
       "0.6826000000000001"
      ]
     },
     "metadata": {},
     "execution_count": 126
    }
   ],
   "source": [
    "probabilidade = (0.8413 - (1 -0.8413 ))\n",
    "probabilidade "
   ]
  },
  {
   "cell_type": "markdown",
   "metadata": {
    "colab_type": "text",
    "id": "y5e4zAifG3E2"
   },
   "source": [
    "### Solução 2 - Utilizando Scipy"
   ]
  },
  {
   "cell_type": "code",
   "execution_count": 127,
   "metadata": {
    "colab": {
     "base_uri": "https://localhost:8080/",
     "height": 34
    },
    "colab_type": "code",
    "id": "hcps6lkNG3E3",
    "outputId": "c8de38f1-8411-408c-862c-7aa6e099e43f"
   },
   "outputs": [
    {
     "output_type": "execute_result",
     "data": {
      "text/plain": [
       "0.6826894921370863"
      ]
     },
     "metadata": {},
     "execution_count": 127
    }
   ],
   "source": [
    "probabilidade = norm.cdf(z_Superior) -( 1 - norm.cdf(z_Superior))\n",
    "probabilidade"
   ]
  },
  {
   "cell_type": "code",
   "execution_count": 128,
   "metadata": {
    "colab": {
     "base_uri": "https://localhost:8080/",
     "height": 34
    },
    "colab_type": "code",
    "id": "MjEfhnQEG3E5",
    "outputId": "4a6241c6-1b04-4c5f-b62d-9e98f412f3ad"
   },
   "outputs": [
    {
     "output_type": "execute_result",
     "data": {
      "text/plain": [
       "0.6826894921370857"
      ]
     },
     "metadata": {},
     "execution_count": 128
    }
   ],
   "source": [
    "probabilidade = norm.cdf(z_Superior) - norm.cdf(z_inferiror)\n",
    "probabilidade"
   ]
  },
  {
   "cell_type": "code",
   "execution_count": 129,
   "metadata": {},
   "outputs": [
    {
     "output_type": "stream",
     "name": "stdout",
     "text": [
      "68.27%\n2.27%\n"
     ]
    }
   ],
   "source": [
    "#O faturamento diário de um motorista de aplicativo segue uma distribuição aproximadamente normal, com média R$ 300,00 e desvio padrão igual a R$ 50,00. Obtenha as probabilidades de que, em um dia aleatório, o motorista ganhe:\n",
    "#1) Entre R$ 250,00 e R$ 350,00\n",
    "#2) Entre R$ 400,00 e R$ 500,00\n",
    "media = 300\n",
    "desvio_padrao = 50\n",
    "Z_inferior = (250 - media) / desvio_padrao\n",
    "Z_superior = (350 - media) / desvio_padrao\n",
    "\n",
    "probabilidade = norm.cdf(Z_superior) - norm.cdf(Z_inferior)\n",
    "print(\"{0:.2%}\".format(probabilidade))\n",
    "Z_inferior = (400 - media) / desvio_padrao\n",
    "Z_superior = (500 - media) / desvio_padrao\n",
    "\n",
    "probabilidade = norm.cdf(Z_superior) - norm.cdf(Z_inferior)\n",
    "print(\"{0:.2%}\".format(probabilidade))"
   ]
  },
  {
   "cell_type": "markdown",
   "metadata": {
    "colab_type": "text",
    "id": "05sqVgdaG3E-"
   },
   "source": [
    "### Problema C - Identificação da área sob a curva"
   ]
  },
  {
   "cell_type": "markdown",
   "metadata": {
    "colab_type": "text",
    "id": "EPKhGTEkG3E_"
   },
   "source": [
    "<img style='float: left' src='https://caelum-online-public.s3.amazonaws.com/1178-estatistica-parte2/01/img006.png' width='350px'>"
   ]
  },
  {
   "cell_type": "markdown",
   "metadata": {
    "colab_type": "text",
    "id": "BA6jYbsSG3E_"
   },
   "source": [
    "### Obter a variável padronizada $Z$"
   ]
  },
  {
   "cell_type": "code",
   "execution_count": 130,
   "metadata": {},
   "outputs": [],
   "source": [
    "desvio_padrao =0.1\n",
    "media = 1.7"
   ]
  },
  {
   "cell_type": "code",
   "execution_count": 131,
   "metadata": {
    "colab": {
     "base_uri": "https://localhost:8080/",
     "height": 34
    },
    "colab_type": "code",
    "id": "3OVj60MzG3E_",
    "outputId": "71f57b74-bc13-4493-f8ba-6f05a2a07041"
   },
   "outputs": [
    {
     "output_type": "execute_result",
     "data": {
      "text/plain": [
       "1.9999999999999996"
      ]
     },
     "metadata": {},
     "execution_count": 131
    }
   ],
   "source": [
    "Z = (1.9 - media)/desvio_padrao\n",
    "Z"
   ]
  },
  {
   "cell_type": "markdown",
   "metadata": {
    "colab_type": "text",
    "id": "hCiiWAm_G3FC"
   },
   "source": [
    "### Solução 1 - Utilizando tabela"
   ]
  },
  {
   "cell_type": "code",
   "execution_count": 132,
   "metadata": {
    "colab": {
     "base_uri": "https://localhost:8080/",
     "height": 34
    },
    "colab_type": "code",
    "id": "mSNfoO6VG3FC",
    "outputId": "da00edc8-cd0e-42ae-a27f-02082230f9e6"
   },
   "outputs": [
    {
     "output_type": "execute_result",
     "data": {
      "text/plain": [
       "2.3299999999999987"
      ]
     },
     "metadata": {},
     "execution_count": 132
    }
   ],
   "source": [
    "probabilidade = 1- 0.9767\n",
    "probabilidade*100"
   ]
  },
  {
   "cell_type": "markdown",
   "metadata": {
    "colab_type": "text",
    "id": "QCyoVXOdG3FF"
   },
   "source": [
    "### Solução 2 - Utilizando Scipy"
   ]
  },
  {
   "cell_type": "code",
   "execution_count": 133,
   "metadata": {
    "colab": {
     "base_uri": "https://localhost:8080/",
     "height": 34
    },
    "colab_type": "code",
    "id": "caIE-t83G3FF",
    "outputId": "224b72ff-7edd-4b66-a24e-a1f89e4685c9"
   },
   "outputs": [
    {
     "output_type": "execute_result",
     "data": {
      "text/plain": [
       "2.275013194817921"
      ]
     },
     "metadata": {},
     "execution_count": 133
    }
   ],
   "source": [
    "probabilidade =  1 - norm.cdf(Z)\n",
    "probabilidade * 100"
   ]
  },
  {
   "cell_type": "code",
   "execution_count": 134,
   "metadata": {
    "colab": {
     "base_uri": "https://localhost:8080/",
     "height": 34
    },
    "colab_type": "code",
    "id": "wKjqQGgMG3FI",
    "outputId": "7ef30837-195e-4f5b-9bef-68fceaff2397"
   },
   "outputs": [
    {
     "output_type": "execute_result",
     "data": {
      "text/plain": [
       "2.2750131948179217"
      ]
     },
     "metadata": {},
     "execution_count": 134
    }
   ],
   "source": [
    "probabilidade =   norm.cdf(-Z)\n",
    "probabilidade *100"
   ]
  },
  {
   "cell_type": "code",
   "execution_count": 135,
   "metadata": {},
   "outputs": [
    {
     "output_type": "stream",
     "name": "stdout",
     "text": [
      "83.15%\n0.38%\n25.25%\n"
     ]
    }
   ],
   "source": [
    "#O Inmetro verificou que as lâmpadas incandescentes da fabricante XPTO apresentam uma vida útil normalmente distribuída, com média igual a 720 dias e desvio padrão igual a 30 dias. Calcule a probabilidade de uma lâmpada, escolhida ao acaso, durar:\n",
    "#1) Entre 650 e 750 dias\n",
    "#2) Mais que 800 dias\n",
    "#3) Menos que 700 dias\n",
    "media = 720\n",
    "desvio_padrao = 30 \n",
    "# Item A\n",
    "Z_inferior = (650 - media) / desvio_padrao\n",
    "Z_superior = (750 - media) / desvio_padrao\n",
    "\n",
    "probabilidade = norm.cdf(Z_superior) - norm.cdf(Z_inferior)\n",
    "print(\"{0:.2%}\".format(probabilidade))\n",
    "\n",
    "# Item B\n",
    "Z = (800 - media) / desvio_padrao\n",
    "\n",
    "probabilidade = 1 - norm.cdf(Z)\n",
    "print(\"{0:.2%}\".format(probabilidade))\n",
    "\n",
    "# Item C\n",
    "Z = (700 - media) / desvio_padrao\n",
    "\n",
    "probabilidade = norm.cdf(Z)\n",
    "print(\"{0:.2%}\".format(probabilidade))"
   ]
  },
  {
   "cell_type": "code",
   "execution_count": 136,
   "metadata": {},
   "outputs": [
    {
     "output_type": "stream",
     "name": "stdout",
     "text": [
      "0.9750\n0.0158\n0.2177\n0.2776\n"
     ]
    }
   ],
   "source": [
    "# Utilizando a tabela padronizada, ou o ferramental disponibilizado pelo Python, encontre a área sob a curva normal para os valores de Z abaixo:\n",
    "\n",
    "#1) Z < 1,96\n",
    "#2) Z > 2,15\n",
    "#3) Z < -0,78\n",
    "#4) Z > 0,59\n",
    "\n",
    "# Item A\n",
    "probabilidade = norm.cdf(1.96)\n",
    "print(\"{0:0.4f}\".format(probabilidade))\n",
    "\n",
    "# Item B\n",
    "probabilidade = 1 - norm.cdf(2.15)\n",
    "# ou -> probabilidade = norm.sf(2.15)\n",
    "print(\"{0:0.4f}\".format(probabilidade))\n",
    "\n",
    "# Item C\n",
    "probabilidade = norm.cdf(-0.78)\n",
    "print(\"{0:0.4f}\".format(probabilidade))\n",
    "\n",
    "# Item D\n",
    "probabilidade = 1 - norm.cdf(0.59)\n",
    "# ou -> probabilidade = norm.sf(0.59)\n",
    "print(\"{0:0.4f}\".format(probabilidade))"
   ]
  },
  {
   "cell_type": "markdown",
   "metadata": {
    "colab_type": "text",
    "id": "GmmzChE2t4wW"
   },
   "source": [
    "# <font color=green>3 AMOSTRAGEM</font>\n",
    "***"
   ]
  },
  {
   "cell_type": "markdown",
   "metadata": {
    "colab_type": "text",
    "id": "g8PbtmQZt4Wv"
   },
   "source": [
    "## <font color=green>3.1 População e Amostra</font>\n",
    "***"
   ]
  },
  {
   "cell_type": "markdown",
   "metadata": {
    "colab_type": "text",
    "id": "sedD5gB9G3FV"
   },
   "source": [
    "### População\n",
    "Conjunto de todos os elementos de interesse em um estudo. Diversos elementos podem compor uma população, por exemplo: pessoas, idades, alturas, carros etc.\n",
    "\n",
    "Com relação ao tamanho, as populações podem ser limitadas (populações finitas) ou ilimitadas (populações infinitas)."
   ]
  },
  {
   "cell_type": "markdown",
   "metadata": {
    "colab_type": "text",
    "id": "XBFhAWNcG3FW"
   },
   "source": [
    "### Populações finitas\n",
    "\n",
    "Permitem a contagem de seus elementos. Como exemplos temos o número de funcionário de uma empresa, a quantidade de alunos em uma escola etc."
   ]
  },
  {
   "cell_type": "markdown",
   "metadata": {
    "colab_type": "text",
    "id": "YT8V2GB1G3FW"
   },
   "source": [
    "### Populações infinitas\n",
    "\n",
    "Não é possível contar seus elementos. Como exemplos temos a quantidade de porções que se pode extrair da água do mar para uma análise, temperatura medida em cada ponto de um território etc.\n",
    "\n",
    "<font color=red>Quando os elementos de uma população puderem ser contados, porém apresentando uma quantidade muito grande, assume-se a população como infinita.</font>."
   ]
  },
  {
   "cell_type": "markdown",
   "metadata": {
    "colab_type": "text",
    "id": "a-WtAXv1G3FX"
   },
   "source": [
    "### Amostra\n",
    "Subconjunto representativo da população."
   ]
  },
  {
   "cell_type": "markdown",
   "metadata": {
    "colab_type": "text",
    "id": "QWnDYpPSG3FX"
   },
   "source": [
    "Os atributos numéricos de uma população como sua média, variância e desvio padrão, são conhecidos como **parâmetros**. O principal foco da inferência estatística é justamente gerar estimativas e testar hipóteses sobre os parâmetros populacionais utilizando as informações de amostras."
   ]
  },
  {
   "cell_type": "markdown",
   "metadata": {
    "colab_type": "text",
    "id": "dDz6vFbDG3FZ"
   },
   "source": [
    "## <font color=green>3.2 Quando utilizar uma amostra?</font>\n",
    "***"
   ]
  },
  {
   "cell_type": "markdown",
   "metadata": {
    "colab_type": "text",
    "id": "5X1YwCGlG3Fe"
   },
   "source": [
    "### Populações infinitas\n",
    "\n",
    "O estudo não chegaria nunca ao fim. Não é possível investigar todos os elementos da população."
   ]
  },
  {
   "cell_type": "markdown",
   "metadata": {
    "colab_type": "text",
    "id": "jHLtG8HSG3Ff"
   },
   "source": [
    "### Testes destrutivos\n",
    "\n",
    "Estudos onde os elementos avaliados são totalmente consumidos ou destruídos. Exemplo: testes de vida útil, testes de segurança contra colisões em automóveis."
   ]
  },
  {
   "cell_type": "markdown",
   "metadata": {
    "colab_type": "text",
    "id": "lxYxepmdG3Ff"
   },
   "source": [
    "### Resultados rápidos\n",
    "\n",
    "Pesquisas que precisam de mais agilidade na divulgação. Exemplo: pesquisas de opinião, pesquisas que envolvam problemas de saúde pública."
   ]
  },
  {
   "cell_type": "markdown",
   "metadata": {
    "colab_type": "text",
    "id": "PeUCGL5nG3Fj"
   },
   "source": [
    "### Custos elevados\n",
    "\n",
    "Quando a população é finita mas muito numerosa, o custo de um censo pode tornar o processo inviável."
   ]
  },
  {
   "cell_type": "markdown",
   "metadata": {
    "colab_type": "text",
    "id": "1sbJeMpSG3Fj"
   },
   "source": [
    "## <font color=green>3.3 Amostragem Aleatória Simples</font>\n",
    "***"
   ]
  },
  {
   "cell_type": "markdown",
   "metadata": {
    "colab_type": "text",
    "id": "Kiq9cYMYG3Fp"
   },
   "source": [
    "É uma das principais maneiras de se extrair uma amostra de uma população. A exigência fundamental deste tipo de abordagem é que cada elemeto da população tenha as mesmas chances de ser selecionado para fazer parte da amostra."
   ]
  },
  {
   "cell_type": "code",
   "execution_count": 137,
   "metadata": {
    "colab": {
     "base_uri": "https://localhost:8080/",
     "height": 34
    },
    "colab_type": "code",
    "id": "NtQ8HOYdG3Fq",
    "outputId": "d746a965-c212-4b99-ac1f-a7741b13544f"
   },
   "outputs": [
    {
     "output_type": "execute_result",
     "data": {
      "text/plain": [
       "76840"
      ]
     },
     "metadata": {},
     "execution_count": 137
    }
   ],
   "source": [
    "dados.shape[0]"
   ]
  },
  {
   "cell_type": "code",
   "execution_count": 138,
   "metadata": {
    "colab": {
     "base_uri": "https://localhost:8080/",
     "height": 34
    },
    "colab_type": "code",
    "id": "DsXJHWhMG3Fs",
    "outputId": "b5e5d083-2d89-4f31-e8dd-5ae48375a81c"
   },
   "outputs": [
    {
     "output_type": "execute_result",
     "data": {
      "text/plain": [
       "2000.3831988547631"
      ]
     },
     "metadata": {},
     "execution_count": 138
    }
   ],
   "source": [
    "dados.Renda.mean()"
   ]
  },
  {
   "cell_type": "code",
   "execution_count": 139,
   "metadata": {
    "colab": {},
    "colab_type": "code",
    "id": "k7yJucVMG3Fw"
   },
   "outputs": [],
   "source": [
    "amostra = dados.sample( n = 100, random_state=101 ) # Criando uma amostra com 100 dados random_state = seed da amostra \n"
   ]
  },
  {
   "cell_type": "code",
   "execution_count": 140,
   "metadata": {
    "colab": {
     "base_uri": "https://localhost:8080/",
     "height": 34
    },
    "colab_type": "code",
    "id": "wUyXS65sG3F2",
    "outputId": "d3440aaa-c46f-4d44-8d29-5ab5a3c914a1"
   },
   "outputs": [
    {
     "output_type": "execute_result",
     "data": {
      "text/plain": [
       "100"
      ]
     },
     "metadata": {},
     "execution_count": 140
    }
   ],
   "source": [
    "amostra.shape[0]"
   ]
  },
  {
   "cell_type": "code",
   "execution_count": 141,
   "metadata": {
    "colab": {
     "base_uri": "https://localhost:8080/",
     "height": 34
    },
    "colab_type": "code",
    "id": "y0J4UtOwG3F5",
    "outputId": "f2d60d13-3544-4787-a3b4-876b02666da1"
   },
   "outputs": [
    {
     "output_type": "execute_result",
     "data": {
      "text/plain": [
       "2150.85"
      ]
     },
     "metadata": {},
     "execution_count": 141
    }
   ],
   "source": [
    "amostra.Renda.mean()"
   ]
  },
  {
   "cell_type": "code",
   "execution_count": 142,
   "metadata": {
    "colab": {
     "base_uri": "https://localhost:8080/",
     "height": 68
    },
    "colab_type": "code",
    "id": "WGZT_wnjSgPy",
    "outputId": "f905ff8a-84f8-45d5-d232-927630754b70"
   },
   "outputs": [
    {
     "output_type": "execute_result",
     "data": {
      "text/plain": [
       "0    0.692998\n",
       "1    0.307002\n",
       "Name: Sexo, dtype: float64"
      ]
     },
     "metadata": {},
     "execution_count": 142
    }
   ],
   "source": [
    "dados.Sexo.value_counts(normalize=True) # colocando a porcentagem de cada sexo "
   ]
  },
  {
   "cell_type": "code",
   "execution_count": 143,
   "metadata": {
    "colab": {
     "base_uri": "https://localhost:8080/",
     "height": 68
    },
    "colab_type": "code",
    "id": "1la3Y_reSgEM",
    "outputId": "4611d1f3-3903-454b-e136-fb21c708be03"
   },
   "outputs": [
    {
     "output_type": "execute_result",
     "data": {
      "text/plain": [
       "0    0.69\n",
       "1    0.31\n",
       "Name: Sexo, dtype: float64"
      ]
     },
     "metadata": {},
     "execution_count": 143
    }
   ],
   "source": [
    "amostra.Sexo.value_counts(normalize=True)"
   ]
  },
  {
   "cell_type": "markdown",
   "metadata": {
    "colab_type": "text",
    "id": "stcKhnJBG3F7"
   },
   "source": [
    "## <font color=green>3.4 Amostragem Estratificada</font>\n",
    "***"
   ]
  },
  {
   "cell_type": "markdown",
   "metadata": {
    "colab_type": "text",
    "id": "W1uEZMRIG3GA"
   },
   "source": [
    "É uma melhoria do processo de amostragem aleatória simples. Neste método é proposta a divisão da população em subgrupos de elementos com características similares, ou seja, grupos mais homogêneos. Com estes subgrupos separados, aplica-se a técnica de amostragem aleatória simples dentro de cada subgrupo individualmente."
   ]
  },
  {
   "cell_type": "markdown",
   "metadata": {
    "colab_type": "text",
    "id": "xRjUHDAbG3GB"
   },
   "source": [
    "## <font color=green>3.5 Amostragem por Conglomerados</font>\n",
    "***"
   ]
  },
  {
   "cell_type": "markdown",
   "metadata": {
    "colab_type": "text",
    "id": "sW9IuaL9G3GH"
   },
   "source": [
    "Também visa melhorar o critério de amostragem aleatória simples. Na amostragem por conglomerados são também criados subgrupos, porém não serão homogêneas como na amostragem estratificada. Na amostragem por conglomerados os subgrupos serão heterogêneos, onde, em seguida, serão aplicadas a amostragem aleatória simples ou estratificada.\n",
    "\n",
    "Um exemplo bastante comum de aplicação deste tipo de técnica é na divisão da população em grupos territoriais, onde os elementos investigados terão características bastante variadas."
   ]
  },
  {
   "cell_type": "markdown",
   "metadata": {
    "colab_type": "text",
    "id": "2LNJT4FEuzO4"
   },
   "source": [
    "# <font color=green>4 ESTIMAÇÃO</font>\n",
    "***"
   ]
  },
  {
   "cell_type": "markdown",
   "metadata": {
    "colab_type": "text",
    "id": "z69W2sVGmybS"
   },
   "source": [
    "## <font color='red'>Problema </font>"
   ]
  },
  {
   "cell_type": "markdown",
   "metadata": {
    "colab_type": "text",
    "id": "ytP6VpismwDY"
   },
   "source": [
    "Suponha que os pesos dos sacos de arroz de uma indústria alimentícia se distribuem aproximadamente como uma normal de **desvio padrão populacional igual a 150 g**. Selecionada uma **amostra aleatório de 20 sacos** de um lote específico, obteve-se um **peso médio de 5.050 g**. Construa um **intervalo de confiança para a média populacional** assumindo um **nível de significância de 5%**."
   ]
  },
  {
   "cell_type": "markdown",
   "metadata": {
    "colab_type": "text",
    "id": "PCqEvJMOwvUf"
   },
   "source": [
    "---"
   ]
  },
  {
   "cell_type": "markdown",
   "metadata": {
    "colab_type": "text",
    "id": "HU578SXBG3GN"
   },
   "source": [
    "É a forma de se fazer suposições generalizadas sobre os parâmetros de uma população tendo como base as informações de uma amostra.\n",
    "\n",
    "- **Parâmetros** são os atributos numéricos de uma população, tal como a média, desvio padrão etc.\n",
    "\n",
    "- **Estimativa** é o valor obtido para determinado parâmetro a partir dos dados de uma amostra da população."
   ]
  },
  {
   "cell_type": "markdown",
   "metadata": {
    "colab_type": "text",
    "id": "klWVkoUDG3GR"
   },
   "source": [
    "## <font color=green>4.1 Teorema do limite central</font>\n",
    "***"
   ]
  },
  {
   "cell_type": "markdown",
   "metadata": {
    "colab_type": "text",
    "id": "QpgTvbISG3GU"
   },
   "source": [
    "> O **Teorema do Limite Central** afirma que, com o aumento do tamanho da amostra, a distribuição das médias amostrais se aproxima de uma distribuição normal com média igual à média da população e desvio padrão igual ao desvio padrão da variável original dividido pela raiz quadrada do tamanho da amostra. Este fato é assegurado para $n$ maior ou igual a 30."
   ]
  },
  {
   "cell_type": "markdown",
   "metadata": {
    "colab_type": "text",
    "id": "ZIAr6is3wEMp"
   },
   "source": [
    "# $$\\sigma_\\bar{x} = \\frac{\\sigma}{\\sqrt{n}}$$\n",
    "\n",
    "O desvio padrão das médias amostrais é conhecido como **erro padrão da média**"
   ]
  },
  {
   "cell_type": "markdown",
   "metadata": {
    "colab_type": "text",
    "id": "eFtSo6H0iz7z"
   },
   "source": [
    "### Entendendo o Teorema do Limite Central"
   ]
  },
  {
   "cell_type": "code",
   "execution_count": 144,
   "metadata": {
    "colab": {},
    "colab_type": "code",
    "id": "S3q73XpnizTi"
   },
   "outputs": [],
   "source": [
    "n = 2000 \n",
    "total_de_amostras = 1500"
   ]
  },
  {
   "cell_type": "code",
   "execution_count": 145,
   "metadata": {
    "colab": {
     "base_uri": "https://localhost:8080/",
     "height": 32
    },
    "colab_type": "code",
    "id": "uXZvARZ0izQp",
    "outputId": "84cfa6fa-e581-4cb6-bb4c-b622db1e85cd"
   },
   "outputs": [
    {
     "output_type": "execute_result",
     "data": {
      "text/plain": [
       "Empty DataFrame\n",
       "Columns: []\n",
       "Index: []"
      ],
      "text/html": "<div>\n<style scoped>\n    .dataframe tbody tr th:only-of-type {\n        vertical-align: middle;\n    }\n\n    .dataframe tbody tr th {\n        vertical-align: top;\n    }\n\n    .dataframe thead th {\n        text-align: right;\n    }\n</style>\n<table border=\"1\" class=\"dataframe\">\n  <thead>\n    <tr style=\"text-align: right;\">\n      <th></th>\n    </tr>\n  </thead>\n  <tbody>\n  </tbody>\n</table>\n</div>"
     },
     "metadata": {},
     "execution_count": 145
    }
   ],
   "source": [
    "amostra =pd.DataFrame()\n",
    "amostra"
   ]
  },
  {
   "cell_type": "code",
   "execution_count": 146,
   "metadata": {
    "colab": {
     "base_uri": "https://localhost:8080/",
     "height": 1989
    },
    "colab_type": "code",
    "id": "tXa7XKhKTyMu",
    "outputId": "2fe05b86-ecc8-48af-be13-17e8c7c235ce",
    "scrolled": true
   },
   "outputs": [
    {
     "output_type": "execute_result",
     "data": {
      "text/plain": [
       "      Amostra_0  Amostra_1  Amostra_2  Amostra_3  Amostra_4  Amostra_5  \\\n",
       "0            37         46         75         25         43         49   \n",
       "1            28         29         37         46         31         51   \n",
       "2            30         23         37         42         52         41   \n",
       "3            43         32         70         56         27         27   \n",
       "4            47         45         27         28         34         38   \n",
       "...         ...        ...        ...        ...        ...        ...   \n",
       "1995         45         44         50         34         65         40   \n",
       "1996         29         56         33         35         80         67   \n",
       "1997         64         38         40         26         53         54   \n",
       "1998         49         42         36         42         27         76   \n",
       "1999         48         22         50         27         25         27   \n",
       "\n",
       "      Amostra_6  Amostra_7  Amostra_8  Amostra_9  ...  Amostra_1490  \\\n",
       "0            64         51         49         32  ...            55   \n",
       "1            51         20         36         50  ...            38   \n",
       "2            47         55         56         54  ...            35   \n",
       "3            46         56         46         50  ...            54   \n",
       "4            48         41         27         73  ...            45   \n",
       "...         ...        ...        ...        ...  ...           ...   \n",
       "1995         64         41         40         26  ...            55   \n",
       "1996         31         37         58         28  ...            51   \n",
       "1997         39         62         30         58  ...            53   \n",
       "1998         33         29         50         48  ...            39   \n",
       "1999         49         49         50         65  ...            28   \n",
       "\n",
       "      Amostra_1491  Amostra_1492  Amostra_1493  Amostra_1494  Amostra_1495  \\\n",
       "0               47            30            50            32            26   \n",
       "1               42            37            50            49            45   \n",
       "2               44            36            55            29            35   \n",
       "3               18            38            71            47            39   \n",
       "4               68            62            24            16            41   \n",
       "...            ...           ...           ...           ...           ...   \n",
       "1995            38            74            22            38            34   \n",
       "1996            42            35            33            61            44   \n",
       "1997            40            58            44            36            39   \n",
       "1998            55            35            56            37            36   \n",
       "1999            43            41            55            40            49   \n",
       "\n",
       "      Amostra_1496  Amostra_1497  Amostra_1498  Amostra_1499  \n",
       "0               55            55            42            63  \n",
       "1               26            22            60            48  \n",
       "2               37            38            43            29  \n",
       "3               54            36            49            56  \n",
       "4               54            44            64            53  \n",
       "...            ...           ...           ...           ...  \n",
       "1995            41            29            52            31  \n",
       "1996            41            61            28            44  \n",
       "1997            55            42            30            44  \n",
       "1998            26            30            31            40  \n",
       "1999            46            39            26            32  \n",
       "\n",
       "[2000 rows x 1500 columns]"
      ],
      "text/html": "<div>\n<style scoped>\n    .dataframe tbody tr th:only-of-type {\n        vertical-align: middle;\n    }\n\n    .dataframe tbody tr th {\n        vertical-align: top;\n    }\n\n    .dataframe thead th {\n        text-align: right;\n    }\n</style>\n<table border=\"1\" class=\"dataframe\">\n  <thead>\n    <tr style=\"text-align: right;\">\n      <th></th>\n      <th>Amostra_0</th>\n      <th>Amostra_1</th>\n      <th>Amostra_2</th>\n      <th>Amostra_3</th>\n      <th>Amostra_4</th>\n      <th>Amostra_5</th>\n      <th>Amostra_6</th>\n      <th>Amostra_7</th>\n      <th>Amostra_8</th>\n      <th>Amostra_9</th>\n      <th>...</th>\n      <th>Amostra_1490</th>\n      <th>Amostra_1491</th>\n      <th>Amostra_1492</th>\n      <th>Amostra_1493</th>\n      <th>Amostra_1494</th>\n      <th>Amostra_1495</th>\n      <th>Amostra_1496</th>\n      <th>Amostra_1497</th>\n      <th>Amostra_1498</th>\n      <th>Amostra_1499</th>\n    </tr>\n  </thead>\n  <tbody>\n    <tr>\n      <th>0</th>\n      <td>37</td>\n      <td>46</td>\n      <td>75</td>\n      <td>25</td>\n      <td>43</td>\n      <td>49</td>\n      <td>64</td>\n      <td>51</td>\n      <td>49</td>\n      <td>32</td>\n      <td>...</td>\n      <td>55</td>\n      <td>47</td>\n      <td>30</td>\n      <td>50</td>\n      <td>32</td>\n      <td>26</td>\n      <td>55</td>\n      <td>55</td>\n      <td>42</td>\n      <td>63</td>\n    </tr>\n    <tr>\n      <th>1</th>\n      <td>28</td>\n      <td>29</td>\n      <td>37</td>\n      <td>46</td>\n      <td>31</td>\n      <td>51</td>\n      <td>51</td>\n      <td>20</td>\n      <td>36</td>\n      <td>50</td>\n      <td>...</td>\n      <td>38</td>\n      <td>42</td>\n      <td>37</td>\n      <td>50</td>\n      <td>49</td>\n      <td>45</td>\n      <td>26</td>\n      <td>22</td>\n      <td>60</td>\n      <td>48</td>\n    </tr>\n    <tr>\n      <th>2</th>\n      <td>30</td>\n      <td>23</td>\n      <td>37</td>\n      <td>42</td>\n      <td>52</td>\n      <td>41</td>\n      <td>47</td>\n      <td>55</td>\n      <td>56</td>\n      <td>54</td>\n      <td>...</td>\n      <td>35</td>\n      <td>44</td>\n      <td>36</td>\n      <td>55</td>\n      <td>29</td>\n      <td>35</td>\n      <td>37</td>\n      <td>38</td>\n      <td>43</td>\n      <td>29</td>\n    </tr>\n    <tr>\n      <th>3</th>\n      <td>43</td>\n      <td>32</td>\n      <td>70</td>\n      <td>56</td>\n      <td>27</td>\n      <td>27</td>\n      <td>46</td>\n      <td>56</td>\n      <td>46</td>\n      <td>50</td>\n      <td>...</td>\n      <td>54</td>\n      <td>18</td>\n      <td>38</td>\n      <td>71</td>\n      <td>47</td>\n      <td>39</td>\n      <td>54</td>\n      <td>36</td>\n      <td>49</td>\n      <td>56</td>\n    </tr>\n    <tr>\n      <th>4</th>\n      <td>47</td>\n      <td>45</td>\n      <td>27</td>\n      <td>28</td>\n      <td>34</td>\n      <td>38</td>\n      <td>48</td>\n      <td>41</td>\n      <td>27</td>\n      <td>73</td>\n      <td>...</td>\n      <td>45</td>\n      <td>68</td>\n      <td>62</td>\n      <td>24</td>\n      <td>16</td>\n      <td>41</td>\n      <td>54</td>\n      <td>44</td>\n      <td>64</td>\n      <td>53</td>\n    </tr>\n    <tr>\n      <th>...</th>\n      <td>...</td>\n      <td>...</td>\n      <td>...</td>\n      <td>...</td>\n      <td>...</td>\n      <td>...</td>\n      <td>...</td>\n      <td>...</td>\n      <td>...</td>\n      <td>...</td>\n      <td>...</td>\n      <td>...</td>\n      <td>...</td>\n      <td>...</td>\n      <td>...</td>\n      <td>...</td>\n      <td>...</td>\n      <td>...</td>\n      <td>...</td>\n      <td>...</td>\n      <td>...</td>\n    </tr>\n    <tr>\n      <th>1995</th>\n      <td>45</td>\n      <td>44</td>\n      <td>50</td>\n      <td>34</td>\n      <td>65</td>\n      <td>40</td>\n      <td>64</td>\n      <td>41</td>\n      <td>40</td>\n      <td>26</td>\n      <td>...</td>\n      <td>55</td>\n      <td>38</td>\n      <td>74</td>\n      <td>22</td>\n      <td>38</td>\n      <td>34</td>\n      <td>41</td>\n      <td>29</td>\n      <td>52</td>\n      <td>31</td>\n    </tr>\n    <tr>\n      <th>1996</th>\n      <td>29</td>\n      <td>56</td>\n      <td>33</td>\n      <td>35</td>\n      <td>80</td>\n      <td>67</td>\n      <td>31</td>\n      <td>37</td>\n      <td>58</td>\n      <td>28</td>\n      <td>...</td>\n      <td>51</td>\n      <td>42</td>\n      <td>35</td>\n      <td>33</td>\n      <td>61</td>\n      <td>44</td>\n      <td>41</td>\n      <td>61</td>\n      <td>28</td>\n      <td>44</td>\n    </tr>\n    <tr>\n      <th>1997</th>\n      <td>64</td>\n      <td>38</td>\n      <td>40</td>\n      <td>26</td>\n      <td>53</td>\n      <td>54</td>\n      <td>39</td>\n      <td>62</td>\n      <td>30</td>\n      <td>58</td>\n      <td>...</td>\n      <td>53</td>\n      <td>40</td>\n      <td>58</td>\n      <td>44</td>\n      <td>36</td>\n      <td>39</td>\n      <td>55</td>\n      <td>42</td>\n      <td>30</td>\n      <td>44</td>\n    </tr>\n    <tr>\n      <th>1998</th>\n      <td>49</td>\n      <td>42</td>\n      <td>36</td>\n      <td>42</td>\n      <td>27</td>\n      <td>76</td>\n      <td>33</td>\n      <td>29</td>\n      <td>50</td>\n      <td>48</td>\n      <td>...</td>\n      <td>39</td>\n      <td>55</td>\n      <td>35</td>\n      <td>56</td>\n      <td>37</td>\n      <td>36</td>\n      <td>26</td>\n      <td>30</td>\n      <td>31</td>\n      <td>40</td>\n    </tr>\n    <tr>\n      <th>1999</th>\n      <td>48</td>\n      <td>22</td>\n      <td>50</td>\n      <td>27</td>\n      <td>25</td>\n      <td>27</td>\n      <td>49</td>\n      <td>49</td>\n      <td>50</td>\n      <td>65</td>\n      <td>...</td>\n      <td>28</td>\n      <td>43</td>\n      <td>41</td>\n      <td>55</td>\n      <td>40</td>\n      <td>49</td>\n      <td>46</td>\n      <td>39</td>\n      <td>26</td>\n      <td>32</td>\n    </tr>\n  </tbody>\n</table>\n<p>2000 rows × 1500 columns</p>\n</div>"
     },
     "metadata": {},
     "execution_count": 146
    }
   ],
   "source": [
    "for i in range(total_de_amostras):\n",
    "    _ = dados.Idade.sample(n)\n",
    "    _.index = range(0,len(_))\n",
    "    amostra['Amostra_' + str(i)]  = _ \n",
    "amostra"
   ]
  },
  {
   "cell_type": "code",
   "execution_count": 147,
   "metadata": {},
   "outputs": [
    {
     "output_type": "execute_result",
     "data": {
      "text/plain": [
       "Amostra_0       43.9865\n",
       "Amostra_1       43.8110\n",
       "Amostra_2       43.9905\n",
       "Amostra_3       44.1705\n",
       "Amostra_4       44.3665\n",
       "                 ...   \n",
       "Amostra_1495    44.0355\n",
       "Amostra_1496    43.7970\n",
       "Amostra_1497    44.1430\n",
       "Amostra_1498    43.8095\n",
       "Amostra_1499    44.1300\n",
       "Length: 1500, dtype: float64"
      ]
     },
     "metadata": {},
     "execution_count": 147
    }
   ],
   "source": [
    "amostra.mean()"
   ]
  },
  {
   "cell_type": "markdown",
   "metadata": {
    "colab_type": "text",
    "id": "JfgEBDx0jDzf"
   },
   "source": [
    "> O Teorema do Limite Central afirma que, **com o aumento do tamanho da amostra, a distribuição das médias amostrais se aproxima de uma distribuição normal** com média igual à média da população e desvio padrão igual ao desvio padrão da variável original dividido pela raiz quadrada do tamanho da amostra. Este fato é assegurado para n maior ou igual a 30."
   ]
  },
  {
   "cell_type": "code",
   "execution_count": 148,
   "metadata": {
    "colab": {
     "base_uri": "https://localhost:8080/",
     "height": 286
    },
    "colab_type": "code",
    "id": "giJKqa_9izKF",
    "outputId": "a90fdc6d-9970-42dd-85c3-0da9e0977ef0"
   },
   "outputs": [
    {
     "output_type": "execute_result",
     "data": {
      "text/plain": [
       "<AxesSubplot:>"
      ]
     },
     "metadata": {},
     "execution_count": 148
    },
    {
     "output_type": "display_data",
     "data": {
      "text/plain": "<Figure size 432x288 with 1 Axes>",
      "image/svg+xml": "<?xml version=\"1.0\" encoding=\"utf-8\" standalone=\"no\"?>\r\n<!DOCTYPE svg PUBLIC \"-//W3C//DTD SVG 1.1//EN\"\r\n  \"http://www.w3.org/Graphics/SVG/1.1/DTD/svg11.dtd\">\r\n<!-- Created with matplotlib (https://matplotlib.org/) -->\r\n<svg height=\"248.518125pt\" version=\"1.1\" viewBox=\"0 0 375.2875 248.518125\" width=\"375.2875pt\" xmlns=\"http://www.w3.org/2000/svg\" xmlns:xlink=\"http://www.w3.org/1999/xlink\">\r\n <metadata>\r\n  <rdf:RDF xmlns:cc=\"http://creativecommons.org/ns#\" xmlns:dc=\"http://purl.org/dc/elements/1.1/\" xmlns:rdf=\"http://www.w3.org/1999/02/22-rdf-syntax-ns#\">\r\n   <cc:Work>\r\n    <dc:type rdf:resource=\"http://purl.org/dc/dcmitype/StillImage\"/>\r\n    <dc:date>2021-04-15T21:51:45.486417</dc:date>\r\n    <dc:format>image/svg+xml</dc:format>\r\n    <dc:creator>\r\n     <cc:Agent>\r\n      <dc:title>Matplotlib v3.3.2, https://matplotlib.org/</dc:title>\r\n     </cc:Agent>\r\n    </dc:creator>\r\n   </cc:Work>\r\n  </rdf:RDF>\r\n </metadata>\r\n <defs>\r\n  <style type=\"text/css\">*{stroke-linecap:butt;stroke-linejoin:round;}</style>\r\n </defs>\r\n <g id=\"figure_1\">\r\n  <g id=\"patch_1\">\r\n   <path d=\"M 0 248.518125 \r\nL 375.2875 248.518125 \r\nL 375.2875 0 \r\nL 0 0 \r\nz\r\n\" style=\"fill:none;\"/>\r\n  </g>\r\n  <g id=\"axes_1\">\r\n   <g id=\"patch_2\">\r\n    <path d=\"M 33.2875 224.64 \r\nL 368.0875 224.64 \r\nL 368.0875 7.2 \r\nL 33.2875 7.2 \r\nz\r\n\" style=\"fill:#ffffff;\"/>\r\n   </g>\r\n   <g id=\"patch_3\">\r\n    <path clip-path=\"url(#p7c27c78b6c)\" d=\"M 48.505682 224.64 \r\nL 78.942045 224.64 \r\nL 78.942045 223.139379 \r\nL 48.505682 223.139379 \r\nz\r\n\" style=\"fill:#1f77b4;\"/>\r\n   </g>\r\n   <g id=\"patch_4\">\r\n    <path clip-path=\"url(#p7c27c78b6c)\" d=\"M 78.942045 224.64 \r\nL 109.378409 224.64 \r\nL 109.378409 215.136066 \r\nL 78.942045 215.136066 \r\nz\r\n\" style=\"fill:#1f77b4;\"/>\r\n   </g>\r\n   <g id=\"patch_5\">\r\n    <path clip-path=\"url(#p7c27c78b6c)\" d=\"M 109.378409 224.64 \r\nL 139.814773 224.64 \r\nL 139.814773 190.625921 \r\nL 109.378409 190.625921 \r\nz\r\n\" style=\"fill:#1f77b4;\"/>\r\n   </g>\r\n   <g id=\"patch_6\">\r\n    <path clip-path=\"url(#p7c27c78b6c)\" d=\"M 139.814773 224.64 \r\nL 170.251136 224.64 \r\nL 170.251136 114.594451 \r\nL 139.814773 114.594451 \r\nz\r\n\" style=\"fill:#1f77b4;\"/>\r\n   </g>\r\n   <g id=\"patch_7\">\r\n    <path clip-path=\"url(#p7c27c78b6c)\" d=\"M 170.251136 224.64 \r\nL 200.6875 224.64 \r\nL 200.6875 17.554286 \r\nL 170.251136 17.554286 \r\nz\r\n\" style=\"fill:#1f77b4;\"/>\r\n   </g>\r\n   <g id=\"patch_8\">\r\n    <path clip-path=\"url(#p7c27c78b6c)\" d=\"M 200.6875 224.64 \r\nL 231.123864 224.64 \r\nL 231.123864 39.563395 \r\nL 200.6875 39.563395 \r\nz\r\n\" style=\"fill:#1f77b4;\"/>\r\n   </g>\r\n   <g id=\"patch_9\">\r\n    <path clip-path=\"url(#p7c27c78b6c)\" d=\"M 231.123864 224.64 \r\nL 261.560227 224.64 \r\nL 261.560227 93.085549 \r\nL 231.123864 93.085549 \r\nz\r\n\" style=\"fill:#1f77b4;\"/>\r\n   </g>\r\n   <g id=\"patch_10\">\r\n    <path clip-path=\"url(#p7c27c78b6c)\" d=\"M 261.560227 224.64 \r\nL 291.996591 224.64 \r\nL 291.996591 168.116605 \r\nL 261.560227 168.116605 \r\nz\r\n\" style=\"fill:#1f77b4;\"/>\r\n   </g>\r\n   <g id=\"patch_11\">\r\n    <path clip-path=\"url(#p7c27c78b6c)\" d=\"M 291.996591 224.64 \r\nL 322.432955 224.64 \r\nL 322.432955 212.635031 \r\nL 291.996591 212.635031 \r\nz\r\n\" style=\"fill:#1f77b4;\"/>\r\n   </g>\r\n   <g id=\"patch_12\">\r\n    <path clip-path=\"url(#p7c27c78b6c)\" d=\"M 322.432955 224.64 \r\nL 352.869318 224.64 \r\nL 352.869318 221.638758 \r\nL 322.432955 221.638758 \r\nz\r\n\" style=\"fill:#1f77b4;\"/>\r\n   </g>\r\n   <g id=\"matplotlib.axis_1\">\r\n    <g id=\"xtick_1\">\r\n     <g id=\"line2d_1\">\r\n      <path clip-path=\"url(#p7c27c78b6c)\" d=\"M 33.358872 224.64 \r\nL 33.358872 7.2 \r\n\" style=\"fill:none;stroke:#b0b0b0;stroke-linecap:square;stroke-width:0.8;\"/>\r\n     </g>\r\n     <g id=\"line2d_2\">\r\n      <defs>\r\n       <path d=\"M 0 0 \r\nL 0 3.5 \r\n\" id=\"mc2a724ebe7\" style=\"stroke:#000000;stroke-width:0.8;\"/>\r\n      </defs>\r\n      <g>\r\n       <use style=\"stroke:#000000;stroke-width:0.8;\" x=\"33.358872\" xlink:href=\"#mc2a724ebe7\" y=\"224.64\"/>\r\n      </g>\r\n     </g>\r\n     <g id=\"text_1\">\r\n      <!-- 43.00 -->\r\n      <g transform=\"translate(19.04481 239.238437)scale(0.1 -0.1)\">\r\n       <defs>\r\n        <path d=\"M 37.796875 64.3125 \r\nL 12.890625 25.390625 \r\nL 37.796875 25.390625 \r\nz\r\nM 35.203125 72.90625 \r\nL 47.609375 72.90625 \r\nL 47.609375 25.390625 \r\nL 58.015625 25.390625 \r\nL 58.015625 17.1875 \r\nL 47.609375 17.1875 \r\nL 47.609375 0 \r\nL 37.796875 0 \r\nL 37.796875 17.1875 \r\nL 4.890625 17.1875 \r\nL 4.890625 26.703125 \r\nz\r\n\" id=\"DejaVuSans-52\"/>\r\n        <path d=\"M 40.578125 39.3125 \r\nQ 47.65625 37.796875 51.625 33 \r\nQ 55.609375 28.21875 55.609375 21.1875 \r\nQ 55.609375 10.40625 48.1875 4.484375 \r\nQ 40.765625 -1.421875 27.09375 -1.421875 \r\nQ 22.515625 -1.421875 17.65625 -0.515625 \r\nQ 12.796875 0.390625 7.625 2.203125 \r\nL 7.625 11.71875 \r\nQ 11.71875 9.328125 16.59375 8.109375 \r\nQ 21.484375 6.890625 26.8125 6.890625 \r\nQ 36.078125 6.890625 40.9375 10.546875 \r\nQ 45.796875 14.203125 45.796875 21.1875 \r\nQ 45.796875 27.640625 41.28125 31.265625 \r\nQ 36.765625 34.90625 28.71875 34.90625 \r\nL 20.21875 34.90625 \r\nL 20.21875 43.015625 \r\nL 29.109375 43.015625 \r\nQ 36.375 43.015625 40.234375 45.921875 \r\nQ 44.09375 48.828125 44.09375 54.296875 \r\nQ 44.09375 59.90625 40.109375 62.90625 \r\nQ 36.140625 65.921875 28.71875 65.921875 \r\nQ 24.65625 65.921875 20.015625 65.03125 \r\nQ 15.375 64.15625 9.8125 62.3125 \r\nL 9.8125 71.09375 \r\nQ 15.4375 72.65625 20.34375 73.4375 \r\nQ 25.25 74.21875 29.59375 74.21875 \r\nQ 40.828125 74.21875 47.359375 69.109375 \r\nQ 53.90625 64.015625 53.90625 55.328125 \r\nQ 53.90625 49.265625 50.4375 45.09375 \r\nQ 46.96875 40.921875 40.578125 39.3125 \r\nz\r\n\" id=\"DejaVuSans-51\"/>\r\n        <path d=\"M 10.6875 12.40625 \r\nL 21 12.40625 \r\nL 21 0 \r\nL 10.6875 0 \r\nz\r\n\" id=\"DejaVuSans-46\"/>\r\n        <path d=\"M 31.78125 66.40625 \r\nQ 24.171875 66.40625 20.328125 58.90625 \r\nQ 16.5 51.421875 16.5 36.375 \r\nQ 16.5 21.390625 20.328125 13.890625 \r\nQ 24.171875 6.390625 31.78125 6.390625 \r\nQ 39.453125 6.390625 43.28125 13.890625 \r\nQ 47.125 21.390625 47.125 36.375 \r\nQ 47.125 51.421875 43.28125 58.90625 \r\nQ 39.453125 66.40625 31.78125 66.40625 \r\nz\r\nM 31.78125 74.21875 \r\nQ 44.046875 74.21875 50.515625 64.515625 \r\nQ 56.984375 54.828125 56.984375 36.375 \r\nQ 56.984375 17.96875 50.515625 8.265625 \r\nQ 44.046875 -1.421875 31.78125 -1.421875 \r\nQ 19.53125 -1.421875 13.0625 8.265625 \r\nQ 6.59375 17.96875 6.59375 36.375 \r\nQ 6.59375 54.828125 13.0625 64.515625 \r\nQ 19.53125 74.21875 31.78125 74.21875 \r\nz\r\n\" id=\"DejaVuSans-48\"/>\r\n       </defs>\r\n       <use xlink:href=\"#DejaVuSans-52\"/>\r\n       <use x=\"63.623047\" xlink:href=\"#DejaVuSans-51\"/>\r\n       <use x=\"127.246094\" xlink:href=\"#DejaVuSans-46\"/>\r\n       <use x=\"159.033203\" xlink:href=\"#DejaVuSans-48\"/>\r\n       <use x=\"222.65625\" xlink:href=\"#DejaVuSans-48\"/>\r\n      </g>\r\n     </g>\r\n    </g>\r\n    <g id=\"xtick_2\">\r\n     <g id=\"line2d_3\">\r\n      <path clip-path=\"url(#p7c27c78b6c)\" d=\"M 73.010206 224.64 \r\nL 73.010206 7.2 \r\n\" style=\"fill:none;stroke:#b0b0b0;stroke-linecap:square;stroke-width:0.8;\"/>\r\n     </g>\r\n     <g id=\"line2d_4\">\r\n      <g>\r\n       <use style=\"stroke:#000000;stroke-width:0.8;\" x=\"73.010206\" xlink:href=\"#mc2a724ebe7\" y=\"224.64\"/>\r\n      </g>\r\n     </g>\r\n     <g id=\"text_2\">\r\n      <!-- 43.25 -->\r\n      <g transform=\"translate(58.696143 239.238437)scale(0.1 -0.1)\">\r\n       <defs>\r\n        <path d=\"M 19.1875 8.296875 \r\nL 53.609375 8.296875 \r\nL 53.609375 0 \r\nL 7.328125 0 \r\nL 7.328125 8.296875 \r\nQ 12.9375 14.109375 22.625 23.890625 \r\nQ 32.328125 33.6875 34.8125 36.53125 \r\nQ 39.546875 41.84375 41.421875 45.53125 \r\nQ 43.3125 49.21875 43.3125 52.78125 \r\nQ 43.3125 58.59375 39.234375 62.25 \r\nQ 35.15625 65.921875 28.609375 65.921875 \r\nQ 23.96875 65.921875 18.8125 64.3125 \r\nQ 13.671875 62.703125 7.8125 59.421875 \r\nL 7.8125 69.390625 \r\nQ 13.765625 71.78125 18.9375 73 \r\nQ 24.125 74.21875 28.421875 74.21875 \r\nQ 39.75 74.21875 46.484375 68.546875 \r\nQ 53.21875 62.890625 53.21875 53.421875 \r\nQ 53.21875 48.921875 51.53125 44.890625 \r\nQ 49.859375 40.875 45.40625 35.40625 \r\nQ 44.1875 33.984375 37.640625 27.21875 \r\nQ 31.109375 20.453125 19.1875 8.296875 \r\nz\r\n\" id=\"DejaVuSans-50\"/>\r\n        <path d=\"M 10.796875 72.90625 \r\nL 49.515625 72.90625 \r\nL 49.515625 64.59375 \r\nL 19.828125 64.59375 \r\nL 19.828125 46.734375 \r\nQ 21.96875 47.46875 24.109375 47.828125 \r\nQ 26.265625 48.1875 28.421875 48.1875 \r\nQ 40.625 48.1875 47.75 41.5 \r\nQ 54.890625 34.8125 54.890625 23.390625 \r\nQ 54.890625 11.625 47.5625 5.09375 \r\nQ 40.234375 -1.421875 26.90625 -1.421875 \r\nQ 22.3125 -1.421875 17.546875 -0.640625 \r\nQ 12.796875 0.140625 7.71875 1.703125 \r\nL 7.71875 11.625 \r\nQ 12.109375 9.234375 16.796875 8.0625 \r\nQ 21.484375 6.890625 26.703125 6.890625 \r\nQ 35.15625 6.890625 40.078125 11.328125 \r\nQ 45.015625 15.765625 45.015625 23.390625 \r\nQ 45.015625 31 40.078125 35.4375 \r\nQ 35.15625 39.890625 26.703125 39.890625 \r\nQ 22.75 39.890625 18.8125 39.015625 \r\nQ 14.890625 38.140625 10.796875 36.28125 \r\nz\r\n\" id=\"DejaVuSans-53\"/>\r\n       </defs>\r\n       <use xlink:href=\"#DejaVuSans-52\"/>\r\n       <use x=\"63.623047\" xlink:href=\"#DejaVuSans-51\"/>\r\n       <use x=\"127.246094\" xlink:href=\"#DejaVuSans-46\"/>\r\n       <use x=\"159.033203\" xlink:href=\"#DejaVuSans-50\"/>\r\n       <use x=\"222.65625\" xlink:href=\"#DejaVuSans-53\"/>\r\n      </g>\r\n     </g>\r\n    </g>\r\n    <g id=\"xtick_3\">\r\n     <g id=\"line2d_5\">\r\n      <path clip-path=\"url(#p7c27c78b6c)\" d=\"M 112.66154 224.64 \r\nL 112.66154 7.2 \r\n\" style=\"fill:none;stroke:#b0b0b0;stroke-linecap:square;stroke-width:0.8;\"/>\r\n     </g>\r\n     <g id=\"line2d_6\">\r\n      <g>\r\n       <use style=\"stroke:#000000;stroke-width:0.8;\" x=\"112.66154\" xlink:href=\"#mc2a724ebe7\" y=\"224.64\"/>\r\n      </g>\r\n     </g>\r\n     <g id=\"text_3\">\r\n      <!-- 43.50 -->\r\n      <g transform=\"translate(98.347477 239.238437)scale(0.1 -0.1)\">\r\n       <use xlink:href=\"#DejaVuSans-52\"/>\r\n       <use x=\"63.623047\" xlink:href=\"#DejaVuSans-51\"/>\r\n       <use x=\"127.246094\" xlink:href=\"#DejaVuSans-46\"/>\r\n       <use x=\"159.033203\" xlink:href=\"#DejaVuSans-53\"/>\r\n       <use x=\"222.65625\" xlink:href=\"#DejaVuSans-48\"/>\r\n      </g>\r\n     </g>\r\n    </g>\r\n    <g id=\"xtick_4\">\r\n     <g id=\"line2d_7\">\r\n      <path clip-path=\"url(#p7c27c78b6c)\" d=\"M 152.312873 224.64 \r\nL 152.312873 7.2 \r\n\" style=\"fill:none;stroke:#b0b0b0;stroke-linecap:square;stroke-width:0.8;\"/>\r\n     </g>\r\n     <g id=\"line2d_8\">\r\n      <g>\r\n       <use style=\"stroke:#000000;stroke-width:0.8;\" x=\"152.312873\" xlink:href=\"#mc2a724ebe7\" y=\"224.64\"/>\r\n      </g>\r\n     </g>\r\n     <g id=\"text_4\">\r\n      <!-- 43.75 -->\r\n      <g transform=\"translate(137.998811 239.238437)scale(0.1 -0.1)\">\r\n       <defs>\r\n        <path d=\"M 8.203125 72.90625 \r\nL 55.078125 72.90625 \r\nL 55.078125 68.703125 \r\nL 28.609375 0 \r\nL 18.3125 0 \r\nL 43.21875 64.59375 \r\nL 8.203125 64.59375 \r\nz\r\n\" id=\"DejaVuSans-55\"/>\r\n       </defs>\r\n       <use xlink:href=\"#DejaVuSans-52\"/>\r\n       <use x=\"63.623047\" xlink:href=\"#DejaVuSans-51\"/>\r\n       <use x=\"127.246094\" xlink:href=\"#DejaVuSans-46\"/>\r\n       <use x=\"159.033203\" xlink:href=\"#DejaVuSans-55\"/>\r\n       <use x=\"222.65625\" xlink:href=\"#DejaVuSans-53\"/>\r\n      </g>\r\n     </g>\r\n    </g>\r\n    <g id=\"xtick_5\">\r\n     <g id=\"line2d_9\">\r\n      <path clip-path=\"url(#p7c27c78b6c)\" d=\"M 191.964207 224.64 \r\nL 191.964207 7.2 \r\n\" style=\"fill:none;stroke:#b0b0b0;stroke-linecap:square;stroke-width:0.8;\"/>\r\n     </g>\r\n     <g id=\"line2d_10\">\r\n      <g>\r\n       <use style=\"stroke:#000000;stroke-width:0.8;\" x=\"191.964207\" xlink:href=\"#mc2a724ebe7\" y=\"224.64\"/>\r\n      </g>\r\n     </g>\r\n     <g id=\"text_5\">\r\n      <!-- 44.00 -->\r\n      <g transform=\"translate(177.650144 239.238437)scale(0.1 -0.1)\">\r\n       <use xlink:href=\"#DejaVuSans-52\"/>\r\n       <use x=\"63.623047\" xlink:href=\"#DejaVuSans-52\"/>\r\n       <use x=\"127.246094\" xlink:href=\"#DejaVuSans-46\"/>\r\n       <use x=\"159.033203\" xlink:href=\"#DejaVuSans-48\"/>\r\n       <use x=\"222.65625\" xlink:href=\"#DejaVuSans-48\"/>\r\n      </g>\r\n     </g>\r\n    </g>\r\n    <g id=\"xtick_6\">\r\n     <g id=\"line2d_11\">\r\n      <path clip-path=\"url(#p7c27c78b6c)\" d=\"M 231.61554 224.64 \r\nL 231.61554 7.2 \r\n\" style=\"fill:none;stroke:#b0b0b0;stroke-linecap:square;stroke-width:0.8;\"/>\r\n     </g>\r\n     <g id=\"line2d_12\">\r\n      <g>\r\n       <use style=\"stroke:#000000;stroke-width:0.8;\" x=\"231.61554\" xlink:href=\"#mc2a724ebe7\" y=\"224.64\"/>\r\n      </g>\r\n     </g>\r\n     <g id=\"text_6\">\r\n      <!-- 44.25 -->\r\n      <g transform=\"translate(217.301478 239.238437)scale(0.1 -0.1)\">\r\n       <use xlink:href=\"#DejaVuSans-52\"/>\r\n       <use x=\"63.623047\" xlink:href=\"#DejaVuSans-52\"/>\r\n       <use x=\"127.246094\" xlink:href=\"#DejaVuSans-46\"/>\r\n       <use x=\"159.033203\" xlink:href=\"#DejaVuSans-50\"/>\r\n       <use x=\"222.65625\" xlink:href=\"#DejaVuSans-53\"/>\r\n      </g>\r\n     </g>\r\n    </g>\r\n    <g id=\"xtick_7\">\r\n     <g id=\"line2d_13\">\r\n      <path clip-path=\"url(#p7c27c78b6c)\" d=\"M 271.266874 224.64 \r\nL 271.266874 7.2 \r\n\" style=\"fill:none;stroke:#b0b0b0;stroke-linecap:square;stroke-width:0.8;\"/>\r\n     </g>\r\n     <g id=\"line2d_14\">\r\n      <g>\r\n       <use style=\"stroke:#000000;stroke-width:0.8;\" x=\"271.266874\" xlink:href=\"#mc2a724ebe7\" y=\"224.64\"/>\r\n      </g>\r\n     </g>\r\n     <g id=\"text_7\">\r\n      <!-- 44.50 -->\r\n      <g transform=\"translate(256.952811 239.238437)scale(0.1 -0.1)\">\r\n       <use xlink:href=\"#DejaVuSans-52\"/>\r\n       <use x=\"63.623047\" xlink:href=\"#DejaVuSans-52\"/>\r\n       <use x=\"127.246094\" xlink:href=\"#DejaVuSans-46\"/>\r\n       <use x=\"159.033203\" xlink:href=\"#DejaVuSans-53\"/>\r\n       <use x=\"222.65625\" xlink:href=\"#DejaVuSans-48\"/>\r\n      </g>\r\n     </g>\r\n    </g>\r\n    <g id=\"xtick_8\">\r\n     <g id=\"line2d_15\">\r\n      <path clip-path=\"url(#p7c27c78b6c)\" d=\"M 310.918207 224.64 \r\nL 310.918207 7.2 \r\n\" style=\"fill:none;stroke:#b0b0b0;stroke-linecap:square;stroke-width:0.8;\"/>\r\n     </g>\r\n     <g id=\"line2d_16\">\r\n      <g>\r\n       <use style=\"stroke:#000000;stroke-width:0.8;\" x=\"310.918207\" xlink:href=\"#mc2a724ebe7\" y=\"224.64\"/>\r\n      </g>\r\n     </g>\r\n     <g id=\"text_8\">\r\n      <!-- 44.75 -->\r\n      <g transform=\"translate(296.604145 239.238437)scale(0.1 -0.1)\">\r\n       <use xlink:href=\"#DejaVuSans-52\"/>\r\n       <use x=\"63.623047\" xlink:href=\"#DejaVuSans-52\"/>\r\n       <use x=\"127.246094\" xlink:href=\"#DejaVuSans-46\"/>\r\n       <use x=\"159.033203\" xlink:href=\"#DejaVuSans-55\"/>\r\n       <use x=\"222.65625\" xlink:href=\"#DejaVuSans-53\"/>\r\n      </g>\r\n     </g>\r\n    </g>\r\n    <g id=\"xtick_9\">\r\n     <g id=\"line2d_17\">\r\n      <path clip-path=\"url(#p7c27c78b6c)\" d=\"M 350.569541 224.64 \r\nL 350.569541 7.2 \r\n\" style=\"fill:none;stroke:#b0b0b0;stroke-linecap:square;stroke-width:0.8;\"/>\r\n     </g>\r\n     <g id=\"line2d_18\">\r\n      <g>\r\n       <use style=\"stroke:#000000;stroke-width:0.8;\" x=\"350.569541\" xlink:href=\"#mc2a724ebe7\" y=\"224.64\"/>\r\n      </g>\r\n     </g>\r\n     <g id=\"text_9\">\r\n      <!-- 45.00 -->\r\n      <g transform=\"translate(336.255478 239.238437)scale(0.1 -0.1)\">\r\n       <use xlink:href=\"#DejaVuSans-52\"/>\r\n       <use x=\"63.623047\" xlink:href=\"#DejaVuSans-53\"/>\r\n       <use x=\"127.246094\" xlink:href=\"#DejaVuSans-46\"/>\r\n       <use x=\"159.033203\" xlink:href=\"#DejaVuSans-48\"/>\r\n       <use x=\"222.65625\" xlink:href=\"#DejaVuSans-48\"/>\r\n      </g>\r\n     </g>\r\n    </g>\r\n   </g>\r\n   <g id=\"matplotlib.axis_2\">\r\n    <g id=\"ytick_1\">\r\n     <g id=\"line2d_19\">\r\n      <path clip-path=\"url(#p7c27c78b6c)\" d=\"M 33.2875 224.64 \r\nL 368.0875 224.64 \r\n\" style=\"fill:none;stroke:#b0b0b0;stroke-linecap:square;stroke-width:0.8;\"/>\r\n     </g>\r\n     <g id=\"line2d_20\">\r\n      <defs>\r\n       <path d=\"M 0 0 \r\nL -3.5 0 \r\n\" id=\"m975c4563b0\" style=\"stroke:#000000;stroke-width:0.8;\"/>\r\n      </defs>\r\n      <g>\r\n       <use style=\"stroke:#000000;stroke-width:0.8;\" x=\"33.2875\" xlink:href=\"#m975c4563b0\" y=\"224.64\"/>\r\n      </g>\r\n     </g>\r\n     <g id=\"text_10\">\r\n      <!-- 0 -->\r\n      <g transform=\"translate(19.925 228.439219)scale(0.1 -0.1)\">\r\n       <use xlink:href=\"#DejaVuSans-48\"/>\r\n      </g>\r\n     </g>\r\n    </g>\r\n    <g id=\"ytick_2\">\r\n     <g id=\"line2d_21\">\r\n      <path clip-path=\"url(#p7c27c78b6c)\" d=\"M 33.2875 199.629648 \r\nL 368.0875 199.629648 \r\n\" style=\"fill:none;stroke:#b0b0b0;stroke-linecap:square;stroke-width:0.8;\"/>\r\n     </g>\r\n     <g id=\"line2d_22\">\r\n      <g>\r\n       <use style=\"stroke:#000000;stroke-width:0.8;\" x=\"33.2875\" xlink:href=\"#m975c4563b0\" y=\"199.629648\"/>\r\n      </g>\r\n     </g>\r\n     <g id=\"text_11\">\r\n      <!-- 50 -->\r\n      <g transform=\"translate(13.5625 203.428867)scale(0.1 -0.1)\">\r\n       <use xlink:href=\"#DejaVuSans-53\"/>\r\n       <use x=\"63.623047\" xlink:href=\"#DejaVuSans-48\"/>\r\n      </g>\r\n     </g>\r\n    </g>\r\n    <g id=\"ytick_3\">\r\n     <g id=\"line2d_23\">\r\n      <path clip-path=\"url(#p7c27c78b6c)\" d=\"M 33.2875 174.619296 \r\nL 368.0875 174.619296 \r\n\" style=\"fill:none;stroke:#b0b0b0;stroke-linecap:square;stroke-width:0.8;\"/>\r\n     </g>\r\n     <g id=\"line2d_24\">\r\n      <g>\r\n       <use style=\"stroke:#000000;stroke-width:0.8;\" x=\"33.2875\" xlink:href=\"#m975c4563b0\" y=\"174.619296\"/>\r\n      </g>\r\n     </g>\r\n     <g id=\"text_12\">\r\n      <!-- 100 -->\r\n      <g transform=\"translate(7.2 178.418515)scale(0.1 -0.1)\">\r\n       <defs>\r\n        <path d=\"M 12.40625 8.296875 \r\nL 28.515625 8.296875 \r\nL 28.515625 63.921875 \r\nL 10.984375 60.40625 \r\nL 10.984375 69.390625 \r\nL 28.421875 72.90625 \r\nL 38.28125 72.90625 \r\nL 38.28125 8.296875 \r\nL 54.390625 8.296875 \r\nL 54.390625 0 \r\nL 12.40625 0 \r\nz\r\n\" id=\"DejaVuSans-49\"/>\r\n       </defs>\r\n       <use xlink:href=\"#DejaVuSans-49\"/>\r\n       <use x=\"63.623047\" xlink:href=\"#DejaVuSans-48\"/>\r\n       <use x=\"127.246094\" xlink:href=\"#DejaVuSans-48\"/>\r\n      </g>\r\n     </g>\r\n    </g>\r\n    <g id=\"ytick_4\">\r\n     <g id=\"line2d_25\">\r\n      <path clip-path=\"url(#p7c27c78b6c)\" d=\"M 33.2875 149.608944 \r\nL 368.0875 149.608944 \r\n\" style=\"fill:none;stroke:#b0b0b0;stroke-linecap:square;stroke-width:0.8;\"/>\r\n     </g>\r\n     <g id=\"line2d_26\">\r\n      <g>\r\n       <use style=\"stroke:#000000;stroke-width:0.8;\" x=\"33.2875\" xlink:href=\"#m975c4563b0\" y=\"149.608944\"/>\r\n      </g>\r\n     </g>\r\n     <g id=\"text_13\">\r\n      <!-- 150 -->\r\n      <g transform=\"translate(7.2 153.408163)scale(0.1 -0.1)\">\r\n       <use xlink:href=\"#DejaVuSans-49\"/>\r\n       <use x=\"63.623047\" xlink:href=\"#DejaVuSans-53\"/>\r\n       <use x=\"127.246094\" xlink:href=\"#DejaVuSans-48\"/>\r\n      </g>\r\n     </g>\r\n    </g>\r\n    <g id=\"ytick_5\">\r\n     <g id=\"line2d_27\">\r\n      <path clip-path=\"url(#p7c27c78b6c)\" d=\"M 33.2875 124.598592 \r\nL 368.0875 124.598592 \r\n\" style=\"fill:none;stroke:#b0b0b0;stroke-linecap:square;stroke-width:0.8;\"/>\r\n     </g>\r\n     <g id=\"line2d_28\">\r\n      <g>\r\n       <use style=\"stroke:#000000;stroke-width:0.8;\" x=\"33.2875\" xlink:href=\"#m975c4563b0\" y=\"124.598592\"/>\r\n      </g>\r\n     </g>\r\n     <g id=\"text_14\">\r\n      <!-- 200 -->\r\n      <g transform=\"translate(7.2 128.397811)scale(0.1 -0.1)\">\r\n       <use xlink:href=\"#DejaVuSans-50\"/>\r\n       <use x=\"63.623047\" xlink:href=\"#DejaVuSans-48\"/>\r\n       <use x=\"127.246094\" xlink:href=\"#DejaVuSans-48\"/>\r\n      </g>\r\n     </g>\r\n    </g>\r\n    <g id=\"ytick_6\">\r\n     <g id=\"line2d_29\">\r\n      <path clip-path=\"url(#p7c27c78b6c)\" d=\"M 33.2875 99.58824 \r\nL 368.0875 99.58824 \r\n\" style=\"fill:none;stroke:#b0b0b0;stroke-linecap:square;stroke-width:0.8;\"/>\r\n     </g>\r\n     <g id=\"line2d_30\">\r\n      <g>\r\n       <use style=\"stroke:#000000;stroke-width:0.8;\" x=\"33.2875\" xlink:href=\"#m975c4563b0\" y=\"99.58824\"/>\r\n      </g>\r\n     </g>\r\n     <g id=\"text_15\">\r\n      <!-- 250 -->\r\n      <g transform=\"translate(7.2 103.387459)scale(0.1 -0.1)\">\r\n       <use xlink:href=\"#DejaVuSans-50\"/>\r\n       <use x=\"63.623047\" xlink:href=\"#DejaVuSans-53\"/>\r\n       <use x=\"127.246094\" xlink:href=\"#DejaVuSans-48\"/>\r\n      </g>\r\n     </g>\r\n    </g>\r\n    <g id=\"ytick_7\">\r\n     <g id=\"line2d_31\">\r\n      <path clip-path=\"url(#p7c27c78b6c)\" d=\"M 33.2875 74.577888 \r\nL 368.0875 74.577888 \r\n\" style=\"fill:none;stroke:#b0b0b0;stroke-linecap:square;stroke-width:0.8;\"/>\r\n     </g>\r\n     <g id=\"line2d_32\">\r\n      <g>\r\n       <use style=\"stroke:#000000;stroke-width:0.8;\" x=\"33.2875\" xlink:href=\"#m975c4563b0\" y=\"74.577888\"/>\r\n      </g>\r\n     </g>\r\n     <g id=\"text_16\">\r\n      <!-- 300 -->\r\n      <g transform=\"translate(7.2 78.377107)scale(0.1 -0.1)\">\r\n       <use xlink:href=\"#DejaVuSans-51\"/>\r\n       <use x=\"63.623047\" xlink:href=\"#DejaVuSans-48\"/>\r\n       <use x=\"127.246094\" xlink:href=\"#DejaVuSans-48\"/>\r\n      </g>\r\n     </g>\r\n    </g>\r\n    <g id=\"ytick_8\">\r\n     <g id=\"line2d_33\">\r\n      <path clip-path=\"url(#p7c27c78b6c)\" d=\"M 33.2875 49.567536 \r\nL 368.0875 49.567536 \r\n\" style=\"fill:none;stroke:#b0b0b0;stroke-linecap:square;stroke-width:0.8;\"/>\r\n     </g>\r\n     <g id=\"line2d_34\">\r\n      <g>\r\n       <use style=\"stroke:#000000;stroke-width:0.8;\" x=\"33.2875\" xlink:href=\"#m975c4563b0\" y=\"49.567536\"/>\r\n      </g>\r\n     </g>\r\n     <g id=\"text_17\">\r\n      <!-- 350 -->\r\n      <g transform=\"translate(7.2 53.366755)scale(0.1 -0.1)\">\r\n       <use xlink:href=\"#DejaVuSans-51\"/>\r\n       <use x=\"63.623047\" xlink:href=\"#DejaVuSans-53\"/>\r\n       <use x=\"127.246094\" xlink:href=\"#DejaVuSans-48\"/>\r\n      </g>\r\n     </g>\r\n    </g>\r\n    <g id=\"ytick_9\">\r\n     <g id=\"line2d_35\">\r\n      <path clip-path=\"url(#p7c27c78b6c)\" d=\"M 33.2875 24.557184 \r\nL 368.0875 24.557184 \r\n\" style=\"fill:none;stroke:#b0b0b0;stroke-linecap:square;stroke-width:0.8;\"/>\r\n     </g>\r\n     <g id=\"line2d_36\">\r\n      <g>\r\n       <use style=\"stroke:#000000;stroke-width:0.8;\" x=\"33.2875\" xlink:href=\"#m975c4563b0\" y=\"24.557184\"/>\r\n      </g>\r\n     </g>\r\n     <g id=\"text_18\">\r\n      <!-- 400 -->\r\n      <g transform=\"translate(7.2 28.356403)scale(0.1 -0.1)\">\r\n       <use xlink:href=\"#DejaVuSans-52\"/>\r\n       <use x=\"63.623047\" xlink:href=\"#DejaVuSans-48\"/>\r\n       <use x=\"127.246094\" xlink:href=\"#DejaVuSans-48\"/>\r\n      </g>\r\n     </g>\r\n    </g>\r\n   </g>\r\n   <g id=\"patch_13\">\r\n    <path d=\"M 33.2875 224.64 \r\nL 33.2875 7.2 \r\n\" style=\"fill:none;stroke:#000000;stroke-linecap:square;stroke-linejoin:miter;stroke-width:0.8;\"/>\r\n   </g>\r\n   <g id=\"patch_14\">\r\n    <path d=\"M 368.0875 224.64 \r\nL 368.0875 7.2 \r\n\" style=\"fill:none;stroke:#000000;stroke-linecap:square;stroke-linejoin:miter;stroke-width:0.8;\"/>\r\n   </g>\r\n   <g id=\"patch_15\">\r\n    <path d=\"M 33.2875 224.64 \r\nL 368.0875 224.64 \r\n\" style=\"fill:none;stroke:#000000;stroke-linecap:square;stroke-linejoin:miter;stroke-width:0.8;\"/>\r\n   </g>\r\n   <g id=\"patch_16\">\r\n    <path d=\"M 33.2875 7.2 \r\nL 368.0875 7.2 \r\n\" style=\"fill:none;stroke:#000000;stroke-linecap:square;stroke-linejoin:miter;stroke-width:0.8;\"/>\r\n   </g>\r\n  </g>\r\n </g>\r\n <defs>\r\n  <clipPath id=\"p7c27c78b6c\">\r\n   <rect height=\"217.44\" width=\"334.8\" x=\"33.2875\" y=\"7.2\"/>\r\n  </clipPath>\r\n </defs>\r\n</svg>\r\n",
      "image/png": "[encoded data removed]"
     },
     "metadata": {
      "needs_background": "light"
     }
    }
   ],
   "source": [
    "amostra.mean().hist()"
   ]
  },
  {
   "cell_type": "markdown",
   "metadata": {
    "colab_type": "text",
    "id": "_A4RKStwjkLI"
   },
   "source": [
    "> O Teorema do Limite Central afirma que, com o aumento do tamanho da amostra, a distribuição das médias amostrais se aproxima de uma distribuição normal **com média igual à média da população** e desvio padrão igual ao desvio padrão da variável original dividido pela raiz quadrada do tamanho da amostra. Este fato é assegurado para n maior ou igual a 30."
   ]
  },
  {
   "cell_type": "code",
   "execution_count": 149,
   "metadata": {
    "colab": {
     "base_uri": "https://localhost:8080/",
     "height": 34
    },
    "colab_type": "code",
    "id": "vXE-UOj_izGZ",
    "outputId": "6eecc478-100a-4b55-eec3-896dbfc2079d"
   },
   "outputs": [
    {
     "output_type": "execute_result",
     "data": {
      "text/plain": [
       "44.07142113482561"
      ]
     },
     "metadata": {},
     "execution_count": 149
    }
   ],
   "source": [
    "dados.Idade.mean()"
   ]
  },
  {
   "cell_type": "code",
   "execution_count": 150,
   "metadata": {
    "colab": {
     "base_uri": "https://localhost:8080/",
     "height": 34
    },
    "colab_type": "code",
    "id": "bahA7_WYizC6",
    "outputId": "c95ef032-57b3-479d-b78e-b05efbaa9510"
   },
   "outputs": [
    {
     "output_type": "execute_result",
     "data": {
      "text/plain": [
       "44.077593333333354"
      ]
     },
     "metadata": {},
     "execution_count": 150
    }
   ],
   "source": [
    "amostra.mean().mean()"
   ]
  },
  {
   "cell_type": "markdown",
   "metadata": {
    "colab_type": "text",
    "id": "7lIWJCAKlPmA"
   },
   "source": [
    "> O Teorema do Limite Central afirma que, com o aumento do tamanho da amostra, a distribuição das médias amostrais se aproxima de uma distribuição normal com média igual à média da população e **desvio padrão igual ao desvio padrão da variável original dividido pela raiz quadrada do tamanho da amostra**. Este fato é assegurado para n maior ou igual a 30.\n",
    "\n",
    "# $$\\sigma_\\bar{x} = \\frac{\\sigma}{\\sqrt{n}}$$"
   ]
  },
  {
   "cell_type": "code",
   "execution_count": 151,
   "metadata": {
    "colab": {
     "base_uri": "https://localhost:8080/",
     "height": 34
    },
    "colab_type": "code",
    "id": "qKrG0zqhVNzn",
    "outputId": "90ab25da-d1bd-4f27-ebe7-af4bb0563d54"
   },
   "outputs": [
    {
     "output_type": "execute_result",
     "data": {
      "text/plain": [
       "0.26855452514813577"
      ]
     },
     "metadata": {},
     "execution_count": 151
    }
   ],
   "source": [
    "amostra.mean().std()"
   ]
  },
  {
   "cell_type": "code",
   "execution_count": 152,
   "metadata": {
    "colab": {
     "base_uri": "https://localhost:8080/",
     "height": 34
    },
    "colab_type": "code",
    "id": "83ILp8Quiy_W",
    "outputId": "9f16b942-f1dd-47c3-f1bc-adfb0e4be636"
   },
   "outputs": [
    {
     "output_type": "execute_result",
     "data": {
      "text/plain": [
       "12.480583465360187"
      ]
     },
     "metadata": {},
     "execution_count": 152
    }
   ],
   "source": [
    "dados.Idade.std()"
   ]
  },
  {
   "cell_type": "code",
   "execution_count": 153,
   "metadata": {
    "colab": {
     "base_uri": "https://localhost:8080/",
     "height": 34
    },
    "colab_type": "code",
    "id": "IQ7wC-Nkiy75",
    "outputId": "c70c88bd-52f6-41fd-a29d-a88f1641072e"
   },
   "outputs": [
    {
     "output_type": "execute_result",
     "data": {
      "text/plain": [
       "0.2790743302740527"
      ]
     },
     "metadata": {},
     "execution_count": 153
    }
   ],
   "source": [
    "dados.Idade.std() / np.sqrt(n)"
   ]
  },
  {
   "cell_type": "markdown",
   "metadata": {
    "colab_type": "text",
    "id": "ku8CE67iG3Ge"
   },
   "source": [
    "## <font color=green>4.2 Níveis de confiança e significância</font>\n",
    "***"
   ]
  },
  {
   "cell_type": "markdown",
   "metadata": {
    "colab_type": "text",
    "id": "mk6ZsvgyG3Gf"
   },
   "source": [
    "O **nível de confiança** ($1 - \\alpha$) representa a probabilidade de acerto da estimativa. De forma complementar o **nível de significância** ($\\alpha$) expressa a probabilidade de erro da estimativa.\n",
    "\n",
    "O **nível de confiança** representa o grau de confiabilidade do resultado da estimativa estar dentro de determinado intervalo. Quando fixamos em uma pesquisa um **nível de confiança** de 95%, por exemplo, estamos assumindo que existe uma probabilidade de 95% dos resultados da pesquisa representarem bem a realidade, ou seja, estarem corretos.\n",
    "\n",
    "O **nível de confiança** de uma estimativa pode ser obtido a partir da área sob a curva normal como ilustrado na figura abaixo."
   ]
  },
  {
   "cell_type": "markdown",
   "metadata": {
    "colab_type": "text",
    "id": "WeGyDfvaG3Gg"
   },
   "source": [
    "![alt text](https://caelum-online-public.s3.amazonaws.com/1178-estatistica-parte2/01/img007.png)"
   ]
  },
  {
   "cell_type": "markdown",
   "metadata": {
    "colab_type": "text",
    "id": "AN8WDZ-HG3Gi"
   },
   "source": [
    "## <font color=green>4.3 Erro inferencial</font>\n",
    "***"
   ]
  },
  {
   "cell_type": "markdown",
   "metadata": {
    "colab_type": "text",
    "id": "tk-TwhhfG3Gi"
   },
   "source": [
    "O **erro inferencial** é definido pelo **desvio padrão das médias amostrais** $\\sigma_\\bar{x}$ e pelo **nível de confiança** determinado para o processo."
   ]
  },
  {
   "cell_type": "markdown",
   "metadata": {
    "colab_type": "text",
    "id": "FKOQUPYHG3Gk"
   },
   "source": [
    "# $$e = z \\frac{\\sigma}{\\sqrt{n}}$$"
   ]
  },
  {
   "cell_type": "markdown",
   "metadata": {
    "colab_type": "text",
    "id": "ELbWQW4sG3HS"
   },
   "source": [
    "## <font color=green>4.4 Intervalos de confiança</font>\n",
    "***"
   ]
  },
  {
   "cell_type": "markdown",
   "metadata": {
    "colab_type": "text",
    "id": "-r6EMnH-G3HT"
   },
   "source": [
    "### Intevalo de confiança para a média da população"
   ]
  },
  {
   "cell_type": "markdown",
   "metadata": {
    "colab_type": "text",
    "id": "QWgBFeRnG3HT"
   },
   "source": [
    "#### Com desvio padrão populacional conhecido\n",
    "\n",
    "## $$\\mu = \\bar{x} \\pm z\\frac{\\sigma}{\\sqrt{n}}$$\n",
    "\n",
    "#### Com desvio padrão populacional desconhecido\n",
    "\n",
    "## $$\\mu = \\bar{x} \\pm z\\frac{s}{\\sqrt{n}}$$"
   ]
  },
  {
   "cell_type": "markdown",
   "metadata": {
    "colab_type": "text",
    "id": "R2qqLneeG3HT"
   },
   "source": [
    "## <font color='blue'>Exemplo: </font>"
   ]
  },
  {
   "cell_type": "markdown",
   "metadata": {
    "colab_type": "text",
    "id": "AgnrFjdMG3HT"
   },
   "source": [
    "Suponha que os pesos dos sacos de arroz de uma indústria alimentícia se distribuem aproximadamente como uma normal de **desvio padrão populacional igual a 150 g**. Selecionada uma **amostra aleatório de 20 sacos** de um lote específico, obteve-se um **peso médio de 5.050 g**. Construa um intervalo de confiança para a **média populacional** assumindo um **nível de significância de 5%**."
   ]
  },
  {
   "cell_type": "markdown",
   "metadata": {
    "colab_type": "text",
    "id": "LpGQGksTG3HU"
   },
   "source": [
    "### Média amostral"
   ]
  },
  {
   "cell_type": "code",
   "execution_count": 154,
   "metadata": {
    "colab": {
     "base_uri": "https://localhost:8080/",
     "height": 34
    },
    "colab_type": "code",
    "id": "aF2QQ0z3G3HU",
    "outputId": "31b20b10-a4f7-49fe-b113-f0fff1e2f30f"
   },
   "outputs": [
    {
     "output_type": "execute_result",
     "data": {
      "text/plain": [
       "5050"
      ]
     },
     "metadata": {},
     "execution_count": 154
    }
   ],
   "source": [
    "media_amostra = 5050\n",
    "media_amostra"
   ]
  },
  {
   "source": [
    "### Nível de significancia ($\\alpha$)\n"
   ],
   "cell_type": "markdown",
   "metadata": {}
  },
  {
   "cell_type": "code",
   "execution_count": 155,
   "metadata": {},
   "outputs": [
    {
     "output_type": "execute_result",
     "data": {
      "text/plain": [
       "0.05"
      ]
     },
     "metadata": {},
     "execution_count": 155
    }
   ],
   "source": [
    "significancia = 0.05\n",
    "significancia"
   ]
  },
  {
   "cell_type": "markdown",
   "metadata": {
    "colab_type": "text",
    "id": "SrZAbQRKG3Ha"
   },
   "source": [
    "### Nível de confiança ($1 - \\alpha$)"
   ]
  },
  {
   "cell_type": "code",
   "execution_count": 156,
   "metadata": {
    "colab": {
     "base_uri": "https://localhost:8080/",
     "height": 34
    },
    "colab_type": "code",
    "id": "1JeWXwA6G3Ha",
    "outputId": "8ac9e63f-f2e5-46a5-b693-e221203ada3f"
   },
   "outputs": [
    {
     "output_type": "execute_result",
     "data": {
      "text/plain": [
       "0.95"
      ]
     },
     "metadata": {},
     "execution_count": 156
    }
   ],
   "source": [
    "confianca = 1 - significancia\n",
    "confianca"
   ]
  },
  {
   "cell_type": "markdown",
   "metadata": {
    "colab_type": "text",
    "id": "mZoUFr1nG3Hf"
   },
   "source": [
    "### Obtendo $z$"
   ]
  },
  {
   "cell_type": "code",
   "execution_count": 157,
   "metadata": {
    "colab": {
     "base_uri": "https://localhost:8080/",
     "height": 359
    },
    "colab_type": "code",
    "id": "f9IMOwY2Xeva",
    "outputId": "e8efe36b-5dfd-4272-de0c-fdab162d3582"
   },
   "outputs": [
    {
     "output_type": "execute_result",
     "data": {
      "text/plain": [
       "Z       0.00    0.01    0.02    0.03    0.04    0.05    0.06    0.07    0.08  \\\n",
       "1.60  0.9452  0.9463  0.9474  0.9484  0.9495  0.9505  0.9515  0.9525  0.9535   \n",
       "1.70  0.9554  0.9564  0.9573  0.9582  0.9591  0.9599  0.9608  0.9616  0.9625   \n",
       "1.80  0.9641  0.9649  0.9656  0.9664  0.9671  0.9678  0.9686  0.9693  0.9699   \n",
       "1.90  0.9713  0.9719  0.9726  0.9732  0.9738  0.9744  0.9750  0.9756  0.9761   \n",
       "2.00  0.9772  0.9778  0.9783  0.9788  0.9793  0.9798  0.9803  0.9808  0.9812   \n",
       "2.10  0.9821  0.9826  0.9830  0.9834  0.9838  0.9842  0.9846  0.9850  0.9854   \n",
       "2.20  0.9861  0.9864  0.9868  0.9871  0.9875  0.9878  0.9881  0.9884  0.9887   \n",
       "2.30  0.9893  0.9896  0.9898  0.9901  0.9904  0.9906  0.9909  0.9911  0.9913   \n",
       "2.40  0.9918  0.9920  0.9922  0.9925  0.9927  0.9929  0.9931  0.9932  0.9934   \n",
       "2.50  0.9938  0.9940  0.9941  0.9943  0.9945  0.9946  0.9948  0.9949  0.9951   \n",
       "\n",
       "Z       0.09  \n",
       "1.60  0.9545  \n",
       "1.70  0.9633  \n",
       "1.80  0.9706  \n",
       "1.90  0.9767  \n",
       "2.00  0.9817  \n",
       "2.10  0.9857  \n",
       "2.20  0.9890  \n",
       "2.30  0.9916  \n",
       "2.40  0.9936  \n",
       "2.50  0.9952  "
      ],
      "text/html": "<div>\n<style scoped>\n    .dataframe tbody tr th:only-of-type {\n        vertical-align: middle;\n    }\n\n    .dataframe tbody tr th {\n        vertical-align: top;\n    }\n\n    .dataframe thead th {\n        text-align: right;\n    }\n</style>\n<table border=\"1\" class=\"dataframe\">\n  <thead>\n    <tr style=\"text-align: right;\">\n      <th>Z</th>\n      <th>0.00</th>\n      <th>0.01</th>\n      <th>0.02</th>\n      <th>0.03</th>\n      <th>0.04</th>\n      <th>0.05</th>\n      <th>0.06</th>\n      <th>0.07</th>\n      <th>0.08</th>\n      <th>0.09</th>\n    </tr>\n  </thead>\n  <tbody>\n    <tr>\n      <th>1.60</th>\n      <td>0.9452</td>\n      <td>0.9463</td>\n      <td>0.9474</td>\n      <td>0.9484</td>\n      <td>0.9495</td>\n      <td>0.9505</td>\n      <td>0.9515</td>\n      <td>0.9525</td>\n      <td>0.9535</td>\n      <td>0.9545</td>\n    </tr>\n    <tr>\n      <th>1.70</th>\n      <td>0.9554</td>\n      <td>0.9564</td>\n      <td>0.9573</td>\n      <td>0.9582</td>\n      <td>0.9591</td>\n      <td>0.9599</td>\n      <td>0.9608</td>\n      <td>0.9616</td>\n      <td>0.9625</td>\n      <td>0.9633</td>\n    </tr>\n    <tr>\n      <th>1.80</th>\n      <td>0.9641</td>\n      <td>0.9649</td>\n      <td>0.9656</td>\n      <td>0.9664</td>\n      <td>0.9671</td>\n      <td>0.9678</td>\n      <td>0.9686</td>\n      <td>0.9693</td>\n      <td>0.9699</td>\n      <td>0.9706</td>\n    </tr>\n    <tr>\n      <th>1.90</th>\n      <td>0.9713</td>\n      <td>0.9719</td>\n      <td>0.9726</td>\n      <td>0.9732</td>\n      <td>0.9738</td>\n      <td>0.9744</td>\n      <td>0.9750</td>\n      <td>0.9756</td>\n      <td>0.9761</td>\n      <td>0.9767</td>\n    </tr>\n    <tr>\n      <th>2.00</th>\n      <td>0.9772</td>\n      <td>0.9778</td>\n      <td>0.9783</td>\n      <td>0.9788</td>\n      <td>0.9793</td>\n      <td>0.9798</td>\n      <td>0.9803</td>\n      <td>0.9808</td>\n      <td>0.9812</td>\n      <td>0.9817</td>\n    </tr>\n    <tr>\n      <th>2.10</th>\n      <td>0.9821</td>\n      <td>0.9826</td>\n      <td>0.9830</td>\n      <td>0.9834</td>\n      <td>0.9838</td>\n      <td>0.9842</td>\n      <td>0.9846</td>\n      <td>0.9850</td>\n      <td>0.9854</td>\n      <td>0.9857</td>\n    </tr>\n    <tr>\n      <th>2.20</th>\n      <td>0.9861</td>\n      <td>0.9864</td>\n      <td>0.9868</td>\n      <td>0.9871</td>\n      <td>0.9875</td>\n      <td>0.9878</td>\n      <td>0.9881</td>\n      <td>0.9884</td>\n      <td>0.9887</td>\n      <td>0.9890</td>\n    </tr>\n    <tr>\n      <th>2.30</th>\n      <td>0.9893</td>\n      <td>0.9896</td>\n      <td>0.9898</td>\n      <td>0.9901</td>\n      <td>0.9904</td>\n      <td>0.9906</td>\n      <td>0.9909</td>\n      <td>0.9911</td>\n      <td>0.9913</td>\n      <td>0.9916</td>\n    </tr>\n    <tr>\n      <th>2.40</th>\n      <td>0.9918</td>\n      <td>0.9920</td>\n      <td>0.9922</td>\n      <td>0.9925</td>\n      <td>0.9927</td>\n      <td>0.9929</td>\n      <td>0.9931</td>\n      <td>0.9932</td>\n      <td>0.9934</td>\n      <td>0.9936</td>\n    </tr>\n    <tr>\n      <th>2.50</th>\n      <td>0.9938</td>\n      <td>0.9940</td>\n      <td>0.9941</td>\n      <td>0.9943</td>\n      <td>0.9945</td>\n      <td>0.9946</td>\n      <td>0.9948</td>\n      <td>0.9949</td>\n      <td>0.9951</td>\n      <td>0.9952</td>\n    </tr>\n  </tbody>\n</table>\n</div>"
     },
     "metadata": {},
     "execution_count": 157
    }
   ],
   "source": [
    "tabela_normal_padronizada[16:26]"
   ]
  },
  {
   "cell_type": "markdown",
   "metadata": {
    "colab_type": "text",
    "id": "rMRmnaNPG3Go"
   },
   "source": [
    "### Obtendo $z$"
   ]
  },
  {
   "cell_type": "markdown",
   "metadata": {
    "colab_type": "text",
    "id": "T-3mV1qlUj1t"
   },
   "source": [
    "![alt text](https://caelum-online-public.s3.amazonaws.com/1178-estatistica-parte2/01/img008.png)"
   ]
  },
  {
   "cell_type": "code",
   "execution_count": 158,
   "metadata": {
    "colab": {
     "base_uri": "https://localhost:8080/",
     "height": 34
    },
    "colab_type": "code",
    "id": "nT5ZTwjOG3Go",
    "outputId": "9c20d5b5-fb36-40f1-b901-3969a2fa8ea0"
   },
   "outputs": [
    {
     "output_type": "execute_result",
     "data": {
      "text/plain": [
       "5.475"
      ]
     },
     "metadata": {},
     "execution_count": 158
    }
   ],
   "source": [
    "0.5 + (9.95 / 2)"
   ]
  },
  {
   "cell_type": "code",
   "execution_count": 160,
   "metadata": {
    "colab": {
     "base_uri": "https://localhost:8080/",
     "height": 34
    },
    "colab_type": "code",
    "id": "vMjck-3ZU_sz",
    "outputId": "56a3f3ba-e5d4-40c7-dc4c-b31ed5d07262"
   },
   "outputs": [
    {
     "output_type": "execute_result",
     "data": {
      "text/plain": [
       "0.24801872461073715"
      ]
     },
     "metadata": {},
     "execution_count": 160
    }
   ],
   "source": [
    "z = norm.pdf(0.975)\n",
    "z"
   ]
  },
  {
   "cell_type": "code",
   "execution_count": null,
   "metadata": {
    "colab": {
     "base_uri": "https://localhost:8080/",
     "height": 34
    },
    "colab_type": "code",
    "id": "L4CMGZ3oVHLX",
    "outputId": "60470140-1dfa-4d5c-9627-097378b2fc8e"
   },
   "outputs": [],
   "source": []
  },
  {
   "cell_type": "code",
   "execution_count": null,
   "metadata": {
    "colab": {
     "base_uri": "https://localhost:8080/",
     "height": 34
    },
    "colab_type": "code",
    "id": "JJS6Z-85G3Hf",
    "outputId": "4cc8e179-05a4-4237-f099-06550ac200bf"
   },
   "outputs": [],
   "source": []
  },
  {
   "cell_type": "markdown",
   "metadata": {
    "colab_type": "text",
    "id": "ggXXP8QqTyNA"
   },
   "source": [
    "### Valores de $z$ para os níveis de confiança mais utilizados\n",
    "\n",
    "|Nível de<br>confiança|Valor da área sob<br>a curva normal| $z$ |\n",
    "|:----------------:|:---------------------------------:|:---:|\n",
    "|90%               |0,95                               |1,645|\n",
    "|95%               |0,975                              |1,96 |\n",
    "|99%               |0,995                              |2,575|"
   ]
  },
  {
   "cell_type": "markdown",
   "metadata": {
    "colab_type": "text",
    "id": "MfE1ru0AG3Hg"
   },
   "source": [
    "### Obtendo $\\sigma_\\bar{x}$"
   ]
  },
  {
   "cell_type": "code",
   "execution_count": 161,
   "metadata": {
    "colab": {
     "base_uri": "https://localhost:8080/",
     "height": 34
    },
    "colab_type": "code",
    "id": "LyQ6UUYtG3Hh",
    "outputId": "4c066583-4272-4e26-daf5-575ea4815371"
   },
   "outputs": [
    {
     "output_type": "execute_result",
     "data": {
      "text/plain": [
       "150"
      ]
     },
     "metadata": {},
     "execution_count": 161
    }
   ],
   "source": [
    "desvio_padrao = 150\n",
    "desvio_padrao"
   ]
  },
  {
   "cell_type": "code",
   "execution_count": 162,
   "metadata": {
    "colab": {
     "base_uri": "https://localhost:8080/",
     "height": 34
    },
    "colab_type": "code",
    "id": "ebvikT95G3Hi",
    "outputId": "bfbc2f5c-e706-46a6-aa6c-e94632aed4fc"
   },
   "outputs": [
    {
     "output_type": "execute_result",
     "data": {
      "text/plain": [
       "20"
      ]
     },
     "metadata": {},
     "execution_count": 162
    }
   ],
   "source": [
    "n = 20\n",
    "n"
   ]
  },
  {
   "cell_type": "code",
   "execution_count": 163,
   "metadata": {
    "colab": {
     "base_uri": "https://localhost:8080/",
     "height": 34
    },
    "colab_type": "code",
    "id": "TxM3yTpjG3Hk",
    "outputId": "a38a0bfc-2c3b-48f4-cea7-ee5f5147a251"
   },
   "outputs": [
    {
     "output_type": "execute_result",
     "data": {
      "text/plain": [
       "4.47213595499958"
      ]
     },
     "metadata": {},
     "execution_count": 163
    }
   ],
   "source": [
    "raiz_de_n = np.sqrt(n)\n",
    "raiz_de_n"
   ]
  },
  {
   "cell_type": "code",
   "execution_count": 165,
   "metadata": {
    "colab": {
     "base_uri": "https://localhost:8080/",
     "height": 34
    },
    "colab_type": "code",
    "id": "HNAcOpl0G3Hl",
    "outputId": "3b37c2d5-b02d-40af-897d-6c588e2696aa"
   },
   "outputs": [
    {
     "output_type": "execute_result",
     "data": {
      "text/plain": [
       "33.54101966249684"
      ]
     },
     "metadata": {},
     "execution_count": 165
    }
   ],
   "source": [
    "sigma = desvio_padrao / raiz_de_n\n",
    "sigma"
   ]
  },
  {
   "cell_type": "markdown",
   "metadata": {
    "colab_type": "text",
    "id": "NHbXlLk-G3Hn"
   },
   "source": [
    "### Obtendo $e$"
   ]
  },
  {
   "cell_type": "code",
   "execution_count": 166,
   "metadata": {
    "colab": {
     "base_uri": "https://localhost:8080/",
     "height": 34
    },
    "colab_type": "code",
    "id": "gAfakih5G3Ho",
    "outputId": "48958fa3-2cf8-4bc5-dfc3-0fb925798b38"
   },
   "outputs": [
    {
     "output_type": "execute_result",
     "data": {
      "text/plain": [
       "8.318800918836125"
      ]
     },
     "metadata": {},
     "execution_count": 166
    }
   ],
   "source": [
    "e = z * sigma\n",
    "e"
   ]
  },
  {
   "cell_type": "markdown",
   "metadata": {
    "colab_type": "text",
    "id": "sx1QTfNrG3Hq"
   },
   "source": [
    "### Solução 1 - Calculando o intervalo de confiança para a média"
   ]
  },
  {
   "cell_type": "code",
   "execution_count": 167,
   "metadata": {
    "colab": {
     "base_uri": "https://localhost:8080/",
     "height": 34
    },
    "colab_type": "code",
    "id": "NlJCcPZnG3Hq",
    "outputId": "09cee323-103e-4832-c23f-97daf4b9929f"
   },
   "outputs": [
    {
     "output_type": "execute_result",
     "data": {
      "text/plain": [
       "(5041.681199081164, 5058.318800918836)"
      ]
     },
     "metadata": {},
     "execution_count": 167
    }
   ],
   "source": [
    "intervalo = (\n",
    "    media_amostra - e,\n",
    "    media_amostra + e\n",
    ")\n",
    "intervalo"
   ]
  },
  {
   "cell_type": "markdown",
   "metadata": {
    "colab_type": "text",
    "id": "DkFJL7fcG3Ht"
   },
   "source": [
    "### Solução 2 - Calculando o intervalo de confiança para a média"
   ]
  },
  {
   "cell_type": "code",
   "execution_count": 168,
   "metadata": {
    "colab": {
     "base_uri": "https://localhost:8080/",
     "height": 34
    },
    "colab_type": "code",
    "id": "U92vSYMkG3Hu",
    "outputId": "45923471-3d21-42ad-a922-5067ff21067b"
   },
   "outputs": [
    {
     "output_type": "execute_result",
     "data": {
      "text/plain": [
       "(4984.260809456757, 5115.739190543243)"
      ]
     },
     "metadata": {},
     "execution_count": 168
    }
   ],
   "source": [
    "norm.interval(alpha = 0.95, loc = media_amostra, scale = sigma)"
   ]
  },
  {
   "cell_type": "code",
   "execution_count": 169,
   "metadata": {},
   "outputs": [
    {
     "output_type": "stream",
     "name": "stdout",
     "text": [
      "R$ 1.66\n"
     ]
    }
   ],
   "source": [
    "#Para estimar o valor médio gasto por cada cliente de uma grande rede de fast-food, foi selecionada uma amostra de 50 clientes.\n",
    "#Assumindo que o valor do desvio padrão da população seja de R$ 6,00 e que esta população se distribui normalmente, obtenha a margem de erro desta estimativa para um nível de confiança de 95%.\n",
    "\n",
    "z = norm.ppf(0.975)\n",
    "desvio_padrao = 6\n",
    "n = 50\n",
    "\n",
    "e = z * (desvio_padrao / np.sqrt(n))\n",
    "print(\"R$ {0:0.2f}\".format(e))"
   ]
  },
  {
   "cell_type": "code",
   "execution_count": 170,
   "metadata": {},
   "outputs": [
    {
     "output_type": "execute_result",
     "data": {
      "text/plain": [
       "(27.592969951356466, 28.407030048643534)"
      ]
     },
     "metadata": {},
     "execution_count": 170
    }
   ],
   "source": [
    "#Uma amostra aleatória simples de 1976 itens de uma população normalmente distribuída, com desvio padrão igual a 11, resultou em uma média amostral de 28.\n",
    "#Qual o intervalo de confiança de 90% para a média populacional?\n",
    "#Alternativa correta 27,59 a 28,41\n",
    "media_amostral = 28\n",
    "desvio_padrao = 11\n",
    "n = 1976\n",
    "\n",
    "norm.interval(alpha = 0.90,loc = media_amostral,scale = desvio_padrao / np.sqrt(n))\n"
   ]
  },
  {
   "cell_type": "markdown",
   "metadata": {
    "colab_type": "text",
    "id": "aF9jAC6yG3Gl"
   },
   "source": [
    "# <font color=green>5 CÁLCULO DO TAMANHO DA AMOSTRA</font>\n",
    "***"
   ]
  },
  {
   "cell_type": "markdown",
   "metadata": {
    "colab_type": "text",
    "id": "BwiygaNqnjrr"
   },
   "source": [
    "## <font color='red'>Problema </font>"
   ]
  },
  {
   "cell_type": "markdown",
   "metadata": {
    "colab_type": "text",
    "id": "a7RjjVVUnlI3"
   },
   "source": [
    "Estamos estudando o rendimento mensal dos chefes de domicílios com renda até R$\\$$ 5.000,00 no Brasil. Nosso supervisor determinou que o **erro máximo em relação a média seja de R$\\$$ 10,00**. Sabemos que o **desvio padrão populacional** deste grupo de trabalhadores é de **R$\\$$ 1.082,79**. Para um **nível de confiança de 95%**, qual deve ser o tamanho da amostra de nosso estudo?"
   ]
  },
  {
   "cell_type": "markdown",
   "metadata": {
    "colab_type": "text",
    "id": "za2sGJt6G3Gm"
   },
   "source": [
    "## <font color=green>5.1 Variáveis quantitativas e população infinita</font>\n",
    "***"
   ]
  },
  {
   "cell_type": "markdown",
   "metadata": {
    "colab_type": "text",
    "id": "3wqMjJWR5sVq"
   },
   "source": [
    "# $$e = z \\frac{\\sigma}{\\sqrt{n}}$$"
   ]
  },
  {
   "cell_type": "markdown",
   "metadata": {
    "colab_type": "text",
    "id": "X1AxpKtIG3Gn"
   },
   "source": [
    "#### Com desvio padrão conhecido\n",
    "\n",
    "## $$n = \\left(z\\frac{\\sigma}{e}\\right)^2$$\n",
    "\n",
    "#### Com desvio padrão desconhecido\n",
    "\n",
    "## $$n = \\left(z\\frac{s}{e}\\right)^2$$\n",
    "\n",
    "Onde:\n",
    "\n",
    "$z$ = variável normal padronizada\n",
    "\n",
    "$\\sigma$ = desvio padrão populacional\n",
    "\n",
    "$s$ = desvio padrão amostral\n",
    "\n",
    "$e$ = erro inferencial"
   ]
  },
  {
   "cell_type": "markdown",
   "metadata": {
    "colab_type": "text",
    "id": "T0fysCyDG3Gn"
   },
   "source": [
    "### <font color='red'>Observações</font>\n",
    "\n",
    "1. O desvio padrão ($\\sigma$ ou $s$) e o erro ($e$) devem estar na mesma unidade de medida.\n",
    "\n",
    "2. Quando o erro ($e$) for representado em termos percentuais, deve ser interpretado como um percentual relacionado à média."
   ]
  },
  {
   "cell_type": "markdown",
   "metadata": {
    "colab_type": "text",
    "id": "WHYBTaupG3Gn"
   },
   "source": [
    "## <font color='blue'>Exemplo: Rendimento médio</font>"
   ]
  },
  {
   "cell_type": "markdown",
   "metadata": {
    "colab_type": "text",
    "id": "dcdzo7EgG3Go"
   },
   "source": [
    "Estamos estudando o rendimento mensal dos chefes de domicílios no Brasil. Nosso supervisor determinou que o **erro máximo em relação a média seja de R$\\$$ 100,00**. Sabemos que o **desvio padrão populacional** deste grupo de trabalhadores é de **R$\\$$ 3.323,39**. Para um **nível de confiança de 95%**, qual deve ser o tamanho da amostra de nosso estudo?"
   ]
  },
  {
   "cell_type": "code",
   "execution_count": 171,
   "metadata": {
    "colab": {
     "base_uri": "https://localhost:8080/",
     "height": 34
    },
    "colab_type": "code",
    "id": "XtJ5I_kaKDN3",
    "outputId": "a519e330-ddf0-492c-f42d-5cef36fed4c9"
   },
   "outputs": [
    {
     "output_type": "execute_result",
     "data": {
      "text/plain": [
       "1.959963984540054"
      ]
     },
     "metadata": {},
     "execution_count": 171
    }
   ],
   "source": [
    "z = norm.ppf(0.975)\n",
    "z"
   ]
  },
  {
   "cell_type": "code",
   "execution_count": null,
   "metadata": {
    "colab": {
     "base_uri": "https://localhost:8080/",
     "height": 34
    },
    "colab_type": "code",
    "id": "-4TLCgNLKC95",
    "outputId": "19f3b7af-ff33-4db4-c675-c62b5088137e"
   },
   "outputs": [],
   "source": []
  },
  {
   "cell_type": "code",
   "execution_count": null,
   "metadata": {
    "colab": {
     "base_uri": "https://localhost:8080/",
     "height": 34
    },
    "colab_type": "code",
    "id": "7XDT12I4ViYN",
    "outputId": "a0af8729-80a8-4b33-b307-96d144c83029"
   },
   "outputs": [],
   "source": []
  },
  {
   "cell_type": "markdown",
   "metadata": {
    "colab_type": "text",
    "id": "6uCkW4KlG3Gr"
   },
   "source": [
    "### Obtendo $\\sigma$"
   ]
  },
  {
   "cell_type": "code",
   "execution_count": 172,
   "metadata": {
    "colab": {
     "base_uri": "https://localhost:8080/",
     "height": 34
    },
    "colab_type": "code",
    "id": "1RmtZfj-G3Gr",
    "outputId": "d3e77bf1-b933-4ade-846f-95e25f4e1d6e"
   },
   "outputs": [
    {
     "output_type": "execute_result",
     "data": {
      "text/plain": [
       "3323.39"
      ]
     },
     "metadata": {},
     "execution_count": 172
    }
   ],
   "source": [
    "sigma = 3323.39\n",
    "sigma"
   ]
  },
  {
   "cell_type": "markdown",
   "metadata": {
    "colab_type": "text",
    "id": "Cl39PIZ2G3Gt"
   },
   "source": [
    "### Obtendo $e$"
   ]
  },
  {
   "cell_type": "code",
   "execution_count": 173,
   "metadata": {
    "colab": {
     "base_uri": "https://localhost:8080/",
     "height": 34
    },
    "colab_type": "code",
    "id": "NTRMt2gWG3Gt",
    "outputId": "f7d7ae3f-7e33-41cc-a11a-5b09de70cc2c"
   },
   "outputs": [
    {
     "output_type": "execute_result",
     "data": {
      "text/plain": [
       "100"
      ]
     },
     "metadata": {},
     "execution_count": 173
    }
   ],
   "source": [
    "e = 100\n",
    "e"
   ]
  },
  {
   "cell_type": "markdown",
   "metadata": {
    "colab_type": "text",
    "id": "OlAX3Gj6G3Gv"
   },
   "source": [
    "### Obtendo $n$"
   ]
  },
  {
   "cell_type": "code",
   "execution_count": 174,
   "metadata": {
    "colab": {
     "base_uri": "https://localhost:8080/",
     "height": 34
    },
    "colab_type": "code",
    "id": "0MjluwHPG3Gv",
    "outputId": "8f74510a-4f4b-4129-d3c3-d31be24567fa",
    "scrolled": true
   },
   "outputs": [
    {
     "output_type": "execute_result",
     "data": {
      "text/plain": [
       "4242.860955311813"
      ]
     },
     "metadata": {},
     "execution_count": 174
    }
   ],
   "source": [
    "n = (z * (sigma /e)) ** 2\n",
    "n"
   ]
  },
  {
   "cell_type": "code",
   "execution_count": 175,
   "metadata": {},
   "outputs": [
    {
     "output_type": "execute_result",
     "data": {
      "text/plain": [
       "29.0"
      ]
     },
     "metadata": {},
     "execution_count": 175
    }
   ],
   "source": [
    "#O valor do gasto médio dos clientes de uma loja de conveniência é de R$ 45,50. Assumindo que o desvio padrão dos gastos é igual a R$ 15,00, qual deve ser o tamanho da amostra para estimarmos a média populacional com um nível de significância de 10%?\n",
    "#Considere que o erro máximo aceitável seja de 10%.\n",
    "\n",
    "media = 45.5\n",
    "sigma = 15\n",
    "significancia = 0.10\n",
    "confianca = 1 - significancia\n",
    "\n",
    "z = norm.ppf(0.5 + (confianca / 2))\n",
    "erro_percentual = 0.10\n",
    "e = media * erro_percentual\n",
    "\n",
    "n = (z * (sigma / e)) ** 2\n",
    "n.round()"
   ]
  },
  {
   "cell_type": "markdown",
   "metadata": {
    "colab_type": "text",
    "id": "MjP0xsqyTyNO"
   },
   "source": [
    "---\n",
    "---"
   ]
  },
  {
   "cell_type": "markdown",
   "metadata": {
    "colab_type": "text",
    "id": "dx2vyLC-TyNP"
   },
   "source": [
    "## <font color='red'>Problema</font>"
   ]
  },
  {
   "cell_type": "markdown",
   "metadata": {
    "colab_type": "text",
    "id": "uzK2fAOFTyNP"
   },
   "source": [
    "Em um lote de **10.000 latas** de refrigerante foi realizada uma amostra aleatória simples de **100 latas** e foi obtido o **desvio padrão amostral do conteúdo das latas igual a 12 ml**. O fabricante estipula um **erro máximo sobre a média populacional de apenas 5 ml**. Para garantir um **nível de confiança de 95%** qual o tamanho de amostra deve ser selecionado para este estudo?"
   ]
  },
  {
   "cell_type": "markdown",
   "metadata": {
    "colab_type": "text",
    "id": "FlAz5kycTyNQ"
   },
   "source": [
    "## <font color=green>5.2 Variáveis quantitativas e população finita</font>\n",
    "***"
   ]
  },
  {
   "cell_type": "markdown",
   "metadata": {
    "colab_type": "text",
    "id": "UOe02McSTyNR"
   },
   "source": [
    "#### Com desvio padrão conhecido\n",
    "\n",
    "## $$n = \\frac{z^2 \\sigma^2 N}{z^2 \\sigma^2 + e^2(N-1)}$$\n",
    "\n",
    "#### Com desvio padrão desconhecido\n",
    "\n",
    "## $$n = \\frac{z^2 s^2 N}{z^2 s^2 + e^2(N-1)}$$\n",
    "\n",
    "Onde:\n",
    "\n",
    "$N$ = tamanho da população\n",
    "\n",
    "$z$ = variável normal padronizada\n",
    "\n",
    "$\\sigma$ = desvio padrão populacional\n",
    "\n",
    "$s$ = desvio padrão amostral\n",
    "\n",
    "$e$ = erro inferencial"
   ]
  },
  {
   "cell_type": "markdown",
   "metadata": {
    "colab_type": "text",
    "id": "cUELtYTKTyNS"
   },
   "source": [
    "## <font color='blue'>Exemplo: Indústria de refrigerantes</font>"
   ]
  },
  {
   "cell_type": "markdown",
   "metadata": {
    "colab_type": "text",
    "id": "upv1mM7fTyNS"
   },
   "source": [
    "Em um lote de **10.000 latas** de refrigerante foi realizada uma amostra aleatória simples de **100 latas** e foi obtido o **desvio padrão amostral do conteúdo das latas igual a 12 ml**. O fabricante estipula um **erro máximo sobre a média populacional de apenas 5 ml**. Para garantir um **nível de confiança de 95%** qual o tamanho de amostra deve ser selecionado para este estudo?"
   ]
  },
  {
   "cell_type": "markdown",
   "metadata": {
    "colab_type": "text",
    "id": "_y3-3VIBTyNS"
   },
   "source": [
    "### Obtendo $N$"
   ]
  },
  {
   "cell_type": "code",
   "execution_count": 176,
   "metadata": {
    "colab": {
     "base_uri": "https://localhost:8080/",
     "height": 34
    },
    "colab_type": "code",
    "id": "gXWn9zTETyNS",
    "outputId": "4daa26ff-4a96-47fb-9f0e-53a4390d701e"
   },
   "outputs": [
    {
     "output_type": "execute_result",
     "data": {
      "text/plain": [
       "1000"
      ]
     },
     "metadata": {},
     "execution_count": 176
    }
   ],
   "source": [
    "N = 1000\n",
    "N"
   ]
  },
  {
   "cell_type": "markdown",
   "metadata": {
    "colab_type": "text",
    "id": "xCgZ1JSjTyNT"
   },
   "source": [
    "### Obtendo $z$"
   ]
  },
  {
   "cell_type": "code",
   "execution_count": 177,
   "metadata": {
    "colab": {
     "base_uri": "https://localhost:8080/",
     "height": 34
    },
    "colab_type": "code",
    "id": "ZUs9aYJRTyNT",
    "outputId": "02560c9f-57ee-41c7-cdf4-5fd382365a74"
   },
   "outputs": [
    {
     "output_type": "execute_result",
     "data": {
      "text/plain": [
       "1.959963984540054"
      ]
     },
     "metadata": {},
     "execution_count": 177
    }
   ],
   "source": [
    "z = norm.ppf((0.5 + (0.95 / 2)))\n",
    "z"
   ]
  },
  {
   "cell_type": "markdown",
   "metadata": {
    "colab_type": "text",
    "id": "KCnigJd8TyNU"
   },
   "source": [
    "### Obtendo $s$"
   ]
  },
  {
   "cell_type": "code",
   "execution_count": 178,
   "metadata": {
    "colab": {
     "base_uri": "https://localhost:8080/",
     "height": 34
    },
    "colab_type": "code",
    "id": "fKqFI_TZTyNU",
    "outputId": "68a9ee2f-428a-4d18-9148-f33704968fb7"
   },
   "outputs": [
    {
     "output_type": "execute_result",
     "data": {
      "text/plain": [
       "12"
      ]
     },
     "metadata": {},
     "execution_count": 178
    }
   ],
   "source": [
    "s = 12\n",
    "s"
   ]
  },
  {
   "cell_type": "markdown",
   "metadata": {
    "colab_type": "text",
    "id": "K9gDEIUdTyNX"
   },
   "source": [
    "### Obtendo $e$"
   ]
  },
  {
   "cell_type": "code",
   "execution_count": 179,
   "metadata": {
    "colab": {
     "base_uri": "https://localhost:8080/",
     "height": 34
    },
    "colab_type": "code",
    "id": "hyhJ3MQKTyNX",
    "outputId": "2849bd05-6c70-4d97-980d-67e140f27850"
   },
   "outputs": [
    {
     "output_type": "execute_result",
     "data": {
      "text/plain": [
       "5"
      ]
     },
     "metadata": {},
     "execution_count": 179
    }
   ],
   "source": [
    "e = 5\n",
    "e"
   ]
  },
  {
   "cell_type": "markdown",
   "metadata": {
    "colab_type": "text",
    "id": "Dsm3bg9gTyNX"
   },
   "source": [
    "### Obtendo $n$\n",
    "\n",
    "## $$n = \\frac{z^2 s^2 N}{z^2 s^2 + e^2(N-1)}$$"
   ]
  },
  {
   "cell_type": "code",
   "execution_count": 180,
   "metadata": {
    "colab": {
     "base_uri": "https://localhost:8080/",
     "height": 34
    },
    "colab_type": "code",
    "id": "0XxWfaPdTyNY",
    "outputId": "8494180f-9149-419f-dee9-f02ec3e81b93",
    "scrolled": true
   },
   "outputs": [
    {
     "output_type": "execute_result",
     "data": {
      "text/plain": [
       "22"
      ]
     },
     "metadata": {},
     "execution_count": 180
    }
   ],
   "source": [
    "n = ((z**2) * (s**2) * (N)) / (((z**2) * (s**2)) + ((e**2) * (N - 1)))\n",
    "int(n.round())"
   ]
  },
  {
   "cell_type": "code",
   "execution_count": 181,
   "metadata": {},
   "outputs": [
    {
     "output_type": "execute_result",
     "data": {
      "text/plain": [
       "10"
      ]
     },
     "metadata": {},
     "execution_count": 181
    }
   ],
   "source": [
    "#Um fabricante de farinha verificou que, em uma amostra aleatória formada por 200 sacos de 25 kg de um lote formado por 2.000 sacos, apresentou um desvio padrão amostral do peso igual a 480 g.\n",
    "#Considerando um erro máximo associado à média populacional igual a 0,3 kg e um nível de confiança igual a 95%, qual tamanho de amostra deveria ser selecionado para obtermos uma estimativa confiável do parâmetro populacional?\n",
    "\n",
    "N = 2000\n",
    "z = norm.ppf(0.5 + (0.95 / 2))\n",
    "s = 480\n",
    "e = 0.3 * 1000   # Convertendo kg para g\n",
    "\n",
    "n = ((z**2) * (s**2) * (N)) / (((z**2) * (s**2)) + ((e**2) * (N - 1)))\n",
    "int(n.round())"
   ]
  },
  {
   "cell_type": "markdown",
   "metadata": {
    "colab_type": "text",
    "id": "XNH7CMglG3Hv"
   },
   "source": [
    "# <font color=green>6 FIXANDO O CONTEÚDO</font>\n",
    "***"
   ]
  },
  {
   "cell_type": "markdown",
   "metadata": {
    "colab_type": "text",
    "id": "iRYqVAxuG3Hv"
   },
   "source": [
    "## <font color='blue'>Exemplo: Rendimento médio</font>"
   ]
  },
  {
   "cell_type": "markdown",
   "metadata": {
    "colab_type": "text",
    "id": "ggloHI5sG3Hw"
   },
   "source": [
    "Estamos estudando o **rendimento mensal dos chefes de domicílios com renda até R$\\$$ 5.000,00 no Brasil**. Nosso supervisor determinou que o **erro máximo em relação a média seja de R$\\$$ 10,00**. Sabemos que o **desvio padrão populacional** deste grupo de trabalhadores é de **R$\\$$ 1.082,79** e que a **média populacional** é de **R$\\$$ 1.426,54**. Para um **nível de confiança de 95%**, qual deve ser o tamanho da amostra de nosso estudo? Qual o intervalo de confiança para a média considerando o tamanho de amostra obtido?"
   ]
  },
  {
   "cell_type": "markdown",
   "metadata": {
    "colab_type": "text",
    "id": "JZDvLD-NG3Hw"
   },
   "source": [
    "### Construindo o dataset conforme especificado pelo problema"
   ]
  },
  {
   "cell_type": "code",
   "execution_count": 182,
   "metadata": {
    "colab": {},
    "colab_type": "code",
    "id": "qlnYQeaKG3Hw"
   },
   "outputs": [],
   "source": [
    "renda_5000 = dados.query('Renda <= 5000').Renda"
   ]
  },
  {
   "cell_type": "code",
   "execution_count": 183,
   "metadata": {
    "colab": {
     "base_uri": "https://localhost:8080/",
     "height": 34
    },
    "colab_type": "code",
    "id": "VKuxbygIG3Hy",
    "outputId": "98078826-90d1-488e-b11d-cf4e6f5bdc3c"
   },
   "outputs": [
    {
     "output_type": "execute_result",
     "data": {
      "text/plain": [
       "1082.794549030635"
      ]
     },
     "metadata": {},
     "execution_count": 183
    }
   ],
   "source": [
    "sigma = renda_5000.std()\n",
    "sigma"
   ]
  },
  {
   "cell_type": "code",
   "execution_count": 184,
   "metadata": {
    "colab": {
     "base_uri": "https://localhost:8080/",
     "height": 34
    },
    "colab_type": "code",
    "id": "Q2Ku3mVPG3Hz",
    "outputId": "bb079fb4-3e59-4e05-920a-b369c04744eb"
   },
   "outputs": [
    {
     "output_type": "execute_result",
     "data": {
      "text/plain": [
       "1426.5372144947232"
      ]
     },
     "metadata": {},
     "execution_count": 184
    }
   ],
   "source": [
    "media = renda_5000.mean()\n",
    "media"
   ]
  },
  {
   "cell_type": "markdown",
   "metadata": {
    "colab_type": "text",
    "id": "F33TdkXdG3H2"
   },
   "source": [
    "### Calculando o tamanho da amostra"
   ]
  },
  {
   "cell_type": "code",
   "execution_count": 185,
   "metadata": {
    "colab": {
     "base_uri": "https://localhost:8080/",
     "height": 34
    },
    "colab_type": "code",
    "id": "sWIvnmygG3H2",
    "outputId": "42b7f8db-3a43-4e5f-f61a-9000e4e5e94b"
   },
   "outputs": [
    {
     "output_type": "execute_result",
     "data": {
      "text/plain": [
       "45039"
      ]
     },
     "metadata": {},
     "execution_count": 185
    }
   ],
   "source": [
    "z = norm.ppf(.975)\n",
    "e = 10\n",
    "n = (z * (sigma / e)) ** 2\n",
    "n = int(n.round())\n",
    "n"
   ]
  },
  {
   "cell_type": "markdown",
   "metadata": {
    "colab_type": "text",
    "id": "xRN_gmmLG3H6"
   },
   "source": [
    "### Calculando o intervalo de confiança para a média"
   ]
  },
  {
   "cell_type": "code",
   "execution_count": 186,
   "metadata": {
    "colab": {
     "base_uri": "https://localhost:8080/",
     "height": 34
    },
    "colab_type": "code",
    "id": "HoG6JKxxG3H6",
    "outputId": "3ca552e4-f7f6-4992-f65a-6a4601dfd877"
   },
   "outputs": [
    {
     "output_type": "execute_result",
     "data": {
      "text/plain": [
       "(1416.5372195108241, 1436.5372094786223)"
      ]
     },
     "metadata": {},
     "execution_count": 186
    }
   ],
   "source": [
    "intervalo = norm.interval(alpha = 0.95, loc = media, scale = sigma / np.sqrt(n))\n",
    "intervalo"
   ]
  },
  {
   "cell_type": "markdown",
   "metadata": {
    "colab_type": "text",
    "id": "xWAG8q8oG3H8"
   },
   "source": [
    "### Realizando uma prova gráfica"
   ]
  },
  {
   "cell_type": "code",
   "execution_count": 187,
   "metadata": {
    "colab": {
     "base_uri": "https://localhost:8080/",
     "height": 395
    },
    "colab_type": "code",
    "id": "pxjJyWnNG3H8",
    "outputId": "c339160b-a6e1-403d-b996-3c81fd8d0f73"
   },
   "outputs": [
    {
     "output_type": "execute_result",
     "data": {
      "text/plain": [
       "<AxesSubplot:>"
      ]
     },
     "metadata": {},
     "execution_count": 187
    },
    {
     "output_type": "display_data",
     "data": {
      "text/plain": "<Figure size 864x432 with 1 Axes>",
      "image/svg+xml": "<?xml version=\"1.0\" encoding=\"utf-8\" standalone=\"no\"?>\r\n<!DOCTYPE svg PUBLIC \"-//W3C//DTD SVG 1.1//EN\"\r\n  \"http://www.w3.org/Graphics/SVG/1.1/DTD/svg11.dtd\">\r\n<!-- Created with matplotlib (https://matplotlib.org/) -->\r\n<svg height=\"357.238125pt\" version=\"1.1\" viewBox=\"0 0 716.45 357.238125\" width=\"716.45pt\" xmlns=\"http://www.w3.org/2000/svg\" xmlns:xlink=\"http://www.w3.org/1999/xlink\">\r\n <metadata>\r\n  <rdf:RDF xmlns:cc=\"http://creativecommons.org/ns#\" xmlns:dc=\"http://purl.org/dc/elements/1.1/\" xmlns:rdf=\"http://www.w3.org/1999/02/22-rdf-syntax-ns#\">\r\n   <cc:Work>\r\n    <dc:type rdf:resource=\"http://purl.org/dc/dcmitype/StillImage\"/>\r\n    <dc:date>2021-04-15T21:57:07.053666</dc:date>\r\n    <dc:format>image/svg+xml</dc:format>\r\n    <dc:creator>\r\n     <cc:Agent>\r\n      <dc:title>Matplotlib v3.3.2, https://matplotlib.org/</dc:title>\r\n     </cc:Agent>\r\n    </dc:creator>\r\n   </cc:Work>\r\n  </rdf:RDF>\r\n </metadata>\r\n <defs>\r\n  <style type=\"text/css\">*{stroke-linecap:butt;stroke-linejoin:round;}</style>\r\n </defs>\r\n <g id=\"figure_1\">\r\n  <g id=\"patch_1\">\r\n   <path d=\"M 0 357.238125 \r\nL 716.45 357.238125 \r\nL 716.45 0 \r\nL 0 0 \r\nz\r\n\" style=\"fill:none;\"/>\r\n  </g>\r\n  <g id=\"axes_1\">\r\n   <g id=\"patch_2\">\r\n    <path d=\"M 39.65 333.36 \r\nL 709.25 333.36 \r\nL 709.25 7.2 \r\nL 39.65 7.2 \r\nz\r\n\" style=\"fill:#ffffff;\"/>\r\n   </g>\r\n   <g id=\"matplotlib.axis_1\">\r\n    <g id=\"xtick_1\">\r\n     <g id=\"line2d_1\">\r\n      <defs>\r\n       <path d=\"M 0 0 \r\nL 0 3.5 \r\n\" id=\"m29a5692300\" style=\"stroke:#000000;stroke-width:0.8;\"/>\r\n      </defs>\r\n      <g>\r\n       <use style=\"stroke:#000000;stroke-width:0.8;\" x=\"70.086364\" xlink:href=\"#m29a5692300\" y=\"333.36\"/>\r\n      </g>\r\n     </g>\r\n     <g id=\"text_1\">\r\n      <!-- 0 -->\r\n      <g transform=\"translate(66.905114 347.958438)scale(0.1 -0.1)\">\r\n       <defs>\r\n        <path d=\"M 31.78125 66.40625 \r\nQ 24.171875 66.40625 20.328125 58.90625 \r\nQ 16.5 51.421875 16.5 36.375 \r\nQ 16.5 21.390625 20.328125 13.890625 \r\nQ 24.171875 6.390625 31.78125 6.390625 \r\nQ 39.453125 6.390625 43.28125 13.890625 \r\nQ 47.125 21.390625 47.125 36.375 \r\nQ 47.125 51.421875 43.28125 58.90625 \r\nQ 39.453125 66.40625 31.78125 66.40625 \r\nz\r\nM 31.78125 74.21875 \r\nQ 44.046875 74.21875 50.515625 64.515625 \r\nQ 56.984375 54.828125 56.984375 36.375 \r\nQ 56.984375 17.96875 50.515625 8.265625 \r\nQ 44.046875 -1.421875 31.78125 -1.421875 \r\nQ 19.53125 -1.421875 13.0625 8.265625 \r\nQ 6.59375 17.96875 6.59375 36.375 \r\nQ 6.59375 54.828125 13.0625 64.515625 \r\nQ 19.53125 74.21875 31.78125 74.21875 \r\nz\r\n\" id=\"DejaVuSans-48\"/>\r\n       </defs>\r\n       <use xlink:href=\"#DejaVuSans-48\"/>\r\n      </g>\r\n     </g>\r\n    </g>\r\n    <g id=\"xtick_2\">\r\n     <g id=\"line2d_2\">\r\n      <g>\r\n       <use style=\"stroke:#000000;stroke-width:0.8;\" x=\"191.831818\" xlink:href=\"#m29a5692300\" y=\"333.36\"/>\r\n      </g>\r\n     </g>\r\n     <g id=\"text_2\">\r\n      <!-- 200 -->\r\n      <g transform=\"translate(182.288068 347.958438)scale(0.1 -0.1)\">\r\n       <defs>\r\n        <path d=\"M 19.1875 8.296875 \r\nL 53.609375 8.296875 \r\nL 53.609375 0 \r\nL 7.328125 0 \r\nL 7.328125 8.296875 \r\nQ 12.9375 14.109375 22.625 23.890625 \r\nQ 32.328125 33.6875 34.8125 36.53125 \r\nQ 39.546875 41.84375 41.421875 45.53125 \r\nQ 43.3125 49.21875 43.3125 52.78125 \r\nQ 43.3125 58.59375 39.234375 62.25 \r\nQ 35.15625 65.921875 28.609375 65.921875 \r\nQ 23.96875 65.921875 18.8125 64.3125 \r\nQ 13.671875 62.703125 7.8125 59.421875 \r\nL 7.8125 69.390625 \r\nQ 13.765625 71.78125 18.9375 73 \r\nQ 24.125 74.21875 28.421875 74.21875 \r\nQ 39.75 74.21875 46.484375 68.546875 \r\nQ 53.21875 62.890625 53.21875 53.421875 \r\nQ 53.21875 48.921875 51.53125 44.890625 \r\nQ 49.859375 40.875 45.40625 35.40625 \r\nQ 44.1875 33.984375 37.640625 27.21875 \r\nQ 31.109375 20.453125 19.1875 8.296875 \r\nz\r\n\" id=\"DejaVuSans-50\"/>\r\n       </defs>\r\n       <use xlink:href=\"#DejaVuSans-50\"/>\r\n       <use x=\"63.623047\" xlink:href=\"#DejaVuSans-48\"/>\r\n       <use x=\"127.246094\" xlink:href=\"#DejaVuSans-48\"/>\r\n      </g>\r\n     </g>\r\n    </g>\r\n    <g id=\"xtick_3\">\r\n     <g id=\"line2d_3\">\r\n      <g>\r\n       <use style=\"stroke:#000000;stroke-width:0.8;\" x=\"313.577273\" xlink:href=\"#m29a5692300\" y=\"333.36\"/>\r\n      </g>\r\n     </g>\r\n     <g id=\"text_3\">\r\n      <!-- 400 -->\r\n      <g transform=\"translate(304.033523 347.958438)scale(0.1 -0.1)\">\r\n       <defs>\r\n        <path d=\"M 37.796875 64.3125 \r\nL 12.890625 25.390625 \r\nL 37.796875 25.390625 \r\nz\r\nM 35.203125 72.90625 \r\nL 47.609375 72.90625 \r\nL 47.609375 25.390625 \r\nL 58.015625 25.390625 \r\nL 58.015625 17.1875 \r\nL 47.609375 17.1875 \r\nL 47.609375 0 \r\nL 37.796875 0 \r\nL 37.796875 17.1875 \r\nL 4.890625 17.1875 \r\nL 4.890625 26.703125 \r\nz\r\n\" id=\"DejaVuSans-52\"/>\r\n       </defs>\r\n       <use xlink:href=\"#DejaVuSans-52\"/>\r\n       <use x=\"63.623047\" xlink:href=\"#DejaVuSans-48\"/>\r\n       <use x=\"127.246094\" xlink:href=\"#DejaVuSans-48\"/>\r\n      </g>\r\n     </g>\r\n    </g>\r\n    <g id=\"xtick_4\">\r\n     <g id=\"line2d_4\">\r\n      <g>\r\n       <use style=\"stroke:#000000;stroke-width:0.8;\" x=\"435.322727\" xlink:href=\"#m29a5692300\" y=\"333.36\"/>\r\n      </g>\r\n     </g>\r\n     <g id=\"text_4\">\r\n      <!-- 600 -->\r\n      <g transform=\"translate(425.778977 347.958438)scale(0.1 -0.1)\">\r\n       <defs>\r\n        <path d=\"M 33.015625 40.375 \r\nQ 26.375 40.375 22.484375 35.828125 \r\nQ 18.609375 31.296875 18.609375 23.390625 \r\nQ 18.609375 15.53125 22.484375 10.953125 \r\nQ 26.375 6.390625 33.015625 6.390625 \r\nQ 39.65625 6.390625 43.53125 10.953125 \r\nQ 47.40625 15.53125 47.40625 23.390625 \r\nQ 47.40625 31.296875 43.53125 35.828125 \r\nQ 39.65625 40.375 33.015625 40.375 \r\nz\r\nM 52.59375 71.296875 \r\nL 52.59375 62.3125 \r\nQ 48.875 64.0625 45.09375 64.984375 \r\nQ 41.3125 65.921875 37.59375 65.921875 \r\nQ 27.828125 65.921875 22.671875 59.328125 \r\nQ 17.53125 52.734375 16.796875 39.40625 \r\nQ 19.671875 43.65625 24.015625 45.921875 \r\nQ 28.375 48.1875 33.59375 48.1875 \r\nQ 44.578125 48.1875 50.953125 41.515625 \r\nQ 57.328125 34.859375 57.328125 23.390625 \r\nQ 57.328125 12.15625 50.6875 5.359375 \r\nQ 44.046875 -1.421875 33.015625 -1.421875 \r\nQ 20.359375 -1.421875 13.671875 8.265625 \r\nQ 6.984375 17.96875 6.984375 36.375 \r\nQ 6.984375 53.65625 15.1875 63.9375 \r\nQ 23.390625 74.21875 37.203125 74.21875 \r\nQ 40.921875 74.21875 44.703125 73.484375 \r\nQ 48.484375 72.75 52.59375 71.296875 \r\nz\r\n\" id=\"DejaVuSans-54\"/>\r\n       </defs>\r\n       <use xlink:href=\"#DejaVuSans-54\"/>\r\n       <use x=\"63.623047\" xlink:href=\"#DejaVuSans-48\"/>\r\n       <use x=\"127.246094\" xlink:href=\"#DejaVuSans-48\"/>\r\n      </g>\r\n     </g>\r\n    </g>\r\n    <g id=\"xtick_5\">\r\n     <g id=\"line2d_5\">\r\n      <g>\r\n       <use style=\"stroke:#000000;stroke-width:0.8;\" x=\"557.068182\" xlink:href=\"#m29a5692300\" y=\"333.36\"/>\r\n      </g>\r\n     </g>\r\n     <g id=\"text_5\">\r\n      <!-- 800 -->\r\n      <g transform=\"translate(547.524432 347.958438)scale(0.1 -0.1)\">\r\n       <defs>\r\n        <path d=\"M 31.78125 34.625 \r\nQ 24.75 34.625 20.71875 30.859375 \r\nQ 16.703125 27.09375 16.703125 20.515625 \r\nQ 16.703125 13.921875 20.71875 10.15625 \r\nQ 24.75 6.390625 31.78125 6.390625 \r\nQ 38.8125 6.390625 42.859375 10.171875 \r\nQ 46.921875 13.96875 46.921875 20.515625 \r\nQ 46.921875 27.09375 42.890625 30.859375 \r\nQ 38.875 34.625 31.78125 34.625 \r\nz\r\nM 21.921875 38.8125 \r\nQ 15.578125 40.375 12.03125 44.71875 \r\nQ 8.5 49.078125 8.5 55.328125 \r\nQ 8.5 64.0625 14.71875 69.140625 \r\nQ 20.953125 74.21875 31.78125 74.21875 \r\nQ 42.671875 74.21875 48.875 69.140625 \r\nQ 55.078125 64.0625 55.078125 55.328125 \r\nQ 55.078125 49.078125 51.53125 44.71875 \r\nQ 48 40.375 41.703125 38.8125 \r\nQ 48.828125 37.15625 52.796875 32.3125 \r\nQ 56.78125 27.484375 56.78125 20.515625 \r\nQ 56.78125 9.90625 50.3125 4.234375 \r\nQ 43.84375 -1.421875 31.78125 -1.421875 \r\nQ 19.734375 -1.421875 13.25 4.234375 \r\nQ 6.78125 9.90625 6.78125 20.515625 \r\nQ 6.78125 27.484375 10.78125 32.3125 \r\nQ 14.796875 37.15625 21.921875 38.8125 \r\nz\r\nM 18.3125 54.390625 \r\nQ 18.3125 48.734375 21.84375 45.5625 \r\nQ 25.390625 42.390625 31.78125 42.390625 \r\nQ 38.140625 42.390625 41.71875 45.5625 \r\nQ 45.3125 48.734375 45.3125 54.390625 \r\nQ 45.3125 60.0625 41.71875 63.234375 \r\nQ 38.140625 66.40625 31.78125 66.40625 \r\nQ 25.390625 66.40625 21.84375 63.234375 \r\nQ 18.3125 60.0625 18.3125 54.390625 \r\nz\r\n\" id=\"DejaVuSans-56\"/>\r\n       </defs>\r\n       <use xlink:href=\"#DejaVuSans-56\"/>\r\n       <use x=\"63.623047\" xlink:href=\"#DejaVuSans-48\"/>\r\n       <use x=\"127.246094\" xlink:href=\"#DejaVuSans-48\"/>\r\n      </g>\r\n     </g>\r\n    </g>\r\n    <g id=\"xtick_6\">\r\n     <g id=\"line2d_6\">\r\n      <g>\r\n       <use style=\"stroke:#000000;stroke-width:0.8;\" x=\"678.813636\" xlink:href=\"#m29a5692300\" y=\"333.36\"/>\r\n      </g>\r\n     </g>\r\n     <g id=\"text_6\">\r\n      <!-- 1000 -->\r\n      <g transform=\"translate(666.088636 347.958438)scale(0.1 -0.1)\">\r\n       <defs>\r\n        <path d=\"M 12.40625 8.296875 \r\nL 28.515625 8.296875 \r\nL 28.515625 63.921875 \r\nL 10.984375 60.40625 \r\nL 10.984375 69.390625 \r\nL 28.421875 72.90625 \r\nL 38.28125 72.90625 \r\nL 38.28125 8.296875 \r\nL 54.390625 8.296875 \r\nL 54.390625 0 \r\nL 12.40625 0 \r\nz\r\n\" id=\"DejaVuSans-49\"/>\r\n       </defs>\r\n       <use xlink:href=\"#DejaVuSans-49\"/>\r\n       <use x=\"63.623047\" xlink:href=\"#DejaVuSans-48\"/>\r\n       <use x=\"127.246094\" xlink:href=\"#DejaVuSans-48\"/>\r\n       <use x=\"190.869141\" xlink:href=\"#DejaVuSans-48\"/>\r\n      </g>\r\n     </g>\r\n    </g>\r\n   </g>\r\n   <g id=\"matplotlib.axis_2\">\r\n    <g id=\"ytick_1\">\r\n     <g id=\"line2d_7\">\r\n      <defs>\r\n       <path d=\"M 0 0 \r\nL -3.5 0 \r\n\" id=\"m3b2517f1e5\" style=\"stroke:#000000;stroke-width:0.8;\"/>\r\n      </defs>\r\n      <g>\r\n       <use style=\"stroke:#000000;stroke-width:0.8;\" x=\"39.65\" xlink:href=\"#m3b2517f1e5\" y=\"268.636514\"/>\r\n      </g>\r\n     </g>\r\n     <g id=\"text_7\">\r\n      <!-- 1420 -->\r\n      <g transform=\"translate(7.2 272.435732)scale(0.1 -0.1)\">\r\n       <use xlink:href=\"#DejaVuSans-49\"/>\r\n       <use x=\"63.623047\" xlink:href=\"#DejaVuSans-52\"/>\r\n       <use x=\"127.246094\" xlink:href=\"#DejaVuSans-50\"/>\r\n       <use x=\"190.869141\" xlink:href=\"#DejaVuSans-48\"/>\r\n      </g>\r\n     </g>\r\n    </g>\r\n    <g id=\"ytick_2\">\r\n     <g id=\"line2d_8\">\r\n      <g>\r\n       <use style=\"stroke:#000000;stroke-width:0.8;\" x=\"39.65\" xlink:href=\"#m3b2517f1e5\" y=\"196.58743\"/>\r\n      </g>\r\n     </g>\r\n     <g id=\"text_8\">\r\n      <!-- 1425 -->\r\n      <g transform=\"translate(7.2 200.386649)scale(0.1 -0.1)\">\r\n       <defs>\r\n        <path d=\"M 10.796875 72.90625 \r\nL 49.515625 72.90625 \r\nL 49.515625 64.59375 \r\nL 19.828125 64.59375 \r\nL 19.828125 46.734375 \r\nQ 21.96875 47.46875 24.109375 47.828125 \r\nQ 26.265625 48.1875 28.421875 48.1875 \r\nQ 40.625 48.1875 47.75 41.5 \r\nQ 54.890625 34.8125 54.890625 23.390625 \r\nQ 54.890625 11.625 47.5625 5.09375 \r\nQ 40.234375 -1.421875 26.90625 -1.421875 \r\nQ 22.3125 -1.421875 17.546875 -0.640625 \r\nQ 12.796875 0.140625 7.71875 1.703125 \r\nL 7.71875 11.625 \r\nQ 12.109375 9.234375 16.796875 8.0625 \r\nQ 21.484375 6.890625 26.703125 6.890625 \r\nQ 35.15625 6.890625 40.078125 11.328125 \r\nQ 45.015625 15.765625 45.015625 23.390625 \r\nQ 45.015625 31 40.078125 35.4375 \r\nQ 35.15625 39.890625 26.703125 39.890625 \r\nQ 22.75 39.890625 18.8125 39.015625 \r\nQ 14.890625 38.140625 10.796875 36.28125 \r\nz\r\n\" id=\"DejaVuSans-53\"/>\r\n       </defs>\r\n       <use xlink:href=\"#DejaVuSans-49\"/>\r\n       <use x=\"63.623047\" xlink:href=\"#DejaVuSans-52\"/>\r\n       <use x=\"127.246094\" xlink:href=\"#DejaVuSans-50\"/>\r\n       <use x=\"190.869141\" xlink:href=\"#DejaVuSans-53\"/>\r\n      </g>\r\n     </g>\r\n    </g>\r\n    <g id=\"ytick_3\">\r\n     <g id=\"line2d_9\">\r\n      <g>\r\n       <use style=\"stroke:#000000;stroke-width:0.8;\" x=\"39.65\" xlink:href=\"#m3b2517f1e5\" y=\"124.538347\"/>\r\n      </g>\r\n     </g>\r\n     <g id=\"text_9\">\r\n      <!-- 1430 -->\r\n      <g transform=\"translate(7.2 128.337566)scale(0.1 -0.1)\">\r\n       <defs>\r\n        <path d=\"M 40.578125 39.3125 \r\nQ 47.65625 37.796875 51.625 33 \r\nQ 55.609375 28.21875 55.609375 21.1875 \r\nQ 55.609375 10.40625 48.1875 4.484375 \r\nQ 40.765625 -1.421875 27.09375 -1.421875 \r\nQ 22.515625 -1.421875 17.65625 -0.515625 \r\nQ 12.796875 0.390625 7.625 2.203125 \r\nL 7.625 11.71875 \r\nQ 11.71875 9.328125 16.59375 8.109375 \r\nQ 21.484375 6.890625 26.8125 6.890625 \r\nQ 36.078125 6.890625 40.9375 10.546875 \r\nQ 45.796875 14.203125 45.796875 21.1875 \r\nQ 45.796875 27.640625 41.28125 31.265625 \r\nQ 36.765625 34.90625 28.71875 34.90625 \r\nL 20.21875 34.90625 \r\nL 20.21875 43.015625 \r\nL 29.109375 43.015625 \r\nQ 36.375 43.015625 40.234375 45.921875 \r\nQ 44.09375 48.828125 44.09375 54.296875 \r\nQ 44.09375 59.90625 40.109375 62.90625 \r\nQ 36.140625 65.921875 28.71875 65.921875 \r\nQ 24.65625 65.921875 20.015625 65.03125 \r\nQ 15.375 64.15625 9.8125 62.3125 \r\nL 9.8125 71.09375 \r\nQ 15.4375 72.65625 20.34375 73.4375 \r\nQ 25.25 74.21875 29.59375 74.21875 \r\nQ 40.828125 74.21875 47.359375 69.109375 \r\nQ 53.90625 64.015625 53.90625 55.328125 \r\nQ 53.90625 49.265625 50.4375 45.09375 \r\nQ 46.96875 40.921875 40.578125 39.3125 \r\nz\r\n\" id=\"DejaVuSans-51\"/>\r\n       </defs>\r\n       <use xlink:href=\"#DejaVuSans-49\"/>\r\n       <use x=\"63.623047\" xlink:href=\"#DejaVuSans-52\"/>\r\n       <use x=\"127.246094\" xlink:href=\"#DejaVuSans-51\"/>\r\n       <use x=\"190.869141\" xlink:href=\"#DejaVuSans-48\"/>\r\n      </g>\r\n     </g>\r\n    </g>\r\n    <g id=\"ytick_4\">\r\n     <g id=\"line2d_10\">\r\n      <g>\r\n       <use style=\"stroke:#000000;stroke-width:0.8;\" x=\"39.65\" xlink:href=\"#m3b2517f1e5\" y=\"52.489264\"/>\r\n      </g>\r\n     </g>\r\n     <g id=\"text_10\">\r\n      <!-- 1435 -->\r\n      <g transform=\"translate(7.2 56.288483)scale(0.1 -0.1)\">\r\n       <use xlink:href=\"#DejaVuSans-49\"/>\r\n       <use x=\"63.623047\" xlink:href=\"#DejaVuSans-52\"/>\r\n       <use x=\"127.246094\" xlink:href=\"#DejaVuSans-51\"/>\r\n       <use x=\"190.869141\" xlink:href=\"#DejaVuSans-53\"/>\r\n      </g>\r\n     </g>\r\n    </g>\r\n   </g>\r\n   <g id=\"LineCollection_1\">\r\n    <path clip-path=\"url(#p20baab997b)\" d=\"M 70.086364 174.436451 \r\nL 678.813636 174.436451 \r\n\" style=\"fill:none;stroke:#000000;stroke-dasharray:5.55,2.4;stroke-dashoffset:0;stroke-width:1.5;\"/>\r\n   </g>\r\n   <g id=\"LineCollection_2\">\r\n    <path clip-path=\"url(#p20baab997b)\" d=\"M 70.086364 318.534545 \r\nL 678.813636 318.534545 \r\n\" style=\"fill:none;stroke:#ff0000;stroke-dasharray:5.55,2.4;stroke-dashoffset:0;stroke-width:1.5;\"/>\r\n   </g>\r\n   <g id=\"LineCollection_3\">\r\n    <path clip-path=\"url(#p20baab997b)\" d=\"M 70.086364 30.338357 \r\nL 678.813636 30.338357 \r\n\" style=\"fill:none;stroke:#ff0000;stroke-dasharray:5.55,2.4;stroke-dashoffset:0;stroke-width:1.5;\"/>\r\n   </g>\r\n   <g id=\"line2d_11\">\r\n    <defs>\r\n     <path d=\"M 0 1.5 \r\nC 0.397805 1.5 0.77937 1.341951 1.06066 1.06066 \r\nC 1.341951 0.77937 1.5 0.397805 1.5 0 \r\nC 1.5 -0.397805 1.341951 -0.77937 1.06066 -1.06066 \r\nC 0.77937 -1.341951 0.397805 -1.5 0 -1.5 \r\nC -0.397805 -1.5 -0.77937 -1.341951 -1.06066 -1.06066 \r\nC -1.341951 -0.77937 -1.5 -0.397805 -1.5 0 \r\nC -1.5 0.397805 -1.341951 0.77937 -1.06066 1.06066 \r\nC -0.77937 1.341951 -0.397805 1.5 0 1.5 \r\nz\r\n\" id=\"m93054c6030\" style=\"stroke:#1f77b4;\"/>\r\n    </defs>\r\n    <g clip-path=\"url(#p20baab997b)\">\r\n     <use style=\"fill:#1f77b4;stroke:#1f77b4;\" x=\"70.086364\" xlink:href=\"#m93054c6030\" y=\"197.248108\"/>\r\n     <use style=\"fill:#1f77b4;stroke:#1f77b4;\" x=\"70.695091\" xlink:href=\"#m93054c6030\" y=\"112.515609\"/>\r\n     <use style=\"fill:#1f77b4;stroke:#1f77b4;\" x=\"71.303818\" xlink:href=\"#m93054c6030\" y=\"180.229814\"/>\r\n     <use style=\"fill:#1f77b4;stroke:#1f77b4;\" x=\"71.912545\" xlink:href=\"#m93054c6030\" y=\"226.417437\"/>\r\n     <use style=\"fill:#1f77b4;stroke:#1f77b4;\" x=\"72.521273\" xlink:href=\"#m93054c6030\" y=\"140.651209\"/>\r\n     <use style=\"fill:#1f77b4;stroke:#1f77b4;\" x=\"73.13\" xlink:href=\"#m93054c6030\" y=\"191.688176\"/>\r\n     <use style=\"fill:#1f77b4;stroke:#1f77b4;\" x=\"73.738727\" xlink:href=\"#m93054c6030\" y=\"195.981782\"/>\r\n     <use style=\"fill:#1f77b4;stroke:#1f77b4;\" x=\"74.347455\" xlink:href=\"#m93054c6030\" y=\"167.521123\"/>\r\n     <use style=\"fill:#1f77b4;stroke:#1f77b4;\" x=\"74.956182\" xlink:href=\"#m93054c6030\" y=\"219.304831\"/>\r\n     <use style=\"fill:#1f77b4;stroke:#1f77b4;\" x=\"75.564909\" xlink:href=\"#m93054c6030\" y=\"149.698177\"/>\r\n     <use style=\"fill:#1f77b4;stroke:#1f77b4;\" x=\"76.173636\" xlink:href=\"#m93054c6030\" y=\"146.603069\"/>\r\n     <use style=\"fill:#1f77b4;stroke:#1f77b4;\" x=\"76.782364\" xlink:href=\"#m93054c6030\" y=\"146.027495\"/>\r\n     <use style=\"fill:#1f77b4;stroke:#1f77b4;\" x=\"77.391091\" xlink:href=\"#m93054c6030\" y=\"232.409289\"/>\r\n     <use style=\"fill:#1f77b4;stroke:#1f77b4;\" x=\"77.999818\" xlink:href=\"#m93054c6030\" y=\"191.819032\"/>\r\n     <use style=\"fill:#1f77b4;stroke:#1f77b4;\" x=\"78.608545\" xlink:href=\"#m93054c6030\" y=\"150.467635\"/>\r\n     <use style=\"fill:#1f77b4;stroke:#1f77b4;\" x=\"79.217273\" xlink:href=\"#m93054c6030\" y=\"130.761197\"/>\r\n     <use style=\"fill:#1f77b4;stroke:#1f77b4;\" x=\"79.826\" xlink:href=\"#m93054c6030\" y=\"149.391034\"/>\r\n     <use style=\"fill:#1f77b4;stroke:#1f77b4;\" x=\"80.434727\" xlink:href=\"#m93054c6030\" y=\"144.725336\"/>\r\n     <use style=\"fill:#1f77b4;stroke:#1f77b4;\" x=\"81.043455\" xlink:href=\"#m93054c6030\" y=\"127.643053\"/>\r\n     <use style=\"fill:#1f77b4;stroke:#1f77b4;\" x=\"81.652182\" xlink:href=\"#m93054c6030\" y=\"189.028827\"/>\r\n     <use style=\"fill:#1f77b4;stroke:#1f77b4;\" x=\"82.260909\" xlink:href=\"#m93054c6030\" y=\"241.195825\"/>\r\n     <use style=\"fill:#1f77b4;stroke:#1f77b4;\" x=\"82.869636\" xlink:href=\"#m93054c6030\" y=\"184.154848\"/>\r\n     <use style=\"fill:#1f77b4;stroke:#1f77b4;\" x=\"83.478364\" xlink:href=\"#m93054c6030\" y=\"126.356891\"/>\r\n     <use style=\"fill:#1f77b4;stroke:#1f77b4;\" x=\"84.087091\" xlink:href=\"#m93054c6030\" y=\"110.874633\"/>\r\n     <use style=\"fill:#1f77b4;stroke:#1f77b4;\" x=\"84.695818\" xlink:href=\"#m93054c6030\" y=\"129.868882\"/>\r\n     <use style=\"fill:#1f77b4;stroke:#1f77b4;\" x=\"85.304545\" xlink:href=\"#m93054c6030\" y=\"190.168777\"/>\r\n     <use style=\"fill:#1f77b4;stroke:#1f77b4;\" x=\"85.913273\" xlink:href=\"#m93054c6030\" y=\"129.757223\"/>\r\n     <use style=\"fill:#1f77b4;stroke:#1f77b4;\" x=\"86.522\" xlink:href=\"#m93054c6030\" y=\"240.496435\"/>\r\n     <use style=\"fill:#1f77b4;stroke:#1f77b4;\" x=\"87.130727\" xlink:href=\"#m93054c6030\" y=\"220.506849\"/>\r\n     <use style=\"fill:#1f77b4;stroke:#1f77b4;\" x=\"87.739455\" xlink:href=\"#m93054c6030\" y=\"209.618302\"/>\r\n     <use style=\"fill:#1f77b4;stroke:#1f77b4;\" x=\"88.348182\" xlink:href=\"#m93054c6030\" y=\"163.986416\"/>\r\n     <use style=\"fill:#1f77b4;stroke:#1f77b4;\" x=\"88.956909\" xlink:href=\"#m93054c6030\" y=\"175.773997\"/>\r\n     <use style=\"fill:#1f77b4;stroke:#1f77b4;\" x=\"89.565636\" xlink:href=\"#m93054c6030\" y=\"179.487231\"/>\r\n     <use style=\"fill:#1f77b4;stroke:#1f77b4;\" x=\"90.174364\" xlink:href=\"#m93054c6030\" y=\"106.481205\"/>\r\n     <use style=\"fill:#1f77b4;stroke:#1f77b4;\" x=\"90.783091\" xlink:href=\"#m93054c6030\" y=\"180.24965\"/>\r\n     <use style=\"fill:#1f77b4;stroke:#1f77b4;\" x=\"91.391818\" xlink:href=\"#m93054c6030\" y=\"159.6365\"/>\r\n     <use style=\"fill:#1f77b4;stroke:#1f77b4;\" x=\"92.000545\" xlink:href=\"#m93054c6030\" y=\"129.052393\"/>\r\n     <use style=\"fill:#1f77b4;stroke:#1f77b4;\" x=\"92.609273\" xlink:href=\"#m93054c6030\" y=\"188.515002\"/>\r\n     <use style=\"fill:#1f77b4;stroke:#1f77b4;\" x=\"93.218\" xlink:href=\"#m93054c6030\" y=\"179.11258\"/>\r\n     <use style=\"fill:#1f77b4;stroke:#1f77b4;\" x=\"93.826727\" xlink:href=\"#m93054c6030\" y=\"210.628035\"/>\r\n     <use style=\"fill:#1f77b4;stroke:#1f77b4;\" x=\"94.435455\" xlink:href=\"#m93054c6030\" y=\"123.49758\"/>\r\n     <use style=\"fill:#1f77b4;stroke:#1f77b4;\" x=\"95.044182\" xlink:href=\"#m93054c6030\" y=\"161.321309\"/>\r\n     <use style=\"fill:#1f77b4;stroke:#1f77b4;\" x=\"95.652909\" xlink:href=\"#m93054c6030\" y=\"141.226463\"/>\r\n     <use style=\"fill:#1f77b4;stroke:#1f77b4;\" x=\"96.261636\" xlink:href=\"#m93054c6030\" y=\"169.911401\"/>\r\n     <use style=\"fill:#1f77b4;stroke:#1f77b4;\" x=\"96.870364\" xlink:href=\"#m93054c6030\" y=\"223.482299\"/>\r\n     <use style=\"fill:#1f77b4;stroke:#1f77b4;\" x=\"97.479091\" xlink:href=\"#m93054c6030\" y=\"140.451886\"/>\r\n     <use style=\"fill:#1f77b4;stroke:#1f77b4;\" x=\"98.087818\" xlink:href=\"#m93054c6030\" y=\"136.933816\"/>\r\n     <use style=\"fill:#1f77b4;stroke:#1f77b4;\" x=\"98.696545\" xlink:href=\"#m93054c6030\" y=\"184.398643\"/>\r\n     <use style=\"fill:#1f77b4;stroke:#1f77b4;\" x=\"99.305273\" xlink:href=\"#m93054c6030\" y=\"210.771689\"/>\r\n     <use style=\"fill:#1f77b4;stroke:#1f77b4;\" x=\"99.914\" xlink:href=\"#m93054c6030\" y=\"253.846927\"/>\r\n     <use style=\"fill:#1f77b4;stroke:#1f77b4;\" x=\"100.522727\" xlink:href=\"#m93054c6030\" y=\"127.238328\"/>\r\n     <use style=\"fill:#1f77b4;stroke:#1f77b4;\" x=\"101.131455\" xlink:href=\"#m93054c6030\" y=\"140.777586\"/>\r\n     <use style=\"fill:#1f77b4;stroke:#1f77b4;\" x=\"101.740182\" xlink:href=\"#m93054c6030\" y=\"137.429724\"/>\r\n     <use style=\"fill:#1f77b4;stroke:#1f77b4;\" x=\"102.348909\" xlink:href=\"#m93054c6030\" y=\"172.171143\"/>\r\n     <use style=\"fill:#1f77b4;stroke:#1f77b4;\" x=\"102.957636\" xlink:href=\"#m93054c6030\" y=\"229.405685\"/>\r\n     <use style=\"fill:#1f77b4;stroke:#1f77b4;\" x=\"103.566364\" xlink:href=\"#m93054c6030\" y=\"201.420457\"/>\r\n     <use style=\"fill:#1f77b4;stroke:#1f77b4;\" x=\"104.175091\" xlink:href=\"#m93054c6030\" y=\"147.213836\"/>\r\n     <use style=\"fill:#1f77b4;stroke:#1f77b4;\" x=\"104.783818\" xlink:href=\"#m93054c6030\" y=\"172.223294\"/>\r\n     <use style=\"fill:#1f77b4;stroke:#1f77b4;\" x=\"105.392545\" xlink:href=\"#m93054c6030\" y=\"175.011898\"/>\r\n     <use style=\"fill:#1f77b4;stroke:#1f77b4;\" x=\"106.001273\" xlink:href=\"#m93054c6030\" y=\"126.130053\"/>\r\n     <use style=\"fill:#1f77b4;stroke:#1f77b4;\" x=\"106.61\" xlink:href=\"#m93054c6030\" y=\"263.206477\"/>\r\n     <use style=\"fill:#1f77b4;stroke:#1f77b4;\" x=\"107.218727\" xlink:href=\"#m93054c6030\" y=\"154.480333\"/>\r\n     <use style=\"fill:#1f77b4;stroke:#1f77b4;\" x=\"107.827455\" xlink:href=\"#m93054c6030\" y=\"171.905912\"/>\r\n     <use style=\"fill:#1f77b4;stroke:#1f77b4;\" x=\"108.436182\" xlink:href=\"#m93054c6030\" y=\"186.735171\"/>\r\n     <use style=\"fill:#1f77b4;stroke:#1f77b4;\" x=\"109.044909\" xlink:href=\"#m93054c6030\" y=\"114.593945\"/>\r\n     <use style=\"fill:#1f77b4;stroke:#1f77b4;\" x=\"109.653636\" xlink:href=\"#m93054c6030\" y=\"216.186688\"/>\r\n     <use style=\"fill:#1f77b4;stroke:#1f77b4;\" x=\"110.262364\" xlink:href=\"#m93054c6030\" y=\"208.522824\"/>\r\n     <use style=\"fill:#1f77b4;stroke:#1f77b4;\" x=\"110.871091\" xlink:href=\"#m93054c6030\" y=\"160.090176\"/>\r\n     <use style=\"fill:#1f77b4;stroke:#1f77b4;\" x=\"111.479818\" xlink:href=\"#m93054c6030\" y=\"182.605375\"/>\r\n     <use style=\"fill:#1f77b4;stroke:#1f77b4;\" x=\"112.088545\" xlink:href=\"#m93054c6030\" y=\"186.098169\"/>\r\n     <use style=\"fill:#1f77b4;stroke:#1f77b4;\" x=\"112.697273\" xlink:href=\"#m93054c6030\" y=\"173.299895\"/>\r\n     <use style=\"fill:#1f77b4;stroke:#1f77b4;\" x=\"113.306\" xlink:href=\"#m93054c6030\" y=\"216.950067\"/>\r\n     <use style=\"fill:#1f77b4;stroke:#1f77b4;\" x=\"113.914727\" xlink:href=\"#m93054c6030\" y=\"146.579713\"/>\r\n     <use style=\"fill:#1f77b4;stroke:#1f77b4;\" x=\"114.523455\" xlink:href=\"#m93054c6030\" y=\"216.816971\"/>\r\n     <use style=\"fill:#1f77b4;stroke:#1f77b4;\" x=\"115.132182\" xlink:href=\"#m93054c6030\" y=\"197.29034\"/>\r\n     <use style=\"fill:#1f77b4;stroke:#1f77b4;\" x=\"115.740909\" xlink:href=\"#m93054c6030\" y=\"160.645593\"/>\r\n     <use style=\"fill:#1f77b4;stroke:#1f77b4;\" x=\"116.349636\" xlink:href=\"#m93054c6030\" y=\"142.735624\"/>\r\n     <use style=\"fill:#1f77b4;stroke:#1f77b4;\" x=\"116.958364\" xlink:href=\"#m93054c6030\" y=\"192.248072\"/>\r\n     <use style=\"fill:#1f77b4;stroke:#1f77b4;\" x=\"117.567091\" xlink:href=\"#m93054c6030\" y=\"255.747056\"/>\r\n     <use style=\"fill:#1f77b4;stroke:#1f77b4;\" x=\"118.175818\" xlink:href=\"#m93054c6030\" y=\"184.323777\"/>\r\n     <use style=\"fill:#1f77b4;stroke:#1f77b4;\" x=\"118.784545\" xlink:href=\"#m93054c6030\" y=\"171.023195\"/>\r\n     <use style=\"fill:#1f77b4;stroke:#1f77b4;\" x=\"119.393273\" xlink:href=\"#m93054c6030\" y=\"182.658485\"/>\r\n     <use style=\"fill:#1f77b4;stroke:#1f77b4;\" x=\"120.002\" xlink:href=\"#m93054c6030\" y=\"216.587574\"/>\r\n     <use style=\"fill:#1f77b4;stroke:#1f77b4;\" x=\"120.610727\" xlink:href=\"#m93054c6030\" y=\"149.472299\"/>\r\n     <use style=\"fill:#1f77b4;stroke:#1f77b4;\" x=\"121.219455\" xlink:href=\"#m93054c6030\" y=\"130.655297\"/>\r\n     <use style=\"fill:#1f77b4;stroke:#1f77b4;\" x=\"121.828182\" xlink:href=\"#m93054c6030\" y=\"282.515228\"/>\r\n     <use style=\"fill:#1f77b4;stroke:#1f77b4;\" x=\"122.436909\" xlink:href=\"#m93054c6030\" y=\"241.685015\"/>\r\n     <use style=\"fill:#1f77b4;stroke:#1f77b4;\" x=\"123.045636\" xlink:href=\"#m93054c6030\" y=\"232.805056\"/>\r\n     <use style=\"fill:#1f77b4;stroke:#1f77b4;\" x=\"123.654364\" xlink:href=\"#m93054c6030\" y=\"226.23635\"/>\r\n     <use style=\"fill:#1f77b4;stroke:#1f77b4;\" x=\"124.263091\" xlink:href=\"#m93054c6030\" y=\"146.939007\"/>\r\n     <use style=\"fill:#1f77b4;stroke:#1f77b4;\" x=\"124.871818\" xlink:href=\"#m93054c6030\" y=\"193.584785\"/>\r\n     <use style=\"fill:#1f77b4;stroke:#1f77b4;\" x=\"125.480545\" xlink:href=\"#m93054c6030\" y=\"53.502837\"/>\r\n     <use style=\"fill:#1f77b4;stroke:#1f77b4;\" x=\"126.089273\" xlink:href=\"#m93054c6030\" y=\"187.749384\"/>\r\n     <use style=\"fill:#1f77b4;stroke:#1f77b4;\" x=\"126.698\" xlink:href=\"#m93054c6030\" y=\"237.143774\"/>\r\n     <use style=\"fill:#1f77b4;stroke:#1f77b4;\" x=\"127.306727\" xlink:href=\"#m93054c6030\" y=\"177.591901\"/>\r\n     <use style=\"fill:#1f77b4;stroke:#1f77b4;\" x=\"127.915455\" xlink:href=\"#m93054c6030\" y=\"104.989\"/>\r\n     <use style=\"fill:#1f77b4;stroke:#1f77b4;\" x=\"128.524182\" xlink:href=\"#m93054c6030\" y=\"205.269346\"/>\r\n     <use style=\"fill:#1f77b4;stroke:#1f77b4;\" x=\"129.132909\" xlink:href=\"#m93054c6030\" y=\"227.59258\"/>\r\n     <use style=\"fill:#1f77b4;stroke:#1f77b4;\" x=\"129.741636\" xlink:href=\"#m93054c6030\" y=\"140.303753\"/>\r\n     <use style=\"fill:#1f77b4;stroke:#1f77b4;\" x=\"130.350364\" xlink:href=\"#m93054c6030\" y=\"157.79748\"/>\r\n     <use style=\"fill:#1f77b4;stroke:#1f77b4;\" x=\"130.959091\" xlink:href=\"#m93054c6030\" y=\"90.226289\"/>\r\n     <use style=\"fill:#1f77b4;stroke:#1f77b4;\" x=\"131.567818\" xlink:href=\"#m93054c6030\" y=\"71.183409\"/>\r\n     <use style=\"fill:#1f77b4;stroke:#1f77b4;\" x=\"132.176545\" xlink:href=\"#m93054c6030\" y=\"119.65285\"/>\r\n     <use style=\"fill:#1f77b4;stroke:#1f77b4;\" x=\"132.785273\" xlink:href=\"#m93054c6030\" y=\"183.296127\"/>\r\n     <use style=\"fill:#1f77b4;stroke:#1f77b4;\" x=\"133.394\" xlink:href=\"#m93054c6030\" y=\"158.963664\"/>\r\n     <use style=\"fill:#1f77b4;stroke:#1f77b4;\" x=\"134.002727\" xlink:href=\"#m93054c6030\" y=\"201.701685\"/>\r\n     <use style=\"fill:#1f77b4;stroke:#1f77b4;\" x=\"134.611455\" xlink:href=\"#m93054c6030\" y=\"154.972082\"/>\r\n     <use style=\"fill:#1f77b4;stroke:#1f77b4;\" x=\"135.220182\" xlink:href=\"#m93054c6030\" y=\"234.980334\"/>\r\n     <use style=\"fill:#1f77b4;stroke:#1f77b4;\" x=\"135.828909\" xlink:href=\"#m93054c6030\" y=\"222.787068\"/>\r\n     <use style=\"fill:#1f77b4;stroke:#1f77b4;\" x=\"136.437636\" xlink:href=\"#m93054c6030\" y=\"225.000099\"/>\r\n     <use style=\"fill:#1f77b4;stroke:#1f77b4;\" x=\"137.046364\" xlink:href=\"#m93054c6030\" y=\"128.370279\"/>\r\n     <use style=\"fill:#1f77b4;stroke:#1f77b4;\" x=\"137.655091\" xlink:href=\"#m93054c6030\" y=\"206.102792\"/>\r\n     <use style=\"fill:#1f77b4;stroke:#1f77b4;\" x=\"138.263818\" xlink:href=\"#m93054c6030\" y=\"235.834896\"/>\r\n     <use style=\"fill:#1f77b4;stroke:#1f77b4;\" x=\"138.872545\" xlink:href=\"#m93054c6030\" y=\"246.342714\"/>\r\n     <use style=\"fill:#1f77b4;stroke:#1f77b4;\" x=\"139.481273\" xlink:href=\"#m93054c6030\" y=\"182.330225\"/>\r\n     <use style=\"fill:#1f77b4;stroke:#1f77b4;\" x=\"140.09\" xlink:href=\"#m93054c6030\" y=\"132.977107\"/>\r\n     <use style=\"fill:#1f77b4;stroke:#1f77b4;\" x=\"140.698727\" xlink:href=\"#m93054c6030\" y=\"154.973042\"/>\r\n     <use style=\"fill:#1f77b4;stroke:#1f77b4;\" x=\"141.307455\" xlink:href=\"#m93054c6030\" y=\"160.966814\"/>\r\n     <use style=\"fill:#1f77b4;stroke:#1f77b4;\" x=\"141.916182\" xlink:href=\"#m93054c6030\" y=\"183.380591\"/>\r\n     <use style=\"fill:#1f77b4;stroke:#1f77b4;\" x=\"142.524909\" xlink:href=\"#m93054c6030\" y=\"138.873298\"/>\r\n     <use style=\"fill:#1f77b4;stroke:#1f77b4;\" x=\"143.133636\" xlink:href=\"#m93054c6030\" y=\"182.856848\"/>\r\n     <use style=\"fill:#1f77b4;stroke:#1f77b4;\" x=\"143.742364\" xlink:href=\"#m93054c6030\" y=\"247.994569\"/>\r\n     <use style=\"fill:#1f77b4;stroke:#1f77b4;\" x=\"144.351091\" xlink:href=\"#m93054c6030\" y=\"140.371581\"/>\r\n     <use style=\"fill:#1f77b4;stroke:#1f77b4;\" x=\"144.959818\" xlink:href=\"#m93054c6030\" y=\"193.55951\"/>\r\n     <use style=\"fill:#1f77b4;stroke:#1f77b4;\" x=\"145.568545\" xlink:href=\"#m93054c6030\" y=\"196.221738\"/>\r\n     <use style=\"fill:#1f77b4;stroke:#1f77b4;\" x=\"146.177273\" xlink:href=\"#m93054c6030\" y=\"95.382136\"/>\r\n     <use style=\"fill:#1f77b4;stroke:#1f77b4;\" x=\"146.786\" xlink:href=\"#m93054c6030\" y=\"189.685026\"/>\r\n     <use style=\"fill:#1f77b4;stroke:#1f77b4;\" x=\"147.394727\" xlink:href=\"#m93054c6030\" y=\"202.598159\"/>\r\n     <use style=\"fill:#1f77b4;stroke:#1f77b4;\" x=\"148.003455\" xlink:href=\"#m93054c6030\" y=\"237.716468\"/>\r\n     <use style=\"fill:#1f77b4;stroke:#1f77b4;\" x=\"148.612182\" xlink:href=\"#m93054c6030\" y=\"124.79206\"/>\r\n     <use style=\"fill:#1f77b4;stroke:#1f77b4;\" x=\"149.220909\" xlink:href=\"#m93054c6030\" y=\"232.989342\"/>\r\n     <use style=\"fill:#1f77b4;stroke:#1f77b4;\" x=\"149.829636\" xlink:href=\"#m93054c6030\" y=\"143.013012\"/>\r\n     <use style=\"fill:#1f77b4;stroke:#1f77b4;\" x=\"150.438364\" xlink:href=\"#m93054c6030\" y=\"194.029823\"/>\r\n     <use style=\"fill:#1f77b4;stroke:#1f77b4;\" x=\"151.047091\" xlink:href=\"#m93054c6030\" y=\"159.468851\"/>\r\n     <use style=\"fill:#1f77b4;stroke:#1f77b4;\" x=\"151.655818\" xlink:href=\"#m93054c6030\" y=\"119.909763\"/>\r\n     <use style=\"fill:#1f77b4;stroke:#1f77b4;\" x=\"152.264545\" xlink:href=\"#m93054c6030\" y=\"267.720523\"/>\r\n     <use style=\"fill:#1f77b4;stroke:#1f77b4;\" x=\"152.873273\" xlink:href=\"#m93054c6030\" y=\"109.470092\"/>\r\n     <use style=\"fill:#1f77b4;stroke:#1f77b4;\" x=\"153.482\" xlink:href=\"#m93054c6030\" y=\"175.385589\"/>\r\n     <use style=\"fill:#1f77b4;stroke:#1f77b4;\" x=\"154.090727\" xlink:href=\"#m93054c6030\" y=\"124.042439\"/>\r\n     <use style=\"fill:#1f77b4;stroke:#1f77b4;\" x=\"154.699455\" xlink:href=\"#m93054c6030\" y=\"233.132996\"/>\r\n     <use style=\"fill:#1f77b4;stroke:#1f77b4;\" x=\"155.308182\" xlink:href=\"#m93054c6030\" y=\"250.092741\"/>\r\n     <use style=\"fill:#1f77b4;stroke:#1f77b4;\" x=\"155.916909\" xlink:href=\"#m93054c6030\" y=\"240.172015\"/>\r\n     <use style=\"fill:#1f77b4;stroke:#1f77b4;\" x=\"156.525636\" xlink:href=\"#m93054c6030\" y=\"199.427545\"/>\r\n     <use style=\"fill:#1f77b4;stroke:#1f77b4;\" x=\"157.134364\" xlink:href=\"#m93054c6030\" y=\"173.479381\"/>\r\n     <use style=\"fill:#1f77b4;stroke:#1f77b4;\" x=\"157.743091\" xlink:href=\"#m93054c6030\" y=\"116.309788\"/>\r\n     <use style=\"fill:#1f77b4;stroke:#1f77b4;\" x=\"158.351818\" xlink:href=\"#m93054c6030\" y=\"103.414571\"/>\r\n     <use style=\"fill:#1f77b4;stroke:#1f77b4;\" x=\"158.960545\" xlink:href=\"#m93054c6030\" y=\"172.020131\"/>\r\n     <use style=\"fill:#1f77b4;stroke:#1f77b4;\" x=\"159.569273\" xlink:href=\"#m93054c6030\" y=\"131.259025\"/>\r\n     <use style=\"fill:#1f77b4;stroke:#1f77b4;\" x=\"160.178\" xlink:href=\"#m93054c6030\" y=\"208.410845\"/>\r\n     <use style=\"fill:#1f77b4;stroke:#1f77b4;\" x=\"160.786727\" xlink:href=\"#m93054c6030\" y=\"156.555469\"/>\r\n     <use style=\"fill:#1f77b4;stroke:#1f77b4;\" x=\"161.395455\" xlink:href=\"#m93054c6030\" y=\"139.445672\"/>\r\n     <use style=\"fill:#1f77b4;stroke:#1f77b4;\" x=\"162.004182\" xlink:href=\"#m93054c6030\" y=\"155.453913\"/>\r\n     <use style=\"fill:#1f77b4;stroke:#1f77b4;\" x=\"162.612909\" xlink:href=\"#m93054c6030\" y=\"266.753342\"/>\r\n     <use style=\"fill:#1f77b4;stroke:#1f77b4;\" x=\"163.221636\" xlink:href=\"#m93054c6030\" y=\"251.198137\"/>\r\n     <use style=\"fill:#1f77b4;stroke:#1f77b4;\" x=\"163.830364\" xlink:href=\"#m93054c6030\" y=\"254.339316\"/>\r\n     <use style=\"fill:#1f77b4;stroke:#1f77b4;\" x=\"164.439091\" xlink:href=\"#m93054c6030\" y=\"141.662862\"/>\r\n     <use style=\"fill:#1f77b4;stroke:#1f77b4;\" x=\"165.047818\" xlink:href=\"#m93054c6030\" y=\"184.755377\"/>\r\n     <use style=\"fill:#1f77b4;stroke:#1f77b4;\" x=\"165.656545\" xlink:href=\"#m93054c6030\" y=\"216.586934\"/>\r\n     <use style=\"fill:#1f77b4;stroke:#1f77b4;\" x=\"166.265273\" xlink:href=\"#m93054c6030\" y=\"208.016998\"/>\r\n     <use style=\"fill:#1f77b4;stroke:#1f77b4;\" x=\"166.874\" xlink:href=\"#m93054c6030\" y=\"116.101507\"/>\r\n     <use style=\"fill:#1f77b4;stroke:#1f77b4;\" x=\"167.482727\" xlink:href=\"#m93054c6030\" y=\"183.746284\"/>\r\n     <use style=\"fill:#1f77b4;stroke:#1f77b4;\" x=\"168.091455\" xlink:href=\"#m93054c6030\" y=\"83.204867\"/>\r\n     <use style=\"fill:#1f77b4;stroke:#1f77b4;\" x=\"168.700182\" xlink:href=\"#m93054c6030\" y=\"221.42348\"/>\r\n     <use style=\"fill:#1f77b4;stroke:#1f77b4;\" x=\"169.308909\" xlink:href=\"#m93054c6030\" y=\"208.615287\"/>\r\n     <use style=\"fill:#1f77b4;stroke:#1f77b4;\" x=\"169.917636\" xlink:href=\"#m93054c6030\" y=\"158.449519\"/>\r\n     <use style=\"fill:#1f77b4;stroke:#1f77b4;\" x=\"170.526364\" xlink:href=\"#m93054c6030\" y=\"119.734755\"/>\r\n     <use style=\"fill:#1f77b4;stroke:#1f77b4;\" x=\"171.135091\" xlink:href=\"#m93054c6030\" y=\"171.911031\"/>\r\n     <use style=\"fill:#1f77b4;stroke:#1f77b4;\" x=\"171.743818\" xlink:href=\"#m93054c6030\" y=\"110.182281\"/>\r\n     <use style=\"fill:#1f77b4;stroke:#1f77b4;\" x=\"172.352545\" xlink:href=\"#m93054c6030\" y=\"169.553387\"/>\r\n     <use style=\"fill:#1f77b4;stroke:#1f77b4;\" x=\"172.961273\" xlink:href=\"#m93054c6030\" y=\"149.292812\"/>\r\n     <use style=\"fill:#1f77b4;stroke:#1f77b4;\" x=\"173.57\" xlink:href=\"#m93054c6030\" y=\"182.094429\"/>\r\n     <use style=\"fill:#1f77b4;stroke:#1f77b4;\" x=\"174.178727\" xlink:href=\"#m93054c6030\" y=\"177.494639\"/>\r\n     <use style=\"fill:#1f77b4;stroke:#1f77b4;\" x=\"174.787455\" xlink:href=\"#m93054c6030\" y=\"236.826393\"/>\r\n     <use style=\"fill:#1f77b4;stroke:#1f77b4;\" x=\"175.396182\" xlink:href=\"#m93054c6030\" y=\"94.499419\"/>\r\n     <use style=\"fill:#1f77b4;stroke:#1f77b4;\" x=\"176.004909\" xlink:href=\"#m93054c6030\" y=\"238.783791\"/>\r\n     <use style=\"fill:#1f77b4;stroke:#1f77b4;\" x=\"176.613636\" xlink:href=\"#m93054c6030\" y=\"167.791793\"/>\r\n     <use style=\"fill:#1f77b4;stroke:#1f77b4;\" x=\"177.222364\" xlink:href=\"#m93054c6030\" y=\"192.58593\"/>\r\n     <use style=\"fill:#1f77b4;stroke:#1f77b4;\" x=\"177.831091\" xlink:href=\"#m93054c6030\" y=\"135.708123\"/>\r\n     <use style=\"fill:#1f77b4;stroke:#1f77b4;\" x=\"178.439818\" xlink:href=\"#m93054c6030\" y=\"102.928261\"/>\r\n     <use style=\"fill:#1f77b4;stroke:#1f77b4;\" x=\"179.048545\" xlink:href=\"#m93054c6030\" y=\"98.649052\"/>\r\n     <use style=\"fill:#1f77b4;stroke:#1f77b4;\" x=\"179.657273\" xlink:href=\"#m93054c6030\" y=\"88.864621\"/>\r\n     <use style=\"fill:#1f77b4;stroke:#1f77b4;\" x=\"180.266\" xlink:href=\"#m93054c6030\" y=\"161.003607\"/>\r\n     <use style=\"fill:#1f77b4;stroke:#1f77b4;\" x=\"180.874727\" xlink:href=\"#m93054c6030\" y=\"149.707775\"/>\r\n     <use style=\"fill:#1f77b4;stroke:#1f77b4;\" x=\"181.483455\" xlink:href=\"#m93054c6030\" y=\"138.624384\"/>\r\n     <use style=\"fill:#1f77b4;stroke:#1f77b4;\" x=\"182.092182\" xlink:href=\"#m93054c6030\" y=\"234.362208\"/>\r\n     <use style=\"fill:#1f77b4;stroke:#1f77b4;\" x=\"182.700909\" xlink:href=\"#m93054c6030\" y=\"157.701818\"/>\r\n     <use style=\"fill:#1f77b4;stroke:#1f77b4;\" x=\"183.309636\" xlink:href=\"#m93054c6030\" y=\"221.980817\"/>\r\n     <use style=\"fill:#1f77b4;stroke:#1f77b4;\" x=\"183.918364\" xlink:href=\"#m93054c6030\" y=\"254.412263\"/>\r\n     <use style=\"fill:#1f77b4;stroke:#1f77b4;\" x=\"184.527091\" xlink:href=\"#m93054c6030\" y=\"57.16232\"/>\r\n     <use style=\"fill:#1f77b4;stroke:#1f77b4;\" x=\"185.135818\" xlink:href=\"#m93054c6030\" y=\"190.721635\"/>\r\n     <use style=\"fill:#1f77b4;stroke:#1f77b4;\" x=\"185.744545\" xlink:href=\"#m93054c6030\" y=\"170.78164\"/>\r\n     <use style=\"fill:#1f77b4;stroke:#1f77b4;\" x=\"186.353273\" xlink:href=\"#m93054c6030\" y=\"212.346438\"/>\r\n     <use style=\"fill:#1f77b4;stroke:#1f77b4;\" x=\"186.962\" xlink:href=\"#m93054c6030\" y=\"111.002289\"/>\r\n     <use style=\"fill:#1f77b4;stroke:#1f77b4;\" x=\"187.570727\" xlink:href=\"#m93054c6030\" y=\"195.901157\"/>\r\n     <use style=\"fill:#1f77b4;stroke:#1f77b4;\" x=\"188.179455\" xlink:href=\"#m93054c6030\" y=\"112.756845\"/>\r\n     <use style=\"fill:#1f77b4;stroke:#1f77b4;\" x=\"188.788182\" xlink:href=\"#m93054c6030\" y=\"150.480432\"/>\r\n     <use style=\"fill:#1f77b4;stroke:#1f77b4;\" x=\"189.396909\" xlink:href=\"#m93054c6030\" y=\"154.894656\"/>\r\n     <use style=\"fill:#1f77b4;stroke:#1f77b4;\" x=\"190.005636\" xlink:href=\"#m93054c6030\" y=\"211.332545\"/>\r\n     <use style=\"fill:#1f77b4;stroke:#1f77b4;\" x=\"190.614364\" xlink:href=\"#m93054c6030\" y=\"220.973323\"/>\r\n     <use style=\"fill:#1f77b4;stroke:#1f77b4;\" x=\"191.223091\" xlink:href=\"#m93054c6030\" y=\"139.45687\"/>\r\n     <use style=\"fill:#1f77b4;stroke:#1f77b4;\" x=\"191.831818\" xlink:href=\"#m93054c6030\" y=\"130.547476\"/>\r\n     <use style=\"fill:#1f77b4;stroke:#1f77b4;\" x=\"192.440545\" xlink:href=\"#m93054c6030\" y=\"143.1893\"/>\r\n     <use style=\"fill:#1f77b4;stroke:#1f77b4;\" x=\"193.049273\" xlink:href=\"#m93054c6030\" y=\"177.024966\"/>\r\n     <use style=\"fill:#1f77b4;stroke:#1f77b4;\" x=\"193.658\" xlink:href=\"#m93054c6030\" y=\"202.53993\"/>\r\n     <use style=\"fill:#1f77b4;stroke:#1f77b4;\" x=\"194.266727\" xlink:href=\"#m93054c6030\" y=\"161.600617\"/>\r\n     <use style=\"fill:#1f77b4;stroke:#1f77b4;\" x=\"194.875455\" xlink:href=\"#m93054c6030\" y=\"224.109064\"/>\r\n     <use style=\"fill:#1f77b4;stroke:#1f77b4;\" x=\"195.484182\" xlink:href=\"#m93054c6030\" y=\"203.252758\"/>\r\n     <use style=\"fill:#1f77b4;stroke:#1f77b4;\" x=\"196.092909\" xlink:href=\"#m93054c6030\" y=\"163.711587\"/>\r\n     <use style=\"fill:#1f77b4;stroke:#1f77b4;\" x=\"196.701636\" xlink:href=\"#m93054c6030\" y=\"66.79382\"/>\r\n     <use style=\"fill:#1f77b4;stroke:#1f77b4;\" x=\"197.310364\" xlink:href=\"#m93054c6030\" y=\"223.566444\"/>\r\n     <use style=\"fill:#1f77b4;stroke:#1f77b4;\" x=\"197.919091\" xlink:href=\"#m93054c6030\" y=\"168.614361\"/>\r\n     <use style=\"fill:#1f77b4;stroke:#1f77b4;\" x=\"198.527818\" xlink:href=\"#m93054c6030\" y=\"194.674184\"/>\r\n     <use style=\"fill:#1f77b4;stroke:#1f77b4;\" x=\"199.136545\" xlink:href=\"#m93054c6030\" y=\"245.729387\"/>\r\n     <use style=\"fill:#1f77b4;stroke:#1f77b4;\" x=\"199.745273\" xlink:href=\"#m93054c6030\" y=\"246.097959\"/>\r\n     <use style=\"fill:#1f77b4;stroke:#1f77b4;\" x=\"200.354\" xlink:href=\"#m93054c6030\" y=\"245.024238\"/>\r\n     <use style=\"fill:#1f77b4;stroke:#1f77b4;\" x=\"200.962727\" xlink:href=\"#m93054c6030\" y=\"170.553522\"/>\r\n     <use style=\"fill:#1f77b4;stroke:#1f77b4;\" x=\"201.571455\" xlink:href=\"#m93054c6030\" y=\"80.203821\"/>\r\n     <use style=\"fill:#1f77b4;stroke:#1f77b4;\" x=\"202.180182\" xlink:href=\"#m93054c6030\" y=\"275.734402\"/>\r\n     <use style=\"fill:#1f77b4;stroke:#1f77b4;\" x=\"202.788909\" xlink:href=\"#m93054c6030\" y=\"90.053841\"/>\r\n     <use style=\"fill:#1f77b4;stroke:#1f77b4;\" x=\"203.397636\" xlink:href=\"#m93054c6030\" y=\"189.916983\"/>\r\n     <use style=\"fill:#1f77b4;stroke:#1f77b4;\" x=\"204.006364\" xlink:href=\"#m93054c6030\" y=\"180.490246\"/>\r\n     <use style=\"fill:#1f77b4;stroke:#1f77b4;\" x=\"204.615091\" xlink:href=\"#m93054c6030\" y=\"192.285186\"/>\r\n     <use style=\"fill:#1f77b4;stroke:#1f77b4;\" x=\"205.223818\" xlink:href=\"#m93054c6030\" y=\"151.919526\"/>\r\n     <use style=\"fill:#1f77b4;stroke:#1f77b4;\" x=\"205.832545\" xlink:href=\"#m93054c6030\" y=\"177.850094\"/>\r\n     <use style=\"fill:#1f77b4;stroke:#1f77b4;\" x=\"206.441273\" xlink:href=\"#m93054c6030\" y=\"200.738983\"/>\r\n     <use style=\"fill:#1f77b4;stroke:#1f77b4;\" x=\"207.05\" xlink:href=\"#m93054c6030\" y=\"284.746496\"/>\r\n     <use style=\"fill:#1f77b4;stroke:#1f77b4;\" x=\"207.658727\" xlink:href=\"#m93054c6030\" y=\"136.614835\"/>\r\n     <use style=\"fill:#1f77b4;stroke:#1f77b4;\" x=\"208.267455\" xlink:href=\"#m93054c6030\" y=\"197.040467\"/>\r\n     <use style=\"fill:#1f77b4;stroke:#1f77b4;\" x=\"208.876182\" xlink:href=\"#m93054c6030\" y=\"146.817749\"/>\r\n     <use style=\"fill:#1f77b4;stroke:#1f77b4;\" x=\"209.484909\" xlink:href=\"#m93054c6030\" y=\"281.677623\"/>\r\n     <use style=\"fill:#1f77b4;stroke:#1f77b4;\" x=\"210.093636\" xlink:href=\"#m93054c6030\" y=\"167.081844\"/>\r\n     <use style=\"fill:#1f77b4;stroke:#1f77b4;\" x=\"210.702364\" xlink:href=\"#m93054c6030\" y=\"154.544321\"/>\r\n     <use style=\"fill:#1f77b4;stroke:#1f77b4;\" x=\"211.311091\" xlink:href=\"#m93054c6030\" y=\"186.20119\"/>\r\n     <use style=\"fill:#1f77b4;stroke:#1f77b4;\" x=\"211.919818\" xlink:href=\"#m93054c6030\" y=\"210.880149\"/>\r\n     <use style=\"fill:#1f77b4;stroke:#1f77b4;\" x=\"212.528545\" xlink:href=\"#m93054c6030\" y=\"255.424555\"/>\r\n     <use style=\"fill:#1f77b4;stroke:#1f77b4;\" x=\"213.137273\" xlink:href=\"#m93054c6030\" y=\"215.405392\"/>\r\n     <use style=\"fill:#1f77b4;stroke:#1f77b4;\" x=\"213.746\" xlink:href=\"#m93054c6030\" y=\"106.050244\"/>\r\n     <use style=\"fill:#1f77b4;stroke:#1f77b4;\" x=\"214.354727\" xlink:href=\"#m93054c6030\" y=\"202.27278\"/>\r\n     <use style=\"fill:#1f77b4;stroke:#1f77b4;\" x=\"214.963455\" xlink:href=\"#m93054c6030\" y=\"179.647841\"/>\r\n     <use style=\"fill:#1f77b4;stroke:#1f77b4;\" x=\"215.572182\" xlink:href=\"#m93054c6030\" y=\"161.031122\"/>\r\n     <use style=\"fill:#1f77b4;stroke:#1f77b4;\" x=\"216.180909\" xlink:href=\"#m93054c6030\" y=\"170.733009\"/>\r\n     <use style=\"fill:#1f77b4;stroke:#1f77b4;\" x=\"216.789636\" xlink:href=\"#m93054c6030\" y=\"142.621725\"/>\r\n     <use style=\"fill:#1f77b4;stroke:#1f77b4;\" x=\"217.398364\" xlink:href=\"#m93054c6030\" y=\"187.550701\"/>\r\n     <use style=\"fill:#1f77b4;stroke:#1f77b4;\" x=\"218.007091\" xlink:href=\"#m93054c6030\" y=\"272.150424\"/>\r\n     <use style=\"fill:#1f77b4;stroke:#1f77b4;\" x=\"218.615818\" xlink:href=\"#m93054c6030\" y=\"140.836775\"/>\r\n     <use style=\"fill:#1f77b4;stroke:#1f77b4;\" x=\"219.224545\" xlink:href=\"#m93054c6030\" y=\"198.721756\"/>\r\n     <use style=\"fill:#1f77b4;stroke:#1f77b4;\" x=\"219.833273\" xlink:href=\"#m93054c6030\" y=\"169.75527\"/>\r\n     <use style=\"fill:#1f77b4;stroke:#1f77b4;\" x=\"220.442\" xlink:href=\"#m93054c6030\" y=\"236.220105\"/>\r\n     <use style=\"fill:#1f77b4;stroke:#1f77b4;\" x=\"221.050727\" xlink:href=\"#m93054c6030\" y=\"211.041719\"/>\r\n     <use style=\"fill:#1f77b4;stroke:#1f77b4;\" x=\"221.659455\" xlink:href=\"#m93054c6030\" y=\"241.866102\"/>\r\n     <use style=\"fill:#1f77b4;stroke:#1f77b4;\" x=\"222.268182\" xlink:href=\"#m93054c6030\" y=\"79.690636\"/>\r\n     <use style=\"fill:#1f77b4;stroke:#1f77b4;\" x=\"222.876909\" xlink:href=\"#m93054c6030\" y=\"201.547474\"/>\r\n     <use style=\"fill:#1f77b4;stroke:#1f77b4;\" x=\"223.485636\" xlink:href=\"#m93054c6030\" y=\"199.397151\"/>\r\n     <use style=\"fill:#1f77b4;stroke:#1f77b4;\" x=\"224.094364\" xlink:href=\"#m93054c6030\" y=\"187.898476\"/>\r\n     <use style=\"fill:#1f77b4;stroke:#1f77b4;\" x=\"224.703091\" xlink:href=\"#m93054c6030\" y=\"89.603364\"/>\r\n     <use style=\"fill:#1f77b4;stroke:#1f77b4;\" x=\"225.311818\" xlink:href=\"#m93054c6030\" y=\"111.696241\"/>\r\n     <use style=\"fill:#1f77b4;stroke:#1f77b4;\" x=\"225.920545\" xlink:href=\"#m93054c6030\" y=\"78.540769\"/>\r\n     <use style=\"fill:#1f77b4;stroke:#1f77b4;\" x=\"226.529273\" xlink:href=\"#m93054c6030\" y=\"158.711231\"/>\r\n     <use style=\"fill:#1f77b4;stroke:#1f77b4;\" x=\"227.138\" xlink:href=\"#m93054c6030\" y=\"114.160105\"/>\r\n     <use style=\"fill:#1f77b4;stroke:#1f77b4;\" x=\"227.746727\" xlink:href=\"#m93054c6030\" y=\"146.690413\"/>\r\n     <use style=\"fill:#1f77b4;stroke:#1f77b4;\" x=\"228.355455\" xlink:href=\"#m93054c6030\" y=\"115.009868\"/>\r\n     <use style=\"fill:#1f77b4;stroke:#1f77b4;\" x=\"228.964182\" xlink:href=\"#m93054c6030\" y=\"107.75105\"/>\r\n     <use style=\"fill:#1f77b4;stroke:#1f77b4;\" x=\"229.572909\" xlink:href=\"#m93054c6030\" y=\"206.480642\"/>\r\n     <use style=\"fill:#1f77b4;stroke:#1f77b4;\" x=\"230.181636\" xlink:href=\"#m93054c6030\" y=\"300.290183\"/>\r\n     <use style=\"fill:#1f77b4;stroke:#1f77b4;\" x=\"230.790364\" xlink:href=\"#m93054c6030\" y=\"171.866559\"/>\r\n     <use style=\"fill:#1f77b4;stroke:#1f77b4;\" x=\"231.399091\" xlink:href=\"#m93054c6030\" y=\"232.397452\"/>\r\n     <use style=\"fill:#1f77b4;stroke:#1f77b4;\" x=\"232.007818\" xlink:href=\"#m93054c6030\" y=\"159.911649\"/>\r\n     <use style=\"fill:#1f77b4;stroke:#1f77b4;\" x=\"232.616545\" xlink:href=\"#m93054c6030\" y=\"257.99976\"/>\r\n     <use style=\"fill:#1f77b4;stroke:#1f77b4;\" x=\"233.225273\" xlink:href=\"#m93054c6030\" y=\"182.229764\"/>\r\n     <use style=\"fill:#1f77b4;stroke:#1f77b4;\" x=\"233.834\" xlink:href=\"#m93054c6030\" y=\"174.898959\"/>\r\n     <use style=\"fill:#1f77b4;stroke:#1f77b4;\" x=\"234.442727\" xlink:href=\"#m93054c6030\" y=\"220.109803\"/>\r\n     <use style=\"fill:#1f77b4;stroke:#1f77b4;\" x=\"235.051455\" xlink:href=\"#m93054c6030\" y=\"236.653945\"/>\r\n     <use style=\"fill:#1f77b4;stroke:#1f77b4;\" x=\"235.660182\" xlink:href=\"#m93054c6030\" y=\"168.483505\"/>\r\n     <use style=\"fill:#1f77b4;stroke:#1f77b4;\" x=\"236.268909\" xlink:href=\"#m93054c6030\" y=\"238.539996\"/>\r\n     <use style=\"fill:#1f77b4;stroke:#1f77b4;\" x=\"236.877636\" xlink:href=\"#m93054c6030\" y=\"168.830321\"/>\r\n     <use style=\"fill:#1f77b4;stroke:#1f77b4;\" x=\"237.486364\" xlink:href=\"#m93054c6030\" y=\"211.90044\"/>\r\n     <use style=\"fill:#1f77b4;stroke:#1f77b4;\" x=\"238.095091\" xlink:href=\"#m93054c6030\" y=\"137.964026\"/>\r\n     <use style=\"fill:#1f77b4;stroke:#1f77b4;\" x=\"238.703818\" xlink:href=\"#m93054c6030\" y=\"272.115231\"/>\r\n     <use style=\"fill:#1f77b4;stroke:#1f77b4;\" x=\"239.312545\" xlink:href=\"#m93054c6030\" y=\"233.980519\"/>\r\n     <use style=\"fill:#1f77b4;stroke:#1f77b4;\" x=\"239.921273\" xlink:href=\"#m93054c6030\" y=\"162.34384\"/>\r\n     <use style=\"fill:#1f77b4;stroke:#1f77b4;\" x=\"240.53\" xlink:href=\"#m93054c6030\" y=\"142.875758\"/>\r\n     <use style=\"fill:#1f77b4;stroke:#1f77b4;\" x=\"241.138727\" xlink:href=\"#m93054c6030\" y=\"139.652994\"/>\r\n     <use style=\"fill:#1f77b4;stroke:#1f77b4;\" x=\"241.747455\" xlink:href=\"#m93054c6030\" y=\"188.781833\"/>\r\n     <use style=\"fill:#1f77b4;stroke:#1f77b4;\" x=\"242.356182\" xlink:href=\"#m93054c6030\" y=\"164.195337\"/>\r\n     <use style=\"fill:#1f77b4;stroke:#1f77b4;\" x=\"242.964909\" xlink:href=\"#m93054c6030\" y=\"118.441234\"/>\r\n     <use style=\"fill:#1f77b4;stroke:#1f77b4;\" x=\"243.573636\" xlink:href=\"#m93054c6030\" y=\"138.999674\"/>\r\n     <use style=\"fill:#1f77b4;stroke:#1f77b4;\" x=\"244.182364\" xlink:href=\"#m93054c6030\" y=\"153.396693\"/>\r\n     <use style=\"fill:#1f77b4;stroke:#1f77b4;\" x=\"244.791091\" xlink:href=\"#m93054c6030\" y=\"198.743512\"/>\r\n     <use style=\"fill:#1f77b4;stroke:#1f77b4;\" x=\"245.399818\" xlink:href=\"#m93054c6030\" y=\"111.956033\"/>\r\n     <use style=\"fill:#1f77b4;stroke:#1f77b4;\" x=\"246.008545\" xlink:href=\"#m93054c6030\" y=\"136.69738\"/>\r\n     <use style=\"fill:#1f77b4;stroke:#1f77b4;\" x=\"246.617273\" xlink:href=\"#m93054c6030\" y=\"173.231107\"/>\r\n     <use style=\"fill:#1f77b4;stroke:#1f77b4;\" x=\"247.226\" xlink:href=\"#m93054c6030\" y=\"160.874031\"/>\r\n     <use style=\"fill:#1f77b4;stroke:#1f77b4;\" x=\"247.834727\" xlink:href=\"#m93054c6030\" y=\"195.581536\"/>\r\n     <use style=\"fill:#1f77b4;stroke:#1f77b4;\" x=\"248.443455\" xlink:href=\"#m93054c6030\" y=\"145.403611\"/>\r\n     <use style=\"fill:#1f77b4;stroke:#1f77b4;\" x=\"249.052182\" xlink:href=\"#m93054c6030\" y=\"178.071493\"/>\r\n     <use style=\"fill:#1f77b4;stroke:#1f77b4;\" x=\"249.660909\" xlink:href=\"#m93054c6030\" y=\"200.850962\"/>\r\n     <use style=\"fill:#1f77b4;stroke:#1f77b4;\" x=\"250.269636\" xlink:href=\"#m93054c6030\" y=\"96.627666\"/>\r\n     <use style=\"fill:#1f77b4;stroke:#1f77b4;\" x=\"250.878364\" xlink:href=\"#m93054c6030\" y=\"150.199524\"/>\r\n     <use style=\"fill:#1f77b4;stroke:#1f77b4;\" x=\"251.487091\" xlink:href=\"#m93054c6030\" y=\"257.595034\"/>\r\n     <use style=\"fill:#1f77b4;stroke:#1f77b4;\" x=\"252.095818\" xlink:href=\"#m93054c6030\" y=\"154.391069\"/>\r\n     <use style=\"fill:#1f77b4;stroke:#1f77b4;\" x=\"252.704545\" xlink:href=\"#m93054c6030\" y=\"169.215849\"/>\r\n     <use style=\"fill:#1f77b4;stroke:#1f77b4;\" x=\"253.313273\" xlink:href=\"#m93054c6030\" y=\"144.017627\"/>\r\n     <use style=\"fill:#1f77b4;stroke:#1f77b4;\" x=\"253.922\" xlink:href=\"#m93054c6030\" y=\"231.514415\"/>\r\n     <use style=\"fill:#1f77b4;stroke:#1f77b4;\" x=\"254.530727\" xlink:href=\"#m93054c6030\" y=\"274.38873\"/>\r\n     <use style=\"fill:#1f77b4;stroke:#1f77b4;\" x=\"255.139455\" xlink:href=\"#m93054c6030\" y=\"151.6287\"/>\r\n     <use style=\"fill:#1f77b4;stroke:#1f77b4;\" x=\"255.748182\" xlink:href=\"#m93054c6030\" y=\"137.556741\"/>\r\n     <use style=\"fill:#1f77b4;stroke:#1f77b4;\" x=\"256.356909\" xlink:href=\"#m93054c6030\" y=\"160.744135\"/>\r\n     <use style=\"fill:#1f77b4;stroke:#1f77b4;\" x=\"256.965636\" xlink:href=\"#m93054c6030\" y=\"203.870244\"/>\r\n     <use style=\"fill:#1f77b4;stroke:#1f77b4;\" x=\"257.574364\" xlink:href=\"#m93054c6030\" y=\"201.710963\"/>\r\n     <use style=\"fill:#1f77b4;stroke:#1f77b4;\" x=\"258.183091\" xlink:href=\"#m93054c6030\" y=\"174.157336\"/>\r\n     <use style=\"fill:#1f77b4;stroke:#1f77b4;\" x=\"258.791818\" xlink:href=\"#m93054c6030\" y=\"202.312452\"/>\r\n     <use style=\"fill:#1f77b4;stroke:#1f77b4;\" x=\"259.400545\" xlink:href=\"#m93054c6030\" y=\"203.935832\"/>\r\n     <use style=\"fill:#1f77b4;stroke:#1f77b4;\" x=\"260.009273\" xlink:href=\"#m93054c6030\" y=\"293.041923\"/>\r\n     <use style=\"fill:#1f77b4;stroke:#1f77b4;\" x=\"260.618\" xlink:href=\"#m93054c6030\" y=\"144.10817\"/>\r\n     <use style=\"fill:#1f77b4;stroke:#1f77b4;\" x=\"261.226727\" xlink:href=\"#m93054c6030\" y=\"160.88107\"/>\r\n     <use style=\"fill:#1f77b4;stroke:#1f77b4;\" x=\"261.835455\" xlink:href=\"#m93054c6030\" y=\"116.778501\"/>\r\n     <use style=\"fill:#1f77b4;stroke:#1f77b4;\" x=\"262.444182\" xlink:href=\"#m93054c6030\" y=\"211.586578\"/>\r\n     <use style=\"fill:#1f77b4;stroke:#1f77b4;\" x=\"263.052909\" xlink:href=\"#m93054c6030\" y=\"241.01026\"/>\r\n     <use style=\"fill:#1f77b4;stroke:#1f77b4;\" x=\"263.661636\" xlink:href=\"#m93054c6030\" y=\"174.034479\"/>\r\n     <use style=\"fill:#1f77b4;stroke:#1f77b4;\" x=\"264.270364\" xlink:href=\"#m93054c6030\" y=\"169.563945\"/>\r\n     <use style=\"fill:#1f77b4;stroke:#1f77b4;\" x=\"264.879091\" xlink:href=\"#m93054c6030\" y=\"91.940852\"/>\r\n     <use style=\"fill:#1f77b4;stroke:#1f77b4;\" x=\"265.487818\" xlink:href=\"#m93054c6030\" y=\"144.748052\"/>\r\n     <use style=\"fill:#1f77b4;stroke:#1f77b4;\" x=\"266.096545\" xlink:href=\"#m93054c6030\" y=\"126.243632\"/>\r\n     <use style=\"fill:#1f77b4;stroke:#1f77b4;\" x=\"266.705273\" xlink:href=\"#m93054c6030\" y=\"186.531689\"/>\r\n     <use style=\"fill:#1f77b4;stroke:#1f77b4;\" x=\"267.314\" xlink:href=\"#m93054c6030\" y=\"157.860188\"/>\r\n     <use style=\"fill:#1f77b4;stroke:#1f77b4;\" x=\"267.922727\" xlink:href=\"#m93054c6030\" y=\"22.025455\"/>\r\n     <use style=\"fill:#1f77b4;stroke:#1f77b4;\" x=\"268.531455\" xlink:href=\"#m93054c6030\" y=\"167.26549\"/>\r\n     <use style=\"fill:#1f77b4;stroke:#1f77b4;\" x=\"269.140182\" xlink:href=\"#m93054c6030\" y=\"186.351242\"/>\r\n     <use style=\"fill:#1f77b4;stroke:#1f77b4;\" x=\"269.748909\" xlink:href=\"#m93054c6030\" y=\"110.366247\"/>\r\n     <use style=\"fill:#1f77b4;stroke:#1f77b4;\" x=\"270.357636\" xlink:href=\"#m93054c6030\" y=\"183.633025\"/>\r\n     <use style=\"fill:#1f77b4;stroke:#1f77b4;\" x=\"270.966364\" xlink:href=\"#m93054c6030\" y=\"159.655696\"/>\r\n     <use style=\"fill:#1f77b4;stroke:#1f77b4;\" x=\"271.575091\" xlink:href=\"#m93054c6030\" y=\"116.03016\"/>\r\n     <use style=\"fill:#1f77b4;stroke:#1f77b4;\" x=\"272.183818\" xlink:href=\"#m93054c6030\" y=\"203.925914\"/>\r\n     <use style=\"fill:#1f77b4;stroke:#1f77b4;\" x=\"272.792545\" xlink:href=\"#m93054c6030\" y=\"206.559027\"/>\r\n     <use style=\"fill:#1f77b4;stroke:#1f77b4;\" x=\"273.401273\" xlink:href=\"#m93054c6030\" y=\"162.99076\"/>\r\n     <use style=\"fill:#1f77b4;stroke:#1f77b4;\" x=\"274.01\" xlink:href=\"#m93054c6030\" y=\"217.299762\"/>\r\n     <use style=\"fill:#1f77b4;stroke:#1f77b4;\" x=\"274.618727\" xlink:href=\"#m93054c6030\" y=\"146.32664\"/>\r\n     <use style=\"fill:#1f77b4;stroke:#1f77b4;\" x=\"275.227455\" xlink:href=\"#m93054c6030\" y=\"149.751287\"/>\r\n     <use style=\"fill:#1f77b4;stroke:#1f77b4;\" x=\"275.836182\" xlink:href=\"#m93054c6030\" y=\"231.218789\"/>\r\n     <use style=\"fill:#1f77b4;stroke:#1f77b4;\" x=\"276.444909\" xlink:href=\"#m93054c6030\" y=\"246.435177\"/>\r\n     <use style=\"fill:#1f77b4;stroke:#1f77b4;\" x=\"277.053636\" xlink:href=\"#m93054c6030\" y=\"131.411317\"/>\r\n     <use style=\"fill:#1f77b4;stroke:#1f77b4;\" x=\"277.662364\" xlink:href=\"#m93054c6030\" y=\"180.484167\"/>\r\n     <use style=\"fill:#1f77b4;stroke:#1f77b4;\" x=\"278.271091\" xlink:href=\"#m93054c6030\" y=\"195.01812\"/>\r\n     <use style=\"fill:#1f77b4;stroke:#1f77b4;\" x=\"278.879818\" xlink:href=\"#m93054c6030\" y=\"179.256874\"/>\r\n     <use style=\"fill:#1f77b4;stroke:#1f77b4;\" x=\"279.488545\" xlink:href=\"#m93054c6030\" y=\"245.910474\"/>\r\n     <use style=\"fill:#1f77b4;stroke:#1f77b4;\" x=\"280.097273\" xlink:href=\"#m93054c6030\" y=\"199.382114\"/>\r\n     <use style=\"fill:#1f77b4;stroke:#1f77b4;\" x=\"280.706\" xlink:href=\"#m93054c6030\" y=\"176.746937\"/>\r\n     <use style=\"fill:#1f77b4;stroke:#1f77b4;\" x=\"281.314727\" xlink:href=\"#m93054c6030\" y=\"86.031864\"/>\r\n     <use style=\"fill:#1f77b4;stroke:#1f77b4;\" x=\"281.923455\" xlink:href=\"#m93054c6030\" y=\"129.208204\"/>\r\n     <use style=\"fill:#1f77b4;stroke:#1f77b4;\" x=\"282.532182\" xlink:href=\"#m93054c6030\" y=\"158.684996\"/>\r\n     <use style=\"fill:#1f77b4;stroke:#1f77b4;\" x=\"283.140909\" xlink:href=\"#m93054c6030\" y=\"221.284626\"/>\r\n     <use style=\"fill:#1f77b4;stroke:#1f77b4;\" x=\"283.749636\" xlink:href=\"#m93054c6030\" y=\"265.392313\"/>\r\n     <use style=\"fill:#1f77b4;stroke:#1f77b4;\" x=\"284.358364\" xlink:href=\"#m93054c6030\" y=\"147.713264\"/>\r\n     <use style=\"fill:#1f77b4;stroke:#1f77b4;\" x=\"284.967091\" xlink:href=\"#m93054c6030\" y=\"172.371746\"/>\r\n     <use style=\"fill:#1f77b4;stroke:#1f77b4;\" x=\"285.575818\" xlink:href=\"#m93054c6030\" y=\"175.530522\"/>\r\n     <use style=\"fill:#1f77b4;stroke:#1f77b4;\" x=\"286.184545\" xlink:href=\"#m93054c6030\" y=\"274.0144\"/>\r\n     <use style=\"fill:#1f77b4;stroke:#1f77b4;\" x=\"286.793273\" xlink:href=\"#m93054c6030\" y=\"134.522742\"/>\r\n     <use style=\"fill:#1f77b4;stroke:#1f77b4;\" x=\"287.402\" xlink:href=\"#m93054c6030\" y=\"185.235928\"/>\r\n     <use style=\"fill:#1f77b4;stroke:#1f77b4;\" x=\"288.010727\" xlink:href=\"#m93054c6030\" y=\"187.642844\"/>\r\n     <use style=\"fill:#1f77b4;stroke:#1f77b4;\" x=\"288.619455\" xlink:href=\"#m93054c6030\" y=\"152.410636\"/>\r\n     <use style=\"fill:#1f77b4;stroke:#1f77b4;\" x=\"289.228182\" xlink:href=\"#m93054c6030\" y=\"143.120513\"/>\r\n     <use style=\"fill:#1f77b4;stroke:#1f77b4;\" x=\"289.836909\" xlink:href=\"#m93054c6030\" y=\"166.279752\"/>\r\n     <use style=\"fill:#1f77b4;stroke:#1f77b4;\" x=\"290.445636\" xlink:href=\"#m93054c6030\" y=\"164.332592\"/>\r\n     <use style=\"fill:#1f77b4;stroke:#1f77b4;\" x=\"291.054364\" xlink:href=\"#m93054c6030\" y=\"205.205038\"/>\r\n     <use style=\"fill:#1f77b4;stroke:#1f77b4;\" x=\"291.663091\" xlink:href=\"#m93054c6030\" y=\"183.753322\"/>\r\n     <use style=\"fill:#1f77b4;stroke:#1f77b4;\" x=\"292.271818\" xlink:href=\"#m93054c6030\" y=\"196.195503\"/>\r\n     <use style=\"fill:#1f77b4;stroke:#1f77b4;\" x=\"292.880545\" xlink:href=\"#m93054c6030\" y=\"105.91299\"/>\r\n     <use style=\"fill:#1f77b4;stroke:#1f77b4;\" x=\"293.489273\" xlink:href=\"#m93054c6030\" y=\"196.64342\"/>\r\n     <use style=\"fill:#1f77b4;stroke:#1f77b4;\" x=\"294.098\" xlink:href=\"#m93054c6030\" y=\"227.748391\"/>\r\n     <use style=\"fill:#1f77b4;stroke:#1f77b4;\" x=\"294.706727\" xlink:href=\"#m93054c6030\" y=\"162.869502\"/>\r\n     <use style=\"fill:#1f77b4;stroke:#1f77b4;\" x=\"295.315455\" xlink:href=\"#m93054c6030\" y=\"119.697002\"/>\r\n     <use style=\"fill:#1f77b4;stroke:#1f77b4;\" x=\"295.924182\" xlink:href=\"#m93054c6030\" y=\"166.61377\"/>\r\n     <use style=\"fill:#1f77b4;stroke:#1f77b4;\" x=\"296.532909\" xlink:href=\"#m93054c6030\" y=\"164.349549\"/>\r\n     <use style=\"fill:#1f77b4;stroke:#1f77b4;\" x=\"297.141636\" xlink:href=\"#m93054c6030\" y=\"182.192011\"/>\r\n     <use style=\"fill:#1f77b4;stroke:#1f77b4;\" x=\"297.750364\" xlink:href=\"#m93054c6030\" y=\"149.172514\"/>\r\n     <use style=\"fill:#1f77b4;stroke:#1f77b4;\" x=\"298.359091\" xlink:href=\"#m93054c6030\" y=\"247.279181\"/>\r\n     <use style=\"fill:#1f77b4;stroke:#1f77b4;\" x=\"298.967818\" xlink:href=\"#m93054c6030\" y=\"215.512252\"/>\r\n     <use style=\"fill:#1f77b4;stroke:#1f77b4;\" x=\"299.576545\" xlink:href=\"#m93054c6030\" y=\"179.723987\"/>\r\n     <use style=\"fill:#1f77b4;stroke:#1f77b4;\" x=\"300.185273\" xlink:href=\"#m93054c6030\" y=\"211.528989\"/>\r\n     <use style=\"fill:#1f77b4;stroke:#1f77b4;\" x=\"300.794\" xlink:href=\"#m93054c6030\" y=\"228.94337\"/>\r\n     <use style=\"fill:#1f77b4;stroke:#1f77b4;\" x=\"301.402727\" xlink:href=\"#m93054c6030\" y=\"214.419334\"/>\r\n     <use style=\"fill:#1f77b4;stroke:#1f77b4;\" x=\"302.011455\" xlink:href=\"#m93054c6030\" y=\"173.760929\"/>\r\n     <use style=\"fill:#1f77b4;stroke:#1f77b4;\" x=\"302.620182\" xlink:href=\"#m93054c6030\" y=\"173.530892\"/>\r\n     <use style=\"fill:#1f77b4;stroke:#1f77b4;\" x=\"303.228909\" xlink:href=\"#m93054c6030\" y=\"187.516147\"/>\r\n     <use style=\"fill:#1f77b4;stroke:#1f77b4;\" x=\"303.837636\" xlink:href=\"#m93054c6030\" y=\"102.331892\"/>\r\n     <use style=\"fill:#1f77b4;stroke:#1f77b4;\" x=\"304.446364\" xlink:href=\"#m93054c6030\" y=\"205.68015\"/>\r\n     <use style=\"fill:#1f77b4;stroke:#1f77b4;\" x=\"305.055091\" xlink:href=\"#m93054c6030\" y=\"184.241872\"/>\r\n     <use style=\"fill:#1f77b4;stroke:#1f77b4;\" x=\"305.663818\" xlink:href=\"#m93054c6030\" y=\"142.562216\"/>\r\n     <use style=\"fill:#1f77b4;stroke:#1f77b4;\" x=\"306.272545\" xlink:href=\"#m93054c6030\" y=\"195.172332\"/>\r\n     <use style=\"fill:#1f77b4;stroke:#1f77b4;\" x=\"306.881273\" xlink:href=\"#m93054c6030\" y=\"113.876318\"/>\r\n     <use style=\"fill:#1f77b4;stroke:#1f77b4;\" x=\"307.49\" xlink:href=\"#m93054c6030\" y=\"224.606572\"/>\r\n     <use style=\"fill:#1f77b4;stroke:#1f77b4;\" x=\"308.098727\" xlink:href=\"#m93054c6030\" y=\"213.351052\"/>\r\n     <use style=\"fill:#1f77b4;stroke:#1f77b4;\" x=\"308.707455\" xlink:href=\"#m93054c6030\" y=\"122.742839\"/>\r\n     <use style=\"fill:#1f77b4;stroke:#1f77b4;\" x=\"309.316182\" xlink:href=\"#m93054c6030\" y=\"152.664989\"/>\r\n     <use style=\"fill:#1f77b4;stroke:#1f77b4;\" x=\"309.924909\" xlink:href=\"#m93054c6030\" y=\"228.660222\"/>\r\n     <use style=\"fill:#1f77b4;stroke:#1f77b4;\" x=\"310.533636\" xlink:href=\"#m93054c6030\" y=\"168.919904\"/>\r\n     <use style=\"fill:#1f77b4;stroke:#1f77b4;\" x=\"311.142364\" xlink:href=\"#m93054c6030\" y=\"275.361671\"/>\r\n     <use style=\"fill:#1f77b4;stroke:#1f77b4;\" x=\"311.751091\" xlink:href=\"#m93054c6030\" y=\"141.929053\"/>\r\n     <use style=\"fill:#1f77b4;stroke:#1f77b4;\" x=\"312.359818\" xlink:href=\"#m93054c6030\" y=\"233.335838\"/>\r\n     <use style=\"fill:#1f77b4;stroke:#1f77b4;\" x=\"312.968545\" xlink:href=\"#m93054c6030\" y=\"141.818673\"/>\r\n     <use style=\"fill:#1f77b4;stroke:#1f77b4;\" x=\"313.577273\" xlink:href=\"#m93054c6030\" y=\"148.261322\"/>\r\n     <use style=\"fill:#1f77b4;stroke:#1f77b4;\" x=\"314.186\" xlink:href=\"#m93054c6030\" y=\"237.090024\"/>\r\n     <use style=\"fill:#1f77b4;stroke:#1f77b4;\" x=\"314.794727\" xlink:href=\"#m93054c6030\" y=\"236.504532\"/>\r\n     <use style=\"fill:#1f77b4;stroke:#1f77b4;\" x=\"315.403455\" xlink:href=\"#m93054c6030\" y=\"220.753844\"/>\r\n     <use style=\"fill:#1f77b4;stroke:#1f77b4;\" x=\"316.012182\" xlink:href=\"#m93054c6030\" y=\"238.602705\"/>\r\n     <use style=\"fill:#1f77b4;stroke:#1f77b4;\" x=\"316.620909\" xlink:href=\"#m93054c6030\" y=\"234.73014\"/>\r\n     <use style=\"fill:#1f77b4;stroke:#1f77b4;\" x=\"317.229636\" xlink:href=\"#m93054c6030\" y=\"115.740293\"/>\r\n     <use style=\"fill:#1f77b4;stroke:#1f77b4;\" x=\"317.838364\" xlink:href=\"#m93054c6030\" y=\"208.120979\"/>\r\n     <use style=\"fill:#1f77b4;stroke:#1f77b4;\" x=\"318.447091\" xlink:href=\"#m93054c6030\" y=\"141.958487\"/>\r\n     <use style=\"fill:#1f77b4;stroke:#1f77b4;\" x=\"319.055818\" xlink:href=\"#m93054c6030\" y=\"98.462207\"/>\r\n     <use style=\"fill:#1f77b4;stroke:#1f77b4;\" x=\"319.664545\" xlink:href=\"#m93054c6030\" y=\"153.316068\"/>\r\n     <use style=\"fill:#1f77b4;stroke:#1f77b4;\" x=\"320.273273\" xlink:href=\"#m93054c6030\" y=\"144.686943\"/>\r\n     <use style=\"fill:#1f77b4;stroke:#1f77b4;\" x=\"320.882\" xlink:href=\"#m93054c6030\" y=\"78.538529\"/>\r\n     <use style=\"fill:#1f77b4;stroke:#1f77b4;\" x=\"321.490727\" xlink:href=\"#m93054c6030\" y=\"217.639539\"/>\r\n     <use style=\"fill:#1f77b4;stroke:#1f77b4;\" x=\"322.099455\" xlink:href=\"#m93054c6030\" y=\"147.592006\"/>\r\n     <use style=\"fill:#1f77b4;stroke:#1f77b4;\" x=\"322.708182\" xlink:href=\"#m93054c6030\" y=\"164.083678\"/>\r\n     <use style=\"fill:#1f77b4;stroke:#1f77b4;\" x=\"323.316909\" xlink:href=\"#m93054c6030\" y=\"144.883387\"/>\r\n     <use style=\"fill:#1f77b4;stroke:#1f77b4;\" x=\"323.925636\" xlink:href=\"#m93054c6030\" y=\"85.605063\"/>\r\n     <use style=\"fill:#1f77b4;stroke:#1f77b4;\" x=\"324.534364\" xlink:href=\"#m93054c6030\" y=\"189.356767\"/>\r\n     <use style=\"fill:#1f77b4;stroke:#1f77b4;\" x=\"325.143091\" xlink:href=\"#m93054c6030\" y=\"170.879222\"/>\r\n     <use style=\"fill:#1f77b4;stroke:#1f77b4;\" x=\"325.751818\" xlink:href=\"#m93054c6030\" y=\"175.59963\"/>\r\n     <use style=\"fill:#1f77b4;stroke:#1f77b4;\" x=\"326.360545\" xlink:href=\"#m93054c6030\" y=\"143.46029\"/>\r\n     <use style=\"fill:#1f77b4;stroke:#1f77b4;\" x=\"326.969273\" xlink:href=\"#m93054c6030\" y=\"253.768222\"/>\r\n     <use style=\"fill:#1f77b4;stroke:#1f77b4;\" x=\"327.578\" xlink:href=\"#m93054c6030\" y=\"141.920734\"/>\r\n     <use style=\"fill:#1f77b4;stroke:#1f77b4;\" x=\"328.186727\" xlink:href=\"#m93054c6030\" y=\"250.381328\"/>\r\n     <use style=\"fill:#1f77b4;stroke:#1f77b4;\" x=\"328.795455\" xlink:href=\"#m93054c6030\" y=\"169.419972\"/>\r\n     <use style=\"fill:#1f77b4;stroke:#1f77b4;\" x=\"329.404182\" xlink:href=\"#m93054c6030\" y=\"144.450507\"/>\r\n     <use style=\"fill:#1f77b4;stroke:#1f77b4;\" x=\"330.012909\" xlink:href=\"#m93054c6030\" y=\"228.005943\"/>\r\n     <use style=\"fill:#1f77b4;stroke:#1f77b4;\" x=\"330.621636\" xlink:href=\"#m93054c6030\" y=\"124.896681\"/>\r\n     <use style=\"fill:#1f77b4;stroke:#1f77b4;\" x=\"331.230364\" xlink:href=\"#m93054c6030\" y=\"245.972223\"/>\r\n     <use style=\"fill:#1f77b4;stroke:#1f77b4;\" x=\"331.839091\" xlink:href=\"#m93054c6030\" y=\"84.094942\"/>\r\n     <use style=\"fill:#1f77b4;stroke:#1f77b4;\" x=\"332.447818\" xlink:href=\"#m93054c6030\" y=\"244.063455\"/>\r\n     <use style=\"fill:#1f77b4;stroke:#1f77b4;\" x=\"333.056545\" xlink:href=\"#m93054c6030\" y=\"178.797438\"/>\r\n     <use style=\"fill:#1f77b4;stroke:#1f77b4;\" x=\"333.665273\" xlink:href=\"#m93054c6030\" y=\"219.447845\"/>\r\n     <use style=\"fill:#1f77b4;stroke:#1f77b4;\" x=\"334.274\" xlink:href=\"#m93054c6030\" y=\"229.460075\"/>\r\n     <use style=\"fill:#1f77b4;stroke:#1f77b4;\" x=\"334.882727\" xlink:href=\"#m93054c6030\" y=\"142.954143\"/>\r\n     <use style=\"fill:#1f77b4;stroke:#1f77b4;\" x=\"335.491455\" xlink:href=\"#m93054c6030\" y=\"282.725749\"/>\r\n     <use style=\"fill:#1f77b4;stroke:#1f77b4;\" x=\"336.100182\" xlink:href=\"#m93054c6030\" y=\"209.102877\"/>\r\n     <use style=\"fill:#1f77b4;stroke:#1f77b4;\" x=\"336.708909\" xlink:href=\"#m93054c6030\" y=\"153.707036\"/>\r\n     <use style=\"fill:#1f77b4;stroke:#1f77b4;\" x=\"337.317636\" xlink:href=\"#m93054c6030\" y=\"159.763197\"/>\r\n     <use style=\"fill:#1f77b4;stroke:#1f77b4;\" x=\"337.926364\" xlink:href=\"#m93054c6030\" y=\"155.7393\"/>\r\n     <use style=\"fill:#1f77b4;stroke:#1f77b4;\" x=\"338.535091\" xlink:href=\"#m93054c6030\" y=\"159.681292\"/>\r\n     <use style=\"fill:#1f77b4;stroke:#1f77b4;\" x=\"339.143818\" xlink:href=\"#m93054c6030\" y=\"125.22622\"/>\r\n     <use style=\"fill:#1f77b4;stroke:#1f77b4;\" x=\"339.752545\" xlink:href=\"#m93054c6030\" y=\"230.703685\"/>\r\n     <use style=\"fill:#1f77b4;stroke:#1f77b4;\" x=\"340.361273\" xlink:href=\"#m93054c6030\" y=\"160.975452\"/>\r\n     <use style=\"fill:#1f77b4;stroke:#1f77b4;\" x=\"340.97\" xlink:href=\"#m93054c6030\" y=\"181.43887\"/>\r\n     <use style=\"fill:#1f77b4;stroke:#1f77b4;\" x=\"341.578727\" xlink:href=\"#m93054c6030\" y=\"217.131153\"/>\r\n     <use style=\"fill:#1f77b4;stroke:#1f77b4;\" x=\"342.187455\" xlink:href=\"#m93054c6030\" y=\"187.858164\"/>\r\n     <use style=\"fill:#1f77b4;stroke:#1f77b4;\" x=\"342.796182\" xlink:href=\"#m93054c6030\" y=\"95.502114\"/>\r\n     <use style=\"fill:#1f77b4;stroke:#1f77b4;\" x=\"343.404909\" xlink:href=\"#m93054c6030\" y=\"115.187755\"/>\r\n     <use style=\"fill:#1f77b4;stroke:#1f77b4;\" x=\"344.013636\" xlink:href=\"#m93054c6030\" y=\"191.224262\"/>\r\n     <use style=\"fill:#1f77b4;stroke:#1f77b4;\" x=\"344.622364\" xlink:href=\"#m93054c6030\" y=\"123.505898\"/>\r\n     <use style=\"fill:#1f77b4;stroke:#1f77b4;\" x=\"345.231091\" xlink:href=\"#m93054c6030\" y=\"129.791136\"/>\r\n     <use style=\"fill:#1f77b4;stroke:#1f77b4;\" x=\"345.839818\" xlink:href=\"#m93054c6030\" y=\"179.375572\"/>\r\n     <use style=\"fill:#1f77b4;stroke:#1f77b4;\" x=\"346.448545\" xlink:href=\"#m93054c6030\" y=\"127.083157\"/>\r\n     <use style=\"fill:#1f77b4;stroke:#1f77b4;\" x=\"347.057273\" xlink:href=\"#m93054c6030\" y=\"252.201791\"/>\r\n     <use style=\"fill:#1f77b4;stroke:#1f77b4;\" x=\"347.666\" xlink:href=\"#m93054c6030\" y=\"143.614181\"/>\r\n     <use style=\"fill:#1f77b4;stroke:#1f77b4;\" x=\"348.274727\" xlink:href=\"#m93054c6030\" y=\"167.833065\"/>\r\n     <use style=\"fill:#1f77b4;stroke:#1f77b4;\" x=\"348.883455\" xlink:href=\"#m93054c6030\" y=\"155.441435\"/>\r\n     <use style=\"fill:#1f77b4;stroke:#1f77b4;\" x=\"349.492182\" xlink:href=\"#m93054c6030\" y=\"122.547995\"/>\r\n     <use style=\"fill:#1f77b4;stroke:#1f77b4;\" x=\"350.100909\" xlink:href=\"#m93054c6030\" y=\"231.634393\"/>\r\n     <use style=\"fill:#1f77b4;stroke:#1f77b4;\" x=\"350.709636\" xlink:href=\"#m93054c6030\" y=\"124.702477\"/>\r\n     <use style=\"fill:#1f77b4;stroke:#1f77b4;\" x=\"351.318364\" xlink:href=\"#m93054c6030\" y=\"113.603728\"/>\r\n     <use style=\"fill:#1f77b4;stroke:#1f77b4;\" x=\"351.927091\" xlink:href=\"#m93054c6030\" y=\"170.739088\"/>\r\n     <use style=\"fill:#1f77b4;stroke:#1f77b4;\" x=\"352.535818\" xlink:href=\"#m93054c6030\" y=\"155.531019\"/>\r\n     <use style=\"fill:#1f77b4;stroke:#1f77b4;\" x=\"353.144545\" xlink:href=\"#m93054c6030\" y=\"192.09994\"/>\r\n     <use style=\"fill:#1f77b4;stroke:#1f77b4;\" x=\"353.753273\" xlink:href=\"#m93054c6030\" y=\"111.975869\"/>\r\n     <use style=\"fill:#1f77b4;stroke:#1f77b4;\" x=\"354.362\" xlink:href=\"#m93054c6030\" y=\"162.062931\"/>\r\n     <use style=\"fill:#1f77b4;stroke:#1f77b4;\" x=\"354.970727\" xlink:href=\"#m93054c6030\" y=\"129.277631\"/>\r\n     <use style=\"fill:#1f77b4;stroke:#1f77b4;\" x=\"355.579455\" xlink:href=\"#m93054c6030\" y=\"51.908571\"/>\r\n     <use style=\"fill:#1f77b4;stroke:#1f77b4;\" x=\"356.188182\" xlink:href=\"#m93054c6030\" y=\"136.731613\"/>\r\n     <use style=\"fill:#1f77b4;stroke:#1f77b4;\" x=\"356.796909\" xlink:href=\"#m93054c6030\" y=\"212.307405\"/>\r\n     <use style=\"fill:#1f77b4;stroke:#1f77b4;\" x=\"357.405636\" xlink:href=\"#m93054c6030\" y=\"147.823003\"/>\r\n     <use style=\"fill:#1f77b4;stroke:#1f77b4;\" x=\"358.014364\" xlink:href=\"#m93054c6030\" y=\"161.876726\"/>\r\n     <use style=\"fill:#1f77b4;stroke:#1f77b4;\" x=\"358.623091\" xlink:href=\"#m93054c6030\" y=\"225.206781\"/>\r\n     <use style=\"fill:#1f77b4;stroke:#1f77b4;\" x=\"359.231818\" xlink:href=\"#m93054c6030\" y=\"170.800517\"/>\r\n     <use style=\"fill:#1f77b4;stroke:#1f77b4;\" x=\"359.840545\" xlink:href=\"#m93054c6030\" y=\"195.387012\"/>\r\n     <use style=\"fill:#1f77b4;stroke:#1f77b4;\" x=\"360.449273\" xlink:href=\"#m93054c6030\" y=\"158.641164\"/>\r\n     <use style=\"fill:#1f77b4;stroke:#1f77b4;\" x=\"361.058\" xlink:href=\"#m93054c6030\" y=\"120.929734\"/>\r\n     <use style=\"fill:#1f77b4;stroke:#1f77b4;\" x=\"361.666727\" xlink:href=\"#m93054c6030\" y=\"218.182479\"/>\r\n     <use style=\"fill:#1f77b4;stroke:#1f77b4;\" x=\"362.275455\" xlink:href=\"#m93054c6030\" y=\"125.394829\"/>\r\n     <use style=\"fill:#1f77b4;stroke:#1f77b4;\" x=\"362.884182\" xlink:href=\"#m93054c6030\" y=\"129.379372\"/>\r\n     <use style=\"fill:#1f77b4;stroke:#1f77b4;\" x=\"363.492909\" xlink:href=\"#m93054c6030\" y=\"177.255963\"/>\r\n     <use style=\"fill:#1f77b4;stroke:#1f77b4;\" x=\"364.101636\" xlink:href=\"#m93054c6030\" y=\"190.292914\"/>\r\n     <use style=\"fill:#1f77b4;stroke:#1f77b4;\" x=\"364.710364\" xlink:href=\"#m93054c6030\" y=\"146.801432\"/>\r\n     <use style=\"fill:#1f77b4;stroke:#1f77b4;\" x=\"365.319091\" xlink:href=\"#m93054c6030\" y=\"200.526222\"/>\r\n     <use style=\"fill:#1f77b4;stroke:#1f77b4;\" x=\"365.927818\" xlink:href=\"#m93054c6030\" y=\"141.322765\"/>\r\n     <use style=\"fill:#1f77b4;stroke:#1f77b4;\" x=\"366.536545\" xlink:href=\"#m93054c6030\" y=\"227.649849\"/>\r\n     <use style=\"fill:#1f77b4;stroke:#1f77b4;\" x=\"367.145273\" xlink:href=\"#m93054c6030\" y=\"183.099683\"/>\r\n     <use style=\"fill:#1f77b4;stroke:#1f77b4;\" x=\"367.754\" xlink:href=\"#m93054c6030\" y=\"199.355879\"/>\r\n     <use style=\"fill:#1f77b4;stroke:#1f77b4;\" x=\"368.362727\" xlink:href=\"#m93054c6030\" y=\"208.073627\"/>\r\n     <use style=\"fill:#1f77b4;stroke:#1f77b4;\" x=\"368.971455\" xlink:href=\"#m93054c6030\" y=\"94.730417\"/>\r\n     <use style=\"fill:#1f77b4;stroke:#1f77b4;\" x=\"369.580182\" xlink:href=\"#m93054c6030\" y=\"222.393541\"/>\r\n     <use style=\"fill:#1f77b4;stroke:#1f77b4;\" x=\"370.188909\" xlink:href=\"#m93054c6030\" y=\"138.946564\"/>\r\n     <use style=\"fill:#1f77b4;stroke:#1f77b4;\" x=\"370.797636\" xlink:href=\"#m93054c6030\" y=\"160.471226\"/>\r\n     <use style=\"fill:#1f77b4;stroke:#1f77b4;\" x=\"371.406364\" xlink:href=\"#m93054c6030\" y=\"223.646109\"/>\r\n     <use style=\"fill:#1f77b4;stroke:#1f77b4;\" x=\"372.015091\" xlink:href=\"#m93054c6030\" y=\"193.216213\"/>\r\n     <use style=\"fill:#1f77b4;stroke:#1f77b4;\" x=\"372.623818\" xlink:href=\"#m93054c6030\" y=\"173.582402\"/>\r\n     <use style=\"fill:#1f77b4;stroke:#1f77b4;\" x=\"373.232545\" xlink:href=\"#m93054c6030\" y=\"195.719111\"/>\r\n     <use style=\"fill:#1f77b4;stroke:#1f77b4;\" x=\"373.841273\" xlink:href=\"#m93054c6030\" y=\"144.805641\"/>\r\n     <use style=\"fill:#1f77b4;stroke:#1f77b4;\" x=\"374.45\" xlink:href=\"#m93054c6030\" y=\"160.909865\"/>\r\n     <use style=\"fill:#1f77b4;stroke:#1f77b4;\" x=\"375.058727\" xlink:href=\"#m93054c6030\" y=\"238.044408\"/>\r\n     <use style=\"fill:#1f77b4;stroke:#1f77b4;\" x=\"375.667455\" xlink:href=\"#m93054c6030\" y=\"214.687765\"/>\r\n     <use style=\"fill:#1f77b4;stroke:#1f77b4;\" x=\"376.276182\" xlink:href=\"#m93054c6030\" y=\"199.524807\"/>\r\n     <use style=\"fill:#1f77b4;stroke:#1f77b4;\" x=\"376.884909\" xlink:href=\"#m93054c6030\" y=\"137.693676\"/>\r\n     <use style=\"fill:#1f77b4;stroke:#1f77b4;\" x=\"377.493636\" xlink:href=\"#m93054c6030\" y=\"212.987919\"/>\r\n     <use style=\"fill:#1f77b4;stroke:#1f77b4;\" x=\"378.102364\" xlink:href=\"#m93054c6030\" y=\"148.417774\"/>\r\n     <use style=\"fill:#1f77b4;stroke:#1f77b4;\" x=\"378.711091\" xlink:href=\"#m93054c6030\" y=\"150.021957\"/>\r\n     <use style=\"fill:#1f77b4;stroke:#1f77b4;\" x=\"379.319818\" xlink:href=\"#m93054c6030\" y=\"159.159788\"/>\r\n     <use style=\"fill:#1f77b4;stroke:#1f77b4;\" x=\"379.928545\" xlink:href=\"#m93054c6030\" y=\"199.279093\"/>\r\n     <use style=\"fill:#1f77b4;stroke:#1f77b4;\" x=\"380.537273\" xlink:href=\"#m93054c6030\" y=\"184.650117\"/>\r\n     <use style=\"fill:#1f77b4;stroke:#1f77b4;\" x=\"381.146\" xlink:href=\"#m93054c6030\" y=\"136.443027\"/>\r\n     <use style=\"fill:#1f77b4;stroke:#1f77b4;\" x=\"381.754727\" xlink:href=\"#m93054c6030\" y=\"133.579876\"/>\r\n     <use style=\"fill:#1f77b4;stroke:#1f77b4;\" x=\"382.363455\" xlink:href=\"#m93054c6030\" y=\"118.51994\"/>\r\n     <use style=\"fill:#1f77b4;stroke:#1f77b4;\" x=\"382.972182\" xlink:href=\"#m93054c6030\" y=\"144.005149\"/>\r\n     <use style=\"fill:#1f77b4;stroke:#1f77b4;\" x=\"383.580909\" xlink:href=\"#m93054c6030\" y=\"263.700466\"/>\r\n     <use style=\"fill:#1f77b4;stroke:#1f77b4;\" x=\"384.189636\" xlink:href=\"#m93054c6030\" y=\"174.576459\"/>\r\n     <use style=\"fill:#1f77b4;stroke:#1f77b4;\" x=\"384.798364\" xlink:href=\"#m93054c6030\" y=\"187.368974\"/>\r\n     <use style=\"fill:#1f77b4;stroke:#1f77b4;\" x=\"385.407091\" xlink:href=\"#m93054c6030\" y=\"239.959574\"/>\r\n     <use style=\"fill:#1f77b4;stroke:#1f77b4;\" x=\"386.015818\" xlink:href=\"#m93054c6030\" y=\"158.981901\"/>\r\n     <use style=\"fill:#1f77b4;stroke:#1f77b4;\" x=\"386.624545\" xlink:href=\"#m93054c6030\" y=\"193.498401\"/>\r\n     <use style=\"fill:#1f77b4;stroke:#1f77b4;\" x=\"387.233273\" xlink:href=\"#m93054c6030\" y=\"232.125182\"/>\r\n     <use style=\"fill:#1f77b4;stroke:#1f77b4;\" x=\"387.842\" xlink:href=\"#m93054c6030\" y=\"140.86301\"/>\r\n     <use style=\"fill:#1f77b4;stroke:#1f77b4;\" x=\"388.450727\" xlink:href=\"#m93054c6030\" y=\"184.586448\"/>\r\n     <use style=\"fill:#1f77b4;stroke:#1f77b4;\" x=\"389.059455\" xlink:href=\"#m93054c6030\" y=\"210.058221\"/>\r\n     <use style=\"fill:#1f77b4;stroke:#1f77b4;\" x=\"389.668182\" xlink:href=\"#m93054c6030\" y=\"221.9629\"/>\r\n     <use style=\"fill:#1f77b4;stroke:#1f77b4;\" x=\"390.276909\" xlink:href=\"#m93054c6030\" y=\"92.154573\"/>\r\n     <use style=\"fill:#1f77b4;stroke:#1f77b4;\" x=\"390.885636\" xlink:href=\"#m93054c6030\" y=\"142.070147\"/>\r\n     <use style=\"fill:#1f77b4;stroke:#1f77b4;\" x=\"391.494364\" xlink:href=\"#m93054c6030\" y=\"183.65574\"/>\r\n     <use style=\"fill:#1f77b4;stroke:#1f77b4;\" x=\"392.103091\" xlink:href=\"#m93054c6030\" y=\"144.231027\"/>\r\n     <use style=\"fill:#1f77b4;stroke:#1f77b4;\" x=\"392.711818\" xlink:href=\"#m93054c6030\" y=\"195.501871\"/>\r\n     <use style=\"fill:#1f77b4;stroke:#1f77b4;\" x=\"393.320545\" xlink:href=\"#m93054c6030\" y=\"204.573154\"/>\r\n     <use style=\"fill:#1f77b4;stroke:#1f77b4;\" x=\"393.929273\" xlink:href=\"#m93054c6030\" y=\"184.287304\"/>\r\n     <use style=\"fill:#1f77b4;stroke:#1f77b4;\" x=\"394.538\" xlink:href=\"#m93054c6030\" y=\"175.533402\"/>\r\n     <use style=\"fill:#1f77b4;stroke:#1f77b4;\" x=\"395.146727\" xlink:href=\"#m93054c6030\" y=\"69.099634\"/>\r\n     <use style=\"fill:#1f77b4;stroke:#1f77b4;\" x=\"395.755455\" xlink:href=\"#m93054c6030\" y=\"198.48148\"/>\r\n     <use style=\"fill:#1f77b4;stroke:#1f77b4;\" x=\"396.364182\" xlink:href=\"#m93054c6030\" y=\"230.034048\"/>\r\n     <use style=\"fill:#1f77b4;stroke:#1f77b4;\" x=\"396.972909\" xlink:href=\"#m93054c6030\" y=\"211.624011\"/>\r\n     <use style=\"fill:#1f77b4;stroke:#1f77b4;\" x=\"397.581636\" xlink:href=\"#m93054c6030\" y=\"161.004567\"/>\r\n     <use style=\"fill:#1f77b4;stroke:#1f77b4;\" x=\"398.190364\" xlink:href=\"#m93054c6030\" y=\"167.647499\"/>\r\n     <use style=\"fill:#1f77b4;stroke:#1f77b4;\" x=\"398.799091\" xlink:href=\"#m93054c6030\" y=\"171.099661\"/>\r\n     <use style=\"fill:#1f77b4;stroke:#1f77b4;\" x=\"399.407818\" xlink:href=\"#m93054c6030\" y=\"127.023328\"/>\r\n     <use style=\"fill:#1f77b4;stroke:#1f77b4;\" x=\"400.016545\" xlink:href=\"#m93054c6030\" y=\"148.561747\"/>\r\n     <use style=\"fill:#1f77b4;stroke:#1f77b4;\" x=\"400.625273\" xlink:href=\"#m93054c6030\" y=\"94.6018\"/>\r\n     <use style=\"fill:#1f77b4;stroke:#1f77b4;\" x=\"401.234\" xlink:href=\"#m93054c6030\" y=\"160.66447\"/>\r\n     <use style=\"fill:#1f77b4;stroke:#1f77b4;\" x=\"401.842727\" xlink:href=\"#m93054c6030\" y=\"234.814285\"/>\r\n     <use style=\"fill:#1f77b4;stroke:#1f77b4;\" x=\"402.451455\" xlink:href=\"#m93054c6030\" y=\"162.540923\"/>\r\n     <use style=\"fill:#1f77b4;stroke:#1f77b4;\" x=\"403.060182\" xlink:href=\"#m93054c6030\" y=\"145.216125\"/>\r\n     <use style=\"fill:#1f77b4;stroke:#1f77b4;\" x=\"403.668909\" xlink:href=\"#m93054c6030\" y=\"200.556297\"/>\r\n     <use style=\"fill:#1f77b4;stroke:#1f77b4;\" x=\"404.277636\" xlink:href=\"#m93054c6030\" y=\"147.711024\"/>\r\n     <use style=\"fill:#1f77b4;stroke:#1f77b4;\" x=\"404.886364\" xlink:href=\"#m93054c6030\" y=\"228.286531\"/>\r\n     <use style=\"fill:#1f77b4;stroke:#1f77b4;\" x=\"405.495091\" xlink:href=\"#m93054c6030\" y=\"94.769449\"/>\r\n     <use style=\"fill:#1f77b4;stroke:#1f77b4;\" x=\"406.103818\" xlink:href=\"#m93054c6030\" y=\"165.843353\"/>\r\n     <use style=\"fill:#1f77b4;stroke:#1f77b4;\" x=\"406.712545\" xlink:href=\"#m93054c6030\" y=\"192.733743\"/>\r\n     <use style=\"fill:#1f77b4;stroke:#1f77b4;\" x=\"407.321273\" xlink:href=\"#m93054c6030\" y=\"184.659715\"/>\r\n     <use style=\"fill:#1f77b4;stroke:#1f77b4;\" x=\"407.93\" xlink:href=\"#m93054c6030\" y=\"142.86488\"/>\r\n     <use style=\"fill:#1f77b4;stroke:#1f77b4;\" x=\"408.538727\" xlink:href=\"#m93054c6030\" y=\"140.953873\"/>\r\n     <use style=\"fill:#1f77b4;stroke:#1f77b4;\" x=\"409.147455\" xlink:href=\"#m93054c6030\" y=\"159.262489\"/>\r\n     <use style=\"fill:#1f77b4;stroke:#1f77b4;\" x=\"409.756182\" xlink:href=\"#m93054c6030\" y=\"174.595655\"/>\r\n     <use style=\"fill:#1f77b4;stroke:#1f77b4;\" x=\"410.364909\" xlink:href=\"#m93054c6030\" y=\"179.014038\"/>\r\n     <use style=\"fill:#1f77b4;stroke:#1f77b4;\" x=\"410.973636\" xlink:href=\"#m93054c6030\" y=\"244.710376\"/>\r\n     <use style=\"fill:#1f77b4;stroke:#1f77b4;\" x=\"411.582364\" xlink:href=\"#m93054c6030\" y=\"162.495811\"/>\r\n     <use style=\"fill:#1f77b4;stroke:#1f77b4;\" x=\"412.191091\" xlink:href=\"#m93054c6030\" y=\"193.225492\"/>\r\n     <use style=\"fill:#1f77b4;stroke:#1f77b4;\" x=\"412.799818\" xlink:href=\"#m93054c6030\" y=\"187.481913\"/>\r\n     <use style=\"fill:#1f77b4;stroke:#1f77b4;\" x=\"413.408545\" xlink:href=\"#m93054c6030\" y=\"230.030529\"/>\r\n     <use style=\"fill:#1f77b4;stroke:#1f77b4;\" x=\"414.017273\" xlink:href=\"#m93054c6030\" y=\"203.065273\"/>\r\n     <use style=\"fill:#1f77b4;stroke:#1f77b4;\" x=\"414.626\" xlink:href=\"#m93054c6030\" y=\"127.619058\"/>\r\n     <use style=\"fill:#1f77b4;stroke:#1f77b4;\" x=\"415.234727\" xlink:href=\"#m93054c6030\" y=\"116.313307\"/>\r\n     <use style=\"fill:#1f77b4;stroke:#1f77b4;\" x=\"415.843455\" xlink:href=\"#m93054c6030\" y=\"180.136711\"/>\r\n     <use style=\"fill:#1f77b4;stroke:#1f77b4;\" x=\"416.452182\" xlink:href=\"#m93054c6030\" y=\"199.879622\"/>\r\n     <use style=\"fill:#1f77b4;stroke:#1f77b4;\" x=\"417.060909\" xlink:href=\"#m93054c6030\" y=\"202.880667\"/>\r\n     <use style=\"fill:#1f77b4;stroke:#1f77b4;\" x=\"417.669636\" xlink:href=\"#m93054c6030\" y=\"176.742138\"/>\r\n     <use style=\"fill:#1f77b4;stroke:#1f77b4;\" x=\"418.278364\" xlink:href=\"#m93054c6030\" y=\"161.74651\"/>\r\n     <use style=\"fill:#1f77b4;stroke:#1f77b4;\" x=\"418.887091\" xlink:href=\"#m93054c6030\" y=\"175.991237\"/>\r\n     <use style=\"fill:#1f77b4;stroke:#1f77b4;\" x=\"419.495818\" xlink:href=\"#m93054c6030\" y=\"169.787584\"/>\r\n     <use style=\"fill:#1f77b4;stroke:#1f77b4;\" x=\"420.104545\" xlink:href=\"#m93054c6030\" y=\"217.494286\"/>\r\n     <use style=\"fill:#1f77b4;stroke:#1f77b4;\" x=\"420.713273\" xlink:href=\"#m93054c6030\" y=\"223.647069\"/>\r\n     <use style=\"fill:#1f77b4;stroke:#1f77b4;\" x=\"421.322\" xlink:href=\"#m93054c6030\" y=\"194.736572\"/>\r\n     <use style=\"fill:#1f77b4;stroke:#1f77b4;\" x=\"421.930727\" xlink:href=\"#m93054c6030\" y=\"211.925075\"/>\r\n     <use style=\"fill:#1f77b4;stroke:#1f77b4;\" x=\"422.539455\" xlink:href=\"#m93054c6030\" y=\"165.85903\"/>\r\n     <use style=\"fill:#1f77b4;stroke:#1f77b4;\" x=\"423.148182\" xlink:href=\"#m93054c6030\" y=\"134.095941\"/>\r\n     <use style=\"fill:#1f77b4;stroke:#1f77b4;\" x=\"423.756909\" xlink:href=\"#m93054c6030\" y=\"158.844646\"/>\r\n     <use style=\"fill:#1f77b4;stroke:#1f77b4;\" x=\"424.365636\" xlink:href=\"#m93054c6030\" y=\"172.849418\"/>\r\n     <use style=\"fill:#1f77b4;stroke:#1f77b4;\" x=\"424.974364\" xlink:href=\"#m93054c6030\" y=\"211.069874\"/>\r\n     <use style=\"fill:#1f77b4;stroke:#1f77b4;\" x=\"425.583091\" xlink:href=\"#m93054c6030\" y=\"176.907548\"/>\r\n     <use style=\"fill:#1f77b4;stroke:#1f77b4;\" x=\"426.191818\" xlink:href=\"#m93054c6030\" y=\"231.783805\"/>\r\n     <use style=\"fill:#1f77b4;stroke:#1f77b4;\" x=\"426.800545\" xlink:href=\"#m93054c6030\" y=\"156.459167\"/>\r\n     <use style=\"fill:#1f77b4;stroke:#1f77b4;\" x=\"427.409273\" xlink:href=\"#m93054c6030\" y=\"206.819779\"/>\r\n     <use style=\"fill:#1f77b4;stroke:#1f77b4;\" x=\"428.018\" xlink:href=\"#m93054c6030\" y=\"125.462016\"/>\r\n     <use style=\"fill:#1f77b4;stroke:#1f77b4;\" x=\"428.626727\" xlink:href=\"#m93054c6030\" y=\"183.500249\"/>\r\n     <use style=\"fill:#1f77b4;stroke:#1f77b4;\" x=\"429.235455\" xlink:href=\"#m93054c6030\" y=\"180.998952\"/>\r\n     <use style=\"fill:#1f77b4;stroke:#1f77b4;\" x=\"429.844182\" xlink:href=\"#m93054c6030\" y=\"101.085402\"/>\r\n     <use style=\"fill:#1f77b4;stroke:#1f77b4;\" x=\"430.452909\" xlink:href=\"#m93054c6030\" y=\"200.272189\"/>\r\n     <use style=\"fill:#1f77b4;stroke:#1f77b4;\" x=\"431.061636\" xlink:href=\"#m93054c6030\" y=\"107.48038\"/>\r\n     <use style=\"fill:#1f77b4;stroke:#1f77b4;\" x=\"431.670364\" xlink:href=\"#m93054c6030\" y=\"173.977529\"/>\r\n     <use style=\"fill:#1f77b4;stroke:#1f77b4;\" x=\"432.279091\" xlink:href=\"#m93054c6030\" y=\"209.990073\"/>\r\n     <use style=\"fill:#1f77b4;stroke:#1f77b4;\" x=\"432.887818\" xlink:href=\"#m93054c6030\" y=\"181.705061\"/>\r\n     <use style=\"fill:#1f77b4;stroke:#1f77b4;\" x=\"433.496545\" xlink:href=\"#m93054c6030\" y=\"211.971787\"/>\r\n     <use style=\"fill:#1f77b4;stroke:#1f77b4;\" x=\"434.105273\" xlink:href=\"#m93054c6030\" y=\"206.451527\"/>\r\n     <use style=\"fill:#1f77b4;stroke:#1f77b4;\" x=\"434.714\" xlink:href=\"#m93054c6030\" y=\"123.329611\"/>\r\n     <use style=\"fill:#1f77b4;stroke:#1f77b4;\" x=\"435.322727\" xlink:href=\"#m93054c6030\" y=\"236.042538\"/>\r\n     <use style=\"fill:#1f77b4;stroke:#1f77b4;\" x=\"435.931455\" xlink:href=\"#m93054c6030\" y=\"41.666624\"/>\r\n     <use style=\"fill:#1f77b4;stroke:#1f77b4;\" x=\"436.540182\" xlink:href=\"#m93054c6030\" y=\"213.103738\"/>\r\n     <use style=\"fill:#1f77b4;stroke:#1f77b4;\" x=\"437.148909\" xlink:href=\"#m93054c6030\" y=\"206.066638\"/>\r\n     <use style=\"fill:#1f77b4;stroke:#1f77b4;\" x=\"437.757636\" xlink:href=\"#m93054c6030\" y=\"160.362766\"/>\r\n     <use style=\"fill:#1f77b4;stroke:#1f77b4;\" x=\"438.366364\" xlink:href=\"#m93054c6030\" y=\"143.290401\"/>\r\n     <use style=\"fill:#1f77b4;stroke:#1f77b4;\" x=\"438.975091\" xlink:href=\"#m93054c6030\" y=\"169.021645\"/>\r\n     <use style=\"fill:#1f77b4;stroke:#1f77b4;\" x=\"439.583818\" xlink:href=\"#m93054c6030\" y=\"254.213899\"/>\r\n     <use style=\"fill:#1f77b4;stroke:#1f77b4;\" x=\"440.192545\" xlink:href=\"#m93054c6030\" y=\"147.918026\"/>\r\n     <use style=\"fill:#1f77b4;stroke:#1f77b4;\" x=\"440.801273\" xlink:href=\"#m93054c6030\" y=\"118.212476\"/>\r\n     <use style=\"fill:#1f77b4;stroke:#1f77b4;\" x=\"441.41\" xlink:href=\"#m93054c6030\" y=\"236.400872\"/>\r\n     <use style=\"fill:#1f77b4;stroke:#1f77b4;\" x=\"442.018727\" xlink:href=\"#m93054c6030\" y=\"186.082172\"/>\r\n     <use style=\"fill:#1f77b4;stroke:#1f77b4;\" x=\"442.627455\" xlink:href=\"#m93054c6030\" y=\"145.585657\"/>\r\n     <use style=\"fill:#1f77b4;stroke:#1f77b4;\" x=\"443.236182\" xlink:href=\"#m93054c6030\" y=\"267.002895\"/>\r\n     <use style=\"fill:#1f77b4;stroke:#1f77b4;\" x=\"443.844909\" xlink:href=\"#m93054c6030\" y=\"274.903195\"/>\r\n     <use style=\"fill:#1f77b4;stroke:#1f77b4;\" x=\"444.453636\" xlink:href=\"#m93054c6030\" y=\"178.076932\"/>\r\n     <use style=\"fill:#1f77b4;stroke:#1f77b4;\" x=\"445.062364\" xlink:href=\"#m93054c6030\" y=\"55.508226\"/>\r\n     <use style=\"fill:#1f77b4;stroke:#1f77b4;\" x=\"445.671091\" xlink:href=\"#m93054c6030\" y=\"203.883042\"/>\r\n     <use style=\"fill:#1f77b4;stroke:#1f77b4;\" x=\"446.279818\" xlink:href=\"#m93054c6030\" y=\"212.44082\"/>\r\n     <use style=\"fill:#1f77b4;stroke:#1f77b4;\" x=\"446.888545\" xlink:href=\"#m93054c6030\" y=\"138.015216\"/>\r\n     <use style=\"fill:#1f77b4;stroke:#1f77b4;\" x=\"447.497273\" xlink:href=\"#m93054c6030\" y=\"206.54399\"/>\r\n     <use style=\"fill:#1f77b4;stroke:#1f77b4;\" x=\"448.106\" xlink:href=\"#m93054c6030\" y=\"126.537978\"/>\r\n     <use style=\"fill:#1f77b4;stroke:#1f77b4;\" x=\"448.714727\" xlink:href=\"#m93054c6030\" y=\"191.214343\"/>\r\n     <use style=\"fill:#1f77b4;stroke:#1f77b4;\" x=\"449.323455\" xlink:href=\"#m93054c6030\" y=\"89.013713\"/>\r\n     <use style=\"fill:#1f77b4;stroke:#1f77b4;\" x=\"449.932182\" xlink:href=\"#m93054c6030\" y=\"152.853754\"/>\r\n     <use style=\"fill:#1f77b4;stroke:#1f77b4;\" x=\"450.540909\" xlink:href=\"#m93054c6030\" y=\"174.124062\"/>\r\n     <use style=\"fill:#1f77b4;stroke:#1f77b4;\" x=\"451.149636\" xlink:href=\"#m93054c6030\" y=\"146.180747\"/>\r\n     <use style=\"fill:#1f77b4;stroke:#1f77b4;\" x=\"451.758364\" xlink:href=\"#m93054c6030\" y=\"160.467386\"/>\r\n     <use style=\"fill:#1f77b4;stroke:#1f77b4;\" x=\"452.367091\" xlink:href=\"#m93054c6030\" y=\"195.367176\"/>\r\n     <use style=\"fill:#1f77b4;stroke:#1f77b4;\" x=\"452.975818\" xlink:href=\"#m93054c6030\" y=\"191.584835\"/>\r\n     <use style=\"fill:#1f77b4;stroke:#1f77b4;\" x=\"453.584545\" xlink:href=\"#m93054c6030\" y=\"206.548789\"/>\r\n     <use style=\"fill:#1f77b4;stroke:#1f77b4;\" x=\"454.193273\" xlink:href=\"#m93054c6030\" y=\"74.677803\"/>\r\n     <use style=\"fill:#1f77b4;stroke:#1f77b4;\" x=\"454.802\" xlink:href=\"#m93054c6030\" y=\"233.063249\"/>\r\n     <use style=\"fill:#1f77b4;stroke:#1f77b4;\" x=\"455.410727\" xlink:href=\"#m93054c6030\" y=\"249.88414\"/>\r\n     <use style=\"fill:#1f77b4;stroke:#1f77b4;\" x=\"456.019455\" xlink:href=\"#m93054c6030\" y=\"82.421652\"/>\r\n     <use style=\"fill:#1f77b4;stroke:#1f77b4;\" x=\"456.628182\" xlink:href=\"#m93054c6030\" y=\"299.92801\"/>\r\n     <use style=\"fill:#1f77b4;stroke:#1f77b4;\" x=\"457.236909\" xlink:href=\"#m93054c6030\" y=\"182.813656\"/>\r\n     <use style=\"fill:#1f77b4;stroke:#1f77b4;\" x=\"457.845636\" xlink:href=\"#m93054c6030\" y=\"137.114903\"/>\r\n     <use style=\"fill:#1f77b4;stroke:#1f77b4;\" x=\"458.454364\" xlink:href=\"#m93054c6030\" y=\"204.048131\"/>\r\n     <use style=\"fill:#1f77b4;stroke:#1f77b4;\" x=\"459.063091\" xlink:href=\"#m93054c6030\" y=\"152.908783\"/>\r\n     <use style=\"fill:#1f77b4;stroke:#1f77b4;\" x=\"459.671818\" xlink:href=\"#m93054c6030\" y=\"182.132822\"/>\r\n     <use style=\"fill:#1f77b4;stroke:#1f77b4;\" x=\"460.280545\" xlink:href=\"#m93054c6030\" y=\"133.280091\"/>\r\n     <use style=\"fill:#1f77b4;stroke:#1f77b4;\" x=\"460.889273\" xlink:href=\"#m93054c6030\" y=\"123.575005\"/>\r\n     <use style=\"fill:#1f77b4;stroke:#1f77b4;\" x=\"461.498\" xlink:href=\"#m93054c6030\" y=\"143.995551\"/>\r\n     <use style=\"fill:#1f77b4;stroke:#1f77b4;\" x=\"462.106727\" xlink:href=\"#m93054c6030\" y=\"166.819812\"/>\r\n     <use style=\"fill:#1f77b4;stroke:#1f77b4;\" x=\"462.715455\" xlink:href=\"#m93054c6030\" y=\"184.341054\"/>\r\n     <use style=\"fill:#1f77b4;stroke:#1f77b4;\" x=\"463.324182\" xlink:href=\"#m93054c6030\" y=\"179.188086\"/>\r\n     <use style=\"fill:#1f77b4;stroke:#1f77b4;\" x=\"463.932909\" xlink:href=\"#m93054c6030\" y=\"189.025948\"/>\r\n     <use style=\"fill:#1f77b4;stroke:#1f77b4;\" x=\"464.541636\" xlink:href=\"#m93054c6030\" y=\"142.228517\"/>\r\n     <use style=\"fill:#1f77b4;stroke:#1f77b4;\" x=\"465.150364\" xlink:href=\"#m93054c6030\" y=\"108.67024\"/>\r\n     <use style=\"fill:#1f77b4;stroke:#1f77b4;\" x=\"465.759091\" xlink:href=\"#m93054c6030\" y=\"192.64224\"/>\r\n     <use style=\"fill:#1f77b4;stroke:#1f77b4;\" x=\"466.367818\" xlink:href=\"#m93054c6030\" y=\"199.762843\"/>\r\n     <use style=\"fill:#1f77b4;stroke:#1f77b4;\" x=\"466.976545\" xlink:href=\"#m93054c6030\" y=\"209.0888\"/>\r\n     <use style=\"fill:#1f77b4;stroke:#1f77b4;\" x=\"467.585273\" xlink:href=\"#m93054c6030\" y=\"179.066829\"/>\r\n     <use style=\"fill:#1f77b4;stroke:#1f77b4;\" x=\"468.194\" xlink:href=\"#m93054c6030\" y=\"188.250091\"/>\r\n     <use style=\"fill:#1f77b4;stroke:#1f77b4;\" x=\"468.802727\" xlink:href=\"#m93054c6030\" y=\"173.831956\"/>\r\n     <use style=\"fill:#1f77b4;stroke:#1f77b4;\" x=\"469.411455\" xlink:href=\"#m93054c6030\" y=\"185.400378\"/>\r\n     <use style=\"fill:#1f77b4;stroke:#1f77b4;\" x=\"470.020182\" xlink:href=\"#m93054c6030\" y=\"184.660035\"/>\r\n     <use style=\"fill:#1f77b4;stroke:#1f77b4;\" x=\"470.628909\" xlink:href=\"#m93054c6030\" y=\"203.797298\"/>\r\n     <use style=\"fill:#1f77b4;stroke:#1f77b4;\" x=\"471.237636\" xlink:href=\"#m93054c6030\" y=\"154.806033\"/>\r\n     <use style=\"fill:#1f77b4;stroke:#1f77b4;\" x=\"471.846364\" xlink:href=\"#m93054c6030\" y=\"190.999983\"/>\r\n     <use style=\"fill:#1f77b4;stroke:#1f77b4;\" x=\"472.455091\" xlink:href=\"#m93054c6030\" y=\"147.603844\"/>\r\n     <use style=\"fill:#1f77b4;stroke:#1f77b4;\" x=\"473.063818\" xlink:href=\"#m93054c6030\" y=\"240.541546\"/>\r\n     <use style=\"fill:#1f77b4;stroke:#1f77b4;\" x=\"473.672545\" xlink:href=\"#m93054c6030\" y=\"240.406211\"/>\r\n     <use style=\"fill:#1f77b4;stroke:#1f77b4;\" x=\"474.281273\" xlink:href=\"#m93054c6030\" y=\"102.467227\"/>\r\n     <use style=\"fill:#1f77b4;stroke:#1f77b4;\" x=\"474.89\" xlink:href=\"#m93054c6030\" y=\"146.431261\"/>\r\n     <use style=\"fill:#1f77b4;stroke:#1f77b4;\" x=\"475.498727\" xlink:href=\"#m93054c6030\" y=\"236.730091\"/>\r\n     <use style=\"fill:#1f77b4;stroke:#1f77b4;\" x=\"476.107455\" xlink:href=\"#m93054c6030\" y=\"166.897878\"/>\r\n     <use style=\"fill:#1f77b4;stroke:#1f77b4;\" x=\"476.716182\" xlink:href=\"#m93054c6030\" y=\"199.074971\"/>\r\n     <use style=\"fill:#1f77b4;stroke:#1f77b4;\" x=\"477.324909\" xlink:href=\"#m93054c6030\" y=\"172.198658\"/>\r\n     <use style=\"fill:#1f77b4;stroke:#1f77b4;\" x=\"477.933636\" xlink:href=\"#m93054c6030\" y=\"116.455681\"/>\r\n     <use style=\"fill:#1f77b4;stroke:#1f77b4;\" x=\"478.542364\" xlink:href=\"#m93054c6030\" y=\"202.049781\"/>\r\n     <use style=\"fill:#1f77b4;stroke:#1f77b4;\" x=\"479.151091\" xlink:href=\"#m93054c6030\" y=\"215.560883\"/>\r\n     <use style=\"fill:#1f77b4;stroke:#1f77b4;\" x=\"479.759818\" xlink:href=\"#m93054c6030\" y=\"193.053044\"/>\r\n     <use style=\"fill:#1f77b4;stroke:#1f77b4;\" x=\"480.368545\" xlink:href=\"#m93054c6030\" y=\"219.276037\"/>\r\n     <use style=\"fill:#1f77b4;stroke:#1f77b4;\" x=\"480.977273\" xlink:href=\"#m93054c6030\" y=\"222.201576\"/>\r\n     <use style=\"fill:#1f77b4;stroke:#1f77b4;\" x=\"481.586\" xlink:href=\"#m93054c6030\" y=\"155.46799\"/>\r\n     <use style=\"fill:#1f77b4;stroke:#1f77b4;\" x=\"482.194727\" xlink:href=\"#m93054c6030\" y=\"32.570066\"/>\r\n     <use style=\"fill:#1f77b4;stroke:#1f77b4;\" x=\"482.803455\" xlink:href=\"#m93054c6030\" y=\"167.436338\"/>\r\n     <use style=\"fill:#1f77b4;stroke:#1f77b4;\" x=\"483.412182\" xlink:href=\"#m93054c6030\" y=\"193.711162\"/>\r\n     <use style=\"fill:#1f77b4;stroke:#1f77b4;\" x=\"484.020909\" xlink:href=\"#m93054c6030\" y=\"208.157772\"/>\r\n     <use style=\"fill:#1f77b4;stroke:#1f77b4;\" x=\"484.629636\" xlink:href=\"#m93054c6030\" y=\"188.981156\"/>\r\n     <use style=\"fill:#1f77b4;stroke:#1f77b4;\" x=\"485.238364\" xlink:href=\"#m93054c6030\" y=\"139.114213\"/>\r\n     <use style=\"fill:#1f77b4;stroke:#1f77b4;\" x=\"485.847091\" xlink:href=\"#m93054c6030\" y=\"279.648238\"/>\r\n     <use style=\"fill:#1f77b4;stroke:#1f77b4;\" x=\"486.455818\" xlink:href=\"#m93054c6030\" y=\"150.193765\"/>\r\n     <use style=\"fill:#1f77b4;stroke:#1f77b4;\" x=\"487.064545\" xlink:href=\"#m93054c6030\" y=\"166.396211\"/>\r\n     <use style=\"fill:#1f77b4;stroke:#1f77b4;\" x=\"487.673273\" xlink:href=\"#m93054c6030\" y=\"228.910416\"/>\r\n     <use style=\"fill:#1f77b4;stroke:#1f77b4;\" x=\"488.282\" xlink:href=\"#m93054c6030\" y=\"165.377199\"/>\r\n     <use style=\"fill:#1f77b4;stroke:#1f77b4;\" x=\"488.890727\" xlink:href=\"#m93054c6030\" y=\"128.211268\"/>\r\n     <use style=\"fill:#1f77b4;stroke:#1f77b4;\" x=\"489.499455\" xlink:href=\"#m93054c6030\" y=\"139.181081\"/>\r\n     <use style=\"fill:#1f77b4;stroke:#1f77b4;\" x=\"490.108182\" xlink:href=\"#m93054c6030\" y=\"83.687658\"/>\r\n     <use style=\"fill:#1f77b4;stroke:#1f77b4;\" x=\"490.716909\" xlink:href=\"#m93054c6030\" y=\"160.997208\"/>\r\n     <use style=\"fill:#1f77b4;stroke:#1f77b4;\" x=\"491.325636\" xlink:href=\"#m93054c6030\" y=\"142.136375\"/>\r\n     <use style=\"fill:#1f77b4;stroke:#1f77b4;\" x=\"491.934364\" xlink:href=\"#m93054c6030\" y=\"160.292379\"/>\r\n     <use style=\"fill:#1f77b4;stroke:#1f77b4;\" x=\"492.543091\" xlink:href=\"#m93054c6030\" y=\"189.333731\"/>\r\n     <use style=\"fill:#1f77b4;stroke:#1f77b4;\" x=\"493.151818\" xlink:href=\"#m93054c6030\" y=\"124.299351\"/>\r\n     <use style=\"fill:#1f77b4;stroke:#1f77b4;\" x=\"493.760545\" xlink:href=\"#m93054c6030\" y=\"217.03869\"/>\r\n     <use style=\"fill:#1f77b4;stroke:#1f77b4;\" x=\"494.369273\" xlink:href=\"#m93054c6030\" y=\"205.366288\"/>\r\n     <use style=\"fill:#1f77b4;stroke:#1f77b4;\" x=\"494.978\" xlink:href=\"#m93054c6030\" y=\"153.442765\"/>\r\n     <use style=\"fill:#1f77b4;stroke:#1f77b4;\" x=\"495.586727\" xlink:href=\"#m93054c6030\" y=\"147.689908\"/>\r\n     <use style=\"fill:#1f77b4;stroke:#1f77b4;\" x=\"496.195455\" xlink:href=\"#m93054c6030\" y=\"95.724153\"/>\r\n     <use style=\"fill:#1f77b4;stroke:#1f77b4;\" x=\"496.804182\" xlink:href=\"#m93054c6030\" y=\"187.430083\"/>\r\n     <use style=\"fill:#1f77b4;stroke:#1f77b4;\" x=\"497.412909\" xlink:href=\"#m93054c6030\" y=\"249.741766\"/>\r\n     <use style=\"fill:#1f77b4;stroke:#1f77b4;\" x=\"498.021636\" xlink:href=\"#m93054c6030\" y=\"159.862698\"/>\r\n     <use style=\"fill:#1f77b4;stroke:#1f77b4;\" x=\"498.630364\" xlink:href=\"#m93054c6030\" y=\"211.910038\"/>\r\n     <use style=\"fill:#1f77b4;stroke:#1f77b4;\" x=\"499.239091\" xlink:href=\"#m93054c6030\" y=\"206.907763\"/>\r\n     <use style=\"fill:#1f77b4;stroke:#1f77b4;\" x=\"499.847818\" xlink:href=\"#m93054c6030\" y=\"150.299666\"/>\r\n     <use style=\"fill:#1f77b4;stroke:#1f77b4;\" x=\"500.456545\" xlink:href=\"#m93054c6030\" y=\"163.452755\"/>\r\n     <use style=\"fill:#1f77b4;stroke:#1f77b4;\" x=\"501.065273\" xlink:href=\"#m93054c6030\" y=\"191.083168\"/>\r\n     <use style=\"fill:#1f77b4;stroke:#1f77b4;\" x=\"501.674\" xlink:href=\"#m93054c6030\" y=\"201.299839\"/>\r\n     <use style=\"fill:#1f77b4;stroke:#1f77b4;\" x=\"502.282727\" xlink:href=\"#m93054c6030\" y=\"250.929066\"/>\r\n     <use style=\"fill:#1f77b4;stroke:#1f77b4;\" x=\"502.891455\" xlink:href=\"#m93054c6030\" y=\"155.545416\"/>\r\n     <use style=\"fill:#1f77b4;stroke:#1f77b4;\" x=\"503.500182\" xlink:href=\"#m93054c6030\" y=\"170.074571\"/>\r\n     <use style=\"fill:#1f77b4;stroke:#1f77b4;\" x=\"504.108909\" xlink:href=\"#m93054c6030\" y=\"153.662244\"/>\r\n     <use style=\"fill:#1f77b4;stroke:#1f77b4;\" x=\"504.717636\" xlink:href=\"#m93054c6030\" y=\"186.119285\"/>\r\n     <use style=\"fill:#1f77b4;stroke:#1f77b4;\" x=\"505.326364\" xlink:href=\"#m93054c6030\" y=\"184.95822\"/>\r\n     <use style=\"fill:#1f77b4;stroke:#1f77b4;\" x=\"505.935091\" xlink:href=\"#m93054c6030\" y=\"258.719946\"/>\r\n     <use style=\"fill:#1f77b4;stroke:#1f77b4;\" x=\"506.543818\" xlink:href=\"#m93054c6030\" y=\"239.803443\"/>\r\n     <use style=\"fill:#1f77b4;stroke:#1f77b4;\" x=\"507.152545\" xlink:href=\"#m93054c6030\" y=\"232.73083\"/>\r\n     <use style=\"fill:#1f77b4;stroke:#1f77b4;\" x=\"507.761273\" xlink:href=\"#m93054c6030\" y=\"214.545711\"/>\r\n     <use style=\"fill:#1f77b4;stroke:#1f77b4;\" x=\"508.37\" xlink:href=\"#m93054c6030\" y=\"141.909856\"/>\r\n     <use style=\"fill:#1f77b4;stroke:#1f77b4;\" x=\"508.978727\" xlink:href=\"#m93054c6030\" y=\"182.568261\"/>\r\n     <use style=\"fill:#1f77b4;stroke:#1f77b4;\" x=\"509.587455\" xlink:href=\"#m93054c6030\" y=\"143.184181\"/>\r\n     <use style=\"fill:#1f77b4;stroke:#1f77b4;\" x=\"510.196182\" xlink:href=\"#m93054c6030\" y=\"207.19123\"/>\r\n     <use style=\"fill:#1f77b4;stroke:#1f77b4;\" x=\"510.804909\" xlink:href=\"#m93054c6030\" y=\"143.020691\"/>\r\n     <use style=\"fill:#1f77b4;stroke:#1f77b4;\" x=\"511.413636\" xlink:href=\"#m93054c6030\" y=\"205.971616\"/>\r\n     <use style=\"fill:#1f77b4;stroke:#1f77b4;\" x=\"512.022364\" xlink:href=\"#m93054c6030\" y=\"215.208949\"/>\r\n     <use style=\"fill:#1f77b4;stroke:#1f77b4;\" x=\"512.631091\" xlink:href=\"#m93054c6030\" y=\"246.85366\"/>\r\n     <use style=\"fill:#1f77b4;stroke:#1f77b4;\" x=\"513.239818\" xlink:href=\"#m93054c6030\" y=\"209.172304\"/>\r\n     <use style=\"fill:#1f77b4;stroke:#1f77b4;\" x=\"513.848545\" xlink:href=\"#m93054c6030\" y=\"193.815143\"/>\r\n     <use style=\"fill:#1f77b4;stroke:#1f77b4;\" x=\"514.457273\" xlink:href=\"#m93054c6030\" y=\"212.966483\"/>\r\n     <use style=\"fill:#1f77b4;stroke:#1f77b4;\" x=\"515.066\" xlink:href=\"#m93054c6030\" y=\"245.945348\"/>\r\n     <use style=\"fill:#1f77b4;stroke:#1f77b4;\" x=\"515.674727\" xlink:href=\"#m93054c6030\" y=\"223.394956\"/>\r\n     <use style=\"fill:#1f77b4;stroke:#1f77b4;\" x=\"516.283455\" xlink:href=\"#m93054c6030\" y=\"185.944917\"/>\r\n     <use style=\"fill:#1f77b4;stroke:#1f77b4;\" x=\"516.892182\" xlink:href=\"#m93054c6030\" y=\"164.83106\"/>\r\n     <use style=\"fill:#1f77b4;stroke:#1f77b4;\" x=\"517.500909\" xlink:href=\"#m93054c6030\" y=\"101.999473\"/>\r\n     <use style=\"fill:#1f77b4;stroke:#1f77b4;\" x=\"518.109636\" xlink:href=\"#m93054c6030\" y=\"160.422595\"/>\r\n     <use style=\"fill:#1f77b4;stroke:#1f77b4;\" x=\"518.718364\" xlink:href=\"#m93054c6030\" y=\"206.606698\"/>\r\n     <use style=\"fill:#1f77b4;stroke:#1f77b4;\" x=\"519.327091\" xlink:href=\"#m93054c6030\" y=\"134.569133\"/>\r\n     <use style=\"fill:#1f77b4;stroke:#1f77b4;\" x=\"519.935818\" xlink:href=\"#m93054c6030\" y=\"200.16021\"/>\r\n     <use style=\"fill:#1f77b4;stroke:#1f77b4;\" x=\"520.544545\" xlink:href=\"#m93054c6030\" y=\"215.486977\"/>\r\n     <use style=\"fill:#1f77b4;stroke:#1f77b4;\" x=\"521.153273\" xlink:href=\"#m93054c6030\" y=\"133.403909\"/>\r\n     <use style=\"fill:#1f77b4;stroke:#1f77b4;\" x=\"521.762\" xlink:href=\"#m93054c6030\" y=\"234.093778\"/>\r\n     <use style=\"fill:#1f77b4;stroke:#1f77b4;\" x=\"522.370727\" xlink:href=\"#m93054c6030\" y=\"150.347977\"/>\r\n     <use style=\"fill:#1f77b4;stroke:#1f77b4;\" x=\"522.979455\" xlink:href=\"#m93054c6030\" y=\"207.104207\"/>\r\n     <use style=\"fill:#1f77b4;stroke:#1f77b4;\" x=\"523.588182\" xlink:href=\"#m93054c6030\" y=\"208.010599\"/>\r\n     <use style=\"fill:#1f77b4;stroke:#1f77b4;\" x=\"524.196909\" xlink:href=\"#m93054c6030\" y=\"166.40101\"/>\r\n     <use style=\"fill:#1f77b4;stroke:#1f77b4;\" x=\"524.805636\" xlink:href=\"#m93054c6030\" y=\"187.93463\"/>\r\n     <use style=\"fill:#1f77b4;stroke:#1f77b4;\" x=\"525.414364\" xlink:href=\"#m93054c6030\" y=\"261.454801\"/>\r\n     <use style=\"fill:#1f77b4;stroke:#1f77b4;\" x=\"526.023091\" xlink:href=\"#m93054c6030\" y=\"181.286578\"/>\r\n     <use style=\"fill:#1f77b4;stroke:#1f77b4;\" x=\"526.631818\" xlink:href=\"#m93054c6030\" y=\"246.631621\"/>\r\n     <use style=\"fill:#1f77b4;stroke:#1f77b4;\" x=\"527.240545\" xlink:href=\"#m93054c6030\" y=\"199.715812\"/>\r\n     <use style=\"fill:#1f77b4;stroke:#1f77b4;\" x=\"527.849273\" xlink:href=\"#m93054c6030\" y=\"213.536298\"/>\r\n     <use style=\"fill:#1f77b4;stroke:#1f77b4;\" x=\"528.458\" xlink:href=\"#m93054c6030\" y=\"131.625037\"/>\r\n     <use style=\"fill:#1f77b4;stroke:#1f77b4;\" x=\"529.066727\" xlink:href=\"#m93054c6030\" y=\"166.919314\"/>\r\n     <use style=\"fill:#1f77b4;stroke:#1f77b4;\" x=\"529.675455\" xlink:href=\"#m93054c6030\" y=\"223.321689\"/>\r\n     <use style=\"fill:#1f77b4;stroke:#1f77b4;\" x=\"530.284182\" xlink:href=\"#m93054c6030\" y=\"169.351504\"/>\r\n     <use style=\"fill:#1f77b4;stroke:#1f77b4;\" x=\"530.892909\" xlink:href=\"#m93054c6030\" y=\"194.869348\"/>\r\n     <use style=\"fill:#1f77b4;stroke:#1f77b4;\" x=\"531.501636\" xlink:href=\"#m93054c6030\" y=\"152.740175\"/>\r\n     <use style=\"fill:#1f77b4;stroke:#1f77b4;\" x=\"532.110364\" xlink:href=\"#m93054c6030\" y=\"194.598038\"/>\r\n     <use style=\"fill:#1f77b4;stroke:#1f77b4;\" x=\"532.719091\" xlink:href=\"#m93054c6030\" y=\"175.233617\"/>\r\n     <use style=\"fill:#1f77b4;stroke:#1f77b4;\" x=\"533.327818\" xlink:href=\"#m93054c6030\" y=\"172.958838\"/>\r\n     <use style=\"fill:#1f77b4;stroke:#1f77b4;\" x=\"533.936545\" xlink:href=\"#m93054c6030\" y=\"184.664514\"/>\r\n     <use style=\"fill:#1f77b4;stroke:#1f77b4;\" x=\"534.545273\" xlink:href=\"#m93054c6030\" y=\"115.545769\"/>\r\n     <use style=\"fill:#1f77b4;stroke:#1f77b4;\" x=\"535.154\" xlink:href=\"#m93054c6030\" y=\"34.016518\"/>\r\n     <use style=\"fill:#1f77b4;stroke:#1f77b4;\" x=\"535.762727\" xlink:href=\"#m93054c6030\" y=\"284.042306\"/>\r\n     <use style=\"fill:#1f77b4;stroke:#1f77b4;\" x=\"536.371455\" xlink:href=\"#m93054c6030\" y=\"187.178289\"/>\r\n     <use style=\"fill:#1f77b4;stroke:#1f77b4;\" x=\"536.980182\" xlink:href=\"#m93054c6030\" y=\"148.781546\"/>\r\n     <use style=\"fill:#1f77b4;stroke:#1f77b4;\" x=\"537.588909\" xlink:href=\"#m93054c6030\" y=\"173.817559\"/>\r\n     <use style=\"fill:#1f77b4;stroke:#1f77b4;\" x=\"538.197636\" xlink:href=\"#m93054c6030\" y=\"154.461456\"/>\r\n     <use style=\"fill:#1f77b4;stroke:#1f77b4;\" x=\"538.806364\" xlink:href=\"#m93054c6030\" y=\"147.607683\"/>\r\n     <use style=\"fill:#1f77b4;stroke:#1f77b4;\" x=\"539.415091\" xlink:href=\"#m93054c6030\" y=\"184.250511\"/>\r\n     <use style=\"fill:#1f77b4;stroke:#1f77b4;\" x=\"540.023818\" xlink:href=\"#m93054c6030\" y=\"145.614772\"/>\r\n     <use style=\"fill:#1f77b4;stroke:#1f77b4;\" x=\"540.632545\" xlink:href=\"#m93054c6030\" y=\"110.595644\"/>\r\n     <use style=\"fill:#1f77b4;stroke:#1f77b4;\" x=\"541.241273\" xlink:href=\"#m93054c6030\" y=\"175.082925\"/>\r\n     <use style=\"fill:#1f77b4;stroke:#1f77b4;\" x=\"541.85\" xlink:href=\"#m93054c6030\" y=\"157.875225\"/>\r\n     <use style=\"fill:#1f77b4;stroke:#1f77b4;\" x=\"542.458727\" xlink:href=\"#m93054c6030\" y=\"131.785328\"/>\r\n     <use style=\"fill:#1f77b4;stroke:#1f77b4;\" x=\"543.067455\" xlink:href=\"#m93054c6030\" y=\"230.210656\"/>\r\n     <use style=\"fill:#1f77b4;stroke:#1f77b4;\" x=\"543.676182\" xlink:href=\"#m93054c6030\" y=\"152.526134\"/>\r\n     <use style=\"fill:#1f77b4;stroke:#1f77b4;\" x=\"544.284909\" xlink:href=\"#m93054c6030\" y=\"195.586335\"/>\r\n     <use style=\"fill:#1f77b4;stroke:#1f77b4;\" x=\"544.893636\" xlink:href=\"#m93054c6030\" y=\"138.924168\"/>\r\n     <use style=\"fill:#1f77b4;stroke:#1f77b4;\" x=\"545.502364\" xlink:href=\"#m93054c6030\" y=\"109.016416\"/>\r\n     <use style=\"fill:#1f77b4;stroke:#1f77b4;\" x=\"546.111091\" xlink:href=\"#m93054c6030\" y=\"131.083057\"/>\r\n     <use style=\"fill:#1f77b4;stroke:#1f77b4;\" x=\"546.719818\" xlink:href=\"#m93054c6030\" y=\"156.670968\"/>\r\n     <use style=\"fill:#1f77b4;stroke:#1f77b4;\" x=\"547.328545\" xlink:href=\"#m93054c6030\" y=\"168.090297\"/>\r\n     <use style=\"fill:#1f77b4;stroke:#1f77b4;\" x=\"547.937273\" xlink:href=\"#m93054c6030\" y=\"168.735938\"/>\r\n     <use style=\"fill:#1f77b4;stroke:#1f77b4;\" x=\"548.546\" xlink:href=\"#m93054c6030\" y=\"161.812098\"/>\r\n     <use style=\"fill:#1f77b4;stroke:#1f77b4;\" x=\"549.154727\" xlink:href=\"#m93054c6030\" y=\"156.838937\"/>\r\n     <use style=\"fill:#1f77b4;stroke:#1f77b4;\" x=\"549.763455\" xlink:href=\"#m93054c6030\" y=\"69.505319\"/>\r\n     <use style=\"fill:#1f77b4;stroke:#1f77b4;\" x=\"550.372182\" xlink:href=\"#m93054c6030\" y=\"148.107751\"/>\r\n     <use style=\"fill:#1f77b4;stroke:#1f77b4;\" x=\"550.980909\" xlink:href=\"#m93054c6030\" y=\"170.282532\"/>\r\n     <use style=\"fill:#1f77b4;stroke:#1f77b4;\" x=\"551.589636\" xlink:href=\"#m93054c6030\" y=\"158.113581\"/>\r\n     <use style=\"fill:#1f77b4;stroke:#1f77b4;\" x=\"552.198364\" xlink:href=\"#m93054c6030\" y=\"211.156897\"/>\r\n     <use style=\"fill:#1f77b4;stroke:#1f77b4;\" x=\"552.807091\" xlink:href=\"#m93054c6030\" y=\"187.616928\"/>\r\n     <use style=\"fill:#1f77b4;stroke:#1f77b4;\" x=\"553.415818\" xlink:href=\"#m93054c6030\" y=\"140.26728\"/>\r\n     <use style=\"fill:#1f77b4;stroke:#1f77b4;\" x=\"554.024545\" xlink:href=\"#m93054c6030\" y=\"237.484831\"/>\r\n     <use style=\"fill:#1f77b4;stroke:#1f77b4;\" x=\"554.633273\" xlink:href=\"#m93054c6030\" y=\"244.568002\"/>\r\n     <use style=\"fill:#1f77b4;stroke:#1f77b4;\" x=\"555.242\" xlink:href=\"#m93054c6030\" y=\"195.039876\"/>\r\n     <use style=\"fill:#1f77b4;stroke:#1f77b4;\" x=\"555.850727\" xlink:href=\"#m93054c6030\" y=\"198.423251\"/>\r\n     <use style=\"fill:#1f77b4;stroke:#1f77b4;\" x=\"556.459455\" xlink:href=\"#m93054c6030\" y=\"197.56293\"/>\r\n     <use style=\"fill:#1f77b4;stroke:#1f77b4;\" x=\"557.068182\" xlink:href=\"#m93054c6030\" y=\"289.345006\"/>\r\n     <use style=\"fill:#1f77b4;stroke:#1f77b4;\" x=\"557.676909\" xlink:href=\"#m93054c6030\" y=\"195.354058\"/>\r\n     <use style=\"fill:#1f77b4;stroke:#1f77b4;\" x=\"558.285636\" xlink:href=\"#m93054c6030\" y=\"208.741024\"/>\r\n     <use style=\"fill:#1f77b4;stroke:#1f77b4;\" x=\"558.894364\" xlink:href=\"#m93054c6030\" y=\"139.955658\"/>\r\n     <use style=\"fill:#1f77b4;stroke:#1f77b4;\" x=\"559.503091\" xlink:href=\"#m93054c6030\" y=\"131.524256\"/>\r\n     <use style=\"fill:#1f77b4;stroke:#1f77b4;\" x=\"560.111818\" xlink:href=\"#m93054c6030\" y=\"130.58171\"/>\r\n     <use style=\"fill:#1f77b4;stroke:#1f77b4;\" x=\"560.720545\" xlink:href=\"#m93054c6030\" y=\"64.114635\"/>\r\n     <use style=\"fill:#1f77b4;stroke:#1f77b4;\" x=\"561.329273\" xlink:href=\"#m93054c6030\" y=\"107.844793\"/>\r\n     <use style=\"fill:#1f77b4;stroke:#1f77b4;\" x=\"561.938\" xlink:href=\"#m93054c6030\" y=\"201.958918\"/>\r\n     <use style=\"fill:#1f77b4;stroke:#1f77b4;\" x=\"562.546727\" xlink:href=\"#m93054c6030\" y=\"217.185863\"/>\r\n     <use style=\"fill:#1f77b4;stroke:#1f77b4;\" x=\"563.155455\" xlink:href=\"#m93054c6030\" y=\"172.110034\"/>\r\n     <use style=\"fill:#1f77b4;stroke:#1f77b4;\" x=\"563.764182\" xlink:href=\"#m93054c6030\" y=\"179.148094\"/>\r\n     <use style=\"fill:#1f77b4;stroke:#1f77b4;\" x=\"564.372909\" xlink:href=\"#m93054c6030\" y=\"144.230068\"/>\r\n     <use style=\"fill:#1f77b4;stroke:#1f77b4;\" x=\"564.981636\" xlink:href=\"#m93054c6030\" y=\"181.163721\"/>\r\n     <use style=\"fill:#1f77b4;stroke:#1f77b4;\" x=\"565.590364\" xlink:href=\"#m93054c6030\" y=\"89.804287\"/>\r\n     <use style=\"fill:#1f77b4;stroke:#1f77b4;\" x=\"566.199091\" xlink:href=\"#m93054c6030\" y=\"262.901893\"/>\r\n     <use style=\"fill:#1f77b4;stroke:#1f77b4;\" x=\"566.807818\" xlink:href=\"#m93054c6030\" y=\"122.68109\"/>\r\n     <use style=\"fill:#1f77b4;stroke:#1f77b4;\" x=\"567.416545\" xlink:href=\"#m93054c6030\" y=\"255.337212\"/>\r\n     <use style=\"fill:#1f77b4;stroke:#1f77b4;\" x=\"568.025273\" xlink:href=\"#m93054c6030\" y=\"99.137282\"/>\r\n     <use style=\"fill:#1f77b4;stroke:#1f77b4;\" x=\"568.634\" xlink:href=\"#m93054c6030\" y=\"124.958749\"/>\r\n     <use style=\"fill:#1f77b4;stroke:#1f77b4;\" x=\"569.242727\" xlink:href=\"#m93054c6030\" y=\"272.3875\"/>\r\n     <use style=\"fill:#1f77b4;stroke:#1f77b4;\" x=\"569.851455\" xlink:href=\"#m93054c6030\" y=\"165.75121\"/>\r\n     <use style=\"fill:#1f77b4;stroke:#1f77b4;\" x=\"570.460182\" xlink:href=\"#m93054c6030\" y=\"168.774011\"/>\r\n     <use style=\"fill:#1f77b4;stroke:#1f77b4;\" x=\"571.068909\" xlink:href=\"#m93054c6030\" y=\"228.126881\"/>\r\n     <use style=\"fill:#1f77b4;stroke:#1f77b4;\" x=\"571.677636\" xlink:href=\"#m93054c6030\" y=\"205.345172\"/>\r\n     <use style=\"fill:#1f77b4;stroke:#1f77b4;\" x=\"572.286364\" xlink:href=\"#m93054c6030\" y=\"229.329859\"/>\r\n     <use style=\"fill:#1f77b4;stroke:#1f77b4;\" x=\"572.895091\" xlink:href=\"#m93054c6030\" y=\"228.124961\"/>\r\n     <use style=\"fill:#1f77b4;stroke:#1f77b4;\" x=\"573.503818\" xlink:href=\"#m93054c6030\" y=\"179.6568\"/>\r\n     <use style=\"fill:#1f77b4;stroke:#1f77b4;\" x=\"574.112545\" xlink:href=\"#m93054c6030\" y=\"103.788582\"/>\r\n     <use style=\"fill:#1f77b4;stroke:#1f77b4;\" x=\"574.721273\" xlink:href=\"#m93054c6030\" y=\"158.796335\"/>\r\n     <use style=\"fill:#1f77b4;stroke:#1f77b4;\" x=\"575.33\" xlink:href=\"#m93054c6030\" y=\"128.548166\"/>\r\n     <use style=\"fill:#1f77b4;stroke:#1f77b4;\" x=\"575.938727\" xlink:href=\"#m93054c6030\" y=\"131.148005\"/>\r\n     <use style=\"fill:#1f77b4;stroke:#1f77b4;\" x=\"576.547455\" xlink:href=\"#m93054c6030\" y=\"204.882857\"/>\r\n     <use style=\"fill:#1f77b4;stroke:#1f77b4;\" x=\"577.156182\" xlink:href=\"#m93054c6030\" y=\"126.908149\"/>\r\n     <use style=\"fill:#1f77b4;stroke:#1f77b4;\" x=\"577.764909\" xlink:href=\"#m93054c6030\" y=\"147.918666\"/>\r\n     <use style=\"fill:#1f77b4;stroke:#1f77b4;\" x=\"578.373636\" xlink:href=\"#m93054c6030\" y=\"167.060408\"/>\r\n     <use style=\"fill:#1f77b4;stroke:#1f77b4;\" x=\"578.982364\" xlink:href=\"#m93054c6030\" y=\"173.555207\"/>\r\n     <use style=\"fill:#1f77b4;stroke:#1f77b4;\" x=\"579.591091\" xlink:href=\"#m93054c6030\" y=\"186.989524\"/>\r\n     <use style=\"fill:#1f77b4;stroke:#1f77b4;\" x=\"580.199818\" xlink:href=\"#m93054c6030\" y=\"168.041027\"/>\r\n     <use style=\"fill:#1f77b4;stroke:#1f77b4;\" x=\"580.808545\" xlink:href=\"#m93054c6030\" y=\"166.087468\"/>\r\n     <use style=\"fill:#1f77b4;stroke:#1f77b4;\" x=\"581.417273\" xlink:href=\"#m93054c6030\" y=\"86.969611\"/>\r\n     <use style=\"fill:#1f77b4;stroke:#1f77b4;\" x=\"582.026\" xlink:href=\"#m93054c6030\" y=\"164.2878\"/>\r\n     <use style=\"fill:#1f77b4;stroke:#1f77b4;\" x=\"582.634727\" xlink:href=\"#m93054c6030\" y=\"103.373619\"/>\r\n     <use style=\"fill:#1f77b4;stroke:#1f77b4;\" x=\"583.243455\" xlink:href=\"#m93054c6030\" y=\"263.890831\"/>\r\n     <use style=\"fill:#1f77b4;stroke:#1f77b4;\" x=\"583.852182\" xlink:href=\"#m93054c6030\" y=\"204.034694\"/>\r\n     <use style=\"fill:#1f77b4;stroke:#1f77b4;\" x=\"584.460909\" xlink:href=\"#m93054c6030\" y=\"178.936293\"/>\r\n     <use style=\"fill:#1f77b4;stroke:#1f77b4;\" x=\"585.069636\" xlink:href=\"#m93054c6030\" y=\"235.443289\"/>\r\n     <use style=\"fill:#1f77b4;stroke:#1f77b4;\" x=\"585.678364\" xlink:href=\"#m93054c6030\" y=\"136.361442\"/>\r\n     <use style=\"fill:#1f77b4;stroke:#1f77b4;\" x=\"586.287091\" xlink:href=\"#m93054c6030\" y=\"191.662581\"/>\r\n     <use style=\"fill:#1f77b4;stroke:#1f77b4;\" x=\"586.895818\" xlink:href=\"#m93054c6030\" y=\"169.220009\"/>\r\n     <use style=\"fill:#1f77b4;stroke:#1f77b4;\" x=\"587.504545\" xlink:href=\"#m93054c6030\" y=\"203.387773\"/>\r\n     <use style=\"fill:#1f77b4;stroke:#1f77b4;\" x=\"588.113273\" xlink:href=\"#m93054c6030\" y=\"130.326717\"/>\r\n     <use style=\"fill:#1f77b4;stroke:#1f77b4;\" x=\"588.722\" xlink:href=\"#m93054c6030\" y=\"246.436137\"/>\r\n     <use style=\"fill:#1f77b4;stroke:#1f77b4;\" x=\"589.330727\" xlink:href=\"#m93054c6030\" y=\"189.926901\"/>\r\n     <use style=\"fill:#1f77b4;stroke:#1f77b4;\" x=\"589.939455\" xlink:href=\"#m93054c6030\" y=\"214.309915\"/>\r\n     <use style=\"fill:#1f77b4;stroke:#1f77b4;\" x=\"590.548182\" xlink:href=\"#m93054c6030\" y=\"153.595377\"/>\r\n     <use style=\"fill:#1f77b4;stroke:#1f77b4;\" x=\"591.156909\" xlink:href=\"#m93054c6030\" y=\"140.004928\"/>\r\n     <use style=\"fill:#1f77b4;stroke:#1f77b4;\" x=\"591.765636\" xlink:href=\"#m93054c6030\" y=\"224.249198\"/>\r\n     <use style=\"fill:#1f77b4;stroke:#1f77b4;\" x=\"592.374364\" xlink:href=\"#m93054c6030\" y=\"171.252273\"/>\r\n     <use style=\"fill:#1f77b4;stroke:#1f77b4;\" x=\"592.983091\" xlink:href=\"#m93054c6030\" y=\"179.046033\"/>\r\n     <use style=\"fill:#1f77b4;stroke:#1f77b4;\" x=\"593.591818\" xlink:href=\"#m93054c6030\" y=\"107.915819\"/>\r\n     <use style=\"fill:#1f77b4;stroke:#1f77b4;\" x=\"594.200545\" xlink:href=\"#m93054c6030\" y=\"182.387495\"/>\r\n     <use style=\"fill:#1f77b4;stroke:#1f77b4;\" x=\"594.809273\" xlink:href=\"#m93054c6030\" y=\"206.519355\"/>\r\n     <use style=\"fill:#1f77b4;stroke:#1f77b4;\" x=\"595.418\" xlink:href=\"#m93054c6030\" y=\"212.445939\"/>\r\n     <use style=\"fill:#1f77b4;stroke:#1f77b4;\" x=\"596.026727\" xlink:href=\"#m93054c6030\" y=\"123.055421\"/>\r\n     <use style=\"fill:#1f77b4;stroke:#1f77b4;\" x=\"596.635455\" xlink:href=\"#m93054c6030\" y=\"197.870393\"/>\r\n     <use style=\"fill:#1f77b4;stroke:#1f77b4;\" x=\"597.244182\" xlink:href=\"#m93054c6030\" y=\"195.104824\"/>\r\n     <use style=\"fill:#1f77b4;stroke:#1f77b4;\" x=\"597.852909\" xlink:href=\"#m93054c6030\" y=\"246.631941\"/>\r\n     <use style=\"fill:#1f77b4;stroke:#1f77b4;\" x=\"598.461636\" xlink:href=\"#m93054c6030\" y=\"100.060631\"/>\r\n     <use style=\"fill:#1f77b4;stroke:#1f77b4;\" x=\"599.070364\" xlink:href=\"#m93054c6030\" y=\"115.59472\"/>\r\n     <use style=\"fill:#1f77b4;stroke:#1f77b4;\" x=\"599.679091\" xlink:href=\"#m93054c6030\" y=\"276.220712\"/>\r\n     <use style=\"fill:#1f77b4;stroke:#1f77b4;\" x=\"600.287818\" xlink:href=\"#m93054c6030\" y=\"184.743859\"/>\r\n     <use style=\"fill:#1f77b4;stroke:#1f77b4;\" x=\"600.896545\" xlink:href=\"#m93054c6030\" y=\"192.611205\"/>\r\n     <use style=\"fill:#1f77b4;stroke:#1f77b4;\" x=\"601.505273\" xlink:href=\"#m93054c6030\" y=\"87.926554\"/>\r\n     <use style=\"fill:#1f77b4;stroke:#1f77b4;\" x=\"602.114\" xlink:href=\"#m93054c6030\" y=\"168.352329\"/>\r\n     <use style=\"fill:#1f77b4;stroke:#1f77b4;\" x=\"602.722727\" xlink:href=\"#m93054c6030\" y=\"266.289427\"/>\r\n     <use style=\"fill:#1f77b4;stroke:#1f77b4;\" x=\"603.331455\" xlink:href=\"#m93054c6030\" y=\"114.177382\"/>\r\n     <use style=\"fill:#1f77b4;stroke:#1f77b4;\" x=\"603.940182\" xlink:href=\"#m93054c6030\" y=\"149.930454\"/>\r\n     <use style=\"fill:#1f77b4;stroke:#1f77b4;\" x=\"604.548909\" xlink:href=\"#m93054c6030\" y=\"172.40502\"/>\r\n     <use style=\"fill:#1f77b4;stroke:#1f77b4;\" x=\"605.157636\" xlink:href=\"#m93054c6030\" y=\"193.114792\"/>\r\n     <use style=\"fill:#1f77b4;stroke:#1f77b4;\" x=\"605.766364\" xlink:href=\"#m93054c6030\" y=\"169.110589\"/>\r\n     <use style=\"fill:#1f77b4;stroke:#1f77b4;\" x=\"606.375091\" xlink:href=\"#m93054c6030\" y=\"228.23886\"/>\r\n     <use style=\"fill:#1f77b4;stroke:#1f77b4;\" x=\"606.983818\" xlink:href=\"#m93054c6030\" y=\"211.986504\"/>\r\n     <use style=\"fill:#1f77b4;stroke:#1f77b4;\" x=\"607.592545\" xlink:href=\"#m93054c6030\" y=\"247.356927\"/>\r\n     <use style=\"fill:#1f77b4;stroke:#1f77b4;\" x=\"608.201273\" xlink:href=\"#m93054c6030\" y=\"114.531557\"/>\r\n     <use style=\"fill:#1f77b4;stroke:#1f77b4;\" x=\"608.81\" xlink:href=\"#m93054c6030\" y=\"145.747227\"/>\r\n     <use style=\"fill:#1f77b4;stroke:#1f77b4;\" x=\"609.418727\" xlink:href=\"#m93054c6030\" y=\"204.089404\"/>\r\n     <use style=\"fill:#1f77b4;stroke:#1f77b4;\" x=\"610.027455\" xlink:href=\"#m93054c6030\" y=\"190.880645\"/>\r\n     <use style=\"fill:#1f77b4;stroke:#1f77b4;\" x=\"610.636182\" xlink:href=\"#m93054c6030\" y=\"215.670303\"/>\r\n     <use style=\"fill:#1f77b4;stroke:#1f77b4;\" x=\"611.244909\" xlink:href=\"#m93054c6030\" y=\"163.784533\"/>\r\n     <use style=\"fill:#1f77b4;stroke:#1f77b4;\" x=\"611.853636\" xlink:href=\"#m93054c6030\" y=\"165.896463\"/>\r\n     <use style=\"fill:#1f77b4;stroke:#1f77b4;\" x=\"612.462364\" xlink:href=\"#m93054c6030\" y=\"190.768026\"/>\r\n     <use style=\"fill:#1f77b4;stroke:#1f77b4;\" x=\"613.071091\" xlink:href=\"#m93054c6030\" y=\"224.595374\"/>\r\n     <use style=\"fill:#1f77b4;stroke:#1f77b4;\" x=\"613.679818\" xlink:href=\"#m93054c6030\" y=\"79.756864\"/>\r\n     <use style=\"fill:#1f77b4;stroke:#1f77b4;\" x=\"614.288545\" xlink:href=\"#m93054c6030\" y=\"232.099587\"/>\r\n     <use style=\"fill:#1f77b4;stroke:#1f77b4;\" x=\"614.897273\" xlink:href=\"#m93054c6030\" y=\"109.780435\"/>\r\n     <use style=\"fill:#1f77b4;stroke:#1f77b4;\" x=\"615.506\" xlink:href=\"#m93054c6030\" y=\"208.446678\"/>\r\n     <use style=\"fill:#1f77b4;stroke:#1f77b4;\" x=\"616.114727\" xlink:href=\"#m93054c6030\" y=\"203.048316\"/>\r\n     <use style=\"fill:#1f77b4;stroke:#1f77b4;\" x=\"616.723455\" xlink:href=\"#m93054c6030\" y=\"203.525988\"/>\r\n     <use style=\"fill:#1f77b4;stroke:#1f77b4;\" x=\"617.332182\" xlink:href=\"#m93054c6030\" y=\"151.14079\"/>\r\n     <use style=\"fill:#1f77b4;stroke:#1f77b4;\" x=\"617.940909\" xlink:href=\"#m93054c6030\" y=\"196.992475\"/>\r\n     <use style=\"fill:#1f77b4;stroke:#1f77b4;\" x=\"618.549636\" xlink:href=\"#m93054c6030\" y=\"133.033097\"/>\r\n     <use style=\"fill:#1f77b4;stroke:#1f77b4;\" x=\"619.158364\" xlink:href=\"#m93054c6030\" y=\"143.921325\"/>\r\n     <use style=\"fill:#1f77b4;stroke:#1f77b4;\" x=\"619.767091\" xlink:href=\"#m93054c6030\" y=\"136.962291\"/>\r\n     <use style=\"fill:#1f77b4;stroke:#1f77b4;\" x=\"620.375818\" xlink:href=\"#m93054c6030\" y=\"155.394724\"/>\r\n     <use style=\"fill:#1f77b4;stroke:#1f77b4;\" x=\"620.984545\" xlink:href=\"#m93054c6030\" y=\"135.346589\"/>\r\n     <use style=\"fill:#1f77b4;stroke:#1f77b4;\" x=\"621.593273\" xlink:href=\"#m93054c6030\" y=\"212.689734\"/>\r\n     <use style=\"fill:#1f77b4;stroke:#1f77b4;\" x=\"622.202\" xlink:href=\"#m93054c6030\" y=\"203.882722\"/>\r\n     <use style=\"fill:#1f77b4;stroke:#1f77b4;\" x=\"622.810727\" xlink:href=\"#m93054c6030\" y=\"209.90113\"/>\r\n     <use style=\"fill:#1f77b4;stroke:#1f77b4;\" x=\"623.419455\" xlink:href=\"#m93054c6030\" y=\"169.639131\"/>\r\n     <use style=\"fill:#1f77b4;stroke:#1f77b4;\" x=\"624.028182\" xlink:href=\"#m93054c6030\" y=\"212.200865\"/>\r\n     <use style=\"fill:#1f77b4;stroke:#1f77b4;\" x=\"624.636909\" xlink:href=\"#m93054c6030\" y=\"135.715481\"/>\r\n     <use style=\"fill:#1f77b4;stroke:#1f77b4;\" x=\"625.245636\" xlink:href=\"#m93054c6030\" y=\"103.812578\"/>\r\n     <use style=\"fill:#1f77b4;stroke:#1f77b4;\" x=\"625.854364\" xlink:href=\"#m93054c6030\" y=\"242.009115\"/>\r\n     <use style=\"fill:#1f77b4;stroke:#1f77b4;\" x=\"626.463091\" xlink:href=\"#m93054c6030\" y=\"133.139637\"/>\r\n     <use style=\"fill:#1f77b4;stroke:#1f77b4;\" x=\"627.071818\" xlink:href=\"#m93054c6030\" y=\"150.952985\"/>\r\n     <use style=\"fill:#1f77b4;stroke:#1f77b4;\" x=\"627.680545\" xlink:href=\"#m93054c6030\" y=\"129.910474\"/>\r\n     <use style=\"fill:#1f77b4;stroke:#1f77b4;\" x=\"628.289273\" xlink:href=\"#m93054c6030\" y=\"186.423869\"/>\r\n     <use style=\"fill:#1f77b4;stroke:#1f77b4;\" x=\"628.898\" xlink:href=\"#m93054c6030\" y=\"142.64764\"/>\r\n     <use style=\"fill:#1f77b4;stroke:#1f77b4;\" x=\"629.506727\" xlink:href=\"#m93054c6030\" y=\"209.084001\"/>\r\n     <use style=\"fill:#1f77b4;stroke:#1f77b4;\" x=\"630.115455\" xlink:href=\"#m93054c6030\" y=\"184.302341\"/>\r\n     <use style=\"fill:#1f77b4;stroke:#1f77b4;\" x=\"630.724182\" xlink:href=\"#m93054c6030\" y=\"155.355691\"/>\r\n     <use style=\"fill:#1f77b4;stroke:#1f77b4;\" x=\"631.332909\" xlink:href=\"#m93054c6030\" y=\"185.807023\"/>\r\n     <use style=\"fill:#1f77b4;stroke:#1f77b4;\" x=\"631.941636\" xlink:href=\"#m93054c6030\" y=\"157.622152\"/>\r\n     <use style=\"fill:#1f77b4;stroke:#1f77b4;\" x=\"632.550364\" xlink:href=\"#m93054c6030\" y=\"141.406589\"/>\r\n     <use style=\"fill:#1f77b4;stroke:#1f77b4;\" x=\"633.159091\" xlink:href=\"#m93054c6030\" y=\"157.595917\"/>\r\n     <use style=\"fill:#1f77b4;stroke:#1f77b4;\" x=\"633.767818\" xlink:href=\"#m93054c6030\" y=\"125.102083\"/>\r\n     <use style=\"fill:#1f77b4;stroke:#1f77b4;\" x=\"634.376545\" xlink:href=\"#m93054c6030\" y=\"222.12575\"/>\r\n     <use style=\"fill:#1f77b4;stroke:#1f77b4;\" x=\"634.985273\" xlink:href=\"#m93054c6030\" y=\"228.631108\"/>\r\n     <use style=\"fill:#1f77b4;stroke:#1f77b4;\" x=\"635.594\" xlink:href=\"#m93054c6030\" y=\"163.227516\"/>\r\n     <use style=\"fill:#1f77b4;stroke:#1f77b4;\" x=\"636.202727\" xlink:href=\"#m93054c6030\" y=\"167.80331\"/>\r\n     <use style=\"fill:#1f77b4;stroke:#1f77b4;\" x=\"636.811455\" xlink:href=\"#m93054c6030\" y=\"209.589507\"/>\r\n     <use style=\"fill:#1f77b4;stroke:#1f77b4;\" x=\"637.420182\" xlink:href=\"#m93054c6030\" y=\"155.635\"/>\r\n     <use style=\"fill:#1f77b4;stroke:#1f77b4;\" x=\"638.028909\" xlink:href=\"#m93054c6030\" y=\"203.744827\"/>\r\n     <use style=\"fill:#1f77b4;stroke:#1f77b4;\" x=\"638.637636\" xlink:href=\"#m93054c6030\" y=\"204.670736\"/>\r\n     <use style=\"fill:#1f77b4;stroke:#1f77b4;\" x=\"639.246364\" xlink:href=\"#m93054c6030\" y=\"173.248064\"/>\r\n     <use style=\"fill:#1f77b4;stroke:#1f77b4;\" x=\"639.855091\" xlink:href=\"#m93054c6030\" y=\"156.765671\"/>\r\n     <use style=\"fill:#1f77b4;stroke:#1f77b4;\" x=\"640.463818\" xlink:href=\"#m93054c6030\" y=\"241.407306\"/>\r\n     <use style=\"fill:#1f77b4;stroke:#1f77b4;\" x=\"641.072545\" xlink:href=\"#m93054c6030\" y=\"136.310891\"/>\r\n     <use style=\"fill:#1f77b4;stroke:#1f77b4;\" x=\"641.681273\" xlink:href=\"#m93054c6030\" y=\"139.105575\"/>\r\n     <use style=\"fill:#1f77b4;stroke:#1f77b4;\" x=\"642.29\" xlink:href=\"#m93054c6030\" y=\"191.117081\"/>\r\n     <use style=\"fill:#1f77b4;stroke:#1f77b4;\" x=\"642.898727\" xlink:href=\"#m93054c6030\" y=\"174.501273\"/>\r\n     <use style=\"fill:#1f77b4;stroke:#1f77b4;\" x=\"643.507455\" xlink:href=\"#m93054c6030\" y=\"193.55695\"/>\r\n     <use style=\"fill:#1f77b4;stroke:#1f77b4;\" x=\"644.116182\" xlink:href=\"#m93054c6030\" y=\"153.73647\"/>\r\n     <use style=\"fill:#1f77b4;stroke:#1f77b4;\" x=\"644.724909\" xlink:href=\"#m93054c6030\" y=\"156.531474\"/>\r\n     <use style=\"fill:#1f77b4;stroke:#1f77b4;\" x=\"645.333636\" xlink:href=\"#m93054c6030\" y=\"212.158312\"/>\r\n     <use style=\"fill:#1f77b4;stroke:#1f77b4;\" x=\"645.942364\" xlink:href=\"#m93054c6030\" y=\"76.274308\"/>\r\n     <use style=\"fill:#1f77b4;stroke:#1f77b4;\" x=\"646.551091\" xlink:href=\"#m93054c6030\" y=\"239.900385\"/>\r\n     <use style=\"fill:#1f77b4;stroke:#1f77b4;\" x=\"647.159818\" xlink:href=\"#m93054c6030\" y=\"136.400155\"/>\r\n     <use style=\"fill:#1f77b4;stroke:#1f77b4;\" x=\"647.768545\" xlink:href=\"#m93054c6030\" y=\"167.216539\"/>\r\n     <use style=\"fill:#1f77b4;stroke:#1f77b4;\" x=\"648.377273\" xlink:href=\"#m93054c6030\" y=\"200.382249\"/>\r\n     <use style=\"fill:#1f77b4;stroke:#1f77b4;\" x=\"648.986\" xlink:href=\"#m93054c6030\" y=\"160.135608\"/>\r\n     <use style=\"fill:#1f77b4;stroke:#1f77b4;\" x=\"649.594727\" xlink:href=\"#m93054c6030\" y=\"160.853235\"/>\r\n     <use style=\"fill:#1f77b4;stroke:#1f77b4;\" x=\"650.203455\" xlink:href=\"#m93054c6030\" y=\"241.112001\"/>\r\n     <use style=\"fill:#1f77b4;stroke:#1f77b4;\" x=\"650.812182\" xlink:href=\"#m93054c6030\" y=\"224.595054\"/>\r\n     <use style=\"fill:#1f77b4;stroke:#1f77b4;\" x=\"651.420909\" xlink:href=\"#m93054c6030\" y=\"204.97756\"/>\r\n     <use style=\"fill:#1f77b4;stroke:#1f77b4;\" x=\"652.029636\" xlink:href=\"#m93054c6030\" y=\"164.735078\"/>\r\n     <use style=\"fill:#1f77b4;stroke:#1f77b4;\" x=\"652.638364\" xlink:href=\"#m93054c6030\" y=\"203.912157\"/>\r\n     <use style=\"fill:#1f77b4;stroke:#1f77b4;\" x=\"653.247091\" xlink:href=\"#m93054c6030\" y=\"165.797601\"/>\r\n     <use style=\"fill:#1f77b4;stroke:#1f77b4;\" x=\"653.855818\" xlink:href=\"#m93054c6030\" y=\"211.581779\"/>\r\n     <use style=\"fill:#1f77b4;stroke:#1f77b4;\" x=\"654.464545\" xlink:href=\"#m93054c6030\" y=\"146.792474\"/>\r\n     <use style=\"fill:#1f77b4;stroke:#1f77b4;\" x=\"655.073273\" xlink:href=\"#m93054c6030\" y=\"141.426746\"/>\r\n     <use style=\"fill:#1f77b4;stroke:#1f77b4;\" x=\"655.682\" xlink:href=\"#m93054c6030\" y=\"201.649855\"/>\r\n     <use style=\"fill:#1f77b4;stroke:#1f77b4;\" x=\"656.290727\" xlink:href=\"#m93054c6030\" y=\"258.509105\"/>\r\n     <use style=\"fill:#1f77b4;stroke:#1f77b4;\" x=\"656.899455\" xlink:href=\"#m93054c6030\" y=\"271.291703\"/>\r\n     <use style=\"fill:#1f77b4;stroke:#1f77b4;\" x=\"657.508182\" xlink:href=\"#m93054c6030\" y=\"206.236207\"/>\r\n     <use style=\"fill:#1f77b4;stroke:#1f77b4;\" x=\"658.116909\" xlink:href=\"#m93054c6030\" y=\"214.833338\"/>\r\n     <use style=\"fill:#1f77b4;stroke:#1f77b4;\" x=\"658.725636\" xlink:href=\"#m93054c6030\" y=\"114.254488\"/>\r\n     <use style=\"fill:#1f77b4;stroke:#1f77b4;\" x=\"659.334364\" xlink:href=\"#m93054c6030\" y=\"124.969947\"/>\r\n     <use style=\"fill:#1f77b4;stroke:#1f77b4;\" x=\"659.943091\" xlink:href=\"#m93054c6030\" y=\"109.727325\"/>\r\n     <use style=\"fill:#1f77b4;stroke:#1f77b4;\" x=\"660.551818\" xlink:href=\"#m93054c6030\" y=\"246.880855\"/>\r\n     <use style=\"fill:#1f77b4;stroke:#1f77b4;\" x=\"661.160545\" xlink:href=\"#m93054c6030\" y=\"97.233954\"/>\r\n     <use style=\"fill:#1f77b4;stroke:#1f77b4;\" x=\"661.769273\" xlink:href=\"#m93054c6030\" y=\"225.47905\"/>\r\n     <use style=\"fill:#1f77b4;stroke:#1f77b4;\" x=\"662.378\" xlink:href=\"#m93054c6030\" y=\"186.164397\"/>\r\n     <use style=\"fill:#1f77b4;stroke:#1f77b4;\" x=\"662.986727\" xlink:href=\"#m93054c6030\" y=\"182.971387\"/>\r\n     <use style=\"fill:#1f77b4;stroke:#1f77b4;\" x=\"663.595455\" xlink:href=\"#m93054c6030\" y=\"151.218216\"/>\r\n     <use style=\"fill:#1f77b4;stroke:#1f77b4;\" x=\"664.204182\" xlink:href=\"#m93054c6030\" y=\"225.094161\"/>\r\n     <use style=\"fill:#1f77b4;stroke:#1f77b4;\" x=\"664.812909\" xlink:href=\"#m93054c6030\" y=\"137.256316\"/>\r\n     <use style=\"fill:#1f77b4;stroke:#1f77b4;\" x=\"665.421636\" xlink:href=\"#m93054c6030\" y=\"145.699876\"/>\r\n     <use style=\"fill:#1f77b4;stroke:#1f77b4;\" x=\"666.030364\" xlink:href=\"#m93054c6030\" y=\"253.262395\"/>\r\n     <use style=\"fill:#1f77b4;stroke:#1f77b4;\" x=\"666.639091\" xlink:href=\"#m93054c6030\" y=\"223.048779\"/>\r\n     <use style=\"fill:#1f77b4;stroke:#1f77b4;\" x=\"667.247818\" xlink:href=\"#m93054c6030\" y=\"213.57885\"/>\r\n     <use style=\"fill:#1f77b4;stroke:#1f77b4;\" x=\"667.856545\" xlink:href=\"#m93054c6030\" y=\"159.943643\"/>\r\n     <use style=\"fill:#1f77b4;stroke:#1f77b4;\" x=\"668.465273\" xlink:href=\"#m93054c6030\" y=\"194.698819\"/>\r\n     <use style=\"fill:#1f77b4;stroke:#1f77b4;\" x=\"669.074\" xlink:href=\"#m93054c6030\" y=\"229.21532\"/>\r\n     <use style=\"fill:#1f77b4;stroke:#1f77b4;\" x=\"669.682727\" xlink:href=\"#m93054c6030\" y=\"152.990368\"/>\r\n     <use style=\"fill:#1f77b4;stroke:#1f77b4;\" x=\"670.291455\" xlink:href=\"#m93054c6030\" y=\"210.551569\"/>\r\n     <use style=\"fill:#1f77b4;stroke:#1f77b4;\" x=\"670.900182\" xlink:href=\"#m93054c6030\" y=\"213.649237\"/>\r\n     <use style=\"fill:#1f77b4;stroke:#1f77b4;\" x=\"671.508909\" xlink:href=\"#m93054c6030\" y=\"157.928656\"/>\r\n     <use style=\"fill:#1f77b4;stroke:#1f77b4;\" x=\"672.117636\" xlink:href=\"#m93054c6030\" y=\"183.883858\"/>\r\n     <use style=\"fill:#1f77b4;stroke:#1f77b4;\" x=\"672.726364\" xlink:href=\"#m93054c6030\" y=\"152.137086\"/>\r\n     <use style=\"fill:#1f77b4;stroke:#1f77b4;\" x=\"673.335091\" xlink:href=\"#m93054c6030\" y=\"221.643599\"/>\r\n     <use style=\"fill:#1f77b4;stroke:#1f77b4;\" x=\"673.943818\" xlink:href=\"#m93054c6030\" y=\"171.572214\"/>\r\n     <use style=\"fill:#1f77b4;stroke:#1f77b4;\" x=\"674.552545\" xlink:href=\"#m93054c6030\" y=\"179.297186\"/>\r\n     <use style=\"fill:#1f77b4;stroke:#1f77b4;\" x=\"675.161273\" xlink:href=\"#m93054c6030\" y=\"113.798892\"/>\r\n     <use style=\"fill:#1f77b4;stroke:#1f77b4;\" x=\"675.77\" xlink:href=\"#m93054c6030\" y=\"171.506946\"/>\r\n     <use style=\"fill:#1f77b4;stroke:#1f77b4;\" x=\"676.378727\" xlink:href=\"#m93054c6030\" y=\"225.402584\"/>\r\n     <use style=\"fill:#1f77b4;stroke:#1f77b4;\" x=\"676.987455\" xlink:href=\"#m93054c6030\" y=\"199.520328\"/>\r\n     <use style=\"fill:#1f77b4;stroke:#1f77b4;\" x=\"677.596182\" xlink:href=\"#m93054c6030\" y=\"158.142056\"/>\r\n    </g>\r\n   </g>\r\n   <g id=\"patch_3\">\r\n    <path d=\"M 39.65 333.36 \r\nL 39.65 7.2 \r\n\" style=\"fill:none;stroke:#000000;stroke-linecap:square;stroke-linejoin:miter;stroke-width:0.8;\"/>\r\n   </g>\r\n   <g id=\"patch_4\">\r\n    <path d=\"M 709.25 333.36 \r\nL 709.25 7.2 \r\n\" style=\"fill:none;stroke:#000000;stroke-linecap:square;stroke-linejoin:miter;stroke-width:0.8;\"/>\r\n   </g>\r\n   <g id=\"patch_5\">\r\n    <path d=\"M 39.65 333.36 \r\nL 709.25 333.36 \r\n\" style=\"fill:none;stroke:#000000;stroke-linecap:square;stroke-linejoin:miter;stroke-width:0.8;\"/>\r\n   </g>\r\n   <g id=\"patch_6\">\r\n    <path d=\"M 39.65 7.2 \r\nL 709.25 7.2 \r\n\" style=\"fill:none;stroke:#000000;stroke-linecap:square;stroke-linejoin:miter;stroke-width:0.8;\"/>\r\n   </g>\r\n   <g id=\"legend_1\">\r\n    <g id=\"patch_7\">\r\n     <path d=\"M 663.8875 29.878125 \r\nL 702.25 29.878125 \r\nQ 704.25 29.878125 704.25 27.878125 \r\nL 704.25 14.2 \r\nQ 704.25 12.2 702.25 12.2 \r\nL 663.8875 12.2 \r\nQ 661.8875 12.2 661.8875 14.2 \r\nL 661.8875 27.878125 \r\nQ 661.8875 29.878125 663.8875 29.878125 \r\nz\r\n\" style=\"fill:#ffffff;opacity:0.8;stroke:#cccccc;stroke-linejoin:miter;\"/>\r\n    </g>\r\n    <g id=\"line2d_12\"/>\r\n    <g id=\"line2d_13\">\r\n     <g>\r\n      <use style=\"fill:#1f77b4;stroke:#1f77b4;\" x=\"675.8875\" xlink:href=\"#m93054c6030\" y=\"20.298438\"/>\r\n     </g>\r\n    </g>\r\n    <g id=\"text_11\">\r\n     <!-- 0 -->\r\n     <g transform=\"translate(693.8875 23.798438)scale(0.1 -0.1)\">\r\n      <use xlink:href=\"#DejaVuSans-48\"/>\r\n     </g>\r\n    </g>\r\n   </g>\r\n  </g>\r\n </g>\r\n <defs>\r\n  <clipPath id=\"p20baab997b\">\r\n   <rect height=\"326.16\" width=\"669.6\" x=\"39.65\" y=\"7.2\"/>\r\n  </clipPath>\r\n </defs>\r\n</svg>\r\n",
      "image/png": "[encoded data removed]"
     },
     "metadata": {
      "needs_background": "light"
     }
    }
   ],
   "source": [
    "import matplotlib.pyplot as plt\n",
    "\n",
    "tamanho_simulacao = 1000\n",
    "\n",
    "medias = [renda_5000.sample(n = n).mean() for i in range(1, tamanho_simulacao)]\n",
    "medias = pd.DataFrame(medias)\n",
    "\n",
    "ax = medias.plot(style = '.')\n",
    "ax.figure.set_size_inches(12, 6)\n",
    "ax.hlines(y = media, xmin = 0, xmax = tamanho_simulacao, colors='black', linestyles='dashed')\n",
    "ax.hlines(y = intervalo[0], xmin = 0, xmax = tamanho_simulacao, colors='red', linestyles='dashed')\n",
    "ax.hlines(y = intervalo[1], xmin = 0, xmax = tamanho_simulacao, colors='red', linestyles='dashed')\n",
    "ax"
   ]
  },
  {
   "cell_type": "code",
   "execution_count": null,
   "metadata": {
    "colab": {},
    "colab_type": "code",
    "id": "L5BFsSI8G3IB"
   },
   "outputs": [],
   "source": []
  }
 ],
 "metadata": {
  "colab": {
   "collapsed_sections": [],
   "name": "Curso_de_Estatística_Parte_2.ipynb",
   "provenance": [],
   "toc_visible": true,
   "version": "0.3.2"
  },
  "kernelspec": {
   "name": "python385jvsc74a57bd0b01d8f7a84554982b91c6351f5a2317192380fb1f8704dca530a09522f5c39c8",
   "display_name": "Python 3.8.5 64-bit ('base': conda)"
  },
  "language_info": {
   "codemirror_mode": {
    "name": "ipython",
    "version": 3
   },
   "file_extension": ".py",
   "mimetype": "text/x-python",
   "name": "python",
   "nbconvert_exporter": "python",
   "pygments_lexer": "ipython3",
   "version": "3.8.5"
  }
 },
 "nbformat": 4,
 "nbformat_minor": 1
}